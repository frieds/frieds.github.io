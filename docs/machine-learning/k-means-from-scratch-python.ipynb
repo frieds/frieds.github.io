{
 "cells": [
  {
   "cell_type": "markdown",
   "metadata": {},
   "source": [
    "# K-Means Algorithm from Scratch\n",
    "\n",
    "Date published: 2018-12-02\n",
    "\n",
    "Category: Machine Learning\n",
    "\n",
    "Subcategory: Clustering\n",
    "\n",
    "Tags: clustering, object oriented programming, math, dictionaries, lists, functions\n"
   ]
  },
  {
   "cell_type": "markdown",
   "metadata": {},
   "source": [
    "### Intro to Clustering"
   ]
  },
  {
   "cell_type": "markdown",
   "metadata": {},
   "source": [
    "Clustering is an unsupervised machine learning method that segments similar data points into groups.\n",
    "\n",
    "It's considered unsupervised because there's no ground truth value to predict. Instead, we're trying to create structure/meaning from the data.\n",
    "\n",
    "In this tutorial, we'll walk through the code of the <a href='https://en.wikipedia.org/wiki/K-means_clustering'>K-Means clustering algorithm</a>."
   ]
  },
  {
   "cell_type": "markdown",
   "metadata": {},
   "source": [
    "### K-Means Clustering Explanation"
   ]
  },
  {
   "cell_type": "markdown",
   "metadata": {},
   "source": [
    "K-Means is a fairly reasonable clustering algorithm to understand. The steps are outlined below.\n",
    "\n",
    "1) Assign `k` value as the number of desired clusters.\n",
    "\n",
    "2) Randomly assign centroids of clusters from points in our dataset.\n",
    "\n",
    "3) Assign each dataset point to the nearest centroid based on the Euclidean distance metric; this creates **clusters**.\n",
    "    - Euclidean distance computes the distance between two objects using the Pythagorean Theorem. If you walked three blocks North and four blocks West, your Euclidean distance is five blocks.\n",
    "    \n",
    "4) Move centroids to the mean value of the clustered dataset points.\n",
    "\n",
    "5) Iterate/repeat steps 3-4 until centroids don't move or we reach our maximum number of iterations allowed (called **convergence**).\n",
    "\n",
    "Optionally, you could repeat steps 2-5 a fixed number of times (such as 10). With each new random initialization of centroids, you may get slightly different results. With different results, you'll likely have different centroids and slightly different dataset points in each cluster.\n",
    "\n",
    "But how do you measure the success of running steps 2-5? With each run of steps 2-5 you can measure the **inertia**. Inertia is the sum of squares for all dataset points to their closest centroid. You can measure inertia after each convergence.\n",
    "\n",
    "If you repeat steps 2-5 multiple times and measure the inertia each time, the optimal clusters are the final assignments with the smallest inertia."
   ]
  },
  {
   "cell_type": "markdown",
   "metadata": {},
   "source": [
    "### Why I Wrote K-Means from Scratch"
   ]
  },
  {
   "cell_type": "markdown",
   "metadata": {},
   "source": [
    "I thought it'd be fun, and it was! I also wanted to understand step by step how it worked and get practice working with the code behind complex algorithms.\n",
    "\n",
    "The foundations behind *relatively* simple machine learning algorithms such as K-Means for clustering, linear regression for regression, and logistic regression for classification are widespread in other algorithms and in deep learning. I plan to code more of these *relatively* simple algorithms in the future."
   ]
  },
  {
   "cell_type": "markdown",
   "metadata": {},
   "source": [
    "### My K-Means Library Versus Sci-kit Learn Library"
   ]
  },
  {
   "cell_type": "markdown",
   "metadata": {},
   "source": [
    "Disclaimer: the code below is nowhere near as feature-rich or performant as the algorithm in the <a href='https://scikit-learn.org/stable/modules/generated/sklearn.cluster.KMeans.html' rel='nofollow'>sklearn library</a>. However, it is fairly easy to read, understand and can help you better understand the math used in many clustering algorithms."
   ]
  },
  {
   "cell_type": "markdown",
   "metadata": {},
   "source": [
    "### Code K-Means Algorithm From Scratch"
   ]
  },
  {
   "cell_type": "markdown",
   "metadata": {},
   "source": [
    "#### Import Modules"
   ]
  },
  {
   "cell_type": "code",
   "execution_count": 21,
   "metadata": {},
   "outputs": [],
   "source": [
    "import logging\n",
    "import numpy\n",
    "import random\n",
    "import seaborn as sns\n",
    "from collections import defaultdict\n",
    "import matplotlib.pyplot as plt\n",
    "% matplotlib inline"
   ]
  },
  {
   "cell_type": "markdown",
   "metadata": {},
   "source": [
    "#### Define Logging Format"
   ]
  },
  {
   "cell_type": "code",
   "execution_count": 22,
   "metadata": {},
   "outputs": [],
   "source": [
    "logging.basicConfig(format='%(asctime)s - %(lineno)s - %(funcName)s - %(levelname)s - %(message)s', level=logging.DEBUG)"
   ]
  },
  {
   "cell_type": "markdown",
   "metadata": {},
   "source": [
    "#### Set Visualization Styles"
   ]
  },
  {
   "cell_type": "code",
   "execution_count": 23,
   "metadata": {},
   "outputs": [],
   "source": [
    "sns.set_context('talk')"
   ]
  },
  {
   "cell_type": "markdown",
   "metadata": {},
   "source": [
    "#### Visualization of Simple Dataset"
   ]
  },
  {
   "cell_type": "markdown",
   "metadata": {},
   "source": [
    "Our dataset points."
   ]
  },
  {
   "cell_type": "code",
   "execution_count": 24,
   "metadata": {},
   "outputs": [],
   "source": [
    "points = numpy.array([[1, 2], [3, 2], [4, 5], [6, 5]])"
   ]
  },
  {
   "cell_type": "markdown",
   "metadata": {},
   "source": [
    "Call on the `scatter` method on our pyplot object and pass in our list of x-values, y-values and a single color for all our points."
   ]
  },
  {
   "cell_type": "code",
   "execution_count": 25,
   "metadata": {},
   "outputs": [
    {
     "data": {
      "image/png": "[encoded data removed]",
      "text/plain": [
       "<matplotlib.figure.Figure at 0x1a17efcef0>"
      ]
     },
     "metadata": {},
     "output_type": "display_data"
    }
   ],
   "source": [
    "plt.scatter(points[:, 0], points[:, 1], s=100, color='midnightblue');"
   ]
  },
  {
   "cell_type": "markdown",
   "metadata": {},
   "source": [
    "#### KMeans Class"
   ]
  },
  {
   "cell_type": "code",
   "execution_count": 26,
   "metadata": {},
   "outputs": [],
   "source": [
    "class KMeans(object):\n",
    "    \"\"\"\n",
    "    Calculations associated with K-Means clustering on a set of n-dimensional data points to find clusters - closely\n",
    "    located groups - of dataset points.\n",
    "    \"\"\"\n",
    "    def __init__(self, dataset_numpy_array, k_number_of_clusters, number_of_centroid_initializations,\n",
    "                 max_number_of_iterations=30):\n",
    "        \"\"\"\n",
    "        Attributes associated with all K-Means clustering of data points\n",
    "        :param dataset_numpy_array: numpy array of n-dimensional points you'd like to cluster\n",
    "        :param k_number_of_clusters: number of clusters to create\n",
    "        :param max_number_of_iterations: maximum number of possible iterations to run K-Means\n",
    "        \"\"\"\n",
    "        self.dataset = dataset_numpy_array\n",
    "        self.k_number_of_clusters = k_number_of_clusters\n",
    "        self.number_of_instances, self.number_of_features = self.dataset.shape\n",
    "        self.number_of_centroid_initializations = number_of_centroid_initializations\n",
    "        self.inertia_values = []\n",
    "        self.max_number_of_iterations = max_number_of_iterations\n",
    "        self.clusters_all_iterations_record = []  # all centroids and clustered dataset points\n",
    "\n",
    "    @staticmethod\n",
    "    def get_euclidean_distance(n_dimensional_numpy_array_0, n_dimensional_numpy_array_1):\n",
    "        \"\"\"\n",
    "        Static method to calculate the normalized Euclidean distance between any n-dimensional numpy arrays\n",
    "        :param n_dimensional_numpy_array_0: one n-dimensional numpy array (aka a point in space)\n",
    "        :param n_dimensional_numpy_array_1: another n-dimensional numpy array (aka a point in space)\n",
    "        :return: magnitude of Euclidean distance between two n-dimensional numpy arrays; scalar value\n",
    "        \"\"\"\n",
    "        return numpy.linalg.norm(n_dimensional_numpy_array_0 - n_dimensional_numpy_array_1)\n",
    "\n",
    "    def create_random_initial_centroids(self):\n",
    "        \"\"\"\n",
    "        Create random initial centroids based on dataset; creates # of centroids to match # of clusters\n",
    "        :return:\n",
    "        \"\"\"\n",
    "        random_dataset_indices = random.sample(range(0, self.number_of_instances), self.k_number_of_clusters)\n",
    "        random_initial_centroids = self.dataset[random_dataset_indices]\n",
    "        return random_initial_centroids\n",
    "\n",
    "    def assign_dataset_points_to_closest_centroid(self, centroids):\n",
    "        \"\"\"\n",
    "        Given any number of centroid values, assign each point to its closest centroid based on the Euclidean distance\n",
    "        metric. Use data structure cluster_iteration_record to keep track of the centroid and associated points in a\n",
    "        single iteration.\n",
    "        :param centroids: numpy array of centroid values\n",
    "        :return: record of centroid and associated dataset points in its cluster for a single K-Means iteration\n",
    "        \"\"\"\n",
    "        logging.info(\"clustering dataset points to centroids...\")\n",
    "        cluster_single_iteration_record = defaultdict(list)\n",
    "        for dataset_point in self.dataset:\n",
    "            euclidean_distances_between_dataset_point_and_centroids = []\n",
    "            for centroid in centroids:\n",
    "                distance_between_centroid_and_dataset_point = self.get_euclidean_distance(centroid, dataset_point)\n",
    "                logging.debug(\"Euclidean distance between dataset point {} and centroid {} is {}\".format(\n",
    "                    dataset_point, centroid, distance_between_centroid_and_dataset_point))\n",
    "                euclidean_distances_between_dataset_point_and_centroids.append(distance_between_centroid_and_dataset_point)\n",
    "            index_of_closest_centroid = numpy.argmin(euclidean_distances_between_dataset_point_and_centroids)\n",
    "            closest_centroid = tuple(centroids[index_of_closest_centroid])\n",
    "            logging.debug(\"dataset point {} is closest to centroid {}\".format(dataset_point, centroid))\n",
    "            logging.debug(\"dataset point {} now belongs to cluster with centroid {}\".format(dataset_point, centroid))\n",
    "            cluster_single_iteration_record[closest_centroid].append(dataset_point)\n",
    "        logging.debug(\"cluster_single_iteration_record: {0}\".format(cluster_single_iteration_record))\n",
    "        return cluster_single_iteration_record\n",
    "\n",
    "    def run_kmeans_initialized_centroid(self, initialization_number):\n",
    "        \"\"\"\n",
    "        Assign dataset points to clusters based on nearest centroid; update centroids based on mean of cluster points.\n",
    "        Repeat steps above until centroids don't move or we've reached max_number_of_iterations.\n",
    "\n",
    "        :return: None\n",
    "        \"\"\"\n",
    "        centroids = self.create_random_initial_centroids()\n",
    "        logging.info(\"random initial centroids are {}\".format(centroids))\n",
    "        self.clusters_all_iterations_record.append([])  # list of record of iteration centroids and clustered points\n",
    "\n",
    "        for iteration in range(1, self.max_number_of_iterations+1):\n",
    "            logging.info(\"starting iteration number {}...\".format(iteration))\n",
    "            cluster_single_iteration_record = self.assign_dataset_points_to_closest_centroid(centroids=centroids)\n",
    "            self.clusters_all_iterations_record[initialization_number].append(cluster_single_iteration_record)\n",
    "            updated_centroids = []\n",
    "            for centroid in cluster_single_iteration_record:\n",
    "                cluster_dataset_points = cluster_single_iteration_record[centroid]\n",
    "                logging.debug(\"calculating the mean of {} clustered dataset points associated with centroid {}\".format(\n",
    "                    len(cluster_dataset_points), centroid))\n",
    "                updated_centroid = numpy.mean(cluster_dataset_points, axis=0)\n",
    "                logging.info(\"mean of the clustered dataset points is the new centroid at {}\".format(updated_centroid))\n",
    "                updated_centroids.append(updated_centroid)\n",
    "            logging.debug(\"check if we meet early stopping criteria...\")\n",
    "            if self.get_euclidean_distance(numpy.array(updated_centroids), centroids) == 0:\n",
    "                logging.info(\"updated centroids {} are the same as previous iteration centroids {}\".format(\n",
    "                    updated_centroids, centroids))\n",
    "                logging.info(\"we've reached convergence of centroid values; end clustering\")\n",
    "                break\n",
    "            logging.debug(\"use new updated_centroids values for next iteration...\")\n",
    "            centroids = updated_centroids\n",
    "        return None\n",
    "\n",
    "    def fit(self):\n",
    "        \"\"\"\n",
    "        Implements K-Means the max number_of_centroid_initializations times; each time, there's new initial centroids.\n",
    "        :return: None\n",
    "        \"\"\"\n",
    "        logging.info(\"perform K-Means {} times with new centroids at each start\".format(self.number_of_centroid_initializations))\n",
    "        for initialization_number in range(self.number_of_centroid_initializations):\n",
    "            self.run_kmeans_initialized_centroid(initialization_number=initialization_number)\n",
    "\n",
    "            # index of -1 is for the last cluster assignment of the iteration\n",
    "            inertia_of_last_cluster_record = self.inertia(self.clusters_all_iterations_record[initialization_number][-1])\n",
    "            self.inertia_values.append(inertia_of_last_cluster_record)\n",
    "        return None\n",
    "\n",
    "    def inertia(self, clusters):\n",
    "        \"\"\"\n",
    "        Get the sum of squared distances of dataset points to their cluster centers for all clusters - defined as inertia\n",
    "        :return: cluster_sum_of_squares_points_to_clusters\n",
    "        \"\"\"\n",
    "        cluster_sum_of_squares_points_to_clusters = 0\n",
    "        logging.debug(\"cluster points: {}\".format(clusters))\n",
    "\n",
    "        for centroid, cluster_points in clusters.items():\n",
    "            logging.debug(\"the cluster has a centroid at: {}\".format(centroid))\n",
    "\n",
    "            logging.debug(\"calculate sum of squares from centroid to all points in that cluster...\")\n",
    "            for cluster_point in cluster_points:\n",
    "                euclidean_norm_distance = self.get_euclidean_distance(cluster_point, centroid)\n",
    "                euclidean_norm_distance_squared = euclidean_norm_distance**2\n",
    "                logging.debug(\"squared euclidean dist from centroid {} to point {} is {}\".format(centroid, cluster_point,\n",
    "                                                                                                 euclidean_norm_distance_squared))\n",
    "                cluster_sum_of_squares_points_to_clusters += euclidean_norm_distance_squared\n",
    "        logging.info(\"inertia is: {}\".format(cluster_sum_of_squares_points_to_clusters))\n",
    "        return cluster_sum_of_squares_points_to_clusters\n",
    "\n",
    "    def index_lowest_inertia_cluster(self):\n",
    "        \"\"\"\n",
    "        In our list of inertia_values, finds the index of the minimum inertia\n",
    "        :return: index_lowest_inertia\n",
    "        \"\"\"\n",
    "        minimum_inertia_value = min(self.inertia_values)\n",
    "        logging.debug(\"minimum_inertia_value: {}\".format(minimum_inertia_value))\n",
    "        index_lowest_inertia = self.inertia_values.index(minimum_inertia_value)\n",
    "        logging.debug(\"index_lowest_inertia: {}\".format(index_lowest_inertia))\n",
    "        return index_lowest_inertia\n",
    "\n",
    "    def final_iteration_optimal_cluster(self):\n",
    "        \"\"\"\n",
    "        Get results of optimal cluster assignment based  on the lowest inertia value\n",
    "        :return: dictionary with keys as centroids and values as list of dataset points in the clusters\n",
    "        \"\"\"\n",
    "        # -1 gets us the final iteration from a centroid initialization of running K-Means\n",
    "        return self.clusters_all_iterations_record[self.index_lowest_inertia_cluster()][-1]\n",
    "\n",
    "    def final_iteration_optimal_cluster_centroids(self):\n",
    "        \"\"\"\n",
    "        Get centroids of the optimal cluster assignment based on the lowest inertia value\n",
    "        :return: list of tuples with tuples holding centroid locations\n",
    "        \"\"\"\n",
    "        return list(self.final_iteration_optimal_cluster().keys())\n",
    "\n",
    "    @staticmethod\n",
    "    def plot_clusters(clusters, x_axis_label=\"\", y_axis_label=\"\", plot_title=\"\"):\n",
    "        \"\"\"\n",
    "        Static method to plot final cluster assignments if we only have 2 features from our dataset\n",
    "        :param clusters: dictionary with centroids as keys and values as list of dataset points in that cluster\n",
    "        :param x_axis_label: x axis label\n",
    "        :param y_axis_label: y axis label\n",
    "        :param plot_title: plot title\n",
    "        :return: None\n",
    "        \"\"\"\n",
    "        list_of_colors = ['firebrick', 'gold', 'navy', 'lightseagreen', 'deepskyblue', 'mediumpurple',\n",
    "                          'darkmagenta', 'palevioletred', 'darkgreen',  'darkorange', 'darkslategray', 'dimgrey']\n",
    "        color_index = 0\n",
    "        for centroid, cluster_points in clusters.items():\n",
    "            cluster_color = list_of_colors[color_index]\n",
    "            x_values_index = 0\n",
    "            y_values_index = 1\n",
    "\n",
    "            logging.debug(\"plot centroid {} as {}\".format(centroid, cluster_color))\n",
    "            plt.scatter(centroid[x_values_index], centroid[y_values_index], color=cluster_color, s=500, alpha=0.5)\n",
    "\n",
    "            logging.debug(\"create lists of x-values and y-values for cluster points...\")\n",
    "            cluster_points_x_values = [cluster_point[x_values_index] for cluster_point in cluster_points]\n",
    "            cluster_points_y_values = [cluster_point[y_values_index] for cluster_point in cluster_points]\n",
    "            \n",
    "            logging.debug(\"plot dataset points in cluster with centroid {} as {}\".format(centroid, cluster_color))\n",
    "            plt.scatter(cluster_points_x_values, cluster_points_y_values, color=cluster_color, s=100, marker='o')\n",
    "\n",
    "            color_index += 1\n",
    "        plt.title(plot_title)\n",
    "        plt.xlabel(x_axis_label)\n",
    "        plt.ylabel(y_axis_label)\n",
    "        plt.show()\n",
    "        return None\n",
    "\n",
    "    def predict(self, n_dimensional_numpy_array):\n",
    "        \"\"\"\n",
    "        Predict which cluster a new point belongs to; calculates euclidean distance from point to all centroids\n",
    "        :param n_dimensional_numpy_array: new observation that has same n-dimensions as dataset points\n",
    "        :return: closest_centroid\n",
    "        \"\"\"\n",
    "        # initially assign closest_centroid as large value; we'll reassign it later\n",
    "        closest_centroid = numpy.inf\n",
    "        for centroid in self.final_iteration_optimal_cluster_centroids():\n",
    "            distance = self.get_euclidean_distance(centroid, n_dimensional_numpy_array)\n",
    "            if distance < closest_centroid:\n",
    "                closest_centroid = centroid\n",
    "        return closest_centroid"
   ]
  },
  {
   "cell_type": "markdown",
   "metadata": {},
   "source": [
    "### Implement K-Means on Original 4-Point Dataset"
   ]
  },
  {
   "cell_type": "markdown",
   "metadata": {},
   "source": [
    "The beauty of logging statements is that for each message executed you can see:\n",
    "\n",
    "- line number\n",
    "- encapsulated function\n",
    "- logging level\n",
    "- text message\n",
    "\n",
    "Below is the extensive logging messages for running my algorithm. Please ignore the strange colors. That's something I'll fix later."
   ]
  },
  {
   "cell_type": "code",
   "execution_count": 27,
   "metadata": {},
   "outputs": [
    {
     "name": "stderr",
     "output_type": "stream",
     "text": [
      "2018-12-02 10:13:16,980 - 104 - fit - INFO - perform K-Means 1 times with new centroids at each start\n",
      "2018-12-02 10:13:16,982 - 74 - run_kmeans_initialized_centroid - INFO - random initial centroids are [[1 2]\n",
      " [6 5]]\n",
      "2018-12-02 10:13:16,983 - 78 - run_kmeans_initialized_centroid - INFO - starting iteration number 1...\n",
      "2018-12-02 10:13:16,984 - 49 - assign_dataset_points_to_closest_centroid - INFO - clustering dataset points to centroids...\n",
      "2018-12-02 10:13:16,985 - 56 - assign_dataset_points_to_closest_centroid - DEBUG - Euclidean distance between dataset point [1 2] and centroid [1 2] is 0.0\n",
      "2018-12-02 10:13:16,986 - 56 - assign_dataset_points_to_closest_centroid - DEBUG - Euclidean distance between dataset point [1 2] and centroid [6 5] is 5.830951894845301\n",
      "2018-12-02 10:13:16,987 - 60 - assign_dataset_points_to_closest_centroid - DEBUG - dataset point [1 2] is closest to centroid [6 5]\n",
      "2018-12-02 10:13:16,988 - 61 - assign_dataset_points_to_closest_centroid - DEBUG - dataset point [1 2] now belongs to cluster with centroid [6 5]\n",
      "2018-12-02 10:13:16,989 - 56 - assign_dataset_points_to_closest_centroid - DEBUG - Euclidean distance between dataset point [3 2] and centroid [1 2] is 2.0\n",
      "2018-12-02 10:13:16,990 - 56 - assign_dataset_points_to_closest_centroid - DEBUG - Euclidean distance between dataset point [3 2] and centroid [6 5] is 4.242640687119285\n",
      "2018-12-02 10:13:16,991 - 60 - assign_dataset_points_to_closest_centroid - DEBUG - dataset point [3 2] is closest to centroid [6 5]\n",
      "2018-12-02 10:13:16,992 - 61 - assign_dataset_points_to_closest_centroid - DEBUG - dataset point [3 2] now belongs to cluster with centroid [6 5]\n",
      "2018-12-02 10:13:16,993 - 56 - assign_dataset_points_to_closest_centroid - DEBUG - Euclidean distance between dataset point [4 5] and centroid [1 2] is 4.242640687119285\n",
      "2018-12-02 10:13:16,994 - 56 - assign_dataset_points_to_closest_centroid - DEBUG - Euclidean distance between dataset point [4 5] and centroid [6 5] is 2.0\n",
      "2018-12-02 10:13:16,995 - 60 - assign_dataset_points_to_closest_centroid - DEBUG - dataset point [4 5] is closest to centroid [6 5]\n",
      "2018-12-02 10:13:16,996 - 61 - assign_dataset_points_to_closest_centroid - DEBUG - dataset point [4 5] now belongs to cluster with centroid [6 5]\n",
      "2018-12-02 10:13:16,997 - 56 - assign_dataset_points_to_closest_centroid - DEBUG - Euclidean distance between dataset point [6 5] and centroid [1 2] is 5.830951894845301\n",
      "2018-12-02 10:13:16,998 - 56 - assign_dataset_points_to_closest_centroid - DEBUG - Euclidean distance between dataset point [6 5] and centroid [6 5] is 0.0\n",
      "2018-12-02 10:13:16,999 - 60 - assign_dataset_points_to_closest_centroid - DEBUG - dataset point [6 5] is closest to centroid [6 5]\n",
      "2018-12-02 10:13:17,000 - 61 - assign_dataset_points_to_closest_centroid - DEBUG - dataset point [6 5] now belongs to cluster with centroid [6 5]\n",
      "2018-12-02 10:13:17,001 - 63 - assign_dataset_points_to_closest_centroid - DEBUG - cluster_single_iteration_record: defaultdict(<class 'list'>, {(1, 2): [array([1, 2]), array([3, 2])], (6, 5): [array([4, 5]), array([6, 5])]})\n",
      "2018-12-02 10:13:17,002 - 85 - run_kmeans_initialized_centroid - DEBUG - calculating the mean of 2 clustered dataset points associated with centroid (1, 2)\n",
      "2018-12-02 10:13:17,003 - 87 - run_kmeans_initialized_centroid - INFO - mean of the clustered dataset points is the new centroid at [2. 2.]\n",
      "2018-12-02 10:13:17,005 - 85 - run_kmeans_initialized_centroid - DEBUG - calculating the mean of 2 clustered dataset points associated with centroid (6, 5)\n",
      "2018-12-02 10:13:17,006 - 87 - run_kmeans_initialized_centroid - INFO - mean of the clustered dataset points is the new centroid at [5. 5.]\n",
      "2018-12-02 10:13:17,007 - 89 - run_kmeans_initialized_centroid - DEBUG - check if we meet early stopping criteria...\n",
      "2018-12-02 10:13:17,008 - 95 - run_kmeans_initialized_centroid - DEBUG - use new updated_centroids values for next iteration...\n",
      "2018-12-02 10:13:17,009 - 78 - run_kmeans_initialized_centroid - INFO - starting iteration number 2...\n",
      "2018-12-02 10:13:17,010 - 49 - assign_dataset_points_to_closest_centroid - INFO - clustering dataset points to centroids...\n",
      "2018-12-02 10:13:17,011 - 56 - assign_dataset_points_to_closest_centroid - DEBUG - Euclidean distance between dataset point [1 2] and centroid [2. 2.] is 1.0\n",
      "2018-12-02 10:13:17,013 - 56 - assign_dataset_points_to_closest_centroid - DEBUG - Euclidean distance between dataset point [1 2] and centroid [5. 5.] is 5.0\n",
      "2018-12-02 10:13:17,014 - 60 - assign_dataset_points_to_closest_centroid - DEBUG - dataset point [1 2] is closest to centroid [5. 5.]\n",
      "2018-12-02 10:13:17,015 - 61 - assign_dataset_points_to_closest_centroid - DEBUG - dataset point [1 2] now belongs to cluster with centroid [5. 5.]\n",
      "2018-12-02 10:13:17,016 - 56 - assign_dataset_points_to_closest_centroid - DEBUG - Euclidean distance between dataset point [3 2] and centroid [2. 2.] is 1.0\n",
      "2018-12-02 10:13:17,017 - 56 - assign_dataset_points_to_closest_centroid - DEBUG - Euclidean distance between dataset point [3 2] and centroid [5. 5.] is 3.605551275463989\n",
      "2018-12-02 10:13:17,018 - 60 - assign_dataset_points_to_closest_centroid - DEBUG - dataset point [3 2] is closest to centroid [5. 5.]\n",
      "2018-12-02 10:13:17,019 - 61 - assign_dataset_points_to_closest_centroid - DEBUG - dataset point [3 2] now belongs to cluster with centroid [5. 5.]\n",
      "2018-12-02 10:13:17,020 - 56 - assign_dataset_points_to_closest_centroid - DEBUG - Euclidean distance between dataset point [4 5] and centroid [2. 2.] is 3.605551275463989\n",
      "2018-12-02 10:13:17,021 - 56 - assign_dataset_points_to_closest_centroid - DEBUG - Euclidean distance between dataset point [4 5] and centroid [5. 5.] is 1.0\n",
      "2018-12-02 10:13:17,022 - 60 - assign_dataset_points_to_closest_centroid - DEBUG - dataset point [4 5] is closest to centroid [5. 5.]\n",
      "2018-12-02 10:13:17,023 - 61 - assign_dataset_points_to_closest_centroid - DEBUG - dataset point [4 5] now belongs to cluster with centroid [5. 5.]\n",
      "2018-12-02 10:13:17,025 - 56 - assign_dataset_points_to_closest_centroid - DEBUG - Euclidean distance between dataset point [6 5] and centroid [2. 2.] is 5.0\n",
      "2018-12-02 10:13:17,026 - 56 - assign_dataset_points_to_closest_centroid - DEBUG - Euclidean distance between dataset point [6 5] and centroid [5. 5.] is 1.0\n",
      "2018-12-02 10:13:17,027 - 60 - assign_dataset_points_to_closest_centroid - DEBUG - dataset point [6 5] is closest to centroid [5. 5.]\n",
      "2018-12-02 10:13:17,028 - 61 - assign_dataset_points_to_closest_centroid - DEBUG - dataset point [6 5] now belongs to cluster with centroid [5. 5.]\n",
      "2018-12-02 10:13:17,029 - 63 - assign_dataset_points_to_closest_centroid - DEBUG - cluster_single_iteration_record: defaultdict(<class 'list'>, {(2.0, 2.0): [array([1, 2]), array([3, 2])], (5.0, 5.0): [array([4, 5]), array([6, 5])]})\n",
      "2018-12-02 10:13:17,030 - 85 - run_kmeans_initialized_centroid - DEBUG - calculating the mean of 2 clustered dataset points associated with centroid (2.0, 2.0)\n",
      "2018-12-02 10:13:17,031 - 87 - run_kmeans_initialized_centroid - INFO - mean of the clustered dataset points is the new centroid at [2. 2.]\n",
      "2018-12-02 10:13:17,031 - 85 - run_kmeans_initialized_centroid - DEBUG - calculating the mean of 2 clustered dataset points associated with centroid (5.0, 5.0)\n",
      "2018-12-02 10:13:17,033 - 87 - run_kmeans_initialized_centroid - INFO - mean of the clustered dataset points is the new centroid at [5. 5.]\n",
      "2018-12-02 10:13:17,034 - 89 - run_kmeans_initialized_centroid - DEBUG - check if we meet early stopping criteria...\n",
      "2018-12-02 10:13:17,036 - 92 - run_kmeans_initialized_centroid - INFO - updated centroids [array([2., 2.]), array([5., 5.])] are the same as previous iteration centroids [array([2., 2.]), array([5., 5.])]\n",
      "2018-12-02 10:13:17,037 - 93 - run_kmeans_initialized_centroid - INFO - we've reached convergence of centroid values; end clustering\n",
      "2018-12-02 10:13:17,038 - 119 - inertia - DEBUG - cluster points: defaultdict(<class 'list'>, {(2.0, 2.0): [array([1, 2]), array([3, 2])], (5.0, 5.0): [array([4, 5]), array([6, 5])]})\n",
      "2018-12-02 10:13:17,039 - 122 - inertia - DEBUG - the cluster has a centroid at: (2.0, 2.0)\n",
      "2018-12-02 10:13:17,040 - 124 - inertia - DEBUG - calculate sum of squares from centroid to all points in that cluster...\n",
      "2018-12-02 10:13:17,041 - 129 - inertia - DEBUG - squared euclidean dist from centroid (2.0, 2.0) to point [1 2] is 1.0\n",
      "2018-12-02 10:13:17,042 - 129 - inertia - DEBUG - squared euclidean dist from centroid (2.0, 2.0) to point [3 2] is 1.0\n",
      "2018-12-02 10:13:17,043 - 122 - inertia - DEBUG - the cluster has a centroid at: (5.0, 5.0)\n",
      "2018-12-02 10:13:17,044 - 124 - inertia - DEBUG - calculate sum of squares from centroid to all points in that cluster...\n",
      "2018-12-02 10:13:17,045 - 129 - inertia - DEBUG - squared euclidean dist from centroid (5.0, 5.0) to point [4 5] is 1.0\n",
      "2018-12-02 10:13:17,046 - 129 - inertia - DEBUG - squared euclidean dist from centroid (5.0, 5.0) to point [6 5] is 1.0\n",
      "2018-12-02 10:13:17,047 - 131 - inertia - INFO - inertia is: 4.0\n",
      "2018-12-02 10:13:17,048 - 4 - <module> - INFO - inertia values: [4.0]\n",
      "2018-12-02 10:13:17,049 - 140 - index_lowest_inertia_cluster - DEBUG - minimum_inertia_value: 4.0\n",
      "2018-12-02 10:13:17,050 - 142 - index_lowest_inertia_cluster - DEBUG - index_lowest_inertia: 0\n",
      "2018-12-02 10:13:17,051 - 6 - <module> - INFO - lowest inertia value at centroid initialization #0\n",
      "2018-12-02 10:13:17,052 - 140 - index_lowest_inertia_cluster - DEBUG - minimum_inertia_value: 4.0\n",
      "2018-12-02 10:13:17,053 - 142 - index_lowest_inertia_cluster - DEBUG - index_lowest_inertia: 0\n",
      "2018-12-02 10:13:17,054 - 8 - <module> - INFO - optimal_cluster_assignment: defaultdict(<class 'list'>, {(2.0, 2.0): [array([1, 2]), array([3, 2])], (5.0, 5.0): [array([4, 5]), array([6, 5])]})\n",
      "2018-12-02 10:13:17,055 - 140 - index_lowest_inertia_cluster - DEBUG - minimum_inertia_value: 4.0\n",
      "2018-12-02 10:13:17,055 - 142 - index_lowest_inertia_cluster - DEBUG - index_lowest_inertia: 0\n",
      "2018-12-02 10:13:17,056 - 10 - <module> - INFO - optimal centroids: [(2.0, 2.0), (5.0, 5.0)]\n",
      "2018-12-02 10:13:17,058 - 178 - plot_clusters - DEBUG - plot centroid (2.0, 2.0) as firebrick\n",
      "2018-12-02 10:13:17,101 - 181 - plot_clusters - DEBUG - create lists of x-values and y-values for cluster points...\n",
      "2018-12-02 10:13:17,102 - 185 - plot_clusters - DEBUG - plot dataset points in cluster with centroid (2.0, 2.0) as firebrick\n",
      "2018-12-02 10:13:17,106 - 178 - plot_clusters - DEBUG - plot centroid (5.0, 5.0) as gold\n",
      "2018-12-02 10:13:17,109 - 181 - plot_clusters - DEBUG - create lists of x-values and y-values for cluster points...\n",
      "2018-12-02 10:13:17,110 - 185 - plot_clusters - DEBUG - plot dataset points in cluster with centroid (5.0, 5.0) as gold\n"
     ]
    },
    {
     "data": {
      "image/png": "[encoded data removed]",
      "text/plain": [
       "<matplotlib.figure.Figure at 0x1a17648978>"
      ]
     },
     "metadata": {},
     "output_type": "display_data"
    }
   ],
   "source": [
    "points = numpy.array([[1, 2], [3, 2], [4, 5], [6, 5]])\n",
    "k_means_object = KMeans(dataset_numpy_array=points, k_number_of_clusters=2, number_of_centroid_initializations=1)\n",
    "k_means_object.fit()\n",
    "logging.info(\"inertia values: {0}\".format(k_means_object.inertia_values))\n",
    "index_lowest_inertia_cluster = k_means_object.index_lowest_inertia_cluster()\n",
    "logging.info(\"lowest inertia value at centroid initialization #{}\".format(index_lowest_inertia_cluster))\n",
    "optimal_cluster_assignment = k_means_object.final_iteration_optimal_cluster()\n",
    "logging.info(\"optimal_cluster_assignment: {}\".format(optimal_cluster_assignment))\n",
    "optimal_centroids = k_means_object.final_iteration_optimal_cluster_centroids()\n",
    "logging.info(\"optimal centroids: {}\".format(optimal_centroids))\n",
    "k_means_object.plot_clusters(optimal_cluster_assignment)"
   ]
  },
  {
   "cell_type": "markdown",
   "metadata": {},
   "source": [
    "### Plot History of K-Means Iterations (One Centroid Initialization)"
   ]
  },
  {
   "cell_type": "code",
   "execution_count": 28,
   "metadata": {},
   "outputs": [],
   "source": [
    "iterations = 0\n",
    "for centroid_initialization in k_means_object.clusters_all_iterations_record:\n",
    "    for iteration in centroid_initialization:\n",
    "        iterations+=1"
   ]
  },
  {
   "cell_type": "code",
   "execution_count": 29,
   "metadata": {},
   "outputs": [
    {
     "name": "stderr",
     "output_type": "stream",
     "text": [
      "2018-12-02 10:13:17,214 - 178 - plot_clusters - DEBUG - plot centroid (1, 2) as firebrick\n",
      "2018-12-02 10:13:17,322 - 181 - plot_clusters - DEBUG - create lists of x-values and y-values for cluster points...\n",
      "2018-12-02 10:13:17,322 - 185 - plot_clusters - DEBUG - plot dataset points in cluster with centroid (1, 2) as firebrick\n",
      "2018-12-02 10:13:17,326 - 178 - plot_clusters - DEBUG - plot centroid (6, 5) as gold\n",
      "2018-12-02 10:13:17,329 - 181 - plot_clusters - DEBUG - create lists of x-values and y-values for cluster points...\n",
      "2018-12-02 10:13:17,330 - 185 - plot_clusters - DEBUG - plot dataset points in cluster with centroid (6, 5) as gold\n"
     ]
    },
    {
     "data": {
      "image/png": "[encoded data removed]",
      "text/plain": [
       "<matplotlib.figure.Figure at 0x1a18480780>"
      ]
     },
     "metadata": {},
     "output_type": "display_data"
    },
    {
     "name": "stderr",
     "output_type": "stream",
     "text": [
      "2018-12-02 10:13:17,441 - 178 - plot_clusters - DEBUG - plot centroid (2.0, 2.0) as firebrick\n",
      "2018-12-02 10:13:17,491 - 181 - plot_clusters - DEBUG - create lists of x-values and y-values for cluster points...\n",
      "2018-12-02 10:13:17,492 - 185 - plot_clusters - DEBUG - plot dataset points in cluster with centroid (2.0, 2.0) as firebrick\n",
      "2018-12-02 10:13:17,496 - 178 - plot_clusters - DEBUG - plot centroid (5.0, 5.0) as gold\n",
      "2018-12-02 10:13:17,499 - 181 - plot_clusters - DEBUG - create lists of x-values and y-values for cluster points...\n",
      "2018-12-02 10:13:17,500 - 185 - plot_clusters - DEBUG - plot dataset points in cluster with centroid (5.0, 5.0) as gold\n"
     ]
    },
    {
     "data": {
      "image/png": "[encoded data removed]",
      "text/plain": [
       "<matplotlib.figure.Figure at 0x105c67748>"
      ]
     },
     "metadata": {},
     "output_type": "display_data"
    }
   ],
   "source": [
    "for centroid_initialization in k_means_object.clusters_all_iterations_record:\n",
    "    for iteration_number, iteration in enumerate(centroid_initialization):\n",
    "        k_means_object.plot_clusters(iteration, plot_title=\"K-Means Clustering for Iteration {}\".format(iteration_number+1))"
   ]
  },
  {
   "cell_type": "code",
   "execution_count": null,
   "metadata": {},
   "outputs": [],
   "source": []
  }
 ],
 "metadata": {
  "kernelspec": {
   "display_name": "Python 3",
   "language": "python",
   "name": "python3"
  },
  "language_info": {
   "codemirror_mode": {
    "name": "ipython",
    "version": 3
   },
   "file_extension": ".py",
   "mimetype": "text/x-python",
   "name": "python",
   "nbconvert_exporter": "python",
   "pygments_lexer": "ipython3",
   "version": "3.7.3"
  }
 },
 "nbformat": 4,
 "nbformat_minor": 4
}
