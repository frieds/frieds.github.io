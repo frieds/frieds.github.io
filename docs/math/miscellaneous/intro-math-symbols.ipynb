{
 "cells": [
  {
   "cell_type": "markdown",
   "metadata": {},
   "source": [
    "# Introduction to Math Symbols Through Simple Examples\n",
    "\n",
    "Date published: 2018-12-26\n",
    "\n",
    "Category: Math\n",
    "\n",
    "Subcategory: Miscellaneous\n",
    "\n",
    "Tags: equations, mean, standard deviation, math symbols\n"
   ]
  },
  {
   "cell_type": "markdown",
   "metadata": {},
   "source": [
    "### Variable Definition"
   ]
  },
  {
   "cell_type": "markdown",
   "metadata": {},
   "source": [
    "A variable is a quantity typically assigned to a math letter within the context of a specific problem. For example, _x_ is a common variable names in mathematic notation.\n",
    "\n",
    "Below is a list of four numbers assigned to the variable *x*."
   ]
  },
  {
   "cell_type": "markdown",
   "metadata": {},
   "source": [
    "$$ x = 30, 21, 59, 45 $$"
   ]
  },
  {
   "cell_type": "markdown",
   "metadata": {},
   "source": [
    "We want to be able to identify any value in *x*. We can use subscript notatation to specify an index in that list. For example, the first number is $x_1$ and the second number is $x_2$ and so forth. We can specify the exact value using the notation below:"
   ]
  },
  {
   "cell_type": "markdown",
   "metadata": {},
   "source": [
    "$$ x_3 = 59 $$"
   ]
  },
  {
   "cell_type": "markdown",
   "metadata": {},
   "source": [
    "### Expression vs. Equation"
   ]
  },
  {
   "cell_type": "markdown",
   "metadata": {},
   "source": [
    "An **expression** is a math statement that does not contain an equal sign. An example is:\n",
    "\n",
    "$$7 + 4$$\n",
    "\n",
    "An expression can contain a variable too:\n",
    "\n",
    "$$7x + 4$$\n",
    "\n",
    "An **equation** is a math statement comprised of two equalities or expressions joined with an equal sign. An example is:\n",
    "\n",
    "$$x = 7 + 4$$"
   ]
  },
  {
   "cell_type": "markdown",
   "metadata": {},
   "source": [
    "### Order of Operations"
   ]
  },
  {
   "cell_type": "markdown",
   "metadata": {},
   "source": [
    "**Operations** means things like add, subtract, multiply, divide and more. A math expression involves operations. You may see the following equation:\n",
    "\n",
    "$$7 + (6\\times4 + 5^{2})$$\n",
    "\n",
    "Which part do you calculate first? In math, there's a specifc order of operations to calculate expressions and equations. If you don't follow the proper rules for order of operations, you will get a wrong answer! \n",
    "\n",
    "A popular acronym to help remember the order of operations is **PEMDAS**. This stands for parentheses, exponents, multiplication, division, addition and subtraction. We want to calculate any math expression or equation in the order of items listed in the PEMDAS acronym. So, you perform any operation in parentheses first, exponents second, and so forth.\n",
    "\n",
    "To calculate the expression above, first start with the things in parentheses. However, while in the parentheses, we need to apply PEMDAS again and move onto the next thing, exponents. $5^{2}$ equals $25$. We're left with the expression:\n",
    "\n",
    "$$7 + (6\\times4 + 25)$$\n",
    "\n",
    "Then, we're left with a multiplication and addition operation inside the parentheses. We perform multiplication before addition; therefore, next calculate $6\\times4$ which equals $24$. Our expression now is:\n",
    "\n",
    "$$7 + (24 + 25)$$\n",
    "\n",
    "We perform the remaining operation in parentheses next which is $24+25$. The result of that operation is $49$. Our expression is now:\n",
    "\n",
    "$$7 + (49)$$\n",
    "\n",
    "We can calculate this final operation and our result is $56$."
   ]
  },
  {
   "cell_type": "markdown",
   "metadata": {},
   "source": [
    "### Sigma and Order of Operations"
   ]
  },
  {
   "cell_type": "markdown",
   "metadata": {},
   "source": [
    "$\\sum$ means to add up whatever comes after it. Usually there's math symbols that come afterwards surrounded by parentheses. "
   ]
  },
  {
   "cell_type": "markdown",
   "metadata": {},
   "source": [
    "#### $\\sum(x)$ Calculation"
   ]
  },
  {
   "cell_type": "markdown",
   "metadata": {},
   "source": [
    "Given our value of $x$ above, we can calculate $\\sum(x)$ given our value of $x$ above:"
   ]
  },
  {
   "cell_type": "markdown",
   "metadata": {},
   "source": [
    "$$\\sum(x) = 30 + 21 + 59 + 45 = 155$$"
   ]
  },
  {
   "cell_type": "markdown",
   "metadata": {},
   "source": [
    "#### $\\sum(x-1)$ Calculation"
   ]
  },
  {
   "cell_type": "markdown",
   "metadata": {},
   "source": [
    "With math notation in the parentheses after the $\\sum$ symbol, we want to use order of operations. So the equation $\\sum(x-1)$ means to subtract $1$ from every value in $x$. We can represent this operation with the equation below:"
   ]
  },
  {
   "cell_type": "markdown",
   "metadata": {},
   "source": [
    "$$\\sum(x-1) = (30-1) + (21-1) + (59-1) + (45-1)$$\n",
    "\n",
    "$$\\sum(x-1) = (29) + (20) + (58) + (44)$$\n",
    "\n",
    "$$\\sum(x-1) = 151$$"
   ]
  },
  {
   "cell_type": "markdown",
   "metadata": {},
   "source": [
    "#### $\\sum(2x-1)$ Calculation"
   ]
  },
  {
   "cell_type": "markdown",
   "metadata": {},
   "source": [
    "In our order of operations, we perform multiplication before subtraction. We can calculate $\\sum(2x-1)$ with the following steps:"
   ]
  },
  {
   "cell_type": "markdown",
   "metadata": {},
   "source": [
    "$$\\sum(2x-1) = (2\\times30-1) + (2\\times21-1) + (2\\times59-1) + (2\\times45-1)$$\n",
    "\n",
    "$$\\sum(2x-1) = (60-1) + (42-1) + (118-1) + (90-1)$$\n",
    "\n",
    "$$\\sum(2x-1) = (59) + (41) + (117) + (89)$$\n",
    "\n",
    "$$\\sum(2x-1) = 306$$"
   ]
  },
  {
   "cell_type": "markdown",
   "metadata": {},
   "source": [
    "#### $\\sum(2x^{2})$ Calculation"
   ]
  },
  {
   "cell_type": "markdown",
   "metadata": {},
   "source": [
    "In math order of operations, we perform calculations with exponents before multiplication. Given that rule, we can calculate $\\sum(2x^{2})$ with the following steps:\n",
    "\n",
    "$$\\sum(2x^{2}) = (2\\times30^2) + (2\\times21^2) + (2\\times59^2) + (2\\times45^2)$$\n",
    "\n",
    "$$\\sum(2x^{2}) = (2\\times900) + (2\\times441) + (2\\times3481) + (2\\times2025)$$\n",
    "\n",
    "$$\\sum(2x^{2}) = (1800) + (882) + (6962) + (4050)$$\n",
    "\n",
    "$$\\sum(2x^{2}) = 13694$$"
   ]
  },
  {
   "cell_type": "markdown",
   "metadata": {},
   "source": [
    "#### $\\sum((2x)^{2})$ Calculation"
   ]
  },
  {
   "cell_type": "markdown",
   "metadata": {},
   "source": [
    "This equation may seem a bit strange at first. We want to calculate the inner-most nested parentheses first of $2x$ and then perform the next possible operation inside parentheses."
   ]
  },
  {
   "cell_type": "markdown",
   "metadata": {},
   "source": [
    "$$\\sum((2x)^{2}) = ((2\\times30)^2) + ((2\\times21)^2) + ((2\\times59)^2) + ((2\\times45)^2)$$\n",
    "\n",
    "$$\\sum((2x)^{2}) = ((60)^2) + ((42)^2) + ((118)^2) + ((90)^2)$$\n",
    "\n",
    "$$\\sum((2x)^{2}) = (3600) + (1764) + (13924) + (8100)$$\n",
    "\n",
    "$$\\sum((2x)^{2}) = (3600) + (1764) + (13924) + (8100)$$\n",
    "\n",
    "$$\\sum((2x)^{2}) = 14856$$"
   ]
  },
  {
   "cell_type": "markdown",
   "metadata": {},
   "source": [
    "### Mean"
   ]
  },
  {
   "cell_type": "markdown",
   "metadata": {},
   "source": [
    "In math, we call the average of a set of numbers the **mean**. We represent the (sample) mean as the symbol $\\bar{x}$ often called *x bar*.\n",
    "\n",
    "The simple equation for the mean of a set of numbers written in plain text is the sum of numbers in a set divided the the count of numbers in the set.\n",
    "\n",
    "The formal math equation is:\n",
    "\n",
    "$$\\bar{x} = \\frac{1}{n} \\times \\sum_{i=1}^{n}{x}_i$$\n",
    "\n",
    "- $\\bar{x}$ = average (or arithmetic mean)\n",
    "- $n$ = count of observations associated with a variable\n",
    "- $x_i$ = value of each individual item in the list of numbers being averaged"
   ]
  },
  {
   "cell_type": "markdown",
   "metadata": {},
   "source": [
    "Earlier, we defined $x = 30, 21, 59, 45$\n",
    "\n",
    "The mean of $x$ can be calculated as follows:\n",
    "\n",
    "$$\\bar{x} = \\frac{1}{4} \\times \\sum{x}$$\n",
    "\n",
    "$$\\bar{x} = \\frac{1}{4} \\times (30 + 21 + 59 + 45)$$\n",
    "\n",
    "$$\\bar{x} = \\frac{1}{4} \\times 155$$\n",
    "\n",
    "$$\\bar{x} = 38.75$$"
   ]
  },
  {
   "cell_type": "markdown",
   "metadata": {},
   "source": [
    "### Standard Deviation"
   ]
  },
  {
   "cell_type": "markdown",
   "metadata": {},
   "source": [
    "**Standard deviation** of a set of values is a measure of how spread out those values are from the mean.\n",
    "\n",
    "Below is the formula for the population standard deviation:"
   ]
  },
  {
   "cell_type": "markdown",
   "metadata": {},
   "source": [
    "$$\\sigma = \\sqrt \\frac{\\sum({x}_i - \\mu)^2}{N}$$\n",
    "\n",
    "- $\\sigma$ = population standard deviation\n",
    "- $\\mu$ = population mean\n",
    "- $N$ = count of numbers in the population\n",
    "- $x_i$ = value of each number in the population\n",
    "\n",
    "We can calculate the population standard deviation of $x$ as:\n",
    "\n",
    "We already calculated the arithmetic mean of $x$ above as $38.75$ which we can represent in place of $\\mu$. \n",
    "\n",
    "The count of numbers in our population of $x$ is $4$ which we can represent in place of $N$.\n",
    "\n",
    "$$\\sigma = \\sqrt \\frac{(30-38.75)^2 + (21-38.75)^2 + (59-38.75)^2 + (45-38.75)^2}{4}$$\n",
    "\n",
    "$$\\sigma = \\sqrt \\frac{(-8.75)^2 + (-17.75)^2 + (20.25)^2 + (6.25)^2}{4}$$\n",
    "\n",
    "$$\\sigma = \\sqrt \\frac{76.5625 + 315.0625 + 410.0625 + 39.0625}{4}$$\n",
    "\n",
    "$$\\sigma = \\sqrt \\frac{840.75}{4}$$\n",
    "\n",
    "$$\\sigma = 210.1875$$\n",
    "\n",
    "\n"
   ]
  }
 ],
 "metadata": {
  "kernelspec": {
   "display_name": "Python 3",
   "language": "python",
   "name": "python3"
  },
  "language_info": {
   "codemirror_mode": {
    "name": "ipython",
    "version": 3
   },
   "file_extension": ".py",
   "mimetype": "text/x-python",
   "name": "python",
   "nbconvert_exporter": "python",
   "pygments_lexer": "ipython3",
   "version": "3.7.5"
  }
 },
 "nbformat": 4,
 "nbformat_minor": 4
}
