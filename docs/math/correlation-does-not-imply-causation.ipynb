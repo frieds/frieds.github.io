{
 "cells": [
  {
   "cell_type": "markdown",
   "metadata": {},
   "source": [
    "# Correlation Does Not Imply Causation\n",
    "\n",
    "Date published: 2019-03-05\n",
    "\n",
    "Category: Math\n",
    "\n",
    "Subcategory: Inferential Statistics\n",
    "\n",
    "Tags: correlation, causation, scatter, python, pandas\n"
   ]
  },
  {
   "cell_type": "markdown",
   "metadata": {},
   "source": [
    "The statement *correlation does not imply causation* is one of the most famous in the field of statistics. It's incredibly important to understand so we properly understand the relation between two variables of numeric data."
   ]
  },
  {
   "cell_type": "markdown",
   "metadata": {},
   "source": [
    "### Correlation"
   ]
  },
  {
   "cell_type": "markdown",
   "metadata": {},
   "source": [
    "**<a href='https://en.wikipedia.org/wiki/Correlation_and_dependence'>Correlation</a>** is a measure of the relation of two numeric variables. For example, we'd expect a positive correlation between the temperature outside and ice cream sales at a shop. If it's hotter outside, we'd expect more people to buy ice cream. Ice cream sales likely *positively correlate* with increased temperature. There are exact numerical measures of correlation such as the <a href='https://en.wikipedia.org/wiki/Pearson_correlation_coefficient'>Pearson correlation coefficient</a> and the <a href='https://en.wikipedia.org/wiki/Spearman%27s_rank_correlation_coefficient'>Spearman's rank correlation coefficient</a>."
   ]
  },
  {
   "cell_type": "markdown",
   "metadata": {},
   "source": [
    "### Causation"
   ]
  },
  {
   "cell_type": "markdown",
   "metadata": {},
   "source": [
    "**<a href='https://en.wikipedia.org/wiki/Causality'>Causation</a>** indicates a relation between two variables in which one variable if *affected* by another. For example, there have been numerous studies that provide evidence that smoking *causes* lung cancer. A **study**, in statistical terms, is a detailed investigation and analysis of a situation. This post won't go into additional details of studies as they require lots of careful planning and implementation to perform successfully."
   ]
  },
  {
   "cell_type": "markdown",
   "metadata": {},
   "source": [
    "### Correlation vs. Causation"
   ]
  },
  {
   "cell_type": "markdown",
   "metadata": {},
   "source": [
    "Often times, people naively state a change in one variable *causes* a change in another variable. They may have evidence from real-world experiences that indicate a correlation between the two variables, but correlation does not imply causation! For example, more sleep will *cause* you to perform better at work. Or, more cardio will *cause* you to lose your belly fat. These statements could be factually correct. However, with these statements, we need evidence from a properly completed study to factually state there is a *causaul* relation between the two variables. \n",
    "\n",
    "If someone states a potentially spurious casual statement like this, I'd encourage them to perform research on independent studies to gather official evidence. Studies are often done by research-driven institutions and universities. Here is a <a href='https://www.ncbi.nlm.nih.gov/pmc/articles/PMC2991639/'>paper</a> published by the Journal of Obesity that cites several studies that provide evidence that high-intensity intermittent exercise may be effective to cause people to lose abdominal body fat. \n",
    "\n",
    "Tyler Vigen has an <a href='http://www.tylervigen.com/spurious-correlations'>interesting page</a> on his website that visualizes spurious correlations. Below is an example that shows a strong positive linear correlation with U.S. spending on science, space and technology with suicides by hanging, strangulation and suffocation.\n",
    "\n",
    "![correlation of suicides with science spending](../../../images/hanging_suicides_science_spending_correlation.jpeg)\n",
    "\n",
    "However, do you think U.S. spending in this field *causes* hanging suicides? My hypothesis is that there's *no evidence* to support a *causal* relationship between these two variables. \n",
    "\n",
    "While this example from Tyler's website seems extreme, it's poking fun at how people can immediately visualize a relationship between two numerical variables and naively jump to the conclusion that there's a causal relationship. \n",
    "\n",
    "Lastly, I want to show a funny comic from the comic website <a href='https://xkcd.com/552/'>XKCD</a> about correlation and causation. \n",
    "\"\n",
    "![XKCD correlation comic](../../../images/correlation_comic.png)\n",
    "\n",
    "The joke is that the guy on the right feels he doesn't have strong evidence (such as through a study) to prove his statistics class *caused* him to believe that fact is true.\n"
   ]
  },
  {
   "cell_type": "markdown",
   "metadata": {},
   "source": [
    "### Additional Misconceptions on Correlation vs. Causation"
   ]
  },
  {
   "cell_type": "markdown",
   "metadata": {},
   "source": [
    "A **mediator variable** is a variable that explains the relationship between independent and dependent variables. For example, we may notice a positive correlation with increased ice cream shop sales with increased heat. However, a potential mediator variable could be the count of people sweating. It's possible an increase in the count of people sweating in the local area influences ice cream sales. *If* this were true, you may want to open an ice cream store near a sauna rather than simply in a hot weather area.\n",
    "\n",
    "To make a causal relationship, we need to rule out **lurking variables**. These are variables that are not included in the independent or dependent variable but can affect the relationship between the two. The definition of the mediator variable above is considered a lurking variable too. This idea of a **third variable** is another name for a potential third variable that affects the causal relationship between the independent and dependent variables.\n",
    "\n",
    "Another example is that a soccer coach (naively) noticed that players who practiced additionally after games *caused* them to love soccer more. However, we don't know if the players playing more came before their love of soccer. Perhaps those players loved the game of soccer before the season started and that could have caused them to want to practice more after games. In this situation, there's **ambiguous temporal precedence** - the unknown of which variable came first for inferring causality.\n",
    "\n",
    "Another example is a supplements company claimed that people who drink their pre-workout shake directly before their workout complete approximately 2 more reps for each exercise and therefore have a better workout. The company claimed their pre-workout shake *caused* increased workout reps. This is considered a **post hoc fallacy** - an action taken *before* another action doesn't mean it directly *caused* the next action. "
   ]
  }
 ],
 "metadata": {
  "kernelspec": {
   "display_name": "Python 3 (ipykernel)",
   "language": "python",
   "name": "python3"
  },
  "language_info": {
   "codemirror_mode": {
    "name": "ipython",
    "version": 3
   },
   "file_extension": ".py",
   "mimetype": "text/x-python",
   "name": "python",
   "nbconvert_exporter": "python",
   "pygments_lexer": "ipython3",
   "version": "3.11.2"
  }
 },
 "nbformat": 4,
 "nbformat_minor": 4
}
