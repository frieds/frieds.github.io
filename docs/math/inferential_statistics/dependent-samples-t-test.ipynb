{
 "cells": [
  {
   "cell_type": "markdown",
   "metadata": {},
   "source": [
    "# Dependent Samples t-tests\n",
    "\n",
    "Date published: 2019-02-21\n",
    "\n",
    "Category: Math\n",
    "\n",
    "Subcategory: Inferential Statistics\n",
    "\n",
    "Tags: t-tests, python, scipy, numpy\n"
   ]
  },
  {
   "cell_type": "markdown",
   "metadata": {},
   "source": [
    "Dependent t-tests are considered within subject designs. This means the same subject may take a test twice. They are also called **paired samples t-tests**.\n",
    "\n",
    "In order to fully grasp the concepts in this post, it'll help to have familiarity with the following concepts: z-tests, hypothesis testing, p-values, normal distribution, standard deviation, standard error and the central limit theorem.\n",
    "\n",
    "The purpose of this test is typically to determine if the difference between sample means is *significantly* different from zero or another value.\n",
    "\n",
    "Categories of this include:\n",
    "\n",
    "- Repeated measures design\n",
    "    - Example: measure same people's errors on typing on laptop keyboard and then mobile keyboard for a specified blob of text in a specified time duration\n",
    "- Pre-test and post-test: measure variable at one point in time, then provide a treatment and the measure that same variable\n",
    "    - Example: measure average hours of sleeps for patients normally, then have them use a sleeping pill and measure average hours of sleep \n",
    "- Longitudinal: repeated observations of a sample over a period of time\n",
    "    - Example: measure growth or decline of count of rides in bike share service over time"
   ]
  },
  {
   "cell_type": "markdown",
   "metadata": {},
   "source": [
    "### Data Requirements for Dependent Sample t-tests"
   ]
  },
  {
   "cell_type": "markdown",
   "metadata": {},
   "source": [
    "- Each of the samples have a dependent variable that is continuous.\n",
    "- The subjects in each sample are the same (example - same people tested in both samples).\n",
    "- Randomly chosen test subjects from each sample of a greater population.\n",
    "- Approximate normal distribution of the differences between the paired values.\n",
    "- No outliers in the difference between the two samples observations."
   ]
  },
  {
   "cell_type": "markdown",
   "metadata": {},
   "source": [
    "### Setup Code"
   ]
  },
  {
   "cell_type": "markdown",
   "metadata": {},
   "source": [
    "#### Import Modules"
   ]
  },
  {
   "cell_type": "code",
   "execution_count": 27,
   "metadata": {},
   "outputs": [],
   "source": [
    "from scipy.stats import t\n",
    "import numpy as np\n",
    "import scipy.stats as stats\n",
    "import seaborn as sns\n",
    "import matplotlib.pyplot as plt\n",
    "% matplotlib inline"
   ]
  },
  {
   "cell_type": "markdown",
   "metadata": {},
   "source": [
    "#### Set Visualization Style"
   ]
  },
  {
   "cell_type": "code",
   "execution_count": 28,
   "metadata": {},
   "outputs": [],
   "source": [
    "sns.set_context('talk')\n",
    "sns.set_style(\"darkgrid\")"
   ]
  },
  {
   "cell_type": "markdown",
   "metadata": {},
   "source": [
    "### Steps to Perform Dependent Sample t-test"
   ]
  },
  {
   "cell_type": "markdown",
   "metadata": {},
   "source": [
    "1) Setup the experiment to record measurements from two samples.\n",
    "\n",
    "2) Set an alpha level for the test, a null hypothesis and alternative hypothesis.\n",
    "\n",
    "3) Run the experiment and collect the data.\n",
    "\n",
    "4) Determine if data meets requirements to perform a dependent sample t-test.\n",
    "\n",
    "5) Calculate the t-critical value.\n",
    "\n",
    "6) Calculate the t-statistic.\n",
    "\n",
    "7) Compare the t-statistic to the t-critical value. Interpret results of the experiment based on the original hypotheses."
   ]
  },
  {
   "cell_type": "markdown",
   "metadata": {},
   "source": [
    "### 1) Setup Experiment to Follow Initial Data Requirements"
   ]
  },
  {
   "cell_type": "markdown",
   "metadata": {},
   "source": [
    "Let's assume the participants of this study were randomly chosen from the general population of people. \n",
    "\n",
    "This is the same example mentioned earlier.\n",
    "\n",
    "A sample of 19 people were told to lie in bed ready to fall asleep at 10pm every night and would be woken up by an alarm at 6:30am. They'd perform this test for 15 days days in a row. A calculation of the average number of hours slept by each person was recorded. That same test was performed for the same 19 people at a later point in time with the only difference being that each participant took a sleeping pill at 9:30pm. This is considered a pretest posttest type of t-test for dependent samples.\n",
    "\n",
    "The variable being measured, hours of sleep, is a continuous variable."
   ]
  },
  {
   "cell_type": "markdown",
   "metadata": {},
   "source": [
    "### 2) Set an Alpha Level and Original Hypotheses"
   ]
  },
  {
   "cell_type": "markdown",
   "metadata": {},
   "source": [
    "The alpha level will be $0.05$. "
   ]
  },
  {
   "cell_type": "code",
   "execution_count": 29,
   "metadata": {},
   "outputs": [],
   "source": [
    "alpha = 0.05"
   ]
  },
  {
   "cell_type": "markdown",
   "metadata": {},
   "source": [
    "Does the sleeping pill help *significantly* increase the average hours slept compared to without the sleeping pill for the subjects? \n",
    "\n",
    "- $H_{o}$: $\\mu_{pill}<=\\mu_{no\\:pill}$\n",
    "- $H_{A}$: $\\mu_{pill}>\\mu_{no\\:pill}$\n",
    "\n",
    "This is a positive one-directional sided test.\n",
    "\n",
    "Note how the symbols above use $\\mu$ instead of $\\bar{x}$. The dependent samples t-test is utilized to infer the relevant population parameters based on the sample data. "
   ]
  },
  {
   "cell_type": "markdown",
   "metadata": {},
   "source": [
    "### 3) Collect the Data"
   ]
  },
  {
   "cell_type": "code",
   "execution_count": 30,
   "metadata": {},
   "outputs": [],
   "source": [
    "avg_sleep_no_pill = np.array([6.5, 6.8, 8.1, 8.02, 7.5, 7.6, 7.8, 7.9, 7.2, 7.4, 7.1, 7.6, 7.3, 6.9, 6.1, 5.95, 6.8, 6.95, 8.05])\n",
    "avg_sleep_pill = np.array([6.55, 7.01, 8.18, 8.16, 7.7, 7.64, 7.95, 8.21, 7.51, 7.54, 7.40, 8.04, 7.74, 7.28, 6.51, 6, 7.01, 6.95, 8.14])"
   ]
  },
  {
   "cell_type": "markdown",
   "metadata": {},
   "source": [
    "### 4) Determine if Data Meets Requirements to Perform a Dependent Sample t-test"
   ]
  },
  {
   "cell_type": "markdown",
   "metadata": {},
   "source": [
    "Below, I subtract the values from `avg_sleep_no_pill` from `avg_sleep_pill` to get a numpy array of the difference values."
   ]
  },
  {
   "cell_type": "code",
   "execution_count": 31,
   "metadata": {},
   "outputs": [
    {
     "data": {
      "text/plain": [
       "array([0.05, 0.21, 0.08, 0.14, 0.2 , 0.04, 0.15, 0.31, 0.31, 0.14, 0.3 ,\n",
       "       0.44, 0.44, 0.38, 0.41, 0.05, 0.21, 0.  , 0.09])"
      ]
     },
     "execution_count": 31,
     "metadata": {},
     "output_type": "execute_result"
    }
   ],
   "source": [
    "sleep_difference_patient_averages_from_treatment = np.subtract(avg_sleep_pill, avg_sleep_no_pill)\n",
    "sleep_difference_patient_averages_from_treatment"
   ]
  },
  {
   "cell_type": "markdown",
   "metadata": {},
   "source": [
    "Below is a box plot to visualize the distribution of values in `sleep_difference_patient_averages_from_treatment`. This visualization indicates there are no outliers."
   ]
  },
  {
   "cell_type": "code",
   "execution_count": 32,
   "metadata": {},
   "outputs": [
    {
     "data": {
      "image/png": "[encoded data removed]",
      "text/plain": [
       "<Figure size 792x360 with 1 Axes>"
      ]
     },
     "metadata": {},
     "output_type": "display_data"
    }
   ],
   "source": [
    "plt.figure(figsize=(11, 5))\n",
    "sns.boxplot(sleep_difference_patient_averages_from_treatment, color='mediumseagreen', saturation=0.9)\n",
    "plt.title(\"Distribution of Differences in Avg Hours Slept for Patients with Treatment\", y=1.015)\n",
    "plt.xlabel(\"average hours slept\", labelpad=14);"
   ]
  },
  {
   "cell_type": "markdown",
   "metadata": {},
   "source": [
    "Below is a histogram to illustrate the distribution of values in `sleep_difference_patient_averages_from_treatment`. This distribution resembles an approximate normal distribution. The values are centered around a central value around $0.18$ hours and there is approximately symmetry around this center."
   ]
  },
  {
   "cell_type": "code",
   "execution_count": 33,
   "metadata": {},
   "outputs": [
    {
     "data": {
      "image/png": "[encoded data removed]",
      "text/plain": [
       "<Figure size 792x648 with 1 Axes>"
      ]
     },
     "metadata": {},
     "output_type": "display_data"
    }
   ],
   "source": [
    "plt.figure(figsize=(11, 9))\n",
    "sns.distplot(sleep_difference_patient_averages_from_treatment, hist=False, color='darkgoldenrod')\n",
    "plt.title(\"Distribution of Differences in Avg. Hours Slept for Patients with Treatment\", y=1.01, fontsize=18)\n",
    "plt.xlabel(\"differences in average hours slept by patients\", labelpad=14)\n",
    "plt.ylabel(\"frequency of occurences\", labelpad=14);"
   ]
  },
  {
   "cell_type": "markdown",
   "metadata": {},
   "source": [
    "### 5) Calculate t-critical Value"
   ]
  },
  {
   "cell_type": "markdown",
   "metadata": {},
   "source": [
    "This is a positive one-directional t-test and we want to determine if the differences in hours slept by patients after the treatment compared to before the treatment is *significantly* greater. The t-critical value should be positive. With an alpha level of $0.05$, there should be $0.95$ area under the curve to the left of the t-critical value for the t-distribution. "
   ]
  },
  {
   "cell_type": "code",
   "execution_count": 34,
   "metadata": {},
   "outputs": [
    {
     "data": {
      "text/plain": [
       "0.95"
      ]
     },
     "execution_count": 34,
     "metadata": {},
     "output_type": "execute_result"
    }
   ],
   "source": [
    "n = len(avg_sleep_no_pill)\n",
    "probability_auc_left_tail = 1 - alpha\n",
    "probability_auc_left_tail"
   ]
  },
  {
   "cell_type": "markdown",
   "metadata": {},
   "source": [
    "For the sample size of $n=19$, the degrees of freedom is $19-1 = 18$"
   ]
  },
  {
   "cell_type": "code",
   "execution_count": 35,
   "metadata": {},
   "outputs": [
    {
     "name": "stdout",
     "output_type": "stream",
     "text": [
      "degrees of freedom: 18\n"
     ]
    }
   ],
   "source": [
    "degrees_of_freedom = n - 1\n",
    "print(\"degrees of freedom: {0}\".format(degrees_of_freedom))"
   ]
  },
  {
   "cell_type": "markdown",
   "metadata": {},
   "source": [
    "Use the `ppf()` method to calculate the t-critical value. Set the argument:\n",
    "\n",
    "- `q` to be the area under the curve of $0.95$ that's to the left of the t-critical value\n",
    "- `df` to be our `degrees_of_freedom` value of $18$"
   ]
  },
  {
   "cell_type": "code",
   "execution_count": 43,
   "metadata": {},
   "outputs": [
    {
     "name": "stdout",
     "output_type": "stream",
     "text": [
      "t-critical value of 1.73\n"
     ]
    }
   ],
   "source": [
    "t_critical_value =round(t.ppf(q=probability_auc_left_tail, df=degrees_of_freedom), 2)\n",
    "print(\"t-critical value of {0}\".format(t_critical_value))"
   ]
  },
  {
   "cell_type": "markdown",
   "metadata": {},
   "source": [
    "### 6) Calculate the t-statistic"
   ]
  },
  {
   "cell_type": "markdown",
   "metadata": {},
   "source": [
    "Scipy stat's `ttest_rel()` <a href='https://docs.scipy.org/doc/scipy/reference/generated/scipy.stats.ttest_rel.html'>method</a> is used for t-tests on two *related* samples of scores. \n",
    "\n",
    "This method returns the probability for a two-sided test. The returned t-statistic is the same for a one-tail or two-tail dependent sample t-test."
   ]
  },
  {
   "cell_type": "code",
   "execution_count": 37,
   "metadata": {},
   "outputs": [
    {
     "data": {
      "text/plain": [
       "Ttest_relResult(statistic=6.3059575538645145, pvalue=6.059618861726903e-06)"
      ]
     },
     "execution_count": 37,
     "metadata": {},
     "output_type": "execute_result"
    }
   ],
   "source": [
    "sleep_t_test_results = stats.ttest_rel(avg_sleep_pill, avg_sleep_no_pill)\n",
    "sleep_t_test_results"
   ]
  },
  {
   "cell_type": "markdown",
   "metadata": {},
   "source": [
    "Also, I can calculate the t-statistic for a dependent t-test using the formula below:\n",
    "\n",
    "$$t=\\frac{\\bar{x}_{D}-0}{\\frac{s}{\\sqrt{n}}}$$\n",
    "\n",
    "We're looking to see if the differences in sample means is different than $0$. We could replace that value $0$ for any other numerical value.\n",
    "\n",
    "- $\\bar{x}_{D}$ is the difference in sample means for the two groups and is considered our point estimate\n",
    "- $\\frac{s}{\\sqrt{n}}$ is our estimated standard error from a sampling distribution (that consists of sample means based on taking repeated samples from a greater population, calculating the differences in observations and then the sample mean of the differences) \n",
    "- $s$ is the sample standard deviation of the differences (remember to use bessel's correction with $n-1$ in the denominator)\n",
    "- $n$ is sample size"
   ]
  },
  {
   "cell_type": "markdown",
   "metadata": {},
   "source": [
    "Our point estimate is $\\bar{x}_{pill} - \\bar{x}_{no\\:pill}$\n",
    "\n",
    "We're trying to determine if this point estimate is significantly different from $0$."
   ]
  },
  {
   "cell_type": "code",
   "execution_count": 38,
   "metadata": {},
   "outputs": [
    {
     "data": {
      "text/plain": [
       "0.20789473684210424"
      ]
     },
     "execution_count": 38,
     "metadata": {},
     "output_type": "execute_result"
    }
   ],
   "source": [
    "mean_point_estimate = np.mean(avg_sleep_pill) - np.mean(avg_sleep_no_pill)\n",
    "mean_point_estimate"
   ]
  },
  {
   "cell_type": "markdown",
   "metadata": {},
   "source": [
    "Use the `std()` <a href='https://docs.scipy.org/doc/numpy/reference/generated/numpy.std.html'>method</a> in NumPy and set the argument `ddof` to be $1$ since this is a calculation for the *sample* standard deviation."
   ]
  },
  {
   "cell_type": "code",
   "execution_count": 39,
   "metadata": {},
   "outputs": [
    {
     "data": {
      "text/plain": [
       "0.14370413074432642"
      ]
     },
     "execution_count": 39,
     "metadata": {},
     "output_type": "execute_result"
    }
   ],
   "source": [
    "std_dev_sleep_difference_patient_averages_from_treatment = np.std(sleep_difference_patient_averages_from_treatment, ddof=1)\n",
    "std_dev_sleep_difference_patient_averages_from_treatment"
   ]
  },
  {
   "cell_type": "code",
   "execution_count": 40,
   "metadata": {},
   "outputs": [
    {
     "data": {
      "text/plain": [
       "6.305957553864484"
      ]
     },
     "execution_count": 40,
     "metadata": {},
     "output_type": "execute_result"
    }
   ],
   "source": [
    "t_statistic = mean_point_estimate/(std_dev_sleep_difference_patient_averages_from_treatment/np.sqrt(n))\n",
    "t_statistic"
   ]
  },
  {
   "cell_type": "markdown",
   "metadata": {},
   "source": [
    "The t-statistic returned from `ttest_rel()` is the same as the t-statstic from utilizing the equation above."
   ]
  },
  {
   "cell_type": "markdown",
   "metadata": {},
   "source": [
    "### 7) Interpret Results"
   ]
  },
  {
   "cell_type": "markdown",
   "metadata": {},
   "source": [
    "The returned t-statistic of $6.31$ is greater than the t-critical value of $1.73$. Additionally, the p-value of $6.06e^{-6}$ is much smaller than the alpha level of $0.05$.\n",
    "\n",
    "Therefore, it is statistically unlikely we'd see such large differences in average hours of sleep with the sleeping pill treatment compared to no pill due to chance. We have sufficient evidence to reject the null hypothesis. Study participants had *significantly* more sleep when using the sleeping pill."
   ]
  }
 ],
 "metadata": {
  "kernelspec": {
   "display_name": "Python 3",
   "language": "python",
   "name": "python3"
  },
  "language_info": {
   "codemirror_mode": {
    "name": "ipython",
    "version": 3
   },
   "file_extension": ".py",
   "mimetype": "text/x-python",
   "name": "python",
   "nbconvert_exporter": "python",
   "pygments_lexer": "ipython3",
   "version": "3.7.5"
  }
 },
 "nbformat": 4,
 "nbformat_minor": 4
}
