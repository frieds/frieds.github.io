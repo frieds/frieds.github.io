{
 "cells": [
  {
   "cell_type": "markdown",
   "metadata": {},
   "source": [
    "# Type I and Type II Errors in Hypothesis Testing\n",
    "\n",
    "Date published: 2019-02-15\n",
    "\n",
    "Category: Math\n",
    "\n",
    "Subcategory: Inferential Statistics\n",
    "\n",
    "Tags: hypothesis testing\n"
   ]
  },
  {
   "cell_type": "markdown",
   "metadata": {},
   "source": [
    "There are potential caveats to hypothesis testing with z-tests, t-tests or other similar tests. \n",
    "\n",
    "Initially, we may apply a treatment to a sample and compare how a parameter of that sample differs from the same parameter from the popoulation without the treatment. However, it's possible to have **sampling error**. This is likely since we're unsure of the characteristics of the observations in the sample and they may not be representative of the whole population. We're unable to measure the exact sampling error since the ture population with the treatment is unkown at the beginning of a statistical hypothesis test. \n",
    "\n",
    "Later, if we are able to capture data on the true population with the treatment, we can determine if a stastical error was made in our initial analysis."
   ]
  },
  {
   "cell_type": "markdown",
   "metadata": {},
   "source": [
    "### Decision Errors"
   ]
  },
  {
   "cell_type": "markdown",
   "metadata": {},
   "source": [
    "In the figure below, each quadrant has a meaning about correct or incorrect decisions in hypothesis testing.\n",
    "\n",
    "Typically, in hypothesis testing, the \"truth about the population\" is unknown at first. For the example of Joe's personal training, the true population mean of people's weight would be if we could apply the treatment to a sufficiently large number of samples (perhaps hundreds of people) and calculate the mean of sample means with this treatment.\n",
    "\n",
    "I provide explanations of each quadrant (<a href='http://www.personal.ceu.hu/students/08/Olga_Etchevskaia/hypotheses.html'>image source</a>) below. \n",
    "\n",
    "![hypothesis testing decision errors](../../../images/errors.jpg)\n",
    "\n",
    "The top left quadrant means the ground truth is that the null hypothesis is true, yet our research concluded to *reject* the null hypothesis (*significant* effect from the treatment). We made an incorrect statistical decision. This is considered a Type 1 error.\n",
    "\n",
    "The top right quadrant means the ground truth is that the alternative hypothesis is true and our research concluded to reject the null hypothesis (*significant* effect from the treatment). This is an ideal situation.\n",
    "\n",
    "The bottom left quadrant means the ground truth is that the null hypothesis is *true* and our research concluded that there's *no* evidence to reject the null hypothesis. This is an ideal situation.\n",
    "\n",
    "The bottom right quadrant means the ground truth is that the alternative hypothesis is true, yet our research concluded that there's *no* evidence to reject the null hypothesis. We made an incorrect statistical decision. This is considered a Type 2 error. "
   ]
  },
  {
   "cell_type": "markdown",
   "metadata": {},
   "source": [
    "#### How to Reduce Decision Errors"
   ]
  },
  {
   "cell_type": "markdown",
   "metadata": {},
   "source": [
    "We minimize our chances of making the wrong decision when we have a large enough sample size, we randomize our sample and when we implmement proper experimental controls."
   ]
  },
  {
   "cell_type": "markdown",
   "metadata": {},
   "source": [
    "#### Example: Statistical Decision Errors in Rain Scenario"
   ]
  },
  {
   "cell_type": "markdown",
   "metadata": {},
   "source": [
    "$H_{o}$: It's not going to rain later today (so I don't need an umbrella).\n",
    "\n",
    "$H_{a}$: It's going to rain later today (so I should bring an umbrella).\n",
    "\n",
    "Four possible scenarios:\n",
    "\n",
    "- I think it's going to rain later so I bring an umbrella. However, later it doesn't rain. This is a Type 1 error. \n",
    "- I think it's going to rain later so I bring an umbrella. I'm correct - it rained later and I was right in bringing an umbrella. (This is equivalent to the top right quadrant.)\n",
    "- I think it's not going to rain later so I *don't* bring an umbrella. I'm correct - it *doesn't* rain later so I was correct in *not* bringing an umbrella. (This is equivalent to the bottom left quadrant.)\n",
    "- I think it's not going to rain later so I *don't* bring an umbrella. However, later it rains. This is a Type 2 error."
   ]
  }
 ],
 "metadata": {
  "kernelspec": {
   "display_name": "Python 3 (ipykernel)",
   "language": "python",
   "name": "python3"
  },
  "language_info": {
   "codemirror_mode": {
    "name": "ipython",
    "version": 3
   },
   "file_extension": ".py",
   "mimetype": "text/x-python",
   "name": "python",
   "nbconvert_exporter": "python",
   "pygments_lexer": "ipython3",
   "version": "3.11.2"
  }
 },
 "nbformat": 4,
 "nbformat_minor": 4
}
