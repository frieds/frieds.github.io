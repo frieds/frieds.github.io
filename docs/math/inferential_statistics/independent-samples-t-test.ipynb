{
 "cells": [
  {
   "cell_type": "markdown",
   "metadata": {},
   "source": [
    "# Independent Samples t-tests\n",
    "\n",
    "Date published: 2019-02-25\n",
    "\n",
    "Category: Math\n",
    "\n",
    "Subcategory: Inferential Statistics\n",
    "\n",
    "Tags: t-tests, python, scipy, numpy\n"
   ]
  },
  {
   "cell_type": "markdown",
   "metadata": {},
   "source": [
    "An **independent samples** t-test compares the means of two independent samples to determine whether there is evidence that the expected population means of each sample would be *significantly* different. The two independent samples can contain different subjects but the same dependent variable should be measured in each sample. An example - you want to measure if there is a *significant* difference in the average coffee price of independent coffee shops in Manhattan (part of New York City) versus San Francisco, California.\n",
    "\n",
    "In order to fully grasp the concepts in this post, it'll help to have familiarity with the following concepts: z-tests, hypothesis testing, p-values, normal distribution, standard deviation, standard error and the central limit theorem.\n",
    "\n",
    "Typically, you want a larger $n$ from each sample to control for individual differences. \n",
    "\n",
    "Similar to dependent t-tests, independent t-tests have the same criteria for setting hypotheses and interpreting results. However, there are different equations to calculate the standard error and t-statistic that will be covered below in the example."
   ]
  },
  {
   "cell_type": "markdown",
   "metadata": {},
   "source": [
    "### Data Requirements for Independent Samples t-tests"
   ]
  },
  {
   "cell_type": "markdown",
   "metadata": {},
   "source": [
    "The conditions below are largely taken from Kent State University's <a href='https://libguides.library.kent.edu/SPSS/IndependentTTest'>tutorial on t-tests</a>. \n",
    "\n",
    "Your data must meet the following requirements:\n",
    "\n",
    "- Dependent variable that is continuous (i.e., interval or ratio level)\n",
    "- Independent variable that is categorical (i.e., two or more groups)\n",
    "- Independent samples/groups (i.e., independence of observations)\n",
    "- There is no relationship between the subjects in each sample. This means that subjects in the first group cannot also be in the second group. The subjects in either group cannot influence subjects in the other group\n",
    "- No group can influence the other group\n",
    "    - Violation of this assumption will yield an inaccurate p value\n",
    "- Random sample of data from the population\n",
    "- Normal distribution (approximately) of the dependent variable for each group\n",
    "    - Non-normal population distributions, especially those that are thick-tailed or heavily skewed, considerably reduce the power of the test\n",
    "    - Among moderate or large samples, a violation of normality may still yield accurate p-values\n",
    "- No outliers"
   ]
  },
  {
   "cell_type": "markdown",
   "metadata": {},
   "source": [
    "### Setup Code"
   ]
  },
  {
   "cell_type": "markdown",
   "metadata": {},
   "source": [
    "#### Import Modules"
   ]
  },
  {
   "cell_type": "code",
   "execution_count": 153,
   "metadata": {},
   "outputs": [],
   "source": [
    "from scipy.stats import t\n",
    "import numpy as np\n",
    "import scipy.stats as stats\n",
    "import seaborn as sns\n",
    "import matplotlib.pyplot as plt\n",
    "from statsmodels.stats import weightstats as statsmodelsweightstats\n",
    "% matplotlib inline"
   ]
  },
  {
   "cell_type": "markdown",
   "metadata": {},
   "source": [
    "#### Set Visualization Style"
   ]
  },
  {
   "cell_type": "code",
   "execution_count": 154,
   "metadata": {},
   "outputs": [],
   "source": [
    "sns.set_context('talk')\n",
    "sns.set_style(\"darkgrid\")"
   ]
  },
  {
   "cell_type": "markdown",
   "metadata": {},
   "source": [
    "### Steps to Perform Independent Samples t-test"
   ]
  },
  {
   "cell_type": "markdown",
   "metadata": {},
   "source": [
    "1) Setup the experiment to record measurements from two samples.\n",
    "\n",
    "2) Set an alpha level for the test, a null hypothesis and alternative hypothesis.\n",
    "\n",
    "3) Run the experiment and collect the data.\n",
    "\n",
    "4) Determine if data meets requirements to perform an independent samples t-test.\n",
    "\n",
    "5) Calculate the t-critical value.\n",
    "\n",
    "6) Calculate the t-statistic.\n",
    "\n",
    "7) Compare the t-statistic to the t-critical value. Interpret results of the experiment based on the original hypotheses."
   ]
  },
  {
   "cell_type": "markdown",
   "metadata": {},
   "source": [
    "### 1) Setup Experiment to Follow Initial Data Requirements"
   ]
  },
  {
   "cell_type": "markdown",
   "metadata": {},
   "source": [
    "Below is fictional data scenario. I want to know if the price of coffee is significantly different between a sample of coffee shops in Manhattan versus San Francisco (SF). In order to retrive the data, I will randomly select 5 coffee shops from various neighborhoods in each city. For each shop, I'll take a measurement of the cheapest small drip coffee option. For each city, I'll do this in multiple neighborhoods. "
   ]
  },
  {
   "cell_type": "markdown",
   "metadata": {},
   "source": [
    "### 2) Set an Alpha Level and Original Hypotheses"
   ]
  },
  {
   "cell_type": "markdown",
   "metadata": {},
   "source": [
    "The alpha level will be $0.05$. "
   ]
  },
  {
   "cell_type": "code",
   "execution_count": 155,
   "metadata": {},
   "outputs": [],
   "source": [
    "alpha = 0.05"
   ]
  },
  {
   "cell_type": "markdown",
   "metadata": {},
   "source": [
    "Is there a *significant* difference in the average price of drip coffee at independent coffee shops in Manhattan versus San Francisco? \n",
    "\n",
    "The null hypothesis is that there is no *significant* difference in the true population means for the average cup of drip coffee between the cities of San Francisco and Manhattan.\n",
    "\n",
    "$H_{o}:\\mu_{sf}=\\mu_{manhattan}$\n",
    "\n",
    "$H_{a}:\\mu_{sf}\\neq\\mu_{manhattan}$\n",
    "\n",
    "This is a two-tailed test.\n",
    "\n",
    "In this independent samples t-test, I'm trying to use sample means from each of the two cities in order to infer the true population parameters."
   ]
  },
  {
   "cell_type": "markdown",
   "metadata": {},
   "source": [
    "### 3) Collect the Data"
   ]
  },
  {
   "cell_type": "markdown",
   "metadata": {},
   "source": [
    "Ultimately, I collected 30 samples of coffee prices in Manhattan and 35 in San Francisco."
   ]
  },
  {
   "cell_type": "code",
   "execution_count": 156,
   "metadata": {},
   "outputs": [],
   "source": [
    "manhattan_coffee_prices = [1.5]*2 + [1.79]*4 + [1.85]*5 + [1.99]*7 + [2]*3 + [2.19]*2 + [2.29]*5 + [2.5]*2"
   ]
  },
  {
   "cell_type": "code",
   "execution_count": 157,
   "metadata": {},
   "outputs": [],
   "source": [
    "sf_coffee_prices = [1.99]*2 + [2.29]*4 + [2.49]*9 + [2.79]*7 + [2.95]*6 + [2.99]*4 + [3.49]*3"
   ]
  },
  {
   "cell_type": "markdown",
   "metadata": {},
   "source": [
    "### 4) Determine if Data Meets Requirements to Perform an Independent Samples t-test"
   ]
  },
  {
   "cell_type": "markdown",
   "metadata": {},
   "source": [
    "The dependent variable, the price of coffee in U.S. dollars is continuous. The independent variable, the identity of the city, is a proper independent variable.\n",
    "\n",
    "In the data collection process, I ensured the coffee shops were all independent of one another. There is no relationship in ownership or name for any of the shops. \n",
    "\n",
    "I'm assuming there's influence of groups on setting the price of coffee because of distinct ownership and cities.\n",
    "\n",
    "I mentioned I randomly sampled coffee shops from various neighborhoods in each city. \n",
    "\n",
    "Let's check the distribution of coffee prices in each city."
   ]
  },
  {
   "cell_type": "markdown",
   "metadata": {},
   "source": [
    "#### Distribution of Prices in Each City"
   ]
  },
  {
   "cell_type": "markdown",
   "metadata": {},
   "source": [
    "The distribution of coffee prices for the sample in Manhattan below looks approximately normal."
   ]
  },
  {
   "cell_type": "code",
   "execution_count": 158,
   "metadata": {},
   "outputs": [
    {
     "data": {
      "image/png": "[encoded data removed]",
      "text/plain": [
       "<Figure size 720x504 with 1 Axes>"
      ]
     },
     "metadata": {},
     "output_type": "display_data"
    }
   ],
   "source": [
    "plt.figure(figsize=(10, 7))\n",
    "sns.distplot(manhattan_coffee_prices, color='crimson')\n",
    "plt.title(\"Distribution of Coffee Prices in Manhattan\", y=1.015, fontsize=22)\n",
    "plt.xlabel(\"price of cup of coffee [$]\", labelpad=14)\n",
    "plt.ylabel(\"count of occurences\", labelpad=14);"
   ]
  },
  {
   "cell_type": "markdown",
   "metadata": {},
   "source": [
    "The distribution of coffee prices for the sample in San Francisco below looks approximately normal."
   ]
  },
  {
   "cell_type": "code",
   "execution_count": 159,
   "metadata": {},
   "outputs": [
    {
     "data": {
      "image/png": "[encoded data removed]",
      "text/plain": [
       "<Figure size 720x504 with 1 Axes>"
      ]
     },
     "metadata": {},
     "output_type": "display_data"
    }
   ],
   "source": [
    "plt.figure(figsize=(10, 7))\n",
    "sns.distplot(sf_coffee_prices, color='darkcyan')\n",
    "plt.title(\"Distribution of Coffee Prices in San Francisco\", y=1.015, fontsize=22)\n",
    "plt.xlabel(\"price of cup of coffee [$]\", labelpad=14)\n",
    "plt.ylabel(\"count of occurences\", labelpad=14);"
   ]
  },
  {
   "cell_type": "markdown",
   "metadata": {},
   "source": [
    "#### Check for Outliers in Each City"
   ]
  },
  {
   "cell_type": "markdown",
   "metadata": {},
   "source": [
    "The boxplot of Manhattan cup of coffee prices belows show no outliers."
   ]
  },
  {
   "cell_type": "code",
   "execution_count": 160,
   "metadata": {},
   "outputs": [
    {
     "data": {
      "image/png": "[encoded data removed]",
      "text/plain": [
       "<Figure size 648x360 with 1 Axes>"
      ]
     },
     "metadata": {},
     "output_type": "display_data"
    }
   ],
   "source": [
    "plt.figure(figsize=(9, 5))\n",
    "sns.boxplot(manhattan_coffee_prices, color='crimson', saturation=0.9)\n",
    "plt.title(\"Distribution of Coffee Prices in Manhattan\", y=1.015)\n",
    "plt.xlabel(\"coffee prices [$]\", labelpad=14);"
   ]
  },
  {
   "cell_type": "markdown",
   "metadata": {},
   "source": [
    "The boxplot of San Francisco cup of coffee prices belows show no outliers too."
   ]
  },
  {
   "cell_type": "code",
   "execution_count": 161,
   "metadata": {},
   "outputs": [
    {
     "data": {
      "image/png": "[encoded data removed]",
      "text/plain": [
       "<Figure size 648x360 with 1 Axes>"
      ]
     },
     "metadata": {},
     "output_type": "display_data"
    }
   ],
   "source": [
    "plt.figure(figsize=(9, 5))\n",
    "sns.boxplot(sf_coffee_prices, color='darkcyan', saturation=0.9)\n",
    "plt.title(\"Distribution of Coffee Prices in San Francisco\", y=1.015)\n",
    "plt.xlabel(\"coffee prices [$]\", labelpad=14);"
   ]
  },
  {
   "cell_type": "markdown",
   "metadata": {},
   "source": [
    "Overall, I think this data fits the requirements to perform an independent samples t-test."
   ]
  },
  {
   "cell_type": "markdown",
   "metadata": {},
   "source": [
    "### 5) Calculate t-critical Value"
   ]
  },
  {
   "cell_type": "markdown",
   "metadata": {},
   "source": [
    "Assign variables for the count of observations in each group."
   ]
  },
  {
   "cell_type": "code",
   "execution_count": 162,
   "metadata": {},
   "outputs": [],
   "source": [
    "manhattan_count_observations = len(manhattan_coffee_prices)\n",
    "sf_count_observations = len(sf_coffee_prices)"
   ]
  },
  {
   "cell_type": "markdown",
   "metadata": {},
   "source": [
    "Different than other types of t-tests, the calculation for degrees of freedom for an independent samples t-test is:\n",
    "\n",
    "$$(n_{1}-1)+(n_{2}-1)$$\n",
    "\n",
    "This can be simplified to:\n",
    "\n",
    "$$n_{1}+n_{2}-2$$"
   ]
  },
  {
   "cell_type": "code",
   "execution_count": 163,
   "metadata": {},
   "outputs": [
    {
     "data": {
      "text/plain": [
       "63"
      ]
     },
     "execution_count": 163,
     "metadata": {},
     "output_type": "execute_result"
    }
   ],
   "source": [
    "degrees_of_freedom = sf_count_observations + manhattan_count_observations - 2\n",
    "degrees_of_freedom"
   ]
  },
  {
   "cell_type": "markdown",
   "metadata": {},
   "source": [
    "This is a two-tailed t-test so each tail probability on the t-distribution is $0.025$. We use that value below."
   ]
  },
  {
   "cell_type": "code",
   "execution_count": 164,
   "metadata": {},
   "outputs": [
    {
     "data": {
      "text/plain": [
       "-1.998"
      ]
     },
     "execution_count": 164,
     "metadata": {},
     "output_type": "execute_result"
    }
   ],
   "source": [
    "alpha = 0.05\n",
    "two_tailed_test_prob_tail = alpha/2\n",
    "t_critical = round(stats.t.ppf(two_tailed_test_prob_tail, degrees_of_freedom), 3)\n",
    "t_critical"
   ]
  },
  {
   "cell_type": "markdown",
   "metadata": {},
   "source": [
    "Since this is a two-tailed test, the t-critical value is actually $\\pm1.998$"
   ]
  },
  {
   "cell_type": "markdown",
   "metadata": {},
   "source": [
    "### 6) Calculate the t-statistic"
   ]
  },
  {
   "cell_type": "markdown",
   "metadata": {},
   "source": [
    "There's a method in the Scipy package for performing indepenent t-tests called <a href='https://docs.scipy.org/doc/scipy/reference/generated/scipy.stats.ttest_ind.html'>`ttest_ind()`</a>. We set the following arguments:\n",
    "\n",
    "- `a` to one sample of values\n",
    "- `b` to the second sample of values\n",
    "- `equal_var` to `False` since we assume the samples have unequal population variances\n",
    "- `nan_policy` to `omit` since the two samples are unequal sizes and SciPy must handle that discrepancy appropriately with equations on the backend\n",
    "\n",
    "In the method, there is a calculation for the mean of `a` minus `b`. Our returned t-statistic is negative since the mean of `b` (the average price for a cup of coffee in SF) is larger than the mean of `a` (the average price for a cup of coffee in Manhattan)."
   ]
  },
  {
   "cell_type": "code",
   "execution_count": 165,
   "metadata": {},
   "outputs": [
    {
     "data": {
      "text/plain": [
       "Ttest_indResult(statistic=-9.2256676192423, pvalue=4.387713543565749e-13)"
      ]
     },
     "execution_count": 165,
     "metadata": {},
     "output_type": "execute_result"
    }
   ],
   "source": [
    "stats.ttest_ind(a=manhattan_coffee_prices, b=sf_coffee_prices, equal_var=False, nan_policy='omit')"
   ]
  },
  {
   "cell_type": "markdown",
   "metadata": {},
   "source": [
    "I also can utilize the simple t-statistic math equation: \n",
    "\n",
    "$$t=\\frac{\\bar{x}_{1}-\\bar{x}_{2}}{SE}$$\n",
    "\n",
    "First, I'll calculate the mean of each sample."
   ]
  },
  {
   "cell_type": "code",
   "execution_count": 166,
   "metadata": {},
   "outputs": [],
   "source": [
    "mean_manhattan_coffee_price = np.mean(manhattan_coffee_prices)\n",
    "mean_sf_coffee_price = np.mean(sf_coffee_prices)"
   ]
  },
  {
   "cell_type": "markdown",
   "metadata": {},
   "source": [
    "I calculate the standard deviation for each sample using the <a href='https://docs.scipy.org/doc/numpy/reference/generated/numpy.std.html'>sample standard deviation formula</a>."
   ]
  },
  {
   "cell_type": "code",
   "execution_count": 167,
   "metadata": {},
   "outputs": [],
   "source": [
    "std_dev_manhattan_coffee_prices = np.std(manhattan_coffee_prices, ddof=1)\n",
    "std_dev_sf_coffee_prices = np.std(sf_coffee_prices, ddof=1)"
   ]
  },
  {
   "cell_type": "markdown",
   "metadata": {},
   "source": [
    "I calculate the standard error. This standard error is the standard deviation for an estimated sampling distribution that resembles the difference in sample means.\n",
    "\n",
    "Below is the formula for standard error among two samples for indpendent t-tests. This accounts for any potential variation in sizes of the samples.\n",
    "\n",
    "$$SE=\\sqrt{\\frac{s_{1}^{2}}{n_{1}}+\\frac{s_{2}^{2}}{n_{2}}}$$\n",
    "\n",
    "The subscript $1$ denotes variables for one group and the subscript $2$ denotes variables for the second group.\n",
    "\n",
    "- $s$ is the sample standard deviation\n",
    "- $n$ is the number of observations in a sample"
   ]
  },
  {
   "cell_type": "code",
   "execution_count": 168,
   "metadata": {},
   "outputs": [
    {
     "data": {
      "text/plain": [
       "0.07745987359533105"
      ]
     },
     "execution_count": 168,
     "metadata": {},
     "output_type": "execute_result"
    }
   ],
   "source": [
    "standard_error = np.sqrt((std_dev_manhattan_coffee_prices**2/manhattan_count_observations)+(std_dev_sf_coffee_prices**2/sf_count_observations))\n",
    "standard_error"
   ]
  },
  {
   "cell_type": "markdown",
   "metadata": {},
   "source": [
    "Finally, use the intermediary calculations above to calculate the exact t-statistic value."
   ]
  },
  {
   "cell_type": "code",
   "execution_count": 169,
   "metadata": {},
   "outputs": [
    {
     "data": {
      "text/plain": [
       "-9.2256676192423"
      ]
     },
     "execution_count": 169,
     "metadata": {},
     "output_type": "execute_result"
    }
   ],
   "source": [
    "t_statistic = (mean_manhattan_coffee_price-mean_sf_coffee_price)/standard_error\n",
    "t_statistic"
   ]
  },
  {
   "cell_type": "markdown",
   "metadata": {},
   "source": [
    "This manual version of calculating the t-statistic returned the *same* result as the programmatic way. "
   ]
  },
  {
   "cell_type": "markdown",
   "metadata": {},
   "source": [
    "#### Interpretation of Results"
   ]
  },
  {
   "cell_type": "markdown",
   "metadata": {},
   "source": [
    "The t-statistic value of $-9.23$ is much smaller than the negative t-critical value of $-1.998$. Therefore, there is sufficient evidence to reject the null hypothesis. There is a *significant* difference between a cup of drip coffee prices sold in independent shops between San Francisco and Manhattan at an alpha level of $0.05$. I would not expect to see such a large discrepancy between cups of coffee due to random chance.\n",
    "\n",
    "The difference in coffee cup prices between Manhattan and SF is $9.23$ times greater than you would expect if the null hypothesis was true. Another way of saying this is that the difference in the two city's coffee prices is $9.23$ times *greater* than it would be by random chance.\n",
    "\n",
    "The returned p-value is $4.39e-19$ which is equivalent to a probability of $0.000000000000339$ or $0.0000000000339\\%$. If I assumed both cities had the same cup of drip coffee in the long-run (the null hypothesis), I would expect a discrepancy from our t-test this big just $0.0000000000339\\%$ of times with sampling shops. That's a very very low probability!! With such a small probability, it would be nearly impossible to get a difference in cup of coffee prices so large between cities this big due to random chance.\n",
    "\n",
    "I would infer that I'd expect to see similar results for the entire population."
   ]
  },
  {
   "cell_type": "markdown",
   "metadata": {},
   "source": [
    "#### Effect Size Measures"
   ]
  },
  {
   "cell_type": "markdown",
   "metadata": {},
   "source": [
    "What proportion of the difference in the mean price of a cup of coffee can be attributed to being in a different city of either SF or Manhattan?\n",
    "\n",
    "The $r^2$ returned below is $0.575$"
   ]
  },
  {
   "cell_type": "code",
   "execution_count": 170,
   "metadata": {},
   "outputs": [
    {
     "data": {
      "text/plain": [
       "0.575"
      ]
     },
     "execution_count": 170,
     "metadata": {},
     "output_type": "execute_result"
    }
   ],
   "source": [
    "r_squared_coffee = round(t_statistic**2 / (t_statistic**2 + degrees_of_freedom), 3)\n",
    "r_squared_coffee"
   ]
  },
  {
   "cell_type": "markdown",
   "metadata": {},
   "source": [
    "There is a *fair amount* of variation between the mean price cup of drip coffee in shops between SF and Manhattan."
   ]
  },
  {
   "cell_type": "markdown",
   "metadata": {},
   "source": [
    "### Independant t-test Example: Price of Beverages in SF Greater Than in Manhattan by $\\$0.43$"
   ]
  },
  {
   "cell_type": "markdown",
   "metadata": {},
   "source": [
    "Let's say some website claimed the average price of a single beverage item served at a retail location in San Francisco is $\\$0.43$ more than in Manhattan. I can utilize this information to form new hypotheses to perform a t-test. I'm curious if a small cup of drip coffee at independent coffee shops in San Francisco is still *relatively significantly* more expensive than Manhattan. \n",
    "\n",
    "Now, this is a one-tail positive direction independent samples t-test. \n",
    "\n",
    "$H_{o}:\\mu_{sf}-0.43<=\\mu_{manhattan}$\n",
    "\n",
    "$H_{a}:\\mu_{sf}-0.43>\\mu_{manhattan}$"
   ]
  },
  {
   "cell_type": "markdown",
   "metadata": {},
   "source": [
    "#### Calculate t-critical value"
   ]
  },
  {
   "cell_type": "markdown",
   "metadata": {},
   "source": [
    "This is a one-tailed positive direction t-test with an alpha level of $0.05$, there should be an area under the curve of the t-distribution to the left of a t-critical value of $0.95$."
   ]
  },
  {
   "cell_type": "code",
   "execution_count": 171,
   "metadata": {},
   "outputs": [
    {
     "data": {
      "text/plain": [
       "1.669"
      ]
     },
     "execution_count": 171,
     "metadata": {},
     "output_type": "execute_result"
    }
   ],
   "source": [
    "alpha = 0.05\n",
    "area_left_under_curve = 1-alpha\n",
    "t_critical = round(stats.t.ppf(area_left_under_curve, degrees_of_freedom), 3)\n",
    "t_critical"
   ]
  },
  {
   "cell_type": "markdown",
   "metadata": {},
   "source": [
    "#### Calculate t-statistic"
   ]
  },
  {
   "cell_type": "markdown",
   "metadata": {},
   "source": [
    "I also can utilize the simple t-statistic math equation from earlier: \n",
    "\n",
    "$$t=\\frac{\\bar{x}_{1}-\\bar{x}_{2}}{SE}$$\n",
    "\n",
    "However, I want to incorporate $\\$0.43$ in the numerator so the t-statistic calculation will be:\n",
    "\n",
    "$$t=\\frac{\\mu_{sf}-\\mu_{manhattan}-0.43}{SE}$$\n",
    "\n",
    "For the t-statistic equation, the numerator should be closer to 0 with this additional value of the difference in means under the null hypothesis.\n",
    "\n",
    "Previously, the numerator for the two-tailed test was:"
   ]
  },
  {
   "cell_type": "code",
   "execution_count": 172,
   "metadata": {},
   "outputs": [
    {
     "data": {
      "text/plain": [
       "-0.7146190476190473"
      ]
     },
     "execution_count": 172,
     "metadata": {},
     "output_type": "execute_result"
    }
   ],
   "source": [
    "original_numerator = mean_manhattan_coffee_price-mean_sf_coffee_price\n",
    "original_numerator"
   ]
  },
  {
   "cell_type": "markdown",
   "metadata": {},
   "source": [
    "The new numerator is now:"
   ]
  },
  {
   "cell_type": "code",
   "execution_count": 173,
   "metadata": {},
   "outputs": [
    {
     "data": {
      "text/plain": [
       "0.28461904761904727"
      ]
     },
     "execution_count": 173,
     "metadata": {},
     "output_type": "execute_result"
    }
   ],
   "source": [
    "updated_numerator = mean_sf_coffee_price-mean_manhattan_coffee_price-0.43\n",
    "updated_numerator"
   ]
  },
  {
   "cell_type": "markdown",
   "metadata": {},
   "source": [
    "Calculate the t-statistic using the formula above."
   ]
  },
  {
   "cell_type": "code",
   "execution_count": 174,
   "metadata": {},
   "outputs": [
    {
     "data": {
      "text/plain": [
       "3.674406301073578"
      ]
     },
     "execution_count": 174,
     "metadata": {},
     "output_type": "execute_result"
    }
   ],
   "source": [
    "t_statistic_sf_greater = (updated_numerator)/standard_error\n",
    "t_statistic_sf_greater"
   ]
  },
  {
   "cell_type": "markdown",
   "metadata": {},
   "source": [
    "<a href='https://www.statsmodels.org/stable/index.html'>StatsModels</a> is a great package in python for statistical computations. I can use the `ttest_ind()` <a href='https://www.statsmodels.org/dev/generated/statsmodels.stats.weightstats.ttest_ind.html'>method</a>. For this method, we set the following arguments:\n",
    "\n",
    "- `x1` to the list of `manhattan_coffee_prices` \n",
    "- `x2` to the list of `sf_coffee_prices`\n",
    "- `alternative` to `larger` since the alternative hypothesis is to identify if the t-statistic is larger than a positive t-critical value\n",
    "- `usevar` to `unequal` because the standard deviation of samples is unequal and there are unequal sample sizes. (Read more about <a href='https://en.wikipedia.org/wiki/Welch%27s_t-test'>Welch's variation of the t-test</a> here.)\n",
    "- `value` to `0.43` since that's the value we want subtracted from the difference in means"
   ]
  },
  {
   "cell_type": "code",
   "execution_count": 175,
   "metadata": {},
   "outputs": [],
   "source": [
    "results = statsmodelsweightstats.ttest_ind(x1=sf_coffee_prices, x2=manhattan_coffee_prices, alternative='larger', usevar='unequal', value=0.43) \n",
    "t_statistic_sf_greater2 = results[0]\n",
    "p_value = results[1]\n",
    "degrees_of_freedom = results[2]"
   ]
  },
  {
   "cell_type": "code",
   "execution_count": 176,
   "metadata": {},
   "outputs": [
    {
     "data": {
      "text/plain": [
       "3.6744063010735837"
      ]
     },
     "execution_count": 176,
     "metadata": {},
     "output_type": "execute_result"
    }
   ],
   "source": [
    "t_statistic_sf_greater2"
   ]
  },
  {
   "cell_type": "markdown",
   "metadata": {},
   "source": [
    "With the formula above and using the `StatsModels` library, we get the same t-statistic result from using the formula above."
   ]
  },
  {
   "cell_type": "markdown",
   "metadata": {},
   "source": [
    "#### Interpret Results"
   ]
  },
  {
   "cell_type": "markdown",
   "metadata": {},
   "source": [
    "The t-critical value is $1.669$ and the t-statistic is $3.67$\n",
    "\n",
    "Since this is a one-tailed positive direction test and the t-statistic is greater than the t-critical value, there is sufficient evidence to reject the null hypothesis.\n",
    "\n",
    "There is a *relative significant* difference that the price of a cup of a small drip coffee at independent shops in San Francisco is greater than Manhattan."
   ]
  }
 ],
 "metadata": {
  "kernelspec": {
   "display_name": "Python 3",
   "language": "python",
   "name": "python3"
  },
  "language_info": {
   "codemirror_mode": {
    "name": "ipython",
    "version": 3
   },
   "file_extension": ".py",
   "mimetype": "text/x-python",
   "name": "python",
   "nbconvert_exporter": "python",
   "pygments_lexer": "ipython3",
   "version": "3.7.5"
  }
 },
 "nbformat": 4,
 "nbformat_minor": 4
}
