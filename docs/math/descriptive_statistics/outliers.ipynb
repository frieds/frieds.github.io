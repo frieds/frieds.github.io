{
 "cells": [
  {
   "cell_type": "markdown",
   "metadata": {},
   "source": [
    "# Outliers\n",
    "\n",
    "Date published: 2018-12-28\n",
    "\n",
    "Category: Math\n",
    "\n",
    "Subcategory: Descriptive Statistics\n",
    "\n",
    "Tags: outliers, box plot, python, pandas\n"
   ]
  },
  {
   "cell_type": "markdown",
   "metadata": {},
   "source": [
    "An **outlier** is a value that is significantly smaller or larger than other values in a set of data."
   ]
  },
  {
   "cell_type": "markdown",
   "metadata": {},
   "source": [
    "### Import Modules"
   ]
  },
  {
   "cell_type": "code",
   "execution_count": 2,
   "metadata": {},
   "outputs": [],
   "source": [
    "import numpy as np\n",
    "import pandas as pd\n",
    "import scipy.stats as stats\n",
    "import seaborn as sns\n",
    "import matplotlib.pyplot as plt\n",
    "import warnings\n",
    "% matplotlib inline"
   ]
  },
  {
   "cell_type": "markdown",
   "metadata": {},
   "source": [
    "#### Set Visualization Style"
   ]
  },
  {
   "cell_type": "code",
   "execution_count": 12,
   "metadata": {},
   "outputs": [],
   "source": [
    "sns.set_context('talk')\n",
    "sns.set_style(\"darkgrid\")"
   ]
  },
  {
   "cell_type": "markdown",
   "metadata": {},
   "source": [
    "### Example: Comparisons of Two Classes with Student Grades on Final Exam"
   ]
  },
  {
   "cell_type": "markdown",
   "metadata": {},
   "source": [
    "In this scenario, two college professors taught the same exact content to students throughout the year and distributed the same final exam. In each class is a different group of students. In one class, students scored well, and in the other class, not as well."
   ]
  },
  {
   "cell_type": "markdown",
   "metadata": {},
   "source": [
    "#### Create Data of Student Scores for Two Classes"
   ]
  },
  {
   "cell_type": "markdown",
   "metadata": {},
   "source": [
    "Below, I use the NumPy random module and the <a href='https://docs.scipy.org/doc/numpy-1.13.0/reference/generated/numpy.random.normal.html'>normal() method</a> to create random samples from a normal (Gaussian) distribution. I seed the generator with the random <a href='https://docs.scipy.org/doc/numpy-1.15.1/reference/generated/numpy.random.seed.html'>seed() method</a>.\n",
    "    \n",
    "The `normal` method creates float values. I cast those values to be integer values for each class' scores."
   ]
  },
  {
   "cell_type": "code",
   "execution_count": 13,
   "metadata": {},
   "outputs": [],
   "source": [
    "np.random.seed(42)\n",
    "class_one_size = 65\n",
    "class_one_scores = list(np.random.normal(loc=85, scale=6.1, size=class_one_size))\n",
    "class_one_scores = [int(class_one_score) for class_one_score in class_one_scores]\n",
    "class_two_size = 69\n",
    "class_two_scores = list(np.random.normal(loc=80, scale=6.4, size=class_two_size))\n",
    "class_two_scores = [int(class_two_score) for class_two_score in class_two_scores]"
   ]
  },
  {
   "cell_type": "markdown",
   "metadata": {},
   "source": [
    "The code below adds all scores to a <a href='https://pandas.pydata.org/'>*pandas*</a> DataFrame with two columns: `class_name` and `final_exam_score`."
   ]
  },
  {
   "cell_type": "code",
   "execution_count": 14,
   "metadata": {},
   "outputs": [],
   "source": [
    "df_class_scores = pd.DataFrame({'class_name': [\"A\"]*class_one_size + [\"B\"]*class_two_size,\n",
    "                   'final_exam_score': class_one_scores + class_two_scores})"
   ]
  },
  {
   "cell_type": "markdown",
   "metadata": {},
   "source": [
    "Preview the first few rows of `df_class_scores`."
   ]
  },
  {
   "cell_type": "code",
   "execution_count": 15,
   "metadata": {},
   "outputs": [
    {
     "data": {
      "text/html": [
       "<div>\n",
       "<style scoped>\n",
       "    .dataframe tbody tr th:only-of-type {\n",
       "        vertical-align: middle;\n",
       "    }\n",
       "\n",
       "    .dataframe tbody tr th {\n",
       "        vertical-align: top;\n",
       "    }\n",
       "\n",
       "    .dataframe thead th {\n",
       "        text-align: right;\n",
       "    }\n",
       "</style>\n",
       "<table border=\"1\" class=\"dataframe\">\n",
       "  <thead>\n",
       "    <tr style=\"text-align: right;\">\n",
       "      <th></th>\n",
       "      <th>class_name</th>\n",
       "      <th>final_exam_score</th>\n",
       "    </tr>\n",
       "  </thead>\n",
       "  <tbody>\n",
       "    <tr>\n",
       "      <th>0</th>\n",
       "      <td>A</td>\n",
       "      <td>88</td>\n",
       "    </tr>\n",
       "    <tr>\n",
       "      <th>1</th>\n",
       "      <td>A</td>\n",
       "      <td>84</td>\n",
       "    </tr>\n",
       "    <tr>\n",
       "      <th>2</th>\n",
       "      <td>A</td>\n",
       "      <td>88</td>\n",
       "    </tr>\n",
       "    <tr>\n",
       "      <th>3</th>\n",
       "      <td>A</td>\n",
       "      <td>94</td>\n",
       "    </tr>\n",
       "    <tr>\n",
       "      <th>4</th>\n",
       "      <td>A</td>\n",
       "      <td>83</td>\n",
       "    </tr>\n",
       "  </tbody>\n",
       "</table>\n",
       "</div>"
      ],
      "text/plain": [
       "  class_name  final_exam_score\n",
       "0          A                88\n",
       "1          A                84\n",
       "2          A                88\n",
       "3          A                94\n",
       "4          A                83"
      ]
     },
     "execution_count": 15,
     "metadata": {},
     "output_type": "execute_result"
    }
   ],
   "source": [
    "df_class_scores.head()"
   ]
  },
  {
   "cell_type": "markdown",
   "metadata": {},
   "source": [
    "Students in class A performed much better on average than those in class B. The median final exam score for students in class A was much higher than the score for class B."
   ]
  },
  {
   "cell_type": "markdown",
   "metadata": {},
   "source": [
    "#### Outliers with the 1.5 x IQR Rule"
   ]
  },
  {
   "cell_type": "markdown",
   "metadata": {},
   "source": [
    "Remember, an **outlier** is a value that is significantly smaller or larger than other values in a set of data. One method to identify outliers is to claim that outliers are all values that are either smaller than $Q1 - 1.5*IQR$ or larger than $Q3 + 1.5*IQR$\n",
    "\n",
    "- $Q1$ is the first quartile, otherwise known as the 25th percentile\n",
    "- $Q3$ is the third quartile, otherwise known as the 75th percentile\n",
    "- $IQR$ is the interquartile range and is a calculation of $Q3 - Q1$\n",
    "\n",
    "\n",
    "I can define a function in Python that will calculate the outliers. I use the Pandas <a href=\"https://pandas.pydata.org/pandas-docs/stable/generated/pandas.Series.quantile.html\" target=\"_blank\">quantile()</a> method.\n",
    "\n"
   ]
  },
  {
   "cell_type": "code",
   "execution_count": 17,
   "metadata": {},
   "outputs": [],
   "source": [
    "def calculate_outliers_iqr_method(values):\n",
    "    \"\"\"\n",
    "    Calculate a list of outliers from a set of values using the IQR method\n",
    "\n",
    "    :param values: pandas series of numerical values\n",
    "    :returns: outliers: list of values that are outliers\n",
    "    \"\"\"\n",
    "    q1 = values.quantile(q=0.25)\n",
    "    q3 = values.quantile(q=0.75)\n",
    "    iqr = q3 - q1\n",
    "    \n",
    "    outliers = []\n",
    "    for value in values:\n",
    "        if value > q3 + 1.5*iqr or value < q1 - 1.5*iqr:\n",
    "            outliers.append(value)\n",
    "    \n",
    "    return outliers"
   ]
  },
  {
   "cell_type": "code",
   "execution_count": 26,
   "metadata": {},
   "outputs": [
    {
     "name": "stdout",
     "output_type": "stream",
     "text": [
      "Class A has outliers: []\n",
      "Class B has outliers: [63, 95, 94]\n"
     ]
    }
   ],
   "source": [
    "for class_name in df_class_scores['class_name'].unique():\n",
    "    outliers = calculate_outliers_iqr_method(df_class_scores[df_class_scores['class_name']==class_name]['final_exam_score'])\n",
    "    print(\"Class {0} has outliers: {1}\".format(class_name, outliers))"
   ]
  },
  {
   "cell_type": "markdown",
   "metadata": {},
   "source": [
    "class A has 0 outliers and class B has three outliers with values of 63, 95 and 94. We can visualize these outliers using a box plot.\n",
    "\n",
    "Below, I use the <a href='https://seaborn.pydata.org/'>seaborn</a> visualization library to compare the distributions of scores for class A and class B using a boxplot. You can learn more about how boxplots work from <a href='https://dfrieds.com/data-visualizations/when-use-box-plots'>this tutorial</a> on my site. The seaborn method for identifying outliers with box and whisker plots is the IQR method we utilized above."
   ]
  },
  {
   "cell_type": "code",
   "execution_count": 16,
   "metadata": {},
   "outputs": [
    {
     "data": {
      "image/png": "[encoded data removed]",
      "text/plain": [
       "<matplotlib.figure.Figure at 0x1a1be45320>"
      ]
     },
     "metadata": {},
     "output_type": "display_data"
    }
   ],
   "source": [
    "plt.figure(figsize=(8, 8))\n",
    "my_color_pal = {\"A\": \"purple\", \"B\": \"g\"}\n",
    "sns.boxplot(x=\"class_name\", y=\"final_exam_score\", data=df_class_scores, palette=my_color_pal)\n",
    "plt.title(\"Distributions of Final Exam Scores of Classes\", y=1.015, fontsize=20)\n",
    "plt.xlabel(\"class name\", labelpad=14)\n",
    "plt.ylabel(\"final exam score\", labelpad=14);"
   ]
  },
  {
   "cell_type": "markdown",
   "metadata": {},
   "source": [
    "On the green box plot for class B, I see the outliers of 63, 94 and 95 marked as diamond shapes."
   ]
  }
 ],
 "metadata": {
  "kernelspec": {
   "display_name": "Python 3",
   "language": "python",
   "name": "python3"
  },
  "language_info": {
   "codemirror_mode": {
    "name": "ipython",
    "version": 3
   },
   "file_extension": ".py",
   "mimetype": "text/x-python",
   "name": "python",
   "nbconvert_exporter": "python",
   "pygments_lexer": "ipython3",
   "version": "3.7.5"
  }
 },
 "nbformat": 4,
 "nbformat_minor": 4
}
