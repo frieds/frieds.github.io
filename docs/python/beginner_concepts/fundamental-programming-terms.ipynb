{
 "cells": [
  {
   "cell_type": "markdown",
   "metadata": {},
   "source": [
    "# Fundamental Programming Terms\n",
    "\n",
    "Date published: 2018-02-16\n",
    "\n",
    "Category: Python\n",
    "\n",
    "Subcategory: Beginner Concepts\n",
    "\n",
    "Tags: math\n"
   ]
  },
  {
   "cell_type": "markdown",
   "metadata": {},
   "source": [
    "When you start to code yourself, with friends and on a team, you begin to hear different syntax and terminology. You may frequently hear:\n",
    "\n",
    "> \"Where's your script?\"\n",
    "\n",
    "> \"Can you show me your algorithm?\"\n",
    "\n",
    "> \"Send me your Python\"\n",
    "\n",
    "These terms will become more familiar to you over time. Let's start with the basics."
   ]
  },
  {
   "cell_type": "markdown",
   "metadata": {},
   "source": [
    "### What is a program?"
   ]
  },
  {
   "cell_type": "markdown",
   "metadata": {},
   "source": [
    "A **program** is instructions on how to perform a computation. The computation could be a mathematical operation such as the sum of two numbers or the multiplication of two numbers. It could also be a more complex program such as start streaming a video upon pressing play or dispensing a beverage from a vending machine with the click of a button.\n",
    "\n",
    "Programs look different in different programming languages, but here are some basic terms in about every language:\n",
    "\n",
    "**input**: get data to later use in a program\n",
    "\n",
    "**output**: display results - typically on a screen\n",
    "\n",
    "**math**: mathematical operations such as addition and subtraction\n",
    "\n",
    "**conditional execution**: check if a condition exists and run code to meet the condition\n",
    "\n",
    "**repetition**: perform a repeated action\n",
    "\n",
    "Altogether, a program is a sequence of instructions that typically takes **input**, performs some compution, likely with **math**, **conditional execution** and **repetition** to display **output** to the end user."
   ]
  },
  {
   "cell_type": "markdown",
   "metadata": {},
   "source": [
    "### Writing Your First Python"
   ]
  },
  {
   "cell_type": "markdown",
   "metadata": {},
   "source": [
    "Let's cover the defintions behind basic code snippets."
   ]
  },
  {
   "cell_type": "markdown",
   "metadata": {},
   "source": [
    "#### Variable Naming Best Practices"
   ]
  },
  {
   "cell_type": "markdown",
   "metadata": {},
   "source": [
    "**Assignment** statements create a new variable (left-hand side) and give it a name (right-hand side)."
   ]
  },
  {
   "cell_type": "code",
   "execution_count": 1,
   "metadata": {
    "collapsed": true,
    "jupyter": {
     "outputs_hidden": true
    }
   },
   "outputs": [],
   "source": [
    "pi = 3.14\n",
    "my_name = \"Dan\""
   ]
  },
  {
   "cell_type": "markdown",
   "metadata": {},
   "source": [
    "Choose variable names that are meaningful. It's conventional to use lowercase letters and a single underscore between words for better readability.\n",
    "\n",
    "Example:"
   ]
  },
  {
   "cell_type": "code",
   "execution_count": 2,
   "metadata": {
    "collapsed": true,
    "jupyter": {
     "outputs_hidden": true
    }
   },
   "outputs": [],
   "source": [
    "price_of_a_cup_of_coffee = 2"
   ]
  },
  {
   "cell_type": "markdown",
   "metadata": {},
   "source": [
    "However, I prefer fewer words and a name that's still understandable."
   ]
  },
  {
   "cell_type": "code",
   "execution_count": 3,
   "metadata": {
    "collapsed": true,
    "jupyter": {
     "outputs_hidden": true
    }
   },
   "outputs": [],
   "source": [
    "price_cup_coffee = 2"
   ]
  },
  {
   "cell_type": "markdown",
   "metadata": {},
   "source": [
    "#### Statements"
   ]
  },
  {
   "cell_type": "markdown",
   "metadata": {},
   "source": [
    "A **statement** is code that has an effect such as creating a variable or displaying values.\n",
    "\n",
    "Examples:"
   ]
  },
  {
   "cell_type": "code",
   "execution_count": 4,
   "metadata": {
    "collapsed": false,
    "jupyter": {
     "outputs_hidden": false
    }
   },
   "outputs": [
    {
     "name": "stdout",
     "output_type": "stream",
     "text": [
      "my name is Dan\n"
     ]
    }
   ],
   "source": [
    "# the print statement below displays the output inside the parentheses\n",
    "print(\"my name is Dan\")\n",
    "price_cup_coffee_san_francisco = 3"
   ]
  },
  {
   "cell_type": "markdown",
   "metadata": {},
   "source": [
    "When you type in a statement, you **run** your code to see output. When you **run** your code, the Python interpreter executes it - meaning it processes any statements."
   ]
  },
  {
   "cell_type": "markdown",
   "metadata": {},
   "source": [
    "#### Scripts"
   ]
  },
  {
   "cell_type": "markdown",
   "metadata": {},
   "source": [
    "Python code in a file is called a **script**. Python **scripts** have the .py extension. \n",
    "\n",
    "Usually, you utilize a script for multiple lines of code, anywhere from three to thousands of lines of code.\n",
    "\n",
    "For these tutorials, I use a [Python](https://python.org) editor called [Jupyter Notebooks](https://jupyter.org) to write code, and produce output. The code is in green blocks and the output is indented and printed below.\n",
    "\n",
    "Jupyter Notebooks are in interactive mode. So if I type:"
   ]
  },
  {
   "cell_type": "code",
   "execution_count": 5,
   "metadata": {
    "collapsed": false,
    "jupyter": {
     "outputs_hidden": false
    }
   },
   "outputs": [
    {
     "data": {
      "text/plain": [
       "'hello world'"
      ]
     },
     "execution_count": 5,
     "metadata": {},
     "output_type": "execute_result"
    }
   ],
   "source": [
    "\"hello world\""
   ]
  },
  {
   "cell_type": "markdown",
   "metadata": {},
   "source": [
    "Above, you see the output. \n",
    "\n",
    "However, if you put \"hello world\" as a standalone line in a Python script and run it, you won't see any output. In the script, you need to write `print(\"hello world\")` to display output."
   ]
  },
  {
   "cell_type": "markdown",
   "metadata": {},
   "source": [
    "#### Comments"
   ]
  },
  {
   "cell_type": "markdown",
   "metadata": {},
   "source": [
    "Programs often get long and complicated. To help you and others understand your code, you can utilize **comments**.\n",
    "\n",
    "**Comments** are natural language explanations of your code and are not executed by the Python interpreter. Single-line comments begin with a hashtag followed by text."
   ]
  },
  {
   "cell_type": "code",
   "execution_count": 6,
   "metadata": {
    "collapsed": true,
    "jupyter": {
     "outputs_hidden": true
    }
   },
   "outputs": [],
   "source": [
    "# price_cup_coffee in U.S. dollars\n",
    "price_cup_coffee = 2"
   ]
  },
  {
   "cell_type": "markdown",
   "metadata": {},
   "source": [
    "You can alternatively put comments after a code statement."
   ]
  },
  {
   "cell_type": "code",
   "execution_count": 7,
   "metadata": {
    "collapsed": true,
    "jupyter": {
     "outputs_hidden": true
    }
   },
   "outputs": [],
   "source": [
    "price_cup_coffee = 2   # U.S. dollars"
   ]
  },
  {
   "cell_type": "markdown",
   "metadata": {},
   "source": [
    "#### Order of Operations"
   ]
  },
  {
   "cell_type": "markdown",
   "metadata": {},
   "source": [
    "Remember in grade school when you learned about [PEMDAS](https://www.mathsisfun.com/operation-order-pemdas.html) - parentheses, exponents, multiplication, division, addition and subtraction.\n",
    "\n",
    "These same rules apply with programming in Python."
   ]
  },
  {
   "cell_type": "code",
   "execution_count": 8,
   "metadata": {
    "collapsed": false,
    "jupyter": {
     "outputs_hidden": false
    }
   },
   "outputs": [
    {
     "data": {
      "text/plain": [
       "2.5"
      ]
     },
     "execution_count": 8,
     "metadata": {},
     "output_type": "execute_result"
    }
   ],
   "source": [
    "(2+3)/2"
   ]
  },
  {
   "cell_type": "markdown",
   "metadata": {},
   "source": [
    "The expression first evaluates the operation inside the parentheses, then the division operation."
   ]
  },
  {
   "cell_type": "markdown",
   "metadata": {},
   "source": [
    "### Algorithms"
   ]
  },
  {
   "cell_type": "markdown",
   "metadata": {},
   "source": [
    "An **algorithm** is a process for solving a problem.\n",
    "\n",
    "A simple algorithm could be to calculate the absolute value of any integer.\n",
    "\n",
    "If a number is already positive, we perform no computation. However, if a number is negative, we want the positive equivalent. So, we multiply the negative number by -1 to get the absolute value of our original number."
   ]
  },
  {
   "cell_type": "code",
   "execution_count": 9,
   "metadata": {},
   "outputs": [
    {
     "name": "stdout",
     "output_type": "stream",
     "text": [
      "5\n"
     ]
    }
   ],
   "source": [
    "number = -5\n",
    "\n",
    "if number >= 0:\n",
    "    pass\n",
    "else:\n",
    "    number = number * -1\n",
    "\n",
    "print(number)"
   ]
  },
  {
   "cell_type": "markdown",
   "metadata": {},
   "source": [
    "### Where to Start Your Programming"
   ]
  },
  {
   "cell_type": "markdown",
   "metadata": {},
   "source": [
    "So are you inspired and ready to get started learning programming?\n",
    "\n",
    "Well, this site might not be the place to *initially* get started. I built this site to document my learnings and improve my own skills. \n",
    "\n",
    "I'd recommend you start with linear-path tutorials and use this site later as a reference for cool tips and tricks.\n",
    "\n",
    "If you want to get started in Python and eventually learn data science, I'd recommend these resources:\n",
    "\n",
    "* [DataCamp](https://www.datacamp.com)\n",
    "* [Dataquest](https://www.dataquest.io)\n",
    "* [Intro to Programming](https://www.udacity.com/degrees/nd000/summary)\n",
    "* [Exploring Data Science](https://www.thisismetis.com/explore-data-science)\n",
    "\n",
    "There's no shortage of free and amazing resources out there! These are just a few - but utilize any recommendations from your friends or your own research. The best thing about learning online is that if you don't like a resource, simply stop and move to another one! There's no one defined textbook you must read from cover to cover.\n",
    "\n",
    "If you have any questions on your journey, please reach out: dan@dfrieds.com"
   ]
  }
 ],
 "metadata": {
  "kernelspec": {
   "display_name": "Python 3",
   "language": "python",
   "name": "python3"
  },
  "language_info": {
   "codemirror_mode": {
    "name": "ipython",
    "version": 3
   },
   "file_extension": ".py",
   "mimetype": "text/x-python",
   "name": "python",
   "nbconvert_exporter": "python",
   "pygments_lexer": "ipython3",
   "version": "3.7.5"
  },
  "toc": {
   "colors": {
    "hover_highlight": "#DAA520",
    "navigate_num": "#000000",
    "navigate_text": "#333333",
    "running_highlight": "#FF0000",
    "selected_highlight": "#FFD700",
    "sidebar_border": "#EEEEEE",
    "wrapper_background": "#FFFFFF"
   },
   "moveMenuLeft": true,
   "nav_menu": {
    "height": "48px",
    "width": "252px"
   },
   "navigate_menu": true,
   "number_sections": true,
   "sideBar": true,
   "threshold": 4,
   "toc_cell": false,
   "toc_section_display": "block",
   "toc_window_display": false,
   "widenNotebook": false
  }
 },
 "nbformat": 4,
 "nbformat_minor": 4
}
