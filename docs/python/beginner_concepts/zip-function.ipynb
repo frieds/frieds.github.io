{
 "cells": [
  {
   "cell_type": "markdown",
   "metadata": {},
   "source": [
    "# Zip Function\n",
    "\n",
    "Date published: 2018-04-01\n",
    "\n",
    "Category: Python\n",
    "\n",
    "Subcategory: Beginner Concepts\n",
    "\n",
    "Tags: zip\n"
   ]
  },
  {
   "cell_type": "markdown",
   "metadata": {},
   "source": [
    "Sometimes, you may be passed two data separate data structures that have related information. \n",
    "\n",
    "A simple example could be a list of grades on an exam in alphabetical order of students' names and another list of the student's names. "
   ]
  },
  {
   "cell_type": "code",
   "execution_count": 12,
   "metadata": {},
   "outputs": [],
   "source": [
    "grades = [100, 92, 95]"
   ]
  },
  {
   "cell_type": "code",
   "execution_count": 13,
   "metadata": {},
   "outputs": [],
   "source": [
    "names = [\"Jill\", \"Emily\", \"Taylor\"]"
   ]
  },
  {
   "cell_type": "markdown",
   "metadata": {},
   "source": [
    "Because these two are related, we ought to put them in a single data structure.\n",
    "\n",
    "One way to easily do this is use the built-in Python function called `zip`. This function takes two or more sequences and returns a list of tuples where each tuple contains one element from each sequence."
   ]
  },
  {
   "cell_type": "code",
   "execution_count": 14,
   "metadata": {},
   "outputs": [
    {
     "data": {
      "text/plain": [
       "<zip at 0x1105f2dc8>"
      ]
     },
     "execution_count": 14,
     "metadata": {},
     "output_type": "execute_result"
    }
   ],
   "source": [
    "zip(names, grades)"
   ]
  },
  {
   "cell_type": "markdown",
   "metadata": {},
   "source": [
    "This result is a **zip object**. We'll explain this concept later.\n",
    "\n",
    "If we want to see our result in a list, we can use Python's built-in `list` function and pass in this zip object."
   ]
  },
  {
   "cell_type": "code",
   "execution_count": 15,
   "metadata": {},
   "outputs": [
    {
     "data": {
      "text/plain": [
       "[('Jill', 100), ('Emily', 92), ('Taylor', 95)]"
      ]
     },
     "execution_count": 15,
     "metadata": {},
     "output_type": "execute_result"
    }
   ],
   "source": [
    "list(zip(names, grades))"
   ]
  },
  {
   "cell_type": "markdown",
   "metadata": {},
   "source": [
    "We're returned a list of tuples in which each tuple contains the name of the student and their grade on the exam.\n",
    "\n",
    "Alternatively, we can loop over the elements in our zip object."
   ]
  },
  {
   "cell_type": "code",
   "execution_count": 16,
   "metadata": {},
   "outputs": [
    {
     "name": "stdout",
     "output_type": "stream",
     "text": [
      "('Jill', 100)\n",
      "('Emily', 92)\n",
      "('Taylor', 95)\n"
     ]
    }
   ],
   "source": [
    "for name_grade in zip(names, grades):\n",
    "    print(name_grade)"
   ]
  },
  {
   "cell_type": "markdown",
   "metadata": {},
   "source": [
    "Each tuple contains the name of the student and their grade on the exam.\n",
    "\n",
    "We can also use *tuple assignment* in a `for` loop to extract the elements in each tuple."
   ]
  },
  {
   "cell_type": "code",
   "execution_count": 17,
   "metadata": {},
   "outputs": [
    {
     "name": "stdout",
     "output_type": "stream",
     "text": [
      "Jill received a 100 on the exam\n",
      "Emily received a 92 on the exam\n",
      "Taylor received a 95 on the exam\n"
     ]
    }
   ],
   "source": [
    "for name, grade in zip(names, grades):\n",
    "    print(\"{0} received a {1} on the exam\".format(name, grade))"
   ]
  },
  {
   "cell_type": "markdown",
   "metadata": {},
   "source": [
    "Notice how we assigned the variable `name` to the first item in each tuple and `grade` to the second item. \n",
    "\n",
    "Then, we printed a string that uses these two variables to explain their relevance."
   ]
  },
  {
   "cell_type": "markdown",
   "metadata": {},
   "source": [
    "The zip object (that we returned above) is an **iterator**, which is any object that iterates through a sequence. \n",
    "\n",
    "Iterators are similar to lists in some ways; but unlike lists, you can't use an index to select an element from an iterator."
   ]
  }
 ],
 "metadata": {
  "kernelspec": {
   "display_name": "Python 3",
   "language": "python",
   "name": "python3"
  },
  "language_info": {
   "codemirror_mode": {
    "name": "ipython",
    "version": 3
   },
   "file_extension": ".py",
   "mimetype": "text/x-python",
   "name": "python",
   "nbconvert_exporter": "python",
   "pygments_lexer": "ipython3",
   "version": "3.7.5"
  }
 },
 "nbformat": 4,
 "nbformat_minor": 4
}
