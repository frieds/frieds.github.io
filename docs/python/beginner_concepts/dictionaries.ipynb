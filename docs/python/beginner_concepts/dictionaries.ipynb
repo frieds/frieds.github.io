{
 "cells": [
  {
   "cell_type": "markdown",
   "metadata": {},
   "source": [
    "# Dictionaries Basics\n",
    "\n",
    "Date published: 2018-03-25\n",
    "\n",
    "Category: Python\n",
    "\n",
    "Subcategory: Beginner Concepts\n",
    "\n",
    "Tags: dictionaries\n"
   ]
  },
  {
   "cell_type": "markdown",
   "metadata": {},
   "source": [
    "### Dictionary Definition"
   ]
  },
  {
   "cell_type": "markdown",
   "metadata": {},
   "source": [
    "A **dictionary** is a Python data structure. It contains a collection of indices called **keys** and a collection of **values** associated with each key.\n",
    "\n",
    "In other programming languages, you may hear of a similar data structure to a Python dictionary called a **hashtable**. The hashtable algorithm is used in the Python source code to implement a dictionary object.\n",
    "\n",
    "The association of a key and a value is called a **key-value pair** or an **item**.\n",
    "\n",
    "A simple dictionary example is a **mapping** of English words as keys to Spanish words as values.\n",
    "\n",
    "In a dictionary, each key is unique."
   ]
  },
  {
   "cell_type": "code",
   "execution_count": 21,
   "metadata": {},
   "outputs": [],
   "source": [
    "english_to_spanish = {'one': 'uno'}"
   ]
  },
  {
   "cell_type": "markdown",
   "metadata": {},
   "source": [
    "In English, `one` is equalivalent to `uno` in Spanish.\n",
    "\n",
    "We enclose a dictionary in curly braces.\n",
    "\n",
    "`one` is a key and `uno` is its value."
   ]
  },
  {
   "cell_type": "markdown",
   "metadata": {},
   "source": [
    "#### Add a key-value pair to a dictionary"
   ]
  },
  {
   "cell_type": "markdown",
   "metadata": {},
   "source": [
    "The code below adds a key of `two` with a corresponding value of `dos`."
   ]
  },
  {
   "cell_type": "code",
   "execution_count": 10,
   "metadata": {},
   "outputs": [],
   "source": [
    "english_to_spanish['two'] = 'dose'"
   ]
  },
  {
   "cell_type": "code",
   "execution_count": 11,
   "metadata": {},
   "outputs": [
    {
     "data": {
      "text/plain": [
       "{'one': 'uno', 'two': 'dose'}"
      ]
     },
     "execution_count": 11,
     "metadata": {},
     "output_type": "execute_result"
    }
   ],
   "source": [
    "english_to_spanish"
   ]
  },
  {
   "cell_type": "markdown",
   "metadata": {},
   "source": [
    "#### Modify an existing value in a dictionary"
   ]
  },
  {
   "cell_type": "markdown",
   "metadata": {},
   "source": [
    "Above, we spelled the Spanish equivalent of the number two incorrectly. We wrote *dose* when it is spelled *dos*. \n",
    "\n",
    "Dictionaries are mutable so we can change this key's value in our structure. "
   ]
  },
  {
   "cell_type": "code",
   "execution_count": 12,
   "metadata": {},
   "outputs": [],
   "source": [
    "english_to_spanish['two'] = 'dos'"
   ]
  },
  {
   "cell_type": "code",
   "execution_count": 13,
   "metadata": {},
   "outputs": [
    {
     "data": {
      "text/plain": [
       "{'one': 'uno', 'two': 'dos'}"
      ]
     },
     "execution_count": 13,
     "metadata": {},
     "output_type": "execute_result"
    }
   ],
   "source": [
    "english_to_spanish"
   ]
  },
  {
   "cell_type": "markdown",
   "metadata": {},
   "source": [
    "#### Lookup a key's corresponding value"
   ]
  },
  {
   "cell_type": "markdown",
   "metadata": {},
   "source": [
    "Dictionaries allow for easy lookup of values."
   ]
  },
  {
   "cell_type": "code",
   "execution_count": 14,
   "metadata": {},
   "outputs": [
    {
     "data": {
      "text/plain": [
       "'uno'"
      ]
     },
     "execution_count": 14,
     "metadata": {},
     "output_type": "execute_result"
    }
   ],
   "source": [
    "english_to_spanish['one']"
   ]
  },
  {
   "cell_type": "markdown",
   "metadata": {},
   "source": [
    "#### Check if a key appears in a dictionary"
   ]
  },
  {
   "cell_type": "markdown",
   "metadata": {},
   "source": [
    "The `in` operator can be used to see if a key exists in a dictionary. If it does, we return `True`, otherwise `False`."
   ]
  },
  {
   "cell_type": "code",
   "execution_count": 15,
   "metadata": {},
   "outputs": [
    {
     "data": {
      "text/plain": [
       "True"
      ]
     },
     "execution_count": 15,
     "metadata": {},
     "output_type": "execute_result"
    }
   ],
   "source": [
    "'two' in english_to_spanish"
   ]
  },
  {
   "cell_type": "markdown",
   "metadata": {},
   "source": [
    "#### Counts for each unique item "
   ]
  },
  {
   "cell_type": "markdown",
   "metadata": {},
   "source": [
    "A common use case of dictionary is to count the occurences of unique elements in a list or similar data structure. The advantage of using a dictionary here is that we don't have to know ahead of time which letters appear in our list. Also, with a dictionary, we *only* make keys for letters that do appear.\n",
    "\n",
    "Below is a list of grades. We want to know the count of each of the grades. \n",
    "\n",
    "Since each grade letter is unique, each can be a key in a dictionary with its value being the count of occurences."
   ]
  },
  {
   "cell_type": "code",
   "execution_count": 16,
   "metadata": {},
   "outputs": [],
   "source": [
    "letter_grades = [\"B+\", \"A\", \"B+\", \"A\", \"A+\", \"A-\", \"A\"]"
   ]
  },
  {
   "cell_type": "code",
   "execution_count": 17,
   "metadata": {},
   "outputs": [],
   "source": [
    "count_of_each_grade = {}\n",
    "\n",
    "for letter in letter_grades:\n",
    "    if letter in count_of_each_grade:\n",
    "        count_of_each_grade[letter] += 1\n",
    "    else:\n",
    "        count_of_each_grade[letter] = 1"
   ]
  },
  {
   "cell_type": "code",
   "execution_count": 18,
   "metadata": {},
   "outputs": [
    {
     "data": {
      "text/plain": [
       "{'A': 3, 'A+': 1, 'A-': 1, 'B+': 2}"
      ]
     },
     "execution_count": 18,
     "metadata": {},
     "output_type": "execute_result"
    }
   ],
   "source": [
    "count_of_each_grade"
   ]
  },
  {
   "cell_type": "markdown",
   "metadata": {},
   "source": [
    "The dictionary `count_of_each_grade` tells us there were 3 *A* grades, 1 *A+* and so forth."
   ]
  },
  {
   "cell_type": "markdown",
   "metadata": {},
   "source": [
    "#### Data types allowed for keys and values"
   ]
  },
  {
   "cell_type": "markdown",
   "metadata": {},
   "source": [
    "In a Python dictionary, the keys must be immutable meaning they can't be changed in place. Therefore, keys can be a data type such as a:\n",
    "\n",
    "- tuple (must contain only mutable objects)\n",
    "- int\n",
    "- float\n",
    "- string\n",
    "\n",
    "A key *cannot* be a list since lists are mutable and can be modified in place with index assignments or using methods like `append` or `extend`.\n",
    "\n",
    "Values in a dictionary do not have to be unique. The values of a dictionary can be of *any* data type.\n",
    "\n",
    "Here's an example of an acceptable dictionary with various data types as keys and values."
   ]
  },
  {
   "cell_type": "code",
   "execution_count": 19,
   "metadata": {},
   "outputs": [],
   "source": [
    "a = {(3,2): 1, 9.5: 3.14, 3: (3.1), 'hi': 'yo'}"
   ]
  },
  {
   "cell_type": "markdown",
   "metadata": {},
   "source": [
    "#### A more complex example"
   ]
  },
  {
   "cell_type": "markdown",
   "metadata": {},
   "source": [
    "A common use case of dictionaries in software applications is to store personally identifiable information of users.\n",
    "\n",
    "In a software application, there could be two users with the same first and last name. Therefore, each user is tyipcally assigned a unique id as an integer. \n",
    "\n",
    "If we lookup a user's id, we may find information about them as seen below."
   ]
  },
  {
   "cell_type": "code",
   "execution_count": 20,
   "metadata": {},
   "outputs": [],
   "source": [
    "users = {10: {'first_name': 'Dan', 'last_name': 'Friedman', 'email': 'dan@dfrieds.com'},\n",
    "        11: {'first_name': 'May', 'last_name': 'Parker', 'email': 'aunt-may@gmail.com'}}"
   ]
  },
  {
   "cell_type": "markdown",
   "metadata": {},
   "source": [
    "This example shows how a value can also be another dictionary of key-value pairs."
   ]
  }
 ],
 "metadata": {
  "kernelspec": {
   "display_name": "Python 3",
   "language": "python",
   "name": "python3"
  },
  "language_info": {
   "codemirror_mode": {
    "name": "ipython",
    "version": 3
   },
   "file_extension": ".py",
   "mimetype": "text/x-python",
   "name": "python",
   "nbconvert_exporter": "python",
   "pygments_lexer": "ipython3",
   "version": "3.7.5"
  }
 },
 "nbformat": 4,
 "nbformat_minor": 4
}
