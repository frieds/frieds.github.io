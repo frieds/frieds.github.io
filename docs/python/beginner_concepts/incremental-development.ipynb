{
 "cells": [
  {
   "cell_type": "markdown",
   "metadata": {},
   "source": [
    "# Incremental Development\n",
    "\n",
    "Date published: 2018-03-01\n",
    "\n",
    "Category: Python\n",
    "\n",
    "Subcategory: Beginner Concepts\n",
    "\n",
    "Tags: functions, tuples, debugging\n"
   ]
  },
  {
   "cell_type": "markdown",
   "metadata": {},
   "source": [
    "**Incremental development** is a programming tactic I use everyday. The goal is to avoid debugging large complex programs. Instead, I incrementally write code and then test it to ensure each new code works as expected.\n",
    "\n",
    "Here's how it works..."
   ]
  },
  {
   "cell_type": "markdown",
   "metadata": {},
   "source": [
    "### Example Scenario"
   ]
  },
  {
   "cell_type": "markdown",
   "metadata": {},
   "source": [
    "Let's say someone gives you two points and you want to find the slope of a line that connects both points.\n",
    "\n",
    "We'll program this in **incremental development** so I'll re-copy code over into new code boxes with each increment and explain my reasonings along the way."
   ]
  },
  {
   "cell_type": "markdown",
   "metadata": {},
   "source": [
    "#### My Steps for Development"
   ]
  },
  {
   "cell_type": "markdown",
   "metadata": {},
   "source": [
    "\n",
    "1) Write pseudocode line by line on how logic works\n",
    "\n",
    "2) Write code line by line in Python\n",
    "\n",
    "3) Run program and validate code works with dummy data\n",
    "\n",
    "4) Repeat steps 2-3 until your function works as anticipated"
   ]
  },
  {
   "cell_type": "markdown",
   "metadata": {},
   "source": [
    "## Begin Incremental Development"
   ]
  },
  {
   "cell_type": "markdown",
   "metadata": {},
   "source": [
    "### Write Pseudocode to Draft Logic\n",
    "\n"
   ]
  },
  {
   "cell_type": "markdown",
   "metadata": {},
   "source": [
    "The code below has `#` - known as **comments** before each line to indicate it's Python code, but won't be executed when you run your program."
   ]
  },
  {
   "cell_type": "code",
   "execution_count": 1,
   "metadata": {},
   "outputs": [],
   "source": [
    "# input: x and y coordinates for two points\n",
    "# make coordinate points easy integers to evaluate function\n",
    "# can pass input into a function called slope_of_line\n",
    "# numerator = (y_point_two - y_point_one)\n",
    "# denominator = (x_point_two - x_point_one)\n",
    "# slope of line is numerator divided by denominator\n",
    "# return slope of line value"
   ]
  },
  {
   "cell_type": "markdown",
   "metadata": {},
   "source": [
    "### Write Code and Continually Validate Work"
   ]
  },
  {
   "cell_type": "markdown",
   "metadata": {},
   "source": [
    "#### Assign variables as coordinate points"
   ]
  },
  {
   "cell_type": "markdown",
   "metadata": {},
   "source": [
    "I assigned variables to a tuple in the format (x_point, y_point) - similar to typical math notation."
   ]
  },
  {
   "cell_type": "code",
   "execution_count": 2,
   "metadata": {},
   "outputs": [],
   "source": [
    "point_one = (1, 1)\n",
    "point_two = (2, 3)\n",
    "# slope is 2"
   ]
  },
  {
   "cell_type": "markdown",
   "metadata": {},
   "source": [
    "I know the slope of this line should evalute to 2."
   ]
  },
  {
   "cell_type": "markdown",
   "metadata": {},
   "source": [
    "#### Define function and arguments"
   ]
  },
  {
   "cell_type": "markdown",
   "metadata": {},
   "source": [
    "Write a function that has two arguments for our two data points.\n",
    "\n",
    "I'll return None in order to validate:\n",
    "\n",
    "1) We've defined the function correctly \n",
    "\n",
    "2) Naming of our arguments is OK\n",
    "\n",
    "I'll change the body of the function later. The practice of writing code such as this that's useful for debugging is called **scaffolding**. It helps validate parts of my logic now but it is not part of the final product."
   ]
  },
  {
   "cell_type": "code",
   "execution_count": 3,
   "metadata": {},
   "outputs": [],
   "source": [
    "point_one = (1, 1)\n",
    "point_two = (2, 3)\n",
    "# slope is 2\n",
    "\n",
    "def slope_of_line(first_point, second_point):\n",
    "    return None"
   ]
  },
  {
   "cell_type": "markdown",
   "metadata": {},
   "source": [
    "Upon evaluting this code block, we receive no errors and no output as expected."
   ]
  },
  {
   "cell_type": "markdown",
   "metadata": {},
   "source": [
    "#### Call function to validate it returns None"
   ]
  },
  {
   "cell_type": "code",
   "execution_count": 4,
   "metadata": {},
   "outputs": [
    {
     "name": "stdout",
     "output_type": "stream",
     "text": [
      "None\n"
     ]
    }
   ],
   "source": [
    "point_one = (1, 1)\n",
    "point_two = (2, 3)\n",
    "# slope is 2\n",
    "\n",
    "def slope_of_line(first_point, second_point):\n",
    "    return None\n",
    "\n",
    "print(slope_of_line(point_one, point_two))"
   ]
  },
  {
   "cell_type": "markdown",
   "metadata": {},
   "source": [
    "Great! We returned and printed `None` as expected."
   ]
  },
  {
   "cell_type": "markdown",
   "metadata": {},
   "source": [
    "#### Pass coordinate points as arguments to the function and return coordinate points"
   ]
  },
  {
   "cell_type": "code",
   "execution_count": 5,
   "metadata": {},
   "outputs": [
    {
     "name": "stdout",
     "output_type": "stream",
     "text": [
      "((1, 1), (2, 3))\n"
     ]
    }
   ],
   "source": [
    "point_one = (1, 1)\n",
    "point_two = (2, 3)\n",
    "# slope is 2\n",
    "\n",
    "def slope_of_line(point_one, point_two):\n",
    "    return point_one, point_two\n",
    "\n",
    "print(slope_of_line(point_one, point_two))"
   ]
  },
  {
   "cell_type": "markdown",
   "metadata": {},
   "source": [
    "Great! We returned and printed our coordinate points as a tuple of tuples."
   ]
  },
  {
   "cell_type": "markdown",
   "metadata": {},
   "source": [
    "#### Calculate numerator of slope function"
   ]
  },
  {
   "cell_type": "markdown",
   "metadata": {},
   "source": [
    "I assigned variable to represent the index of the x and y coordinates for our coordinate points. We'll use these variables multiple times so it makes sense to assign variables rather than continually write `0` and `1` - which may be prone to error."
   ]
  },
  {
   "cell_type": "code",
   "execution_count": 6,
   "metadata": {},
   "outputs": [
    {
     "name": "stdout",
     "output_type": "stream",
     "text": [
      "2\n"
     ]
    }
   ],
   "source": [
    "point_one = (1, 1)\n",
    "point_two = (2, 3)\n",
    "# slope is 2\n",
    "\n",
    "def slope_of_line(point_one, point_two):\n",
    "    x_index = 0\n",
    "    y_index = 1\n",
    "    numerator = point_two[y_index] - point_one[y_index]\n",
    "    return numerator\n",
    "\n",
    "print(slope_of_line(point_one, point_two))"
   ]
  },
  {
   "cell_type": "markdown",
   "metadata": {},
   "source": [
    "Excellent! We returned and printed `2` as expected."
   ]
  },
  {
   "cell_type": "markdown",
   "metadata": {},
   "source": [
    "#### Calculate denominator of slope function"
   ]
  },
  {
   "cell_type": "code",
   "execution_count": 7,
   "metadata": {},
   "outputs": [
    {
     "name": "stdout",
     "output_type": "stream",
     "text": [
      "(2, 1)\n"
     ]
    }
   ],
   "source": [
    "point_one = (1, 1)\n",
    "point_two = (2, 3)\n",
    "# slope is 2\n",
    "\n",
    "def slope_of_line(point_one, point_two):\n",
    "    x_index = 0\n",
    "    y_index = 1\n",
    "    numerator = point_two[y_index] - point_one[y_index]\n",
    "    denominator = point_two[x_index] - point_one[x_index]\n",
    "    \n",
    "    return numerator, denominator\n",
    "\n",
    "print(slope_of_line(point_one, point_two))"
   ]
  },
  {
   "cell_type": "markdown",
   "metadata": {},
   "source": [
    "Nice! We returned and printed the correct numerator and denominator values as expected."
   ]
  },
  {
   "cell_type": "markdown",
   "metadata": {},
   "source": [
    "#### Finalize function logic and return slope"
   ]
  },
  {
   "cell_type": "code",
   "execution_count": 8,
   "metadata": {},
   "outputs": [
    {
     "name": "stdout",
     "output_type": "stream",
     "text": [
      "2.0\n"
     ]
    }
   ],
   "source": [
    "point_one = (1, 1)\n",
    "point_two = (2, 3)\n",
    "# slope is 2\n",
    "\n",
    "def slope_of_line(point_one, point_two):\n",
    "    \"\"\"\n",
    "    Calculate slope of a line given two points\n",
    "    \n",
    "    Keyword arguments:\n",
    "    point_one -- tuple of two numeric values\n",
    "    point_two -- tuple of two numeric values\n",
    "    \"\"\"\n",
    "    x_index = 0\n",
    "    y_index = 1\n",
    "    numerator = point_two[y_index] - point_one[y_index]\n",
    "    denominator = point_two[x_index] - point_one[x_index]\n",
    "    slope = numerator / denominator\n",
    "    \n",
    "    return slope\n",
    "\n",
    "print(slope_of_line(point_one, point_two))"
   ]
  },
  {
   "cell_type": "markdown",
   "metadata": {},
   "source": [
    "Great! Our function works as expected since it returned `2` as the slope.\n",
    "\n",
    "However, we should test this function with several points to further validate the slope is always calculated to be correct."
   ]
  },
  {
   "cell_type": "markdown",
   "metadata": {},
   "source": [
    "### Test Function with Various Point Combinations"
   ]
  },
  {
   "cell_type": "code",
   "execution_count": 9,
   "metadata": {},
   "outputs": [],
   "source": [
    "point_one = (1, 1)\n",
    "point_two = (2, 3)\n",
    "point_three = (5, 5)"
   ]
  },
  {
   "cell_type": "code",
   "execution_count": 10,
   "metadata": {},
   "outputs": [],
   "source": [
    "def slope_of_line(point_one, point_two):\n",
    "    \"\"\"\n",
    "    Calculate slope of a line given two points\n",
    "    \n",
    "    Keyword arguments:\n",
    "    point_one -- tuple of two numeric values\n",
    "    point_two -- tuple of two numeric values\n",
    "    \"\"\"\n",
    "    x_index = 0\n",
    "    y_index = 1\n",
    "    numerator = point_two[y_index] - point_one[y_index]\n",
    "    denominator = point_two[x_index] - point_one[x_index]\n",
    "    slope = numerator / denominator\n",
    "    \n",
    "    return slope"
   ]
  },
  {
   "cell_type": "code",
   "execution_count": 11,
   "metadata": {},
   "outputs": [
    {
     "name": "stdout",
     "output_type": "stream",
     "text": [
      "2.0\n"
     ]
    }
   ],
   "source": [
    "print(slope_of_line(point_one, point_two))  # should return 2"
   ]
  },
  {
   "cell_type": "code",
   "execution_count": 12,
   "metadata": {},
   "outputs": [
    {
     "name": "stdout",
     "output_type": "stream",
     "text": [
      "1.0\n"
     ]
    }
   ],
   "source": [
    "print(slope_of_line(point_one, point_three)) # should return 1"
   ]
  },
  {
   "cell_type": "code",
   "execution_count": 13,
   "metadata": {},
   "outputs": [
    {
     "name": "stdout",
     "output_type": "stream",
     "text": [
      "0.6666666666666666\n"
     ]
    }
   ],
   "source": [
    "print(slope_of_line(point_two, point_three)) # should return 2/3 or 0.67"
   ]
  },
  {
   "cell_type": "markdown",
   "metadata": {},
   "source": [
    "Brilliant! All our slope calculations work out to what we anticipated."
   ]
  }
 ],
 "metadata": {
  "kernelspec": {
   "display_name": "Python 3",
   "language": "python",
   "name": "python3"
  },
  "language_info": {
   "codemirror_mode": {
    "name": "ipython",
    "version": 3
   },
   "file_extension": ".py",
   "mimetype": "text/x-python",
   "name": "python",
   "nbconvert_exporter": "python",
   "pygments_lexer": "ipython3",
   "version": "3.7.5"
  }
 },
 "nbformat": 4,
 "nbformat_minor": 4
}
