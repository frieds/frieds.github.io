{
 "cells": [
  {
   "cell_type": "markdown",
   "metadata": {},
   "source": [
    "# Read in CSV Files for Data Analysis\n",
    "\n",
    "Date published: 2018-04-08\n",
    "\n",
    "Category: Python\n",
    "\n",
    "Subcategory: Beginner Concepts\n",
    "\n",
    "Tags: input, csv\n"
   ]
  },
  {
   "cell_type": "markdown",
   "metadata": {},
   "source": [
    "Python is a great programming language for data analysis. \n",
    "\n",
    "CSV files are comma-separated values to store data, similar to a table format.\n",
    "\n",
    "The CSV format is a common import and export format for spreadsheets and databases. You'll likely encounter it early on in the field of data science.\n",
    "\n",
    "We'll cover how to read in data from a CSV in which a CSV file is in your Python program's directory/folder on your computer."
   ]
  },
  {
   "cell_type": "markdown",
   "metadata": {},
   "source": [
    "#### Import CSV module"
   ]
  },
  {
   "cell_type": "code",
   "execution_count": 53,
   "metadata": {
    "collapsed": true,
    "jupyter": {
     "outputs_hidden": true
    }
   },
   "outputs": [],
   "source": [
    "import csv"
   ]
  },
  {
   "cell_type": "markdown",
   "metadata": {},
   "source": [
    "#### Read in bike rides CSV"
   ]
  },
  {
   "cell_type": "markdown",
   "metadata": {},
   "source": [
    "In my directory as this Python program, I created a CSV named `bike_rides.csv`.\n",
    "\n",
    "`open` is a Python built-in function to open a file on your local computer with the argument being the file path. A default argument of `open` is `mode=r` to open the contents of a file with only permission to read the file, *not* write to it or perform a different operation. We'll provide an alias as `file` so we can easily use that name in another operation.\n",
    "\n",
    "From the `csv` module in Python, we'll call the `reader` method and pass in `file` to create a *csv reader* object. \n",
    "\n",
    "Once we have this *csv reader* object, we can iterate over the rows of our CSV file and print the output."
   ]
  },
  {
   "cell_type": "code",
   "execution_count": 54,
   "metadata": {
    "collapsed": false,
    "jupyter": {
     "outputs_hidden": false
    }
   },
   "outputs": [
    {
     "name": "stdout",
     "output_type": "stream",
     "text": [
      "CSV row: ['ride_number', 'date', 'miles_rode', 'ride_duration']\n",
      "CSV row: ['1', '4-02-2018', '5.1', '29.4']\n",
      "CSV row: ['2', '4-03-2018', '3.3', '20']\n",
      "CSV row: ['3', '4-04-2018', '4.5', '21.8']\n"
     ]
    }
   ],
   "source": [
    "with open('bike_rides.csv') as file:\n",
    "    csv_reader_object = csv.reader(file)\n",
    "    for row in csv_reader_object:\n",
    "        print(\"CSV row: {0}\".format(row))"
   ]
  },
  {
   "cell_type": "markdown",
   "metadata": {},
   "source": [
    "Each row in our CSV is a *list* of *strings* since there are single-quotes around each value."
   ]
  },
  {
   "cell_type": "markdown",
   "metadata": {},
   "source": [
    "### Calculate Descriptive Statistics on Bike Rides"
   ]
  },
  {
   "cell_type": "markdown",
   "metadata": {},
   "source": [
    "Commonly, when we read in data from a CSV, we may want to analyze the data or perform some analysis. We can perform these calculations as we loop over all data in our CSV."
   ]
  },
  {
   "cell_type": "markdown",
   "metadata": {},
   "source": [
    "#### Count the number of bike rides"
   ]
  },
  {
   "cell_type": "markdown",
   "metadata": {},
   "source": [
    "Our `csv_reader_object` has a method called `line_num` that returns the number of lines in our CSV. If we perform this operation, we're returned `4`."
   ]
  },
  {
   "cell_type": "code",
   "execution_count": 55,
   "metadata": {
    "collapsed": false,
    "jupyter": {
     "outputs_hidden": false
    }
   },
   "outputs": [
    {
     "data": {
      "text/plain": [
       "4"
      ]
     },
     "execution_count": 55,
     "metadata": {},
     "output_type": "execute_result"
    }
   ],
   "source": [
    "csv_reader_object.line_num"
   ]
  },
  {
   "cell_type": "markdown",
   "metadata": {},
   "source": [
    "There are 4 rows in this CSV; however, there may be a header row (displaying field names) so we shouldn't count this row in our calculation for the count of bike rides.\n",
    "\n",
    "The `csv` class in Python has a `Sniffer` class to deduce the format of a CSV. With the `has_header` method of `Sniffer`, we can check if the first row contains column headers. \n",
    "\n",
    "If the first row is a header, let's skip that row in counting the number of bike ride records in our csv. To skip that header row, we can use the built-in `next` function and pass in our `csv_reader_object`; this will retrive the *next* item after our header to begin our data analysis."
   ]
  },
  {
   "cell_type": "code",
   "execution_count": 56,
   "metadata": {
    "collapsed": true,
    "jupyter": {
     "outputs_hidden": true
    }
   },
   "outputs": [],
   "source": [
    "count_of_rides = 0"
   ]
  },
  {
   "cell_type": "code",
   "execution_count": 57,
   "metadata": {
    "collapsed": true,
    "jupyter": {
     "outputs_hidden": true
    }
   },
   "outputs": [],
   "source": [
    "with open('bike_rides.csv') as file:\n",
    "    csv_reader_object = csv.reader(file)\n",
    "    if csv.Sniffer().has_header:\n",
    "        next(csv_reader_object)\n",
    "    for row in csv_reader_object:\n",
    "        count_of_rides += 1"
   ]
  },
  {
   "cell_type": "code",
   "execution_count": 58,
   "metadata": {
    "collapsed": false,
    "jupyter": {
     "outputs_hidden": false
    }
   },
   "outputs": [
    {
     "data": {
      "text/plain": [
       "3"
      ]
     },
     "execution_count": 58,
     "metadata": {},
     "output_type": "execute_result"
    }
   ],
   "source": [
    "count_of_rides"
   ]
  },
  {
   "cell_type": "markdown",
   "metadata": {},
   "source": [
    "Based on our manual observation above, we can confirm there are 3 records of bike rides."
   ]
  },
  {
   "cell_type": "markdown",
   "metadata": {},
   "source": [
    "#### Average miles rode per bike ride"
   ]
  },
  {
   "cell_type": "markdown",
   "metadata": {},
   "source": [
    "All rows in our CSV contains *strings*. To perform a math operation, we need to convert the values to an arithmetic data type - either an *integer* or a *float*. \n",
    "\n",
    "We'll convert the values in the *miles_rode* field to floats.\n",
    "\n",
    "Also, note we still have to skip the header row in this calculation."
   ]
  },
  {
   "cell_type": "code",
   "execution_count": 59,
   "metadata": {
    "collapsed": true,
    "jupyter": {
     "outputs_hidden": true
    }
   },
   "outputs": [],
   "source": [
    "total_miles_rode = 0"
   ]
  },
  {
   "cell_type": "markdown",
   "metadata": {},
   "source": [
    "In each row, a record of a bike ride, at index `2`, there's a value for `miles_rode`."
   ]
  },
  {
   "cell_type": "code",
   "execution_count": 60,
   "metadata": {
    "collapsed": true,
    "jupyter": {
     "outputs_hidden": true
    }
   },
   "outputs": [],
   "source": [
    "row_index_miles_rode = 2"
   ]
  },
  {
   "cell_type": "code",
   "execution_count": 61,
   "metadata": {
    "collapsed": true,
    "jupyter": {
     "outputs_hidden": true
    }
   },
   "outputs": [],
   "source": [
    "with open('bike_rides.csv') as file:\n",
    "    csv_reader_object = csv.reader(file)\n",
    "    if csv.Sniffer().has_header:\n",
    "        next(csv_reader_object)\n",
    "    for row in csv_reader_object:\n",
    "        float_miles_rode = float(row[row_index_miles_rode])\n",
    "        total_miles_rode += float_miles_rode"
   ]
  },
  {
   "cell_type": "code",
   "execution_count": 62,
   "metadata": {
    "collapsed": false,
    "jupyter": {
     "outputs_hidden": false
    }
   },
   "outputs": [
    {
     "data": {
      "text/plain": [
       "12.899999999999999"
      ]
     },
     "execution_count": 62,
     "metadata": {},
     "output_type": "execute_result"
    }
   ],
   "source": [
    "total_miles_rode"
   ]
  },
  {
   "cell_type": "code",
   "execution_count": 63,
   "metadata": {
    "collapsed": true,
    "jupyter": {
     "outputs_hidden": true
    }
   },
   "outputs": [],
   "source": [
    "average_miles_per_ride = total_miles_rode / count_of_rides"
   ]
  },
  {
   "cell_type": "code",
   "execution_count": 64,
   "metadata": {
    "collapsed": false,
    "jupyter": {
     "outputs_hidden": false
    }
   },
   "outputs": [
    {
     "data": {
      "text/plain": [
       "4.3"
      ]
     },
     "execution_count": 64,
     "metadata": {},
     "output_type": "execute_result"
    }
   ],
   "source": [
    "average_miles_per_ride"
   ]
  }
 ],
 "metadata": {
  "kernelspec": {
   "display_name": "Python 3",
   "language": "python",
   "name": "python3"
  },
  "language_info": {
   "codemirror_mode": {
    "name": "ipython",
    "version": 3
   },
   "file_extension": ".py",
   "mimetype": "text/x-python",
   "name": "python",
   "nbconvert_exporter": "python",
   "pygments_lexer": "ipython3",
   "version": "3.7.5"
  },
  "toc": {
   "colors": {
    "hover_highlight": "#DAA520",
    "navigate_num": "#000000",
    "navigate_text": "#333333",
    "running_highlight": "#FF0000",
    "selected_highlight": "#FFD700",
    "sidebar_border": "#EEEEEE",
    "wrapper_background": "#FFFFFF"
   },
   "moveMenuLeft": true,
   "nav_menu": {
    "height": "117px",
    "width": "252px"
   },
   "navigate_menu": true,
   "number_sections": true,
   "sideBar": true,
   "threshold": 4,
   "toc_cell": false,
   "toc_section_display": "block",
   "toc_window_display": false,
   "widenNotebook": false
  }
 },
 "nbformat": 4,
 "nbformat_minor": 4
}
