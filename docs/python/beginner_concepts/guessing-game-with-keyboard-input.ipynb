{
 "cells": [
  {
   "cell_type": "markdown",
   "metadata": {},
   "source": [
    "# Build a Number Guessing Game with Keyboard Input\n",
    "\n",
    "Date published: 2018-02-25\n",
    "\n",
    "Category: Python\n",
    "\n",
    "Subcategory: Beginner Concepts\n",
    "\n",
    "Tags: keyboard input, while loop\n"
   ]
  },
  {
   "cell_type": "markdown",
   "metadata": {},
   "source": [
    "### What is `Input`?"
   ]
  },
  {
   "cell_type": "markdown",
   "metadata": {},
   "source": [
    "In programs, you can build interactivity with others to accept input from them and respond to certain condtions. \n",
    "\n",
    "Python provides a built-in function called `input` that stops the program and waits for input. When the user pressed *Return* or *Enter*, the program is resumed and the input returns what the user typed as a string.\n",
    "\n",
    "I can ask a user for their name. The `\\n` is a **newline** character that causes a line break. The user prompt will display below the input prompt."
   ]
  },
  {
   "cell_type": "code",
   "execution_count": 6,
   "metadata": {},
   "outputs": [],
   "source": [
    "name = input(\"What's your name?\\n\")"
   ]
  },
  {
   "cell_type": "code",
   "execution_count": 7,
   "metadata": {},
   "outputs": [
    {
     "data": {
      "text/plain": [
       "'Dan'"
      ]
     },
     "execution_count": 7,
     "metadata": {},
     "output_type": "execute_result"
    }
   ],
   "source": [
    "name"
   ]
  },
  {
   "cell_type": "markdown",
   "metadata": {},
   "source": [
    "### Guessing Game Example"
   ]
  },
  {
   "cell_type": "markdown",
   "metadata": {},
   "source": [
    "Let's build a game that allows a user up to 10 guesses in order to guess a number between 0 and 100. If the user guesses too low, we'll respond with \"you guessed too low\". If the user guesses too high, we'll respond with \"you guessed too high\". Lastly, if the user guesses correct, we'll respond \"you guessed correct!\" and end the game."
   ]
  },
  {
   "cell_type": "markdown",
   "metadata": {},
   "source": [
    "We'll assign any value between 0 and 100 to a `correct_number` variable to be our answer."
   ]
  },
  {
   "cell_type": "code",
   "execution_count": 8,
   "metadata": {},
   "outputs": [],
   "source": [
    "correct_number = 20"
   ]
  },
  {
   "cell_type": "markdown",
   "metadata": {},
   "source": [
    "We'll assign a `count_of_guesses` variable to be 0 since we're at 0 guesses in the game to start."
   ]
  },
  {
   "cell_type": "code",
   "execution_count": 9,
   "metadata": {},
   "outputs": [],
   "source": [
    "count_of_guesses = 0"
   ]
  },
  {
   "cell_type": "markdown",
   "metadata": {},
   "source": [
    "We utilize a `while` loop to evaluate the condition inside the loop as long as we've guessed less than 10 times. \n",
    "\n",
    "We assign the variable `user_guess` to the result of our input that prompts the user to guess. We convert the guess from a string value to an integer; once an integer, we can logically compare it to our `correct_number` variable of 20.\n",
    "\n",
    "We use conditional statements to evaluate how `user_guess` compares to `correct_number` based on the game specifications above.\n",
    "\n",
    "The un-indented `else` statement at the end only executes if a user exhausts all 10 guesses. If not, our program will evaluate that `else` condition to `False` and not execute the print statement in its body.\n"
   ]
  },
  {
   "cell_type": "code",
   "execution_count": 10,
   "metadata": {},
   "outputs": [
    {
     "name": "stdout",
     "output_type": "stream",
     "text": [
      "you guessed too low\n",
      "you guessed correct!\n"
     ]
    }
   ],
   "source": [
    "while count_of_guesses <= 10:\n",
    "    user_guess = int(input(\"Guess: \\n\"))\n",
    "    count_of_guesses += 1\n",
    "\n",
    "    if user_guess < correct_number:\n",
    "        print(\"you guessed too low\")\n",
    "    elif user_guess > correct_number:\n",
    "        print(\"you guessed too high\")\n",
    "    else:\n",
    "        print(\"you guessed correct!\")\n",
    "        break\n",
    "else:\n",
    "    print(\"Sorry you lost the game\")"
   ]
  }
 ],
 "metadata": {
  "kernelspec": {
   "display_name": "Python 3",
   "language": "python",
   "name": "python3"
  },
  "language_info": {
   "codemirror_mode": {
    "name": "ipython",
    "version": 3
   },
   "file_extension": ".py",
   "mimetype": "text/x-python",
   "name": "python",
   "nbconvert_exporter": "python",
   "pygments_lexer": "ipython3",
   "version": "3.7.5"
  }
 },
 "nbformat": 4,
 "nbformat_minor": 4
}
