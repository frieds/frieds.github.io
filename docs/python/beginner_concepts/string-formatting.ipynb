{
 "cells": [
  {
   "cell_type": "markdown",
   "metadata": {},
   "source": [
    "# String Formatting\n",
    "\n",
    "Date published: 2018-04-01\n",
    "\n",
    "Category: Python\n",
    "\n",
    "Subcategory: Beginner Concepts\n",
    "\n",
    "Tags: strings\n"
   ]
  },
  {
   "cell_type": "markdown",
   "metadata": {},
   "source": [
    "Strings allow you to hold textual data in Python.\n",
    "\n",
    "Often times, you'll want to print a string and pass in a variable.\n",
    "\n",
    "You can use the `format` method on strings to pass in a variable."
   ]
  },
  {
   "cell_type": "code",
   "execution_count": 27,
   "metadata": {},
   "outputs": [
    {
     "data": {
      "text/plain": [
       "'Hi my name is: Dan'"
      ]
     },
     "execution_count": 27,
     "metadata": {},
     "output_type": "execute_result"
    }
   ],
   "source": [
    "name = \"Dan\"\n",
    "\"Hi my name is: {}\".format(name)"
   ]
  },
  {
   "cell_type": "markdown",
   "metadata": {},
   "source": [
    "A more useful example would be to print grammatically correct English sentences about the data.\n",
    "\n",
    "In the example below, we want to print the results of the scooter ride data below to easily highlight the data's meaning."
   ]
  },
  {
   "cell_type": "code",
   "execution_count": 28,
   "metadata": {},
   "outputs": [],
   "source": [
    "scooter_ride_data = {1: ['4-01-2018', 4.5],\n",
    "                     2: ['4-01-2018', 3.1],\n",
    "                     3: ['4-01-2018', 6.2]\n",
    "                    }"
   ]
  },
  {
   "cell_type": "markdown",
   "metadata": {},
   "source": [
    "Notice below if we want to pass in several variables, we must provide a numerical counter in the braces `{}`."
   ]
  },
  {
   "cell_type": "code",
   "execution_count": 29,
   "metadata": {},
   "outputs": [
    {
     "name": "stdout",
     "output_type": "stream",
     "text": [
      "Details of today's rides:\n",
      "Ride #3 started on 4-01-2018 and distance traveled was 6.2 miles\n",
      "Ride #3 started on 4-01-2018 and distance traveled was 6.2 miles\n",
      "Ride #3 started on 4-01-2018 and distance traveled was 6.2 miles\n"
     ]
    }
   ],
   "source": [
    "print(\"Details of today's rides:\")\n",
    "for ride_details in scooter_ride_data.items():\n",
    "    print(\"Ride #{0} started on {1} and distance traveled was {2} miles\".format(ride_number, start_time, distance_miles))"
   ]
  }
 ],
 "metadata": {
  "kernelspec": {
   "display_name": "Python 3",
   "language": "python",
   "name": "python3"
  },
  "language_info": {
   "codemirror_mode": {
    "name": "ipython",
    "version": 3
   },
   "file_extension": ".py",
   "mimetype": "text/x-python",
   "name": "python",
   "nbconvert_exporter": "python",
   "pygments_lexer": "ipython3",
   "version": "3.7.5"
  }
 },
 "nbformat": 4,
 "nbformat_minor": 4
}
