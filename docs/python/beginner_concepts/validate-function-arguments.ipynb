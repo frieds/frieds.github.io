{
 "cells": [
  {
   "cell_type": "markdown",
   "metadata": {},
   "source": [
    "# Validate Arguments Passed to a Function\n",
    "\n",
    "Date published: 2018-03-01\n",
    "\n",
    "Category: Python\n",
    "\n",
    "Subcategory: Beginner Concepts\n",
    "\n",
    "Tags: functions, tuples, debugging\n"
   ]
  },
  {
   "cell_type": "markdown",
   "metadata": {},
   "source": [
    "### The Importance of Evaluating Argument Functions"
   ]
  },
  {
   "cell_type": "markdown",
   "metadata": {},
   "source": [
    "In Python, we often pass objects to our functions - be it variables, tuples or lists. \n",
    "\n",
    "Before we compute the logic of our function, it's often a good idea to first validate that the arguments passed to the function meet our criteria.\n",
    "\n",
    "For example, if we had a function that calculated the area of a square, we can't compute the area given a side lenght of -2. Shapes can't have negative side lengths, otherwise they wouldn't be a shape."
   ]
  },
  {
   "cell_type": "markdown",
   "metadata": {},
   "source": [
    "The evaluation of our arguments before going into the main logic of our function is a pattern called a **guardian**. The first three coditions act as **guardians**, protecting the code from errors not unique to our main logic."
   ]
  },
  {
   "cell_type": "markdown",
   "metadata": {},
   "source": [
    "### Example - Validate Arguments to a Function"
   ]
  },
  {
   "cell_type": "markdown",
   "metadata": {},
   "source": [
    "Let's start with a function we built in another tutorial to calculate the *slope* of a line when given two coordinate points.\n",
    "\n",
    "In this example, we'll validate the conditions that:\n",
    "\n",
    "1) Each coordinate point is in a collection that's either a `list` or `tuple`.\n",
    "\n",
    "2) Check there are two coordinate points - equivalent to an x and y coordinate, in each data structure structure.\n",
    "\n",
    "3) The values in that data structure are real numbers - so either an `int` or `float`. "
   ]
  },
  {
   "cell_type": "markdown",
   "metadata": {},
   "source": [
    "#### Our initial function"
   ]
  },
  {
   "cell_type": "code",
   "execution_count": 1,
   "metadata": {},
   "outputs": [],
   "source": [
    "def slope_of_line(point_one, point_two):\n",
    "    \"\"\"\n",
    "    Calculate slope of a line given two points\n",
    "    \n",
    "    Keyword arguments:\n",
    "    point_one -- tuple of two numeric values\n",
    "    point_two -- tuple of two numeric values\n",
    "    \"\"\"\n",
    "    x_index = 0\n",
    "    y_index = 1\n",
    "    numerator = point_two[y_index] - point_one[y_index]\n",
    "    denominator = point_two[x_index] - point_one[x_index]\n",
    "    slope = numerator / denominator\n",
    "    \n",
    "    return slope"
   ]
  },
  {
   "cell_type": "markdown",
   "metadata": {},
   "source": [
    "#### New concepts to use in our validation"
   ]
  },
  {
   "cell_type": "markdown",
   "metadata": {},
   "source": [
    "##### conditional expressions"
   ]
  },
  {
   "cell_type": "markdown",
   "metadata": {},
   "source": [
    "Typically we say if-else statements span multiple lines. However, we can often write them in one line with a **conditional expression**.\n",
    "\n",
    "Here's an example of a conditional statement:"
   ]
  },
  {
   "cell_type": "code",
   "execution_count": 2,
   "metadata": {},
   "outputs": [],
   "source": [
    "number_status = None\n",
    "\n",
    "if 5 > 2:\n",
    "    number_status = True\n",
    "else:\n",
    "    number_status = False"
   ]
  },
  {
   "cell_type": "code",
   "execution_count": 3,
   "metadata": {},
   "outputs": [
    {
     "data": {
      "text/plain": [
       "True"
      ]
     },
     "execution_count": 3,
     "metadata": {},
     "output_type": "execute_result"
    }
   ],
   "source": [
    "number_status"
   ]
  },
  {
   "cell_type": "markdown",
   "metadata": {},
   "source": [
    "Here's that same statement as a **conditional expression**"
   ]
  },
  {
   "cell_type": "code",
   "execution_count": 4,
   "metadata": {},
   "outputs": [],
   "source": [
    "number_status = 5 > 2"
   ]
  },
  {
   "cell_type": "code",
   "execution_count": 5,
   "metadata": {},
   "outputs": [
    {
     "data": {
      "text/plain": [
       "True"
      ]
     },
     "execution_count": 5,
     "metadata": {},
     "output_type": "execute_result"
    }
   ],
   "source": [
    "number_status"
   ]
  },
  {
   "cell_type": "markdown",
   "metadata": {},
   "source": [
    "In this **conditional expression**, `number_status` is assigned `True` if the condition is met; otherwise it's assigned `False`."
   ]
  },
  {
   "cell_type": "markdown",
   "metadata": {},
   "source": [
    "##### `isinstance` function"
   ]
  },
  {
   "cell_type": "markdown",
   "metadata": {},
   "source": [
    "In Python, we can utilize the built-in `isinstance` function to check an object's type.\n",
    "\n",
    "Here's an example in which we check if `\"hi\"` is a string. Since it is a string, the `isinstance` function will return `True`."
   ]
  },
  {
   "cell_type": "code",
   "execution_count": 6,
   "metadata": {},
   "outputs": [
    {
     "data": {
      "text/plain": [
       "True"
      ]
     },
     "execution_count": 6,
     "metadata": {},
     "output_type": "execute_result"
    }
   ],
   "source": [
    "isinstance(\"hi\", str)"
   ]
  },
  {
   "cell_type": "markdown",
   "metadata": {},
   "source": [
    "We can pass a tuple to the second argument of `isinstance` to check for multiple types. As long as our coordinate point is at least one of those types, `isinstance` will evaluate to True."
   ]
  },
  {
   "cell_type": "code",
   "execution_count": 7,
   "metadata": {},
   "outputs": [
    {
     "data": {
      "text/plain": [
       "True"
      ]
     },
     "execution_count": 7,
     "metadata": {},
     "output_type": "execute_result"
    }
   ],
   "source": [
    "isinstance(3, (int, str))"
   ]
  },
  {
   "cell_type": "markdown",
   "metadata": {},
   "source": [
    "We're returned `True` because `3` is of type `int` - an integer"
   ]
  },
  {
   "cell_type": "markdown",
   "metadata": {},
   "source": [
    "##### `len` function"
   ]
  },
  {
   "cell_type": "markdown",
   "metadata": {},
   "source": [
    "We can use the Python built-in `len()` function to calculate number of items in a `tuple` or `list`."
   ]
  },
  {
   "cell_type": "code",
   "execution_count": 8,
   "metadata": {},
   "outputs": [
    {
     "data": {
      "text/plain": [
       "2"
      ]
     },
     "execution_count": 8,
     "metadata": {},
     "output_type": "execute_result"
    }
   ],
   "source": [
    "len([3, 2])"
   ]
  },
  {
   "cell_type": "markdown",
   "metadata": {},
   "source": [
    "We're returned `2` because there are two items in the list above"
   ]
  },
  {
   "cell_type": "markdown",
   "metadata": {},
   "source": [
    "##### `all` function"
   ]
  },
  {
   "cell_type": "markdown",
   "metadata": {},
   "source": [
    "The Python built-in `all` function. It returns `True` if all boolean values are True in the sequence; otherwise, it returns `False`. \n",
    "\n",
    "Here's all `True` values in a list."
   ]
  },
  {
   "cell_type": "code",
   "execution_count": 9,
   "metadata": {},
   "outputs": [
    {
     "data": {
      "text/plain": [
       "True"
      ]
     },
     "execution_count": 9,
     "metadata": {},
     "output_type": "execute_result"
    }
   ],
   "source": [
    "all([True, True])"
   ]
  },
  {
   "cell_type": "markdown",
   "metadata": {},
   "source": [
    "As expected, we're returned `True`.\n",
    "\n",
    "And if there's a `False` value in a list..."
   ]
  },
  {
   "cell_type": "code",
   "execution_count": 10,
   "metadata": {},
   "outputs": [
    {
     "data": {
      "text/plain": [
       "False"
      ]
     },
     "execution_count": 10,
     "metadata": {},
     "output_type": "execute_result"
    }
   ],
   "source": [
    "all([True, False])"
   ]
  },
  {
   "cell_type": "markdown",
   "metadata": {},
   "source": [
    "##### list comprehensions"
   ]
  },
  {
   "cell_type": "markdown",
   "metadata": {},
   "source": [
    "Generate a new list in one line"
   ]
  },
  {
   "cell_type": "code",
   "execution_count": 11,
   "metadata": {},
   "outputs": [
    {
     "data": {
      "text/plain": [
       "[8, 7]"
      ]
     },
     "execution_count": 11,
     "metadata": {},
     "output_type": "execute_result"
    }
   ],
   "source": [
    "[x+5 for x in (3,2)]"
   ]
  },
  {
   "cell_type": "markdown",
   "metadata": {},
   "source": [
    "We looped through the tuple of `(3, 2)` and added 5 to each item. We're returned a new list."
   ]
  },
  {
   "cell_type": "markdown",
   "metadata": {},
   "source": [
    "#### Create function to evaluate necessary conditions"
   ]
  },
  {
   "cell_type": "code",
   "execution_count": 12,
   "metadata": {},
   "outputs": [],
   "source": [
    "def evaluate_arguments_to_calculate_slope(point):\n",
    "    \"\"\"\n",
    "    Evaluate three conditions of point to see if we can later use this point to calculate the slope of a line\n",
    "    \n",
    "    Keyword arguments:\n",
    "    point -- tuple or list of x-y coordinates of a point\n",
    "    \"\"\"\n",
    "    precondition_statuses = []\n",
    "    \n",
    "    # validate each data structure is a list or tuple\n",
    "    condition_status = isinstance(point, (tuple, list))\n",
    "    precondition_statuses.append((\"tuple or list data structure\", condition_status))\n",
    "    \n",
    "    # validate there are two values in that data structure\n",
    "    condition_status = len(point) == 2\n",
    "    precondition_statuses.append((\"two values in data structures\", condition_status))\n",
    "    \n",
    "    '''\n",
    "    Validate the two values in that data struxture are floats or ints.\n",
    "    Create a list comprehension to create a new list of two Boolean values.\n",
    "    Logic returns True if the value is a float or int and False if neither data type\n",
    "    '''\n",
    "    digit_statuses = [isinstance(value, (float, int)) for value in point]\n",
    "    # returns True if both items in list are boolean True values; otherwise, returns False\n",
    "    condition_status = all(digit_statuses)\n",
    "    precondition_statuses.append((\"ints or floats\", condition_status))\n",
    "        \n",
    "    return precondition_statuses"
   ]
  },
  {
   "cell_type": "markdown",
   "metadata": {},
   "source": [
    "We can validate this function works."
   ]
  },
  {
   "cell_type": "code",
   "execution_count": 13,
   "metadata": {},
   "outputs": [
    {
     "data": {
      "text/plain": [
       "[('tuple or list data structure', True),\n",
       " ('two values in data structures', True),\n",
       " ('ints or floats', True)]"
      ]
     },
     "execution_count": 13,
     "metadata": {},
     "output_type": "execute_result"
    }
   ],
   "source": [
    "evaluate_arguments_to_calculate_slope([3, 2])"
   ]
  },
  {
   "cell_type": "markdown",
   "metadata": {},
   "source": [
    "`[3, 2]` meets all our condtions so we see 3 `True` value."
   ]
  },
  {
   "cell_type": "code",
   "execution_count": 14,
   "metadata": {},
   "outputs": [
    {
     "data": {
      "text/plain": [
       "[('tuple or list data structure', True),\n",
       " ('two values in data structures', True),\n",
       " ('ints or floats', False)]"
      ]
     },
     "execution_count": 14,
     "metadata": {},
     "output_type": "execute_result"
    }
   ],
   "source": [
    "evaluate_arguments_to_calculate_slope([3, \"hi\"])"
   ]
  },
  {
   "cell_type": "markdown",
   "metadata": {},
   "source": [
    "`[3, \"hi\"]` doesn't meet all our conditions since `\"hi\"` is a string, not a `float` or `int`."
   ]
  },
  {
   "cell_type": "markdown",
   "metadata": {},
   "source": [
    "#### Programatically analyze condition results"
   ]
  },
  {
   "cell_type": "markdown",
   "metadata": {},
   "source": [
    "We can automate the manual analysis to see the returned boolean values of our `evaluate_arguments_to_calculate_slope` function."
   ]
  },
  {
   "cell_type": "code",
   "execution_count": 15,
   "metadata": {},
   "outputs": [],
   "source": [
    "def all_argument_conditions_met(condition_results):\n",
    "    \"\"\"\n",
    "    Evalute booleans of conditions\n",
    "    \n",
    "    Keyword arguments:\n",
    "    condition_results -- list of tuples of (condition name, boolean status)\n",
    "    \"\"\"\n",
    "    conditions_pass = True\n",
    "    \n",
    "    for condition in condition_results:\n",
    "        if condition[1] is False:\n",
    "            conditions_pass = False\n",
    "    return conditions_pass"
   ]
  },
  {
   "cell_type": "code",
   "execution_count": 16,
   "metadata": {},
   "outputs": [
    {
     "data": {
      "text/plain": [
       "False"
      ]
     },
     "execution_count": 16,
     "metadata": {},
     "output_type": "execute_result"
    }
   ],
   "source": [
    "all_argument_conditions_met([('tuple or list data structure', True), ('two values in data structures', True), ('ints or floats', False)])"
   ]
  },
  {
   "cell_type": "markdown",
   "metadata": {},
   "source": [
    "Our `all_argument_conditions_met` evaluates to `False` because one condition was `False`"
   ]
  },
  {
   "cell_type": "markdown",
   "metadata": {},
   "source": [
    "### Put All Our Functions Together"
   ]
  },
  {
   "cell_type": "code",
   "execution_count": 17,
   "metadata": {},
   "outputs": [],
   "source": [
    "def slope_of_line(point_one, point_two):\n",
    "    \"\"\"\n",
    "    Calculate slope of a line given two points\n",
    "    \n",
    "    Keyword arguments:\n",
    "    point_one -- tuple of two numeric values\n",
    "    point_two -- tuple of two numeric values\n",
    "    \"\"\"\n",
    "    return_value = None\n",
    "    \n",
    "    point_one_status = all_argument_conditions_met(evaluate_arguments_to_calculate_slope(point_one))\n",
    "    point_two_status = all_argument_conditions_met(evaluate_arguments_to_calculate_slope(point_two))\n",
    "    \n",
    "    if point_one_status is True and point_two_status is True:\n",
    "        x_index = 0\n",
    "        y_index = 1\n",
    "        numerator = point_two[y_index] - point_one[y_index]\n",
    "        denominator = point_two[x_index] - point_one[x_index]\n",
    "        slope = numerator / denominator\n",
    "        return_value = slope\n",
    "    else:\n",
    "        return_value = \"We can't calculate the slope because one of our pre-conditions was not met\"\n",
    "    return return_value"
   ]
  },
  {
   "cell_type": "markdown",
   "metadata": {},
   "source": [
    "### Test Function with Various Point Combinations"
   ]
  },
  {
   "cell_type": "code",
   "execution_count": 18,
   "metadata": {},
   "outputs": [],
   "source": [
    "point_one = (1, 1)\n",
    "point_two = (2, 3)\n",
    "point_three = (5, 5)"
   ]
  },
  {
   "cell_type": "code",
   "execution_count": 19,
   "metadata": {},
   "outputs": [
    {
     "name": "stdout",
     "output_type": "stream",
     "text": [
      "2.0\n"
     ]
    }
   ],
   "source": [
    "print(slope_of_line(point_one, point_two))  # should return 2"
   ]
  },
  {
   "cell_type": "code",
   "execution_count": 20,
   "metadata": {},
   "outputs": [
    {
     "name": "stdout",
     "output_type": "stream",
     "text": [
      "1.0\n"
     ]
    }
   ],
   "source": [
    "print(slope_of_line(point_one, point_three)) # should return 1"
   ]
  },
  {
   "cell_type": "code",
   "execution_count": 21,
   "metadata": {},
   "outputs": [
    {
     "name": "stdout",
     "output_type": "stream",
     "text": [
      "0.6666666666666666\n"
     ]
    }
   ],
   "source": [
    "print(slope_of_line(point_two, point_three)) # should return 2/3 or 0.67"
   ]
  }
 ],
 "metadata": {
  "kernelspec": {
   "display_name": "Python 3",
   "language": "python",
   "name": "python3"
  },
  "language_info": {
   "codemirror_mode": {
    "name": "ipython",
    "version": 3
   },
   "file_extension": ".py",
   "mimetype": "text/x-python",
   "name": "python",
   "nbconvert_exporter": "python",
   "pygments_lexer": "ipython3",
   "version": "3.7.5"
  }
 },
 "nbformat": 4,
 "nbformat_minor": 4
}
