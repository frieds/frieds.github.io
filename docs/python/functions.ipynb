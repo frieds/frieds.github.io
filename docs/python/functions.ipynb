{
 "cells": [
  {
   "cell_type": "markdown",
   "metadata": {},
   "source": [
    "# Build Functions to Easily Perform Repeated Operations\n",
    "\n",
    "Date published: 2018-02-18\n",
    "\n",
    "Category: Python\n",
    "\n",
    "Subcategory: Beginner Concepts\n",
    "\n",
    "Tags: functions, lists, loops, math\n"
   ]
  },
  {
   "cell_type": "markdown",
   "metadata": {},
   "source": [
    "**Functions** allow you to store reusable logic."
   ]
  },
  {
   "cell_type": "markdown",
   "metadata": {},
   "source": [
    "### Function Terminology"
   ]
  },
  {
   "cell_type": "code",
   "execution_count": 1,
   "metadata": {
    "collapsed": false,
    "jupyter": {
     "outputs_hidden": false
    }
   },
   "outputs": [
    {
     "data": {
      "text/plain": [
       "int"
      ]
     },
     "execution_count": 1,
     "metadata": {},
     "output_type": "execute_result"
    }
   ],
   "source": [
    "type(32)"
   ]
  },
  {
   "cell_type": "markdown",
   "metadata": {},
   "source": [
    "The **name** of the function is the words that precede the parentheses.\n",
    "\n",
    "The expression in parentheses is the **argument** of the function. Functions don't *need* arguments; functions can contain *multiple* arguments. \n",
    "\n",
    "The result for this function is outputted below the function and called the **return** value. Every function returns a value.\n",
    "\n",
    "In the statement above, our **function** named `type` takes in an **argument** of `32` and returns `int` - an integer. [`type`](https://docs.python.org/3/library/functions.html#type) is a function built into the Python standard library. So, the function has already been defined for us.\n",
    "\n",
    "In the statement above, we **call** the function `type` to perform the function's computation and **return** the result.\n",
    "\n",
    "Execution of the **return** statement inside a function exits the function."
   ]
  },
  {
   "cell_type": "markdown",
   "metadata": {},
   "source": [
    "### Bike Trips Example"
   ]
  },
  {
   "cell_type": "markdown",
   "metadata": {},
   "source": [
    "Below is a sample of data for bike trips as a list of lists. Each inner list holds the data for a trip formatted as *[duration in seconds, date]*."
   ]
  },
  {
   "cell_type": "code",
   "execution_count": 2,
   "metadata": {
    "collapsed": true,
    "jupyter": {
     "outputs_hidden": true
    }
   },
   "outputs": [],
   "source": [
    "bike_trips = [[475, '2018-02-18'],\n",
    "              [825, '2018-02-18'],\n",
    "              [1034, '2018-02-18'],\n",
    "              [980, '2018-02-18'],\n",
    "              [1350, '2018-02-19'],\n",
    "              [1880, '2018-02-19'],\n",
    "              [1950, '2018-02-19'],\n",
    "              [1530, '2018-02-19']\n",
    "             ]\n"
   ]
  },
  {
   "cell_type": "markdown",
   "metadata": {},
   "source": [
    "We want to answer these questions:\n",
    "\n",
    "* What is the average trip duration on any given day?\n",
    "* How many trips were taken on any given day?"
   ]
  },
  {
   "cell_type": "markdown",
   "metadata": {},
   "source": [
    "In terms of Python, there's 3 componenents we want to create:\n",
    "\n",
    "1. Sum of trip durations on a day\n",
    "2. Count of trips on a day\n",
    "3. Averge trip duration on a day\n",
    "\n",
    "We can create our *own* functions with logic for each component."
   ]
  },
  {
   "cell_type": "markdown",
   "metadata": {},
   "source": [
    "#### Sum of trip durations on a day"
   ]
  },
  {
   "cell_type": "markdown",
   "metadata": {},
   "source": [
    "`def` is a Python keyword that indicates the start of a function definition.\n",
    "\n",
    "The name preceding `def` is the function name. Python recommends lowercase letters and underscores between words - similar to naming variables.\n",
    "\n",
    "An argument passed to `sum_seconds_biked_day` is assigned to a variable called a **parameter**. We use this **parameter** in the body of our function.\n",
    "\n",
    "Inside our functions, you'll see text in triple quotes. These triple quotes are docstrings - plain text as comments to document the logic of our function."
   ]
  },
  {
   "cell_type": "code",
   "execution_count": 2,
   "metadata": {},
   "outputs": [],
   "source": [
    "# global variables below can be used in any function\n",
    "index_trip_duration_seconds = 0\n",
    "index_trip_date = 1\n",
    "\n",
    "\n",
    "def sum_seconds_biked_day(ride_date):\n",
    "    \"\"\"\n",
    "    Find the sum of seconds biked on a given day\n",
    "    \n",
    "    :param ride_date: string in format year-month-day\n",
    "    :returns sum_trips_seconds: sum of seconds biked on a single day\n",
    "    \"\"\"\n",
    "    sum_trips_seconds = 0\n",
    "    for trip in bike_trips:\n",
    "        if trip[index_trip_date] == ride_date:\n",
    "            sum_trips_seconds += trip[index_trip_duration_seconds]\n",
    "        \n",
    "    return sum_trips_seconds"
   ]
  },
  {
   "cell_type": "markdown",
   "metadata": {},
   "source": [
    "#### Count of trips on a day"
   ]
  },
  {
   "cell_type": "code",
   "execution_count": 5,
   "metadata": {},
   "outputs": [],
   "source": [
    "def count_bike_trips_day(ride_date):\n",
    "    \"\"\"\n",
    "    Count bike trips on a given day\n",
    "    \n",
    "    :param ride_date: string in format year-month-day\n",
    "    :returns count: count of unique bike trips in a day\n",
    "    \"\"\"\n",
    "    count = 0\n",
    "    for trip in bike_trips:\n",
    "        if trip[index_trip_date] == ride_date:\n",
    "            count += 1\n",
    "    return count"
   ]
  },
  {
   "cell_type": "markdown",
   "metadata": {},
   "source": [
    "#### Average trip duration on a day"
   ]
  },
  {
   "cell_type": "markdown",
   "metadata": {},
   "source": [
    "An *average* computation is the sum of events divided by the count of events.\n",
    "\n",
    "We can **call** our two previously created functions inside a new function."
   ]
  },
  {
   "cell_type": "code",
   "execution_count": 3,
   "metadata": {
    "collapsed": true,
    "jupyter": {
     "outputs_hidden": true
    }
   },
   "outputs": [],
   "source": [
    "def average_trip_duration_seconds_day(ride_date):\n",
    "    \"\"\"\n",
    "    Compute average trip duration in seconds \n",
    "    \n",
    "    :param ride_date: string in format year-month-day\n",
    "    :returns average_trip_duration_in_seconds: average duration of trips in a day - units are seconds\n",
    "    \"\"\"\n",
    "    average_trip_duration_in_seconds = sum_seconds_biked_day(ride_date) / count_bike_trips_day(ride_date)\n",
    "    return average_trip_duration_in_seconds"
   ]
  },
  {
   "cell_type": "markdown",
   "metadata": {},
   "source": [
    "In `average_trip_duration_seconds_day`, the *flow of execution* is to call the function `sum_seconds_biked_day` and divide the **return** value by the **return** value of `count_bike_trips_day`."
   ]
  },
  {
   "cell_type": "markdown",
   "metadata": {},
   "source": [
    "#### Answer questions for February 18th, 2018"
   ]
  },
  {
   "cell_type": "code",
   "execution_count": 6,
   "metadata": {
    "collapsed": false,
    "jupyter": {
     "outputs_hidden": false
    }
   },
   "outputs": [
    {
     "data": {
      "text/plain": [
       "3314"
      ]
     },
     "execution_count": 6,
     "metadata": {},
     "output_type": "execute_result"
    }
   ],
   "source": [
    "sum_seconds_biked_day('2018-02-18')"
   ]
  },
  {
   "cell_type": "code",
   "execution_count": 7,
   "metadata": {
    "collapsed": false,
    "jupyter": {
     "outputs_hidden": false
    }
   },
   "outputs": [
    {
     "data": {
      "text/plain": [
       "4"
      ]
     },
     "execution_count": 7,
     "metadata": {},
     "output_type": "execute_result"
    }
   ],
   "source": [
    "count_bike_trips_day('2018-02-18')"
   ]
  },
  {
   "cell_type": "code",
   "execution_count": 8,
   "metadata": {
    "collapsed": false,
    "jupyter": {
     "outputs_hidden": false
    }
   },
   "outputs": [
    {
     "data": {
      "text/plain": [
       "828.5"
      ]
     },
     "execution_count": 8,
     "metadata": {},
     "output_type": "execute_result"
    }
   ],
   "source": [
    "average_trip_duration_seconds_day('2018-02-18')"
   ]
  },
  {
   "cell_type": "markdown",
   "metadata": {},
   "source": [
    "#### Present data in better readable format"
   ]
  },
  {
   "cell_type": "markdown",
   "metadata": {},
   "source": [
    "It's weird to say the average trip duration for February 18th, 2018 is 825.5 seconds. You should pronounce it in days.\n",
    "\n",
    "Let's design a function to present the average trip durations in a more typical format such as 38 minutes and 40 seconds.\n",
    "\n",
    "I'll use Python operations for [floor division](https://docs.python.org/3.1/tutorial/introduction.html#numbers) and [modulo](https://docs.python.org/3/reference/expressions.html#binary-arithmetic-operations)."
   ]
  },
  {
   "cell_type": "code",
   "execution_count": 4,
   "metadata": {},
   "outputs": [],
   "source": [
    "seconds_in_a_minute = 60\n",
    "\n",
    "def convert_seconds_to_minutes_seconds_readable_format(total_seconds):\n",
    "    \"\"\"\n",
    "    Convert a seconds value into a clean human readable format of X minutes and Y seconds\n",
    "    \n",
    "    :param total_seconds: seconds value\n",
    "    :returns readable_statement: human readable string of minutes and seconds\n",
    "    \"\"\"\n",
    "    minutes = total_seconds // seconds_in_a_minute\n",
    "    seconds = total_seconds % seconds_in_a_minute\n",
    "    readable_statement = str(minutes) + \" minutes and \" + str(seconds) + \" seconds\"\n",
    "    return readable_statement"
   ]
  },
  {
   "cell_type": "markdown",
   "metadata": {},
   "source": [
    "We pass a function call as an argument to a function too."
   ]
  },
  {
   "cell_type": "code",
   "execution_count": 10,
   "metadata": {
    "collapsed": false,
    "jupyter": {
     "outputs_hidden": false
    }
   },
   "outputs": [
    {
     "data": {
      "text/plain": [
       "'13.0 minutes and 48.5 seconds'"
      ]
     },
     "execution_count": 10,
     "metadata": {},
     "output_type": "execute_result"
    }
   ],
   "source": [
    "convert_seconds_to_minutes_seconds_readable_format(average_trip_duration_seconds_day('2018-02-18'))"
   ]
  },
  {
   "cell_type": "markdown",
   "metadata": {},
   "source": [
    "### Why are Functions Important"
   ]
  },
  {
   "cell_type": "markdown",
   "metadata": {},
   "source": [
    "Creating a new function gives you an opportunity to coordinate similar statements together, which makes your code easier to read and debug. Our seconds conversion definition utilizes similar concepts with seconds, minutes and math logic around time conversions.\n",
    "\n",
    "Functions can make a program smaller by eliminating repetitive code. You'll often hear in programming the acronym DRY - do not repeat yourself. We wrapped `count_bike_trips_day` in a function and can utilize it to calculate *just* the count of trips in a day as well as the average trip duration of rides in a day. We *reuse* our counting logic. It is *much* more concise to call a function twice than to copy and paste the body!\n",
    "\n",
    "Using multiple functions in a program allows you to easily write logic in components - step by step - just as we did with our sum, count and average functions. I find it's quicker to get to the final solution by writing out small functions and utilize them together.\n",
    "\n",
    "Well-designed functions can be used in multiple programs. Our `convert_seconds_to_minutes_seconds_readable_format` can used to analyze the time it takes to repair bikes, the amount of time people spend in a bike store and more. "
   ]
  }
 ],
 "metadata": {
  "kernelspec": {
   "display_name": "Python 3",
   "language": "python",
   "name": "python3"
  },
  "language_info": {
   "codemirror_mode": {
    "name": "ipython",
    "version": 3
   },
   "file_extension": ".py",
   "mimetype": "text/x-python",
   "name": "python",
   "nbconvert_exporter": "python",
   "pygments_lexer": "ipython3",
   "version": "3.7.5"
  },
  "toc": {
   "colors": {
    "hover_highlight": "#DAA520",
    "navigate_num": "#000000",
    "navigate_text": "#333333",
    "running_highlight": "#FF0000",
    "selected_highlight": "#FFD700",
    "sidebar_border": "#EEEEEE",
    "wrapper_background": "#FFFFFF"
   },
   "moveMenuLeft": true,
   "nav_menu": {
    "height": "189px",
    "width": "252px"
   },
   "navigate_menu": true,
   "number_sections": true,
   "sideBar": true,
   "threshold": 4,
   "toc_cell": false,
   "toc_section_display": "block",
   "toc_window_display": false,
   "widenNotebook": false
  }
 },
 "nbformat": 4,
 "nbformat_minor": 4
}
