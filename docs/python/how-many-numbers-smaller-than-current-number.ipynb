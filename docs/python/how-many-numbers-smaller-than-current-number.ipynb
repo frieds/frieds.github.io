{
 "cells": [
  {
   "cell_type": "markdown",
   "metadata": {},
   "source": [
    "# How Many Numbers Are Smaller Than the Current Number (via Leetcode)\n",
    "\n",
    "Date published: 2020-04-07\n",
    "\n",
    "Category: Python\n",
    "\n",
    "Subcategory: Beginner Algorithms\n",
    "\n",
    "Tags: functions, loops, lists, dictionaries\n"
   ]
  },
  {
   "cell_type": "markdown",
   "metadata": {},
   "source": [
    "This problem can be found on <a href=\"https://leetcode.com/problems/how-many-numbers-are-smaller-than-the-current-number/\" target=\"_blank\">Leetcode</a>.\n",
    "\n",
    "Given the array `nums`, for each `nums[i]` find out how many numbers in the array are smaller than it. That is, for each `nums[i]` you have to count the number of valid `j`'s such that `j != i` and `nums[j] < nums[i]`.\n",
    "\n",
    "Return the answer in an array."
   ]
  },
  {
   "cell_type": "markdown",
   "metadata": {},
   "source": [
    "#### Test Cases"
   ]
  },
  {
   "cell_type": "code",
   "execution_count": 1,
   "metadata": {},
   "outputs": [],
   "source": [
    "# assert smaller_numbers_than_current([8, 1, 2, 2, 3]) ==[4, 0, 1, 1, 3]"
   ]
  },
  {
   "cell_type": "markdown",
   "metadata": {},
   "source": [
    "In the test case above, here is my reasoning for the solution:\n",
    "\n",
    "index in input list | number | numbers in list smaller than number | count numbers in list smaller than number\n",
    "--- | --- | --- | ---\n",
    "0 | 8 | [1, 2, 2, 3] | 4\n",
    "1 | 1 | [ ] | 0\n",
    "2 | 2 | [1] | 1\n",
    "3 | 2 | [1] | 1\n",
    "4 | 3 | [1, 2, 2] | 3"
   ]
  },
  {
   "cell_type": "code",
   "execution_count": 2,
   "metadata": {},
   "outputs": [],
   "source": [
    "# assert smaller_numbers_than_current([7, 7, 7, 7]) ==[0, 0, 0, 0]"
   ]
  },
  {
   "cell_type": "markdown",
   "metadata": {},
   "source": [
    "In the test case above, here is my reasoning for the solution:\n",
    "\n",
    "index in input list | number | numbers in list smaller than number | count numbers in list smaller than number\n",
    "--- | --- | --- | ---\n",
    "0 | 7 | [ ] | 0\n",
    "1 | 7 | [ ] | 0\n",
    "2 | 7 | [ ] | 0\n",
    "3 | 7 | [ ] | 0"
   ]
  },
  {
   "cell_type": "markdown",
   "metadata": {},
   "source": [
    "### Pseudocode"
   ]
  },
  {
   "cell_type": "markdown",
   "metadata": {},
   "source": [
    "This pseudocode doesn't cover every detail - but most of the high-level logic."
   ]
  },
  {
   "cell_type": "code",
   "execution_count": 23,
   "metadata": {},
   "outputs": [],
   "source": [
    "# create a function that takes in a list of numeric values\n",
    "\n",
    "    # created sorted list \n",
    "    \n",
    "    # iterate over item in sorted list\n",
    "        # make dictionary with keys as item and value as count of items smaller than it\n",
    "        \n",
    "    # create empty output_list\n",
    "    \n",
    "    # iterate over each item in input list\n",
    "        # look up in the item as a key in the dictionary and add value to output_list"
   ]
  },
  {
   "cell_type": "markdown",
   "metadata": {},
   "source": [
    "Let `n` be the length of items in the input list.\n",
    "\n",
    "The sorted list will hold `n` values and so space complexity is O(n). The dictionary can hold up to `n` unique values which in the worst case scenario is `n`; space complexity is O(n). Total space complexity is O(n) + O(n) which is O(2n). \n",
    "\n",
    "Time complexity to create a sorted list is O(nlogn). Iteration over the sorted list is O(n). Iteration over the input list is O(n). Therefore, total time complexity is O(2n) + O(nlogn)."
   ]
  },
  {
   "cell_type": "markdown",
   "metadata": {},
   "source": [
    "### Code"
   ]
  },
  {
   "cell_type": "code",
   "execution_count": 24,
   "metadata": {},
   "outputs": [],
   "source": [
    "import logging\n",
    "logging.basicConfig(level=logging.DEBUG, format='%(asctime)-25s %(levelname)-7s %(lineno)-4s %(message)-8s')                      "
   ]
  },
  {
   "cell_type": "code",
   "execution_count": 25,
   "metadata": {},
   "outputs": [],
   "source": [
    "def smaller_numbers_than_current(input_list):\n",
    "    sorted_list = sorted(input_list)\n",
    "    logging.debug(f\"sorted_list: {sorted_list}\")\n",
    "    \n",
    "    logging.debug(\"dictionary: keys are items in input list; values = count of nums smaller than item\")\n",
    "    dict_count_nums_smaller_than_num = {}\n",
    "    logging.debug(\"create variable for running count of nums smaller than item in list\")\n",
    "    count_nums_smaller = 0\n",
    "    \n",
    "    logging.debug(\"1st number in input list will always have 0 elements smaller than it\")\n",
    "    logging.debug(\"add item: 0 to the dict\")\n",
    "    dict_count_nums_smaller_than_num[sorted_list[0]] = count_nums_smaller\n",
    "    \n",
    "    logging.debug(\"iterate from index of 1 to length of sorted_list\")\n",
    "    for index in range(1, len(sorted_list)):\n",
    "\n",
    "        logging.debug(f\"num: {sorted_list[index]} & previous_num: {sorted_list[index-1]}\")        \n",
    "        logging.debug(\"increment count_nums_smaller by 1\")\n",
    "        count_nums_smaller += 1\n",
    "        \n",
    "        if sorted_list[index] != sorted_list[index-1]:\n",
    "            logging.debug(\"this num in iteration is not equal to previous num in sorted_list\")\n",
    "            logging.debug(\"add key-value pair to dictionary\")\n",
    "            dict_count_nums_smaller_than_num[sorted_list[index]] = count_nums_smaller  \n",
    "              \n",
    "    logging.debug(f\"dict_count_nums_smaller_than_num: {dict_count_nums_smaller_than_num}\")\n",
    "    output_list = []\n",
    "\n",
    "    logging.debug(\"for each item in input list, append dict[item] to output list\")\n",
    "    for item in input_list:\n",
    "        count_nums_smaller = dict_count_nums_smaller_than_num[item] \n",
    "        logging.debug(f\"count of numbers smaller than {item} is {count_nums_smaller}\")\n",
    "        output_list.append(count_nums_smaller)\n",
    "        \n",
    "    return output_list"
   ]
  },
  {
   "cell_type": "markdown",
   "metadata": {},
   "source": [
    "### Validate Code with Test Cases"
   ]
  },
  {
   "cell_type": "code",
   "execution_count": 26,
   "metadata": {},
   "outputs": [
    {
     "name": "stderr",
     "output_type": "stream",
     "text": [
      "2020-03-26 22:00:37,020   DEBUG   3    sorted_list: [1, 2, 2, 3, 8]\n",
      "2020-03-26 22:00:37,021   DEBUG   5    dictionary: keys are items in input list; values = count of nums smaller than item\n",
      "2020-03-26 22:00:37,022   DEBUG   7    create variable for running count of nums smaller than item in list\n",
      "2020-03-26 22:00:37,024   DEBUG   10   1st number in input list will always have 0 elements smaller than it\n",
      "2020-03-26 22:00:37,026   DEBUG   11   add item: 0 to the dict\n",
      "2020-03-26 22:00:37,029   DEBUG   14   iterate from index of 1 to length of sorted_list\n",
      "2020-03-26 22:00:37,030   DEBUG   17   num: 2 & previous_num: 1\n",
      "2020-03-26 22:00:37,032   DEBUG   18   increment count_nums_smaller by 1\n",
      "2020-03-26 22:00:37,033   DEBUG   22   this num in iteration is not equal to previous num in sorted_list\n",
      "2020-03-26 22:00:37,037   DEBUG   23   add key-value pair to dictionary\n",
      "2020-03-26 22:00:37,038   DEBUG   17   num: 2 & previous_num: 2\n",
      "2020-03-26 22:00:37,040   DEBUG   18   increment count_nums_smaller by 1\n",
      "2020-03-26 22:00:37,041   DEBUG   17   num: 3 & previous_num: 2\n",
      "2020-03-26 22:00:37,041   DEBUG   18   increment count_nums_smaller by 1\n",
      "2020-03-26 22:00:37,043   DEBUG   22   this num in iteration is not equal to previous num in sorted_list\n",
      "2020-03-26 22:00:37,044   DEBUG   23   add key-value pair to dictionary\n",
      "2020-03-26 22:00:37,045   DEBUG   17   num: 8 & previous_num: 3\n",
      "2020-03-26 22:00:37,048   DEBUG   18   increment count_nums_smaller by 1\n",
      "2020-03-26 22:00:37,051   DEBUG   22   this num in iteration is not equal to previous num in sorted_list\n",
      "2020-03-26 22:00:37,052   DEBUG   23   add key-value pair to dictionary\n",
      "2020-03-26 22:00:37,053   DEBUG   26   dict_count_nums_smaller_than_num: {1: 0, 2: 1, 3: 3, 8: 4}\n",
      "2020-03-26 22:00:37,054   DEBUG   29   for each item in input list, append dict[item] to output list\n",
      "2020-03-26 22:00:37,056   DEBUG   32   count of numbers smaller than 8 is 4\n",
      "2020-03-26 22:00:37,057   DEBUG   32   count of numbers smaller than 1 is 0\n",
      "2020-03-26 22:00:37,058   DEBUG   32   count of numbers smaller than 2 is 1\n",
      "2020-03-26 22:00:37,059   DEBUG   32   count of numbers smaller than 2 is 1\n",
      "2020-03-26 22:00:37,060   DEBUG   32   count of numbers smaller than 3 is 3\n"
     ]
    }
   ],
   "source": [
    "assert smaller_numbers_than_current([8, 1, 2, 2, 3]) ==[4, 0, 1, 1, 3]"
   ]
  },
  {
   "cell_type": "code",
   "execution_count": 27,
   "metadata": {},
   "outputs": [
    {
     "name": "stderr",
     "output_type": "stream",
     "text": [
      "2020-03-26 22:00:37,070   DEBUG   3    sorted_list: [7, 7, 7, 7]\n",
      "2020-03-26 22:00:37,071   DEBUG   5    dictionary: keys are items in input list; values = count of nums smaller than item\n",
      "2020-03-26 22:00:37,071   DEBUG   7    create variable for running count of nums smaller than item in list\n",
      "2020-03-26 22:00:37,073   DEBUG   10   1st number in input list will always have 0 elements smaller than it\n",
      "2020-03-26 22:00:37,075   DEBUG   11   add item: 0 to the dict\n",
      "2020-03-26 22:00:37,076   DEBUG   14   iterate from index of 1 to length of sorted_list\n",
      "2020-03-26 22:00:37,078   DEBUG   17   num: 7 & previous_num: 7\n",
      "2020-03-26 22:00:37,079   DEBUG   18   increment count_nums_smaller by 1\n",
      "2020-03-26 22:00:37,080   DEBUG   17   num: 7 & previous_num: 7\n",
      "2020-03-26 22:00:37,081   DEBUG   18   increment count_nums_smaller by 1\n",
      "2020-03-26 22:00:37,083   DEBUG   17   num: 7 & previous_num: 7\n",
      "2020-03-26 22:00:37,084   DEBUG   18   increment count_nums_smaller by 1\n",
      "2020-03-26 22:00:37,086   DEBUG   26   dict_count_nums_smaller_than_num: {7: 0}\n",
      "2020-03-26 22:00:37,087   DEBUG   29   for each item in input list, append dict[item] to output list\n",
      "2020-03-26 22:00:37,088   DEBUG   32   count of numbers smaller than 7 is 0\n",
      "2020-03-26 22:00:37,089   DEBUG   32   count of numbers smaller than 7 is 0\n",
      "2020-03-26 22:00:37,090   DEBUG   32   count of numbers smaller than 7 is 0\n",
      "2020-03-26 22:00:37,090   DEBUG   32   count of numbers smaller than 7 is 0\n"
     ]
    }
   ],
   "source": [
    "assert smaller_numbers_than_current([7, 7, 7, 7]) ==[0, 0, 0, 0]"
   ]
  }
 ],
 "metadata": {
  "kernelspec": {
   "display_name": "Python 3",
   "language": "python",
   "name": "python3"
  },
  "language_info": {
   "codemirror_mode": {
    "name": "ipython",
    "version": 3
   },
   "file_extension": ".py",
   "mimetype": "text/x-python",
   "name": "python",
   "nbconvert_exporter": "python",
   "pygments_lexer": "ipython3",
   "version": "3.7.5"
  }
 },
 "nbformat": 4,
 "nbformat_minor": 4
}
