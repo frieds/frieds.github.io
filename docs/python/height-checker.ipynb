{
 "cells": [
  {
   "cell_type": "markdown",
   "metadata": {},
   "source": [
    "# Height Checker (via Leetcode)\n",
    "\n",
    "Date published: 2020-04-12\n",
    "\n",
    "Category: Python\n",
    "\n",
    "Subcategory: Beginner Algorithms\n",
    "\n",
    "Tags: functions, loops, sets\n"
   ]
  },
  {
   "cell_type": "markdown",
   "metadata": {},
   "source": [
    "This problem can be found on <a href=\"https://leetcode.com/problems/height-checker/\" target=\"_blank\">Leetcode</a>.\n",
    "\n",
    "**Problem setup**:\n",
    "\n",
    "Students are presented in a line in a random height order. We want students to stand in an increasing order of height for an annual photo. How many students need to change positions? "
   ]
  },
  {
   "cell_type": "markdown",
   "metadata": {},
   "source": [
    "### Test Cases"
   ]
  },
  {
   "cell_type": "code",
   "execution_count": 10,
   "metadata": {},
   "outputs": [],
   "source": [
    "# assert height_checker([1, 1, 4, 3, 2]) == 2"
   ]
  },
  {
   "cell_type": "markdown",
   "metadata": {},
   "source": [
    "The correct order of students should be `[1, 1, 2, 3, 4]`. To reach this result from the original order of students, the students originally at index 2 and index 4 must be moved. That is 2 students."
   ]
  },
  {
   "cell_type": "code",
   "execution_count": 11,
   "metadata": {},
   "outputs": [],
   "source": [
    "# assert height_checker([1, 2, 3]) == 0"
   ]
  },
  {
   "cell_type": "markdown",
   "metadata": {},
   "source": [
    "This is the correct order of students in increasing height order so 0 students need to be moved."
   ]
  },
  {
   "cell_type": "code",
   "execution_count": 12,
   "metadata": {},
   "outputs": [],
   "source": [
    "# assert height_checker([3, 1, 2]) == 3"
   ]
  },
  {
   "cell_type": "markdown",
   "metadata": {},
   "source": [
    "Students in increasing height order would be `[1, 2, 3]`. None of the original students are in the corrent position for increasing height order. There's 3 total students and all 3 must be moved."
   ]
  },
  {
   "cell_type": "markdown",
   "metadata": {},
   "source": [
    "### Pseudocode"
   ]
  },
  {
   "cell_type": "code",
   "execution_count": 13,
   "metadata": {},
   "outputs": [],
   "source": [
    "# create a function that takes in an input list of heights\n",
    "\n",
    "    # create a new list of the heights sorted in increasing order\n",
    "    \n",
    "    # assign variable positions_changed to 0\n",
    "    \n",
    "    # iterate over original heights list and sorted_heights at the same time\n",
    "        # compare height value in original heights list and sorted_heights...\n",
    "        # if the values are unequal\n",
    "            # a student is in the wrong position...\n",
    "            # increase positions_changed by 1\n",
    "    \n",
    "    # return positions_changed"
   ]
  },
  {
   "cell_type": "markdown",
   "metadata": {},
   "source": [
    "### Code Solution"
   ]
  },
  {
   "cell_type": "code",
   "execution_count": 14,
   "metadata": {},
   "outputs": [],
   "source": [
    " def height_checker(heights):\n",
    "        sorted_heights = sorted(heights)\n",
    "        \n",
    "        positions_changed = 0\n",
    "        for position_old, position_new in zip(heights, sorted_heights):\n",
    "            if position_old != position_new:\n",
    "                positions_changed += 1\n",
    "                \n",
    "        return positions_changed"
   ]
  },
  {
   "cell_type": "markdown",
   "metadata": {},
   "source": [
    "### Complexity"
   ]
  },
  {
   "cell_type": "markdown",
   "metadata": {},
   "source": [
    "Let `n` be the count of items in the `heights` input list.\n",
    "\n",
    "**Time complexity**:\n",
    "\n",
    "- Operation to sort `heights` is O(nlogn).\n",
    "- Iteration over `heights` and `sorted_heights` zipped together as an iterator is O(n).\n",
    "\n",
    "Total time complexity is O(2nlogn). The 2 is insignificant so it's simply O(n).\n",
    "\n",
    "**Space complexity**:\n",
    "\n",
    "- `sorted_heights` is an O(n) operation.\n",
    "\n",
    "Total space complexity is O(n)."
   ]
  },
  {
   "cell_type": "markdown",
   "metadata": {},
   "source": [
    "### Verify Solution with Test Cases"
   ]
  },
  {
   "cell_type": "code",
   "execution_count": 15,
   "metadata": {},
   "outputs": [],
   "source": [
    "assert height_checker([1, 1, 4, 3, 2]) == 2"
   ]
  },
  {
   "cell_type": "code",
   "execution_count": 16,
   "metadata": {},
   "outputs": [],
   "source": [
    "assert height_checker([1, 2, 3]) == 0"
   ]
  },
  {
   "cell_type": "code",
   "execution_count": 17,
   "metadata": {},
   "outputs": [],
   "source": [
    "assert height_checker([3, 1, 2]) == 3"
   ]
  }
 ],
 "metadata": {
  "kernelspec": {
   "display_name": "Python 3",
   "language": "python",
   "name": "python3"
  },
  "language_info": {
   "codemirror_mode": {
    "name": "ipython",
    "version": 3
   },
   "file_extension": ".py",
   "mimetype": "text/x-python",
   "name": "python",
   "nbconvert_exporter": "python",
   "pygments_lexer": "ipython3",
   "version": "3.7.5"
  }
 },
 "nbformat": 4,
 "nbformat_minor": 4
}
