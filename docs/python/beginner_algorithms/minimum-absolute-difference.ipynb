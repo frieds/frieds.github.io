{
 "cells": [
  {
   "cell_type": "markdown",
   "metadata": {},
   "source": [
    "# Minimum Absolute Difference (via Leetcode)\n",
    "\n",
    "Date published: 2020-04-12\n",
    "\n",
    "Category: Python\n",
    "\n",
    "Subcategory: Beginner Algorithms\n",
    "\n",
    "Tags: functions, loops, lists\n"
   ]
  },
  {
   "cell_type": "markdown",
   "metadata": {},
   "source": [
    "Problem on <a href=\"https://leetcode.com/problems/minimum-absolute-difference/\" target=\"_blank\">Leetcode</a>.\n",
    "\n",
    "**Problem statement**:\n",
    "\n",
    "Given a list of distinct integers, find all pairs of items with the minimum absolute difference of any two items.\n",
    "\n",
    "Return a list of pairs in ascending order with respect to other pairs and the first pair item smaller than the second pair item in each pair. "
   ]
  },
  {
   "cell_type": "markdown",
   "metadata": {},
   "source": [
    "#### Explanation of Test Cases"
   ]
  },
  {
   "cell_type": "code",
   "execution_count": null,
   "metadata": {},
   "outputs": [],
   "source": [
    "# assert minimum_absolute_difference([4, 2, 1, 3]) == [[1, 2], [2, 3], [3, 4]]"
   ]
  },
  {
   "cell_type": "markdown",
   "metadata": {},
   "source": [
    "The minimum absolute difference between items is 1; see `2-1` which equals 1. There are three pairs of items that have an absolute difference of 1."
   ]
  },
  {
   "cell_type": "code",
   "execution_count": null,
   "metadata": {},
   "outputs": [],
   "source": [
    "# assert minimum_absolute_difference([1, 4, 6, 8]) == [[4, 6], [6, 8]]"
   ]
  },
  {
   "cell_type": "markdown",
   "metadata": {},
   "source": [
    "The minimum absolute difference between items is 2; see `6-4` which equals 2. There are two pairs of items that have an absolute difference of 2."
   ]
  },
  {
   "cell_type": "markdown",
   "metadata": {},
   "source": [
    "### Solution #1"
   ]
  },
  {
   "cell_type": "markdown",
   "metadata": {},
   "source": [
    "#### Pseudocode "
   ]
  },
  {
   "cell_type": "code",
   "execution_count": null,
   "metadata": {},
   "outputs": [],
   "source": [
    "# create a function that takes in a list of integers\n",
    "\n",
    "    # create sorted list of items\n",
    "    \n",
    "    # find minimum absolute difference value between comparing consecutive values of sorted list\n",
    "\n",
    "    # create pairs_list to hold final pairs of min absolute pairs \n",
    "    \n",
    "    # iterate over items in sorted list:\n",
    "        # compare item to next item...\n",
    "            # if absolute difference of items equals the min:\n",
    "                # append pair as a list to pairs_list\n",
    "                \n",
    "    # return pairs list"
   ]
  },
  {
   "cell_type": "markdown",
   "metadata": {},
   "source": [
    "#### Complexity"
   ]
  },
  {
   "cell_type": "markdown",
   "metadata": {},
   "source": [
    "**Time complexity**:\n",
    "\n",
    "- O(nlogn) to sort list of integers.\n",
    "- O(n) for iteration over all list items to find minimum absolute difference.\n",
    "- O(n) for iteration over all list items to create pairs that meet minimum absolute difference.\n",
    "\n",
    "Total time complexity is O(3nlogn). The 3 is insignificant so it's simply O(nlogn).\n",
    "\n",
    "**Space complexity**:\n",
    "\n",
    "- O(n) to store list of sorted integers.\n",
    "- O(2n) to store final list of pairs because at worst case all items in original list could be included twice.\n",
    "\n",
    "Total space complexity of O(3n). The 3 is insignificant so it's simply O(n)."
   ]
  },
  {
   "cell_type": "markdown",
   "metadata": {},
   "source": [
    "#### Code"
   ]
  },
  {
   "cell_type": "code",
   "execution_count": 3,
   "metadata": {},
   "outputs": [],
   "source": [
    "def minimum_absolute_difference(integers_list):\n",
    "    min_absolute_difference = float(\"inf\")\n",
    "    \n",
    "    sorted_integers_list = sorted(integers_list)\n",
    "    \n",
    "    for index in range(0, len(sorted_integers_list)-1):\n",
    "        small_num = sorted_integers_list[index]\n",
    "        large_num = sorted_integers_list[index+1]\n",
    "        absolute_difference = abs(large_num-small_num)\n",
    "        if absolute_difference <= min_absolute_difference:\n",
    "            min_absolute_difference = absolute_difference\n",
    "    \n",
    "    # we have the exact min_absolute_difference\n",
    "    min_pairs_list = []\n",
    "    \n",
    "    for index in range(0, len(sorted_integers_list)-1):\n",
    "        small_num = sorted_integers_list[index]\n",
    "        large_num = sorted_integers_list[index+1]\n",
    "        absolute_difference = abs(large_num-small_num)\n",
    "        if absolute_difference == min_absolute_difference:\n",
    "            min_pairs_list.append([small_num, large_num])\n",
    "    return min_pairs_list"
   ]
  },
  {
   "cell_type": "markdown",
   "metadata": {},
   "source": [
    "#### Run Test Cases"
   ]
  },
  {
   "cell_type": "code",
   "execution_count": 4,
   "metadata": {},
   "outputs": [],
   "source": [
    "assert minimum_absolute_difference([4, 2, 1, 3]) == [[1, 2], [2, 3], [3, 4]]"
   ]
  },
  {
   "cell_type": "code",
   "execution_count": 5,
   "metadata": {},
   "outputs": [],
   "source": [
    "assert minimum_absolute_difference([1, 4, 6, 8]) == [[4, 6], [6, 8]]"
   ]
  },
  {
   "cell_type": "markdown",
   "metadata": {},
   "source": [
    "#### Reflection on Solution #1"
   ]
  },
  {
   "cell_type": "markdown",
   "metadata": {},
   "source": [
    "While the code above is clean and works, it's clear there's code that's simply copied and pasted. 5 lines - the for loop to the if statement - are repeated. This is OK as it causes high time complexity and reduced space complexity.\n",
    "\n",
    "Alternatively, I can devise a solution with decreased time complexity and increase space complexity. This will be solution #2."
   ]
  },
  {
   "cell_type": "markdown",
   "metadata": {},
   "source": [
    "### Solution #2"
   ]
  },
  {
   "cell_type": "markdown",
   "metadata": {},
   "source": [
    "#### Pseudocode"
   ]
  },
  {
   "cell_type": "code",
   "execution_count": null,
   "metadata": {},
   "outputs": [],
   "source": [
    "# create function that takes in integers list\n",
    "    # sort the list\n",
    "    # min_absolute_difference assigned to a value of positive infinity\n",
    "    # assign min_pairs_list to be empty list\n",
    "\n",
    "    # do one iteration over indices sorted list:\n",
    "        # compare value and previous value (a pair)...    \n",
    "        # if absolute difference of pair is equal to min_absolute_difference:\n",
    "            # append pair as list to min_pairs_list\n",
    "        # else if absolute difference pair is less than min_absolute_difference:\n",
    "            # reassign min_absolute_difference to be new absolute difference of pair\n",
    "            # if min_pairs_list is empty:\n",
    "                # append pair as list to min_pairs_list\n",
    "            # else:\n",
    "                # we don't want to keep old pairs in min_pairs_list that contain higher abs value among pairs...\n",
    "                # reassign min_pairs_list to *just* contain one list item as items in this pair\n",
    "        # else:\n",
    "            # absolute min difference of those values is larger than our min...\n",
    "            # we don't want to append this pair to our min_pairs_list\n",
    "            # pass\n",
    "    # return min_pairs_list"
   ]
  },
  {
   "cell_type": "markdown",
   "metadata": {},
   "source": [
    "#### Code"
   ]
  },
  {
   "cell_type": "code",
   "execution_count": 6,
   "metadata": {},
   "outputs": [],
   "source": [
    "def minimum_absolute_difference(integers_list):\n",
    "    sorted_list = sorted(integers_list)\n",
    "    min_absolute_difference = float(\"inf\")\n",
    "    min_pairs_list = []\n",
    "\n",
    "    for index in range(0, len(sorted_list)-1):\n",
    "        small_num = sorted_list[index]\n",
    "        large_num = sorted_list[index+1]\n",
    "        abs_diff = abs(large_num - small_num)\n",
    "        if abs_diff == min_absolute_difference:\n",
    "            min_pairs_list.append([small_num, large_num])\n",
    "        elif abs_diff < min_absolute_difference:\n",
    "            min_absolute_difference = abs_diff\n",
    "            if len(min_pairs_list) == 0:\n",
    "                min_pairs_list.append([small_num, large_num])\n",
    "            else:\n",
    "                # creates new min_pairs_list with pair items\n",
    "                min_pairs_list = [[small_num, large_num]]\n",
    "        else:\n",
    "            # absolute min difference of pairs is larger than min_absolute_difference\n",
    "            pass\n",
    "\n",
    "    return min_pairs_list"
   ]
  },
  {
   "cell_type": "markdown",
   "metadata": {},
   "source": [
    "#### Complexity"
   ]
  },
  {
   "cell_type": "markdown",
   "metadata": {},
   "source": [
    "**Time complexity**:\n",
    "\n",
    "- O(n) for iteration over all list items\n",
    "- O(nlogn) to sort list of integers\n",
    "\n",
    "Total time complexity is O(2nlogn). The 2 is insignificant so it's simply O(nlogn).\n",
    "\n",
    "**Space complexity**:\n",
    "\n",
    "- O(n) to store list of sorted integers\n",
    "- O(2n) to store final list of pairs because at worst case all items in original list could be included twice \n",
    "\n",
    "Total time complexity is O(3n). The 3 is insignificant so it's simply O(nlogn)."
   ]
  },
  {
   "cell_type": "markdown",
   "metadata": {},
   "source": [
    "#### Run Test Cases"
   ]
  },
  {
   "cell_type": "code",
   "execution_count": 7,
   "metadata": {},
   "outputs": [],
   "source": [
    "assert minimum_absolute_difference([4, 2, 1, 3]) == [[1, 2], [2, 3], [3, 4]]"
   ]
  },
  {
   "cell_type": "code",
   "execution_count": 8,
   "metadata": {},
   "outputs": [],
   "source": [
    "assert minimum_absolute_difference([1, 4, 6, 8]) == [[4, 6], [6, 8]]"
   ]
  }
 ],
 "metadata": {
  "kernelspec": {
   "display_name": "Python 3",
   "language": "python",
   "name": "python3"
  },
  "language_info": {
   "codemirror_mode": {
    "name": "ipython",
    "version": 3
   },
   "file_extension": ".py",
   "mimetype": "text/x-python",
   "name": "python",
   "nbconvert_exporter": "python",
   "pygments_lexer": "ipython3",
   "version": "3.7.5"
  }
 },
 "nbformat": 4,
 "nbformat_minor": 4
}
