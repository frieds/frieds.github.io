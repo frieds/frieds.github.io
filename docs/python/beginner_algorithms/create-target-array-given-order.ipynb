{
 "cells": [
  {
   "cell_type": "markdown",
   "metadata": {},
   "source": [
    "# Create Target Array in the Given Order (via Leetcode)\n",
    "\n",
    "Date published: 2020-04-13\n",
    "\n",
    "Category: Python\n",
    "\n",
    "Subcategory: Beginner Algorithms\n",
    "\n",
    "Tags: functions, loops, lists\n"
   ]
  },
  {
   "cell_type": "markdown",
   "metadata": {},
   "source": [
    "This problem can be found on <a href=\"https://leetcode.com/problems/create-target-array-in-the-given-order/\" target=\"_blank\">Leetcode</a>.\n",
    "\n",
    "**Problem statement**:\n",
    "\n",
    "Given two arrays of integers, `nums` and `index`, create a target array. From examination of the input arrays from left to right, insert `nums[i]` at `index[i]` in the target array.\n",
    "\n",
    "It is guaranteed that the insertion operations will be valid."
   ]
  },
  {
   "cell_type": "markdown",
   "metadata": {},
   "source": [
    "### Test Cases"
   ]
  },
  {
   "cell_type": "code",
   "execution_count": 10,
   "metadata": {},
   "outputs": [],
   "source": [
    "# assert create_target_array(nums=[0, 1, 2, 3, 5], index=[0, 1, 2, 2, 1]) == [0, 5, 1, 3, 2]"
   ]
  },
  {
   "cell_type": "markdown",
   "metadata": {},
   "source": [
    "Explanation of how `target_list` is created upon iteration of `nums` and `index`.\n",
    "\n",
    "nums | index | target_list\n",
    "--- | --- | ---\n",
    "0 | 0 | `[0]`\n",
    "1 | 1 | `[0, 1]`\n",
    "2 | 2 | `[0, 1, 2]`\n",
    "3 | 2 | `[0, 1, 3, 2]`\n",
    "4 | 1 | `[0, 5, 1, 3, 2]`"
   ]
  },
  {
   "cell_type": "code",
   "execution_count": 11,
   "metadata": {},
   "outputs": [],
   "source": [
    "# assert create_target_array(nums=[5, 7, 9, 10], index=[0, 1, 2, 0]) == [10, 5, 7, 9]"
   ]
  },
  {
   "cell_type": "markdown",
   "metadata": {},
   "source": [
    "Explanation of how `target_list` is created upon iteration of `nums` and `index`.\n",
    "\n",
    "nums | index | target\n",
    "--- | --- | ---\n",
    "5 | 0 | `[5]`\n",
    "7 | 1 | `[5, 7]`\n",
    "9 | 2 | `[5, 7, 9]`\n",
    "10 | 0 | `[10, 5, 7, 9]`"
   ]
  },
  {
   "cell_type": "markdown",
   "metadata": {},
   "source": [
    "### Pseudocode"
   ]
  },
  {
   "cell_type": "code",
   "execution_count": 12,
   "metadata": {},
   "outputs": [],
   "source": [
    "# define a function that takes in an input list:\n",
    "    # create empty target list\n",
    "    # iterate over nums and index at the same time using zip function\n",
    "        # insert num in target list at index \n",
    "    # return target list"
   ]
  },
  {
   "cell_type": "markdown",
   "metadata": {},
   "source": [
    "### Code"
   ]
  },
  {
   "cell_type": "code",
   "execution_count": 13,
   "metadata": {},
   "outputs": [],
   "source": [
    "def create_target_array(nums, index):\n",
    "    target_list = []\n",
    "    for num, ind in zip(nums, index):\n",
    "        target_list.insert(ind, num)\n",
    "    return target_list"
   ]
  },
  {
   "cell_type": "markdown",
   "metadata": {},
   "source": [
    "### Complexity"
   ]
  },
  {
   "cell_type": "markdown",
   "metadata": {},
   "source": [
    "Let `n` be the count of values in `nums` which is equivalent to the count of values in `index` too.\n",
    "\n",
    "**Time complexity** is O(n) because there is one iteration over the indices of `nums` and `index` at the same time.\n",
    "\n",
    "**Space complexity** is O(n) because `target_list` is created that has a length of `n`."
   ]
  },
  {
   "cell_type": "markdown",
   "metadata": {},
   "source": [
    "### Verify Code with Test Cases"
   ]
  },
  {
   "cell_type": "code",
   "execution_count": 14,
   "metadata": {},
   "outputs": [],
   "source": [
    "assert create_target_array(nums=[0, 1, 2, 3, 5], index=[0, 1, 2, 2, 1]) == [0, 5, 1, 3, 2]"
   ]
  },
  {
   "cell_type": "code",
   "execution_count": 15,
   "metadata": {},
   "outputs": [],
   "source": [
    "assert create_target_array(nums=[5, 7, 9, 10], index=[0, 1, 2, 0]) == [10, 5, 7, 9]"
   ]
  }
 ],
 "metadata": {
  "kernelspec": {
   "display_name": "Python 3",
   "language": "python",
   "name": "python3"
  },
  "language_info": {
   "codemirror_mode": {
    "name": "ipython",
    "version": 3
   },
   "file_extension": ".py",
   "mimetype": "text/x-python",
   "name": "python",
   "nbconvert_exporter": "python",
   "pygments_lexer": "ipython3",
   "version": "3.7.5"
  }
 },
 "nbformat": 4,
 "nbformat_minor": 4
}
