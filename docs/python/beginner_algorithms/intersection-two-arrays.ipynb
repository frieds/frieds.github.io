{
 "cells": [
  {
   "cell_type": "markdown",
   "metadata": {},
   "source": [
    "# Intersection of Two Arrays (via Leetcode)\n",
    "\n",
    "Date published: 2020-04-07\n",
    "\n",
    "Category: Python\n",
    "\n",
    "Subcategory: Beginner Algorithms\n",
    "\n",
    "Tags: functions, loops, lists, sets\n"
   ]
  },
  {
   "cell_type": "markdown",
   "metadata": {},
   "source": [
    "This question can be found on <a href=\"https://leetcode.com/problems/intersection-of-two-arrays/\" target=\"_blank\">Leetcode</a>.\n",
    "\n",
    "**Problem statement**:\n",
    "\n",
    "Given two arrays, write a function to compute their intersection."
   ]
  },
  {
   "cell_type": "markdown",
   "metadata": {},
   "source": [
    "### Test Cases"
   ]
  },
  {
   "cell_type": "code",
   "execution_count": 1,
   "metadata": {},
   "outputs": [],
   "source": [
    "# assert intersection([1, 2, 3, 4], [2, 3]) == [2, 3]"
   ]
  },
  {
   "cell_type": "markdown",
   "metadata": {},
   "source": [
    "Only the values `2` and `3` appear in both lists."
   ]
  },
  {
   "cell_type": "code",
   "execution_count": 2,
   "metadata": {},
   "outputs": [],
   "source": [
    "# assert intersection([1, 3, 3, 4], [3, 0, 5]) == [3]"
   ]
  },
  {
   "cell_type": "markdown",
   "metadata": {},
   "source": [
    "Only the unique value of `3` appears in both lists."
   ]
  },
  {
   "cell_type": "code",
   "execution_count": 3,
   "metadata": {},
   "outputs": [],
   "source": [
    "# assert intersection([1, 2], [4, 5]) == []"
   ]
  },
  {
   "cell_type": "markdown",
   "metadata": {},
   "source": [
    "There are no common values between the lists so the function returns an empty list."
   ]
  },
  {
   "cell_type": "markdown",
   "metadata": {},
   "source": [
    "### Pseudocode for Solution #1: the Brute Force Way"
   ]
  },
  {
   "cell_type": "markdown",
   "metadata": {},
   "source": [
    "This pseudocode below is my first brute force approach that uses simple syntax, data structures and methods to compute the solution. There is minimal logic."
   ]
  },
  {
   "cell_type": "code",
   "execution_count": 4,
   "metadata": {},
   "outputs": [],
   "source": [
    "# create a function with two arguments - each as an input list of integers\n",
    "    # cast each input list to a set\n",
    "    # a set in Python is an unordered collection with no duplicate elements\n",
    "    # sets have an intersection method to return unique elements found in both sets\n",
    "    \n",
    "    # intersection_set = set1.intersection(set2)\n",
    "    # cast intersection_set as list\n",
    "    # return list"
   ]
  },
  {
   "cell_type": "markdown",
   "metadata": {},
   "source": [
    "### Complexity for Solution #1\n",
    "\n",
    "Let `n` be the length of items in one input list and `m` be the length of items in the other input list. \n",
    "\n",
    "#### Space Complexity\n",
    "\n",
    "I create two sets - one of length `n` and the other of length `m`. This space complexity is O(m+n).\n",
    "\n",
    "I also create the final `intersection_list` which could be up to `n` or `m` values - depending on which one is smaller in length. Let's call this an O(n) operation.\n",
    "\n",
    "Total space complexity is O(2n) + O(m).\n",
    "\n",
    "#### Time Complexity\n",
    "\n",
    "To create a set, obfuscated from my code, there is an iteration of a list of O(n) and each element is added to the set in an O(1) operation. Therefore the <a href=\"https://stackoverflow.com/questions/34642155/what-is-time-complexity-of-a-list-to-set-conversion\" target=\"_blank\">total operation</a> is O(n).\n",
    "\n",
    "In my solution, creation of the sets are an O(n) and O(m) time complexity operation respectively.\n",
    "\n",
    "In the `intersection()` method, for each value in `num1`, we have to check if the value exists in `num2`. Therefore, the operation is O(m*n).\n",
    "\n",
    "Total time complexity is: O(n) + O(m) + O(m*n)"
   ]
  },
  {
   "cell_type": "markdown",
   "metadata": {},
   "source": [
    "### Code for Solution #1: the Brute Force Way"
   ]
  },
  {
   "cell_type": "code",
   "execution_count": 5,
   "metadata": {},
   "outputs": [],
   "source": [
    "def intersection(nums1, nums2):\n",
    "    set1 = set(nums1)\n",
    "    set2 = set(nums2)\n",
    "    \n",
    "    intersection_set = set1.intersection(set2)\n",
    "    intersection_list = list(intersection_set)\n",
    "    return intersection_list"
   ]
  },
  {
   "cell_type": "markdown",
   "metadata": {},
   "source": [
    "### Verify Test Cases for Solution #1"
   ]
  },
  {
   "cell_type": "markdown",
   "metadata": {},
   "source": [
    "I added some additional tests cases beyond the ones stated above."
   ]
  },
  {
   "cell_type": "code",
   "execution_count": 6,
   "metadata": {},
   "outputs": [],
   "source": [
    "assert intersection([1, 2], [4, 5]) == []"
   ]
  },
  {
   "cell_type": "code",
   "execution_count": 7,
   "metadata": {},
   "outputs": [],
   "source": [
    "assert intersection([1, 3, 3, 4], [3, 0, 5]) == [3]"
   ]
  },
  {
   "cell_type": "code",
   "execution_count": 8,
   "metadata": {},
   "outputs": [],
   "source": [
    "assert intersection([1, 2, 3, 4], [2, 3]) == [2, 3]"
   ]
  },
  {
   "cell_type": "code",
   "execution_count": 9,
   "metadata": {},
   "outputs": [],
   "source": [
    "assert intersection([1, 2, 2, 1], [2, 2]) == [2]"
   ]
  },
  {
   "cell_type": "code",
   "execution_count": 10,
   "metadata": {},
   "outputs": [],
   "source": [
    "assert intersection([2, 2], [1, 2, 2, 1]) == [2]"
   ]
  },
  {
   "cell_type": "markdown",
   "metadata": {},
   "source": [
    "### Psuedocode for Solution #2"
   ]
  },
  {
   "cell_type": "code",
   "execution_count": 11,
   "metadata": {},
   "outputs": [],
   "source": [
    "# create empty list of common unique values\n",
    "# create empty set of unique num1 values\n",
    "\n",
    "# for num1 in nums1:\n",
    "    # code below ensures we only check unique values of nums1 are in nums2...\n",
    "    # if num1 is not in in set:\n",
    "        # add num1 to set\n",
    "        # check if num1 is in nums2...\n",
    "        # for num2 in nums2:\n",
    "            # if num1 is equal to num2:\n",
    "                # append num1 to list of common unique values\n",
    "\n",
    "# return list of common unique values"
   ]
  },
  {
   "cell_type": "markdown",
   "metadata": {},
   "source": [
    "### Complexity"
   ]
  },
  {
   "cell_type": "markdown",
   "metadata": {},
   "source": [
    "Let `n` be the length of `nums1` and `m` be the length of `nums2`.\n",
    "\n",
    "#### Space Complexity\n",
    "\n",
    "I create a set that at worst case scenario could contain all values in `nums1` and therefore it's an O(n) space complexity.\n",
    "\n",
    "I create another set that's unique common values between `nums1` and `nums2` that could contain all values in the smaller of the input lists. I'll consider this O(n) space complexity too.\n",
    "\n",
    "Lastly, I convert the set of unique common values into a list because that's the needed return data type. That's another O(n).\n",
    "\n",
    "Total space complexity is O(3n). The 3 is negligent so most would refer to this as O(n).\n",
    "\n",
    "#### Time Complexity\n",
    "\n",
    "For each value in `nums1`, I could check if that value is in `nums2`. Therefore the space complexity is O(m*n).\n",
    "\n",
    "Additionally, to convert a Python set to a list is another O(n) operation.\n",
    "\n",
    "#### Conclusion\n",
    "\n",
    "Overall, this time and space complexity is smaller than the inital brute force solution in this tutorial. Here's a table that compares the two:\n",
    "\n",
    "| | Solution #1 | Solution #2\n",
    "--- | --- | --- \n",
    "Space complexity | O(n) + O(m) | O(n)\n",
    "Time complexity | O(n) + O(m) + O(m*n) | O(m*n) + O(n)\n"
   ]
  },
  {
   "cell_type": "markdown",
   "metadata": {},
   "source": [
    "### Code for Solution #2"
   ]
  },
  {
   "cell_type": "code",
   "execution_count": 12,
   "metadata": {},
   "outputs": [],
   "source": [
    "def intersection(nums1, nums2):\n",
    "    common_unique_values_set = set()\n",
    "    nums_in_nums1_checked_set = set()\n",
    "\n",
    "    for num1 in nums1:\n",
    "        if num1 not in nums_in_nums1_checked_set:\n",
    "            nums_in_nums1_checked_set.add(num1)\n",
    "            for num2 in nums2:\n",
    "                if num1 == num2:\n",
    "                    common_unique_values_set.add(num1)\n",
    "    common_unique_values_list = list(common_unique_values_set)\n",
    "    return common_unique_values_list"
   ]
  },
  {
   "cell_type": "markdown",
   "metadata": {},
   "source": [
    "### Verify Test Cases for Solution #2"
   ]
  },
  {
   "cell_type": "code",
   "execution_count": 13,
   "metadata": {},
   "outputs": [],
   "source": [
    "assert intersection([1, 2], [4, 5]) == []"
   ]
  },
  {
   "cell_type": "code",
   "execution_count": 14,
   "metadata": {},
   "outputs": [],
   "source": [
    "assert intersection([1, 3, 3, 4], [3, 0, 5]) == [3]"
   ]
  },
  {
   "cell_type": "code",
   "execution_count": 15,
   "metadata": {},
   "outputs": [],
   "source": [
    "assert intersection([1, 2, 3, 4], [2, 3]) == [2, 3]"
   ]
  },
  {
   "cell_type": "code",
   "execution_count": 16,
   "metadata": {},
   "outputs": [],
   "source": [
    "assert intersection([1, 2, 2, 1], [2, 2]) == [2]"
   ]
  },
  {
   "cell_type": "code",
   "execution_count": 17,
   "metadata": {},
   "outputs": [],
   "source": [
    "assert intersection([2, 2], [1, 2, 2, 1]) == [2]"
   ]
  }
 ],
 "metadata": {
  "kernelspec": {
   "display_name": "Python 3",
   "language": "python",
   "name": "python3"
  },
  "language_info": {
   "codemirror_mode": {
    "name": "ipython",
    "version": 3
   },
   "file_extension": ".py",
   "mimetype": "text/x-python",
   "name": "python",
   "nbconvert_exporter": "python",
   "pygments_lexer": "ipython3",
   "version": "3.7.5"
  }
 },
 "nbformat": 4,
 "nbformat_minor": 4
}
