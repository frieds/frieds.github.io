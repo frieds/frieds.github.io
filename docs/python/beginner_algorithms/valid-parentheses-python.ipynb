{
 "cells": [
  {
   "cell_type": "markdown",
   "metadata": {},
   "source": [
    "# Valid Parentheses (via Leetcode)\n",
    "\n",
    "Date published: 2020-03-14\n",
    "\n",
    "Category: Python\n",
    "\n",
    "Subcategory: Beginner Algorithms\n",
    "\n",
    "Tags: functions, loops, stack\n"
   ]
  },
  {
   "cell_type": "markdown",
   "metadata": {},
   "source": [
    "This example was found on <a href=\"https://leetcode.com/problems/valid-parentheses/\" target=\"_blank\">Leetcode</a>.\n",
    "\n",
    "I'll extensively walk through how I'd solve this problem.\n",
    "\n",
    "### Problem statement \n",
    "\n",
    "You're given a string containing just the following characters: `\"(\", \")\", \"{\", \"}\", \"[\", \"]\"`. Determine if the input string is valid.\n",
    "\n",
    "Open brackets must be closed by the same type of brackets. Open brackets must be closed in the correct order. An empty string is also considered valid."
   ]
  },
  {
   "cell_type": "markdown",
   "metadata": {},
   "source": [
    "### Test cases\n",
    "\n",
    "**Test case #1**:\n",
    "\n",
    "- Input: `\"[]\"`\n",
    "- Output: `True`\n",
    "- Reasoning: The open bracket is closed by the same type of bracket in the correct order.\n",
    "\n",
    "**Test case #2**:\n",
    "\n",
    "- Input: `\"[{]}\"`\n",
    "- Output: `False`\n",
    "- Reasoning: The first closing bracket of `\"]\"` closes that type out before the a previous `\"[\"` needed to be closed first. Open brackets *are not* closed in the correct order.\n",
    "\n",
    "**Test case #3**:\n",
    "\n",
    "- Input: `\"({}]\"`\n",
    "- Output: `False`\n",
    "- Reasoning: The open bracket of `\"(\"` is never closed. There's a closing bracket of `\"[\"` but that doesn't match.\n",
    "\n",
    "**Test case #4**:\n",
    "\n",
    "- Input: `\"[[{}]]\"`\n",
    "- Output: `True`\n",
    "- Reasoning: All open brackets are closed by the same type of brackets and in the correct order. \n",
    "\n",
    "I can write out `assert` statements in Python for these 4 test cases and the empty string consideration one."
   ]
  },
  {
   "cell_type": "code",
   "execution_count": 1,
   "metadata": {},
   "outputs": [],
   "source": [
    "# assert valid_parentheses(\"[]\") == True\n",
    "\n",
    "# assert valid_parentheses(\"[{]}\") == False\n",
    "\n",
    "# assert valid_parentheses(\"({}]\") == False\n",
    "\n",
    "# assert valid_parentheses(\"[[{}]]\") == True\n",
    "\n",
    "# assert valid_parentheses(\"\") == True"
   ]
  },
  {
   "cell_type": "markdown",
   "metadata": {},
   "source": [
    "### Logic for Solution\n",
    "\n",
    "I will have to examine every element in the input string. Therefore, I should iterate over it. A string is a Python sequence that allows for iteration over every element.\n",
    "\n",
    "When I think about the input `\"[{]}\"`, I know that every successive open bracket must be closed by the same type *before* an earlier open bracket is closed. Let me write out a few step-by-step examples on how I'd solve this.\n",
    "\n",
    "One data structure that comes to mind here is a stack. A stack stores elements in what seems like a list, but it is optimized by time complexity for operations by last-in-first-out - aka \"LIFO\" - and first-in-first-out - aka \"FIFO\". \n",
    "\n",
    "A stack optimized data structure in Python is found in the `collections` package and `deque` module. For a `deque`, use the `append` method to insert an element into the end of the structure and `pop` to remove an element from the end of the structure.\n",
    "\n",
    "Operations for `\"[{]}\"`:\n",
    "\n",
    "1. Iterate over element `\"[\"`. Since it's an open bracket, append to deque b/c open bracket.\n",
    "2. Iterate over `\"{\"`. Since it's an open bracket, append to deque b/c open bracket.\n",
    "3. Iterate over `\"]\"`. Since it's a closed bracket, compare this to the last item in the deque. This element is a different type than the last item in the deque. Therefore, return False.\n",
    "\n",
    "Operation for `\"[[{}]]\"`:\n",
    "\n",
    "1. Iterate over element `\"[\"`. Since it's an open bracket, append to deque b/c open bracket.\n",
    "2. Iterate over element `\"[\"`. Since it's an open bracket, append to deque b/c open bracket.\n",
    "3. Iterate over element `\"{\"`. Since it's an open bracket, append to deque b/c open bracket.\n",
    "4. Iterate over element `\"}\"`. Since it's a closed bracket, compare this to the last item in the deque. This is element is the same type as the last item in the deque. Pop out last item added to deque.\n",
    "5. Iterate over element `\"]]\"`. Since it's a closed bracket, compare this to the last item in the deque. This is element is the same type as the last item in the deque. Pop out last item added to deque.\n",
    "6. Iterate over element `\"]\"`. Since it's a closed bracket, compare this to the last item in the deque. This is element is the same type as the last item in the deque. Pop out last item added to deque.\n",
    "7. Return True\n",
    "\n",
    "This pseudocode generally explains the step logic. "
   ]
  },
  {
   "cell_type": "code",
   "execution_count": 2,
   "metadata": {},
   "outputs": [],
   "source": [
    "# from collections import deque\n",
    "\n",
    "# create a function with string as an input\n",
    "    # create an empty deque\n",
    "    # create dict in which keys are open brackets and values are of the same type closed brackets\n",
    "\n",
    "    # iterate over each character in input string\n",
    "        # if it's an open bracket\n",
    "            # append item to deque\n",
    "            \n",
    "        # else if it's a closed bracket and there are no brackets in our stack\n",
    "            # we can't add a closed bracket as the first in our stack b/c it's invalid\n",
    "            # return False\n",
    "        # else:  # it's a closed bracket\n",
    "            # if this closed type is the same as the last open type in the stack\n",
    "                # pop out last item in deque\n",
    "            # else:\n",
    "                # this is the wrong match so return False to break out of function\n",
    "    # finished iteration...\n",
    "    # if length of deque is 0 meaning all open brackets have been closed properly\n",
    "        # return True\n",
    "    # else:  # there are open brackets that haven't been closed\n",
    "        # return False"
   ]
  },
  {
   "cell_type": "markdown",
   "metadata": {},
   "source": [
    "### Code"
   ]
  },
  {
   "cell_type": "code",
   "execution_count": 3,
   "metadata": {},
   "outputs": [],
   "source": [
    "from collections import deque\n",
    "import logging\n",
    "\n",
    "logging.basicConfig(level=logging.DEBUG, format='%(asctime)-25s %(levelname)-7s %(lineno)-4s %(message)-8s')                      \n",
    "\n",
    "\n",
    "def valid_parentheses(brackets_string):\n",
    "    \"\"\"\n",
    "    Compute if a string is a valid parentheses string such as \"{}\" or \"{[[]]}\"\n",
    "    \n",
    "    param brackets_string: the string to validate if it's a valid parentheses\n",
    "    return boolean: True if brackets_string is a valid parentheses\n",
    "    \"\"\"\n",
    "\n",
    "    logging.debug(\"assign empty deque to open_brackets_stack...\")\n",
    "    open_brackets_stack = deque()\n",
    "\n",
    "    logging.debug(\"create dict in which keys are open brackets and values are of the same type closed brackets\")\n",
    "    bracket_pair_dict = {'[': ']',\n",
    "                         '{': '}',\n",
    "                         '[': ']'\n",
    "                        }\n",
    "    \n",
    "    logging.debug(\"iterate over each character in input string...\")\n",
    "    for bracket in brackets_string: \n",
    "        logging.debug(f\"bracket: {bracket}\")\n",
    "        logging.debug(\"check if bracket is an open type...\")\n",
    "        if bracket in bracket_pair_dict:\n",
    "            logging.debug(\"append bracket to stack...\")\n",
    "            open_brackets_stack.append(bracket)\n",
    "        elif bracket not in bracket_pair_dict and len(open_brackets_stack) == 0:\n",
    "            logging.debug(\"closed bracket can't be the first item in a valid stack...\")\n",
    "            return False\n",
    "        else:\n",
    "            logging.debug(\"under this condition we have a closed bracket and there are items in the stack...\")\n",
    "            logging.debug(f\"{bracket} is a closed bracket...\")\n",
    "            logging.debug(\"check if this closed type is the same as the last open type in our stack...\")\n",
    "            last_open_in_stack = open_brackets_stack[-1]\n",
    "            logging.debug(f\"last_open_in_stack: {last_open_in_stack}\")\n",
    "        \n",
    "            if bracket_pair_dict[last_open_in_stack] == bracket:\n",
    "                logging.debug(\"we have a match of same open and closed type...\")\n",
    "                logging.debug(\"pop out last item in stack...\")\n",
    "                open_brackets_stack.pop()\n",
    "            else:\n",
    "                logging.debug(\"we have a mismatch of the open and closed type...\")\n",
    "                return False\n",
    "            \n",
    "    logging.debug(\"loop has finished...\")\n",
    "    if len(open_brackets_stack) == 0:\n",
    "        logging.debug(\"length of stack is 0 so all open brackets have been closed in proper order...\")\n",
    "        return True\n",
    "    else:\n",
    "        logging.debug(\"still open brackets in the so they haven't been properly closed...\")\n",
    "        return False"
   ]
  },
  {
   "cell_type": "code",
   "execution_count": 4,
   "metadata": {},
   "outputs": [
    {
     "name": "stderr",
     "output_type": "stream",
     "text": [
      "2020-03-14 18:12:04,558   DEBUG   9    assign empty deque to open_brackets_stack...\n",
      "2020-03-14 18:12:04,559   DEBUG   12   create dict in which keys are open brackets and values are of the same type closed brackets\n",
      "2020-03-14 18:12:04,561   DEBUG   18   iterate over each character in input string...\n",
      "2020-03-14 18:12:04,562   DEBUG   20   bracket: [\n",
      "2020-03-14 18:12:04,563   DEBUG   21   check if bracket is an open type...\n",
      "2020-03-14 18:12:04,564   DEBUG   23   append bracket to stack...\n",
      "2020-03-14 18:12:04,566   DEBUG   20   bracket: ]\n",
      "2020-03-14 18:12:04,567   DEBUG   21   check if bracket is an open type...\n",
      "2020-03-14 18:12:04,569   DEBUG   29   under this condition we have a closed bracket and there are items in the stack...\n",
      "2020-03-14 18:12:04,570   DEBUG   30   ] is a closed bracket...\n",
      "2020-03-14 18:12:04,570   DEBUG   31   check if this closed type is the same as the last open type in our stack...\n",
      "2020-03-14 18:12:04,571   DEBUG   33   last_open_in_stack: [\n",
      "2020-03-14 18:12:04,572   DEBUG   36   we have a match of same open and closed type...\n",
      "2020-03-14 18:12:04,573   DEBUG   37   pop out last item in stack...\n",
      "2020-03-14 18:12:04,574   DEBUG   43   loop has finished...\n",
      "2020-03-14 18:12:04,575   DEBUG   45   length of stack is 0 so all open brackets have been closed in proper order...\n"
     ]
    }
   ],
   "source": [
    "assert valid_parentheses(\"[]\") == True"
   ]
  },
  {
   "cell_type": "markdown",
   "metadata": {},
   "source": [
    "Turn off logging messages for the rest of the test cases."
   ]
  },
  {
   "cell_type": "code",
   "execution_count": 5,
   "metadata": {},
   "outputs": [],
   "source": [
    "logger = logging.getLogger()\n",
    "logger.disabled = True"
   ]
  },
  {
   "cell_type": "code",
   "execution_count": 6,
   "metadata": {},
   "outputs": [],
   "source": [
    "assert valid_parentheses(\"[{]}\") == False\n",
    "\n",
    "assert valid_parentheses(\"({}]\") == False\n",
    "\n",
    "assert valid_parentheses(\"[[{}]]\") == True\n",
    "\n",
    "assert valid_parentheses(\"\") == True"
   ]
  }
 ],
 "metadata": {
  "kernelspec": {
   "display_name": "Python 3",
   "language": "python",
   "name": "python3"
  },
  "language_info": {
   "codemirror_mode": {
    "name": "ipython",
    "version": 3
   },
   "file_extension": ".py",
   "mimetype": "text/x-python",
   "name": "python",
   "nbconvert_exporter": "python",
   "pygments_lexer": "ipython3",
   "version": "3.7.5"
  }
 },
 "nbformat": 4,
 "nbformat_minor": 4
}
