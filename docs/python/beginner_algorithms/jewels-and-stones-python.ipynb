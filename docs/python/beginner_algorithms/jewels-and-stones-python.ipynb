{
 "cells": [
  {
   "cell_type": "markdown",
   "metadata": {},
   "source": [
    "# Jewels and Stones (via Leetcode)\n",
    "\n",
    "Date published: 2020-03-25\n",
    "\n",
    "Category: Python\n",
    "\n",
    "Subcategory: Beginner Algorithms\n",
    "\n",
    "Tags: functions, loops\n"
   ]
  },
  {
   "cell_type": "markdown",
   "metadata": {},
   "source": [
    "### Problem Statement"
   ]
  },
  {
   "cell_type": "markdown",
   "metadata": {},
   "source": [
    "You're given strings `J` representing the types of stones that are jewels, and `S` representing the stones you have.  Each character in `S` is a type of stone you have.  You want to know how many of the stones you have that are also jewels.\n",
    "\n",
    "The letters in `J` are guaranteed distinct, and all characters in `J` and `S` are letters. Letters are case sensitive, so `\"a\"` is considered a different type of stone from `\"A\"`."
   ]
  },
  {
   "cell_type": "markdown",
   "metadata": {},
   "source": [
    "### Test Cases"
   ]
  },
  {
   "cell_type": "markdown",
   "metadata": {},
   "source": [
    "**Test case #1**:\n",
    "\n",
    "- Input: `J = \"aA\"`, `S = \"aAAbbbb\"`\n",
    "- Output: `3`\n",
    "- Reasonsing: The first 3 characters in `S` are characters that are in `J`\n",
    "\n",
    "**Test case #2**:\n",
    "\n",
    "- Input: `J = \"z\"`, `S = \"ZZ\"`\n",
    "- Output: `0`\n",
    "- Reasonsing: There are no instances of `z` in `S`"
   ]
  },
  {
   "cell_type": "code",
   "execution_count": null,
   "metadata": {},
   "outputs": [],
   "source": [
    "# assert count_jewels_in_stones(J = \"aA\", S = \"aAAbbbb\") == 3\n",
    "# assert count_jewels_in_stones(J = \"z\", S = \"ZZ\") == 0"
   ]
  },
  {
   "cell_type": "markdown",
   "metadata": {},
   "source": [
    "### Pseudocode "
   ]
  },
  {
   "cell_type": "markdown",
   "metadata": {},
   "source": [
    "This code uses minimal storage - a low space complexity - of just O(1) since the 1 represents the space of the variable `count_jewels_in_collection`.\n",
    "\n",
    "However, this code has a high time complexity because for every element in `J`, I must search all elements in `S`. If we use the letter `n` to assign the length of items in `J` and `m` to assign the length of items in `S`, then the time complexity is O(mn). "
   ]
  },
  {
   "cell_type": "code",
   "execution_count": 1,
   "metadata": {},
   "outputs": [],
   "source": [
    "# create function to take in J and S\n",
    "\n",
    "    # create a variable - a counter - to count the number of jewels found in the stones collection\n",
    "\n",
    "    # iterate over each element in J\n",
    "        # iterate over each item in S\n",
    "            #  if element is equal to item\n",
    "                # increment the counter by 1\n",
    "    # return counter"
   ]
  },
  {
   "cell_type": "markdown",
   "metadata": {},
   "source": [
    "### Code"
   ]
  },
  {
   "cell_type": "code",
   "execution_count": 3,
   "metadata": {},
   "outputs": [],
   "source": [
    "def count_jewels_in_stones(J, S):\n",
    "    count_jewels_in_collection = 0\n",
    "\n",
    "    for element in J:\n",
    "        for item in S:\n",
    "            if element == item:\n",
    "                count_jewels_in_collection += 1\n",
    "    return count_jewels_in_collection"
   ]
  },
  {
   "cell_type": "markdown",
   "metadata": {},
   "source": [
    "Let's run the `assert` statements below to verify the function passes these test cases."
   ]
  },
  {
   "cell_type": "code",
   "execution_count": 4,
   "metadata": {},
   "outputs": [],
   "source": [
    "assert count_jewels_in_stones(J = \"aA\", S = \"aAAbbbb\") == 3\n",
    "assert count_jewels_in_stones(J = \"z\", S = \"ZZ\") == 0"
   ]
  },
  {
   "cell_type": "markdown",
   "metadata": {},
   "source": [
    "### Pseudocode #2 Solution"
   ]
  },
  {
   "cell_type": "markdown",
   "metadata": {},
   "source": [
    "The above answer had high time complexity and low space complexity. I can design an alternative solution as a tradeoff with low time complexity and high space complexity. \n",
    "\n",
    "I will use a Python set covered in detail here in the <a href=\"https://docs.python.org/3/tutorial/datastructures.html#sets\" target=\"_blank\">official documentation</a>.\n",
    "\n",
    "In the code below, the set represents an O(n) space complexity and the variable is an O(1) space complexity.\n",
    "\n",
    "I iterate over each element in `S` so my code has an O(m) time complexity."
   ]
  },
  {
   "cell_type": "code",
   "execution_count": 6,
   "metadata": {},
   "outputs": [],
   "source": [
    "# assign each letter in J to be a value in a Python set\n",
    "\n",
    "# store a variable as a counter of occurences of J in S\n",
    "\n",
    "# iterate over each element in S\n",
    "    # if element is in Python set of S characters\n",
    "        # append 1 to counter"
   ]
  },
  {
   "cell_type": "markdown",
   "metadata": {},
   "source": [
    "### Code #2 Solution"
   ]
  },
  {
   "cell_type": "code",
   "execution_count": 10,
   "metadata": {},
   "outputs": [],
   "source": [
    "def count_jewels_in_stones2(J, S):\n",
    "    s_set = set(J)\n",
    "    count_jewels_in_collection = 0\n",
    "\n",
    "    for item in S:\n",
    "        if item in s_set:\n",
    "            count_jewels_in_collection += 1\n",
    "    return count_jewels_in_collection"
   ]
  },
  {
   "cell_type": "markdown",
   "metadata": {},
   "source": [
    "Let's run the `assert` statements below to verify this new function passes these test cases."
   ]
  },
  {
   "cell_type": "code",
   "execution_count": 11,
   "metadata": {},
   "outputs": [],
   "source": [
    "assert count_jewels_in_stones2(J = \"aA\", S = \"aAAbbbb\") == 3\n",
    "assert count_jewels_in_stones2(J = \"z\", S = \"ZZ\") == 0"
   ]
  }
 ],
 "metadata": {
  "kernelspec": {
   "display_name": "Python 3",
   "language": "python",
   "name": "python3"
  },
  "language_info": {
   "codemirror_mode": {
    "name": "ipython",
    "version": 3
   },
   "file_extension": ".py",
   "mimetype": "text/x-python",
   "name": "python",
   "nbconvert_exporter": "python",
   "pygments_lexer": "ipython3",
   "version": "3.7.5"
  }
 },
 "nbformat": 4,
 "nbformat_minor": 4
}
