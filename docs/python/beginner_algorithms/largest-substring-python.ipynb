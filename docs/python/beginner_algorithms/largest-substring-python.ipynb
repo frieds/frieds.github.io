{
 "cells": [
  {
   "cell_type": "markdown",
   "metadata": {},
   "source": [
    "# Largest Substring Without Repeating Characters (via Leetcode)\n",
    "\n",
    "Date published: 2020-03-06\n",
    "\n",
    "Category: Python\n",
    "\n",
    "Subcategory: Beginner Algorithms\n",
    "\n",
    "Tags: functions, loops, sets\n"
   ]
  },
  {
   "cell_type": "markdown",
   "metadata": {},
   "source": [
    "This example was found on <a href=\"https://leetcode.com/problems/longest-substring-without-repeating-characters/submissions/\" target=\"_blank\">Leetcode</a>.\n",
    "\n",
    "In this tutorial, I'll walk extensively through my logic for solving this problem."
   ]
  },
  {
   "cell_type": "markdown",
   "metadata": {},
   "source": [
    "**Problem statement:**\n",
    "\n",
    "Given a string of characters, find the length of the largest substring of unique consecutive characters. \n",
    "\n",
    "Below are some example inputs and the expected output integer.\n",
    "\n",
    "The function will be called `largest_unique_substring()` and will take an input as a string and return an integer\n",
    "\n",
    "Below are some commented out test cases we'll check after the function is created."
   ]
  },
  {
   "cell_type": "code",
   "execution_count": 3,
   "metadata": {},
   "outputs": [],
   "source": [
    "# assert largest_unique_substring(\"abcabcbb\") == 3  # \"abc\" is largest substring of unique consecutive characters\n",
    "# assert largest_unique_substring(\"bbbbbbbb\") == 1  # \"b\" is largest substring of unique consecutive characters\n",
    "# assert largest_unique_substring(\"badcajd\") == 4  # \"badc\" is largest substring of unique consecutive characters "
   ]
  },
  {
   "cell_type": "markdown",
   "metadata": {},
   "source": [
    "#### Import Modules"
   ]
  },
  {
   "cell_type": "code",
   "execution_count": 1,
   "metadata": {},
   "outputs": [],
   "source": [
    "import logging"
   ]
  },
  {
   "cell_type": "markdown",
   "metadata": {},
   "source": [
    "Setup format of logging messages."
   ]
  },
  {
   "cell_type": "code",
   "execution_count": 2,
   "metadata": {},
   "outputs": [],
   "source": [
    "logging.basicConfig(level=logging.DEBUG, format='%(asctime)-25s %(levelname)-7s %(lineno)-4s %(message)-8s')                      "
   ]
  },
  {
   "cell_type": "markdown",
   "metadata": {},
   "source": [
    "#### My Setup Logic"
   ]
  },
  {
   "cell_type": "markdown",
   "metadata": {},
   "source": [
    "I think I can calculate the solution in O(n) as I should only need to iterate over the length of elements in the input string, `n`, once. As I iterate over the input string, I picture utilizing a storage of a moving window that holds the characters the largest running substring and can be reset to an empty string whenever I come across a non-unique element that already exists in the substring.\n",
    "\n",
    "I need a variable that holds an integer for the length of the largest running substring. I'll call it `largest_substring_length`.\n",
    "\n",
    "As I iterate over the string, I'll create several substrings and continually compare its length to `largest_substring_length`. I only want to create a bigger and bigger substring so long as it holds unique values. Ideally I want as quick lookup as possible to see if an element in input string exists in my running substring. In Python, an optimal data structure to hold unique elements and allow for O(1) time lookup of an element in the data structure is a <a href=\"https://docs.python.org/3/tutorial/datastructures.html#sets\" target=\"_blank\">set</a>. I'll call the data structure `set_values`.\n",
    "\n",
    "Given these data structures, I want to write pseudocode to devise the logic for the solution."
   ]
  },
  {
   "cell_type": "code",
   "execution_count": 4,
   "metadata": {},
   "outputs": [],
   "source": [
    "# assign variable substring_set to be an empty set\n",
    "# assign variable largest_substring_length to 0\n",
    "\n",
    "# iterate over each element in the input string:\n",
    "    # if element exists in substring_set:\n",
    "        # this element's value already exists in substring_set so it shouldn't be added to substring_set\n",
    "        # assign variable substring_set to be an empty set (again)\n",
    "    # else:\n",
    "        # element does not exist in substring_set...\n",
    "        # add element to end of substring_set\n",
    "        # check if length of substring_set is greater than largest_substring_length...\n",
    "        # if length of substring_set is greater than largest_substring_length:\n",
    "            # assign largest_substring_length to be the length of substring_set"
   ]
  },
  {
   "cell_type": "markdown",
   "metadata": {},
   "source": [
    "#### Coded Solution"
   ]
  },
  {
   "cell_type": "code",
   "execution_count": 5,
   "metadata": {},
   "outputs": [],
   "source": [
    "def largest_unique_substring(input_string):\n",
    "    \"\"\"\n",
    "    param input_string: Python string of any length\n",
    "    return largest_substring_length: integer to represent length of characters in largest substring of unique consecutive values\n",
    "    \"\"\"\n",
    "    logging.debug(\"assign variable substring_set to be an empty set\")\n",
    "    substring_set = set()\n",
    "\n",
    "    logging.debug(\"assign variable largest_substring_length to 0\")\n",
    "    largest_substring_length = 0 \n",
    "\n",
    "    logging.debug(\"iterate over each element in the input string...\")\n",
    "    for element in input_string:\n",
    "        logging.info(f\"element: {element}\")\n",
    "        \n",
    "        logging.debug(\"compare if element exists in substring_set...\")\n",
    "        if element in substring_set:\n",
    "            logging.debug(\"this element's value already exists in substring_set so it shouldn't be added to substring_set...\")\n",
    "            logging.debug(\"# assign variable substring_set to be an empty set (again)\")\n",
    "            substring_set = set()\n",
    "        else:\n",
    "            logging.debug(\"element does not exist in substring_set...\")\n",
    "            logging.debug(\"add element to end of substring_set\")\n",
    "            substring_set.add(element)\n",
    "            logging.info(f\"current substring_set: {substring_set}\")\n",
    "            \n",
    "            logging.debug(\"assign variable substring_set_length to be the length of substring_set\")\n",
    "            substring_set_length = len(substring_set)\n",
    "            logging.info(f\"current substring_set_length: {substring_set_length}\")\n",
    "            \n",
    "            logging.debug(\"check if length of substring_set is greater than largest_substring_length...\")\n",
    "            if len(substring_set) > largest_substring_length:\n",
    "                logging.debug(\"assign largest_substring_length to be the length of substring_set\")\n",
    "                largest_substring_length = substring_set_length\n",
    "                logging.info(f\"current largest_substring_length: {largest_substring_length}\")\n",
    "    return largest_substring_length"
   ]
  },
  {
   "cell_type": "markdown",
   "metadata": {},
   "source": [
    "The function above can be written in 12 lines but I always recommend including logging messages to ensure the code works as you expect."
   ]
  },
  {
   "cell_type": "markdown",
   "metadata": {},
   "source": [
    "#### Test Cases"
   ]
  },
  {
   "cell_type": "markdown",
   "metadata": {},
   "source": [
    "Let's validate the loggging messages with our first test case above."
   ]
  },
  {
   "cell_type": "code",
   "execution_count": 6,
   "metadata": {},
   "outputs": [
    {
     "name": "stderr",
     "output_type": "stream",
     "text": [
      "2020-03-06 18:02:07,154   DEBUG   6    assign variable substring_set to be an empty set\n",
      "2020-03-06 18:02:07,157   DEBUG   9    assign variable largest_substring_length to 0\n",
      "2020-03-06 18:02:07,159   DEBUG   12   iterate over each element in the input string...\n",
      "2020-03-06 18:02:07,160   INFO    14   element: a\n",
      "2020-03-06 18:02:07,162   DEBUG   16   compare if element exists in substring_set...\n",
      "2020-03-06 18:02:07,163   DEBUG   22   element does not exist in substring_set...\n",
      "2020-03-06 18:02:07,164   DEBUG   23   add element to end of substring_set\n",
      "2020-03-06 18:02:07,165   INFO    25   current substring_set: {'a'}\n",
      "2020-03-06 18:02:07,166   DEBUG   27   assign variable substring_set_length to be the length of substring_set\n",
      "2020-03-06 18:02:07,167   INFO    29   current substring_set_length: 1\n",
      "2020-03-06 18:02:07,167   DEBUG   31   check if length of substring_set is greater than largest_substring_length...\n",
      "2020-03-06 18:02:07,168   DEBUG   33   assign largest_substring_length to be the length of substring_set\n",
      "2020-03-06 18:02:07,170   INFO    35   current largest_substring_length: 1\n",
      "2020-03-06 18:02:07,172   INFO    14   element: b\n",
      "2020-03-06 18:02:07,173   DEBUG   16   compare if element exists in substring_set...\n",
      "2020-03-06 18:02:07,175   DEBUG   22   element does not exist in substring_set...\n",
      "2020-03-06 18:02:07,176   DEBUG   23   add element to end of substring_set\n",
      "2020-03-06 18:02:07,177   INFO    25   current substring_set: {'b', 'a'}\n",
      "2020-03-06 18:02:07,178   DEBUG   27   assign variable substring_set_length to be the length of substring_set\n",
      "2020-03-06 18:02:07,179   INFO    29   current substring_set_length: 2\n",
      "2020-03-06 18:02:07,180   DEBUG   31   check if length of substring_set is greater than largest_substring_length...\n",
      "2020-03-06 18:02:07,181   DEBUG   33   assign largest_substring_length to be the length of substring_set\n",
      "2020-03-06 18:02:07,182   INFO    35   current largest_substring_length: 2\n",
      "2020-03-06 18:02:07,182   INFO    14   element: c\n",
      "2020-03-06 18:02:07,184   DEBUG   16   compare if element exists in substring_set...\n",
      "2020-03-06 18:02:07,184   DEBUG   22   element does not exist in substring_set...\n",
      "2020-03-06 18:02:07,185   DEBUG   23   add element to end of substring_set\n",
      "2020-03-06 18:02:07,187   INFO    25   current substring_set: {'c', 'b', 'a'}\n",
      "2020-03-06 18:02:07,189   DEBUG   27   assign variable substring_set_length to be the length of substring_set\n",
      "2020-03-06 18:02:07,192   INFO    29   current substring_set_length: 3\n",
      "2020-03-06 18:02:07,193   DEBUG   31   check if length of substring_set is greater than largest_substring_length...\n",
      "2020-03-06 18:02:07,195   DEBUG   33   assign largest_substring_length to be the length of substring_set\n",
      "2020-03-06 18:02:07,196   INFO    35   current largest_substring_length: 3\n",
      "2020-03-06 18:02:07,196   INFO    14   element: a\n",
      "2020-03-06 18:02:07,197   DEBUG   16   compare if element exists in substring_set...\n",
      "2020-03-06 18:02:07,198   DEBUG   18   this element's value already exists in substring_set so it shouldn't be added to substring_set...\n",
      "2020-03-06 18:02:07,199   DEBUG   19   # assign variable substring_set to be an empty set (again)\n",
      "2020-03-06 18:02:07,201   INFO    14   element: b\n",
      "2020-03-06 18:02:07,204   DEBUG   16   compare if element exists in substring_set...\n",
      "2020-03-06 18:02:07,207   DEBUG   22   element does not exist in substring_set...\n",
      "2020-03-06 18:02:07,209   DEBUG   23   add element to end of substring_set\n",
      "2020-03-06 18:02:07,210   INFO    25   current substring_set: {'b'}\n",
      "2020-03-06 18:02:07,212   DEBUG   27   assign variable substring_set_length to be the length of substring_set\n",
      "2020-03-06 18:02:07,213   INFO    29   current substring_set_length: 1\n",
      "2020-03-06 18:02:07,215   DEBUG   31   check if length of substring_set is greater than largest_substring_length...\n",
      "2020-03-06 18:02:07,216   INFO    14   element: c\n",
      "2020-03-06 18:02:07,218   DEBUG   16   compare if element exists in substring_set...\n",
      "2020-03-06 18:02:07,219   DEBUG   22   element does not exist in substring_set...\n",
      "2020-03-06 18:02:07,220   DEBUG   23   add element to end of substring_set\n",
      "2020-03-06 18:02:07,222   INFO    25   current substring_set: {'b', 'c'}\n",
      "2020-03-06 18:02:07,223   DEBUG   27   assign variable substring_set_length to be the length of substring_set\n",
      "2020-03-06 18:02:07,225   INFO    29   current substring_set_length: 2\n",
      "2020-03-06 18:02:07,226   DEBUG   31   check if length of substring_set is greater than largest_substring_length...\n",
      "2020-03-06 18:02:07,228   INFO    14   element: b\n",
      "2020-03-06 18:02:07,229   DEBUG   16   compare if element exists in substring_set...\n",
      "2020-03-06 18:02:07,230   DEBUG   18   this element's value already exists in substring_set so it shouldn't be added to substring_set...\n",
      "2020-03-06 18:02:07,231   DEBUG   19   # assign variable substring_set to be an empty set (again)\n",
      "2020-03-06 18:02:07,231   INFO    14   element: b\n",
      "2020-03-06 18:02:07,232   DEBUG   16   compare if element exists in substring_set...\n",
      "2020-03-06 18:02:07,233   DEBUG   22   element does not exist in substring_set...\n",
      "2020-03-06 18:02:07,233   DEBUG   23   add element to end of substring_set\n",
      "2020-03-06 18:02:07,234   INFO    25   current substring_set: {'b'}\n",
      "2020-03-06 18:02:07,235   DEBUG   27   assign variable substring_set_length to be the length of substring_set\n",
      "2020-03-06 18:02:07,236   INFO    29   current substring_set_length: 1\n",
      "2020-03-06 18:02:07,238   DEBUG   31   check if length of substring_set is greater than largest_substring_length...\n"
     ]
    }
   ],
   "source": [
    "assert largest_unique_substring(\"abcabcbb\") == 3  # \"abc\" is largest substring of unique consecutive characters"
   ]
  },
  {
   "cell_type": "markdown",
   "metadata": {},
   "source": [
    "Let's turn logging messages off and run the next two test cases."
   ]
  },
  {
   "cell_type": "code",
   "execution_count": 7,
   "metadata": {},
   "outputs": [],
   "source": [
    "logger = logging.getLogger()\n",
    "logger.disabled = True"
   ]
  },
  {
   "cell_type": "code",
   "execution_count": 8,
   "metadata": {},
   "outputs": [],
   "source": [
    "assert largest_unique_substring(\"bbbbbbbb\") == 1  # \"b\" is largest substring of unique consecutive characters\n",
    "assert largest_unique_substring(\"badcajd\") == 4  # \"badc\" is largest substring of unique consecutive characters "
   ]
  }
 ],
 "metadata": {
  "kernelspec": {
   "display_name": "Python 3",
   "language": "python",
   "name": "python3"
  },
  "language_info": {
   "codemirror_mode": {
    "name": "ipython",
    "version": 3
   },
   "file_extension": ".py",
   "mimetype": "text/x-python",
   "name": "python",
   "nbconvert_exporter": "python",
   "pygments_lexer": "ipython3",
   "version": "3.7.5"
  }
 },
 "nbformat": 4,
 "nbformat_minor": 4
}
