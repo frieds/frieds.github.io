{
 "cells": [
  {
   "cell_type": "markdown",
   "metadata": {},
   "source": [
    "# Two Sum II (via Leetcode)\n",
    "\n",
    "Date published: 2020-04-13\n",
    "\n",
    "Category: Python\n",
    "\n",
    "Subcategory: Beginner Algorithms\n",
    "\n",
    "Tags: functions, loops, lists, sets\n"
   ]
  },
  {
   "cell_type": "markdown",
   "metadata": {},
   "source": [
    "Problem found on <a href=\"https://leetcode.com/problems/two-sum-ii-input-array-is-sorted/\" target=\"_blank\">Leetcode</a>.\n",
    "\n",
    "**Problem statement**:\n",
    "\n",
    "Given a list of integers that is sorted in ascending order, find two numbers in the list that add up to a specific target number.\n",
    "\n",
    "The function should return the indices of the tow numbers such that they add up to the target. The first index returned should be smaller than the next one. For this problem, assume index starts at 1, not traditional zero-based indexing.\n",
    "\n",
    "Assume a solution exists."
   ]
  },
  {
   "cell_type": "markdown",
   "metadata": {},
   "source": [
    "#### Test Cases"
   ]
  },
  {
   "cell_type": "code",
   "execution_count": null,
   "metadata": {},
   "outputs": [],
   "source": [
    "# assert two_sum(numbers=[0, 3, 5, 9], target=8) == [2, 3]"
   ]
  },
  {
   "cell_type": "markdown",
   "metadata": {},
   "source": [
    "The sum of `3` and `5` is the target value of `8`. Since this is one-based indexing, `3` and `5` are respectively at indices `2` and `3`."
   ]
  },
  {
   "cell_type": "code",
   "execution_count": null,
   "metadata": {},
   "outputs": [],
   "source": [
    "# assert two_sum(numbers=[9, 10, 5, 15], target=25) == [2, 4]"
   ]
  },
  {
   "cell_type": "code",
   "execution_count": null,
   "metadata": {},
   "outputs": [],
   "source": [
    "# assert two_sum(numbers=[-3, -1, 0, 3], target=-4) == [1, 2]"
   ]
  },
  {
   "cell_type": "markdown",
   "metadata": {},
   "source": [
    "### Solution #1 - the Brute Force Way"
   ]
  },
  {
   "cell_type": "markdown",
   "metadata": {},
   "source": [
    "#### Pseudocode"
   ]
  },
  {
   "cell_type": "code",
   "execution_count": null,
   "metadata": {},
   "outputs": [],
   "source": [
    "# create function that takes in list of numbers and target\n",
    "    # for each index and num in numbers:\n",
    "        # for every *other* index2 and num2 in numbers:\n",
    "            # if num and num2 add up to target\n",
    "                # return two indices as list"
   ]
  },
  {
   "cell_type": "markdown",
   "metadata": {},
   "source": [
    "#### Code"
   ]
  },
  {
   "cell_type": "code",
   "execution_count": 36,
   "metadata": {},
   "outputs": [],
   "source": [
    "def two_sum(numbers, target):\n",
    "    # outer loop ensures we don't reach last num in numbers b/c nothing to compare it to\n",
    "    # index starts at base zero\n",
    "    for index, num in enumerate(numbers[:-1]):\n",
    "        # below loop ensures we don't compare num to itself and only examine following nums\n",
    "        # index2 starts at num that's index+1 value in each iteration...\n",
    "        for index2, num2 in enumerate(numbers[index+1:]):\n",
    "            if num + num2 == target:\n",
    "                # add 1 to each index value b/c of one-based indexing\n",
    "                # 2nd list item started at index+1 and could iterate to index2 indices further; add 1 at end too\n",
    "                return [index+1, index+1+index2+1]"
   ]
  },
  {
   "cell_type": "markdown",
   "metadata": {},
   "source": [
    "#### Complexity"
   ]
  },
  {
   "cell_type": "markdown",
   "metadata": {},
   "source": [
    "I would generally *not* recommend solving the problem this way in a coding interview or using a similar solution in production. I demonstrated it this way simply to show a solution with minimal code and logic needed to arrive at the correct result.\n",
    "\n",
    "Let `n` be the count of values in `numbers`. \n",
    "\n",
    "**Time complexity** at worst case is O(n^2) because for each element in `numbers`, I compare it to *nearly* every other number in `numbers`.\n",
    "\n",
    "**Space complexity** is nothing."
   ]
  },
  {
   "cell_type": "markdown",
   "metadata": {},
   "source": [
    "#### Run Test Cases"
   ]
  },
  {
   "cell_type": "code",
   "execution_count": 37,
   "metadata": {},
   "outputs": [],
   "source": [
    "assert two_sum(numbers=[9, 10, 5, 15], target=20) == [3, 4]"
   ]
  },
  {
   "cell_type": "code",
   "execution_count": 38,
   "metadata": {},
   "outputs": [],
   "source": [
    "assert two_sum(numbers=[-3, -1, 0, 3], target=-4) == [1, 2]"
   ]
  },
  {
   "cell_type": "markdown",
   "metadata": {},
   "source": [
    "### Solution #2 - a More Performant Way"
   ]
  },
  {
   "cell_type": "markdown",
   "metadata": {},
   "source": [
    "#### Pseudocode"
   ]
  },
  {
   "cell_type": "code",
   "execution_count": null,
   "metadata": {},
   "outputs": [],
   "source": [
    "# create a function that takes in a list of numbers and a target\n",
    "\n",
    "    # we want to keep track of numbers iterated over in a set to allow for easy O(1) lookups...\n",
    "    \n",
    "    # create an empty set to hold nums iterated over\n",
    "    # iterate over index and num in numbers:\n",
    "        # if target-num is in set:\n",
    "            # break out of loop\n",
    "        # else:\n",
    "            # add num to set\n",
    "            \n",
    "    # lookup index of this greater value in list...\n",
    "    # for index2 and num2 in numbers:\n",
    "        # if num2 == target-num and index is not equal to index2:\n",
    "            # this is the value we want to find to add up to sum\n",
    "            # return [index, index2]"
   ]
  },
  {
   "cell_type": "markdown",
   "metadata": {},
   "source": [
    "#### Code"
   ]
  },
  {
   "cell_type": "code",
   "execution_count": 42,
   "metadata": {},
   "outputs": [],
   "source": [
    "def two_sum(numbers, target):\n",
    "    nums_covered = set()\n",
    "    for index, num in enumerate(numbers):\n",
    "        if target-num in nums_covered:\n",
    "            break\n",
    "        else:\n",
    "            nums_covered.add(num)\n",
    "    \n",
    "    for index2, num2 in enumerate(numbers):\n",
    "        if num2 == target-num and index != index2:\n",
    "            return [index2+1, index+1]"
   ]
  },
  {
   "cell_type": "markdown",
   "metadata": {},
   "source": [
    "Alternatively, this code could be written without a second iteration over `numbers`. Instead, I could use a dictionary to store all the index positions for each `num` in `numbers`. So when I find a number in iteration and in the set that add to sum, look up the number found from the set in the dictionary as an O(1) time lookup to find its corresponding index."
   ]
  },
  {
   "cell_type": "markdown",
   "metadata": {},
   "source": [
    "#### Complexity"
   ]
  },
  {
   "cell_type": "markdown",
   "metadata": {},
   "source": [
    "**Time complexity** is at worst cast O(2n) because there can be nearly two complete iterations over `numbers`.\n",
    "\n",
    "**Space complexity** is O(n) because the set created, `nums_covered` could at worst case hold nearly all values in `numbers`."
   ]
  },
  {
   "cell_type": "markdown",
   "metadata": {},
   "source": [
    "#### Run Test Cases"
   ]
  },
  {
   "cell_type": "code",
   "execution_count": 43,
   "metadata": {},
   "outputs": [],
   "source": [
    "assert two_sum(numbers=[9, 10, 5, 15], target=20) == [3, 4]"
   ]
  },
  {
   "cell_type": "code",
   "execution_count": 44,
   "metadata": {},
   "outputs": [],
   "source": [
    "assert two_sum(numbers=[-3, -1, 0, 3], target=-4) == [1, 2]"
   ]
  }
 ],
 "metadata": {
  "kernelspec": {
   "display_name": "Python 3 (ipykernel)",
   "language": "python",
   "name": "python3"
  },
  "language_info": {
   "codemirror_mode": {
    "name": "ipython",
    "version": 3
   },
   "file_extension": ".py",
   "mimetype": "text/x-python",
   "name": "python",
   "nbconvert_exporter": "python",
   "pygments_lexer": "ipython3",
   "version": "3.11.2"
  }
 },
 "nbformat": 4,
 "nbformat_minor": 4
}
