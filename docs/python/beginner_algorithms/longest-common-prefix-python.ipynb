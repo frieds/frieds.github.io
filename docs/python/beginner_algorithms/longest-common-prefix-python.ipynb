{
 "cells": [
  {
   "cell_type": "markdown",
   "metadata": {},
   "source": [
    "# Longest Common Prefix (via Leetcode)\n",
    "\n",
    "Date published: 2020-03-25\n",
    "\n",
    "Category: Python\n",
    "\n",
    "Subcategory: Beginner Algorithms\n",
    "\n",
    "Tags: functions, loops, try-except statement\n"
   ]
  },
  {
   "cell_type": "markdown",
   "metadata": {},
   "source": [
    "This problem can be found on <a href=\"https://leetcode.com/problems/longest-common-prefix/\" target=\"_blank\">Leetcode</a>.\n",
    "\n",
    "Write a function to find the longest common prefix string amongst an array of strings.\n",
    "\n",
    "If there is no common prefix, return an empty string \"\"."
   ]
  },
  {
   "cell_type": "markdown",
   "metadata": {},
   "source": [
    "#### Test Cases"
   ]
  },
  {
   "cell_type": "markdown",
   "metadata": {},
   "source": [
    "In this test case, the longest common prefix of characters among the three strings is \"fl\""
   ]
  },
  {
   "cell_type": "code",
   "execution_count": 51,
   "metadata": {},
   "outputs": [],
   "source": [
    "# assert longest_common_prefix([\"flower\", \"flow\", \"flight\"]) == \"fl\""
   ]
  },
  {
   "cell_type": "markdown",
   "metadata": {},
   "source": [
    "In this test case, there are no common prefix characters among the three strings so the function should return an empty string."
   ]
  },
  {
   "cell_type": "code",
   "execution_count": 52,
   "metadata": {},
   "outputs": [],
   "source": [
    "# assert longest_common_prefix([\"dog\", \"racecar\", \"car\"]) == \"\""
   ]
  },
  {
   "cell_type": "markdown",
   "metadata": {},
   "source": [
    "### Pseudocode"
   ]
  },
  {
   "cell_type": "code",
   "execution_count": 54,
   "metadata": {},
   "outputs": [],
   "source": [
    "# create a function that takes in a list of strings\n",
    "\n",
    "    # letter_at_index = \"\"  # stores our running letter to compare to each word\n",
    "    # final_string = \"\"  # hold longest common prefix that will be the return value\n",
    "\n",
    "    # this condition is here because the code to calculate the length of the first item in the input list of strings would cause an error...\n",
    "    # if length of the input list of strings is 0:\n",
    "        # there are no strings to evaluate so immediately return final_string\n",
    "    \n",
    "    # assign variable to be length of one of the input strings\n",
    "\n",
    "    # iterate from letter_index of range 0 to one of the length of the input strings:\n",
    "        # iterate over each string in list and keep track of index too\n",
    "            \n",
    "            # add try block b/c we'd want our function to end when we reach an index error in the except statement below\n",
    "                # if we're iterating over first list item\n",
    "                    # letter_at_index = this letter in first list item\n",
    "                # else if letter_at_index is not equal to the letter in this list item:\n",
    "                    # use the last saved common prefix among strings\n",
    "                    # return final_string\n",
    "                # else:  \n",
    "                    # pass\n",
    "            # except index error:\n",
    "                # at this point we may be trying to access a character in a strong beyond its max index...\n",
    "                # break out of function and return final_string\n",
    "                \n",
    "        # finished iteration of comparing same index among strings...\n",
    "        # letter_at_index exists in all strings so append it to final string \n",
    "        # assign letter_at_index to a blank string\n",
    "\n",
    "    # we've finished iteration and all strings are the same!\n",
    "    # return final_string"
   ]
  },
  {
   "cell_type": "markdown",
   "metadata": {},
   "source": [
    "I want to cover the space and time complexity here.\n",
    "\n",
    "`n` is the length of elements in `list_of_strings`. `m` is the length of the longest string in `list_of_strings`.\n",
    "\n",
    "My iteration could be over all possible letters in each string so it's an O(mn) time complexity operation.\n",
    "\n",
    "There are a few variables created that are each an O(1) space complexity operation. Since they're all very small, space complexity is essentially O(1)."
   ]
  },
  {
   "cell_type": "markdown",
   "metadata": {},
   "source": [
    "### Code"
   ]
  },
  {
   "cell_type": "code",
   "execution_count": 93,
   "metadata": {},
   "outputs": [],
   "source": [
    "def longest_common_prefix(list_of_strings):\n",
    "    letter_at_index = \"\"\n",
    "    final_string = \"\"\n",
    "    \n",
    "    if len(list_of_strings) == 0:\n",
    "        return final_string\n",
    "    \n",
    "    length_of_a_string = len(list_of_strings[0])\n",
    "    \n",
    "    # compare the letter at an index for each string and see if they match...\n",
    "    for index_in_string in range(0, length_of_a_string):\n",
    "        for index_in_list_of_strings, string in enumerate(list_of_strings):\n",
    "            try:    \n",
    "                if index_in_list_of_strings == 0:\n",
    "                    letter_at_index = string[index_in_string]\n",
    "                elif string[index_in_string] != letter_at_index:\n",
    "                    return final_string\n",
    "                else:\n",
    "                    pass\n",
    "            except IndexError:\n",
    "                return final_string\n",
    "        # letter_at_index is the same across all strings so add this letter to final_string\n",
    "        final_string += letter_at_index\n",
    "        # reassign letter_at_index to be an empty string\n",
    "        letter_at_index = \"\"\n",
    "    \n",
    "    return final_string"
   ]
  },
  {
   "cell_type": "markdown",
   "metadata": {},
   "source": [
    "### Validate Code with Test Cases"
   ]
  },
  {
   "cell_type": "code",
   "execution_count": 94,
   "metadata": {},
   "outputs": [],
   "source": [
    "assert longest_common_prefix([\"flower\", \"flow\", \"flight\"]) == \"fl\""
   ]
  },
  {
   "cell_type": "code",
   "execution_count": 95,
   "metadata": {},
   "outputs": [],
   "source": [
    "assert longest_common_prefix([\"flower\", \"flower\", \"flower\"]) == \"flower\""
   ]
  },
  {
   "cell_type": "code",
   "execution_count": 96,
   "metadata": {},
   "outputs": [],
   "source": [
    "assert longest_common_prefix([\"\", \"racecar\", \"car\"]) == \"\""
   ]
  },
  {
   "cell_type": "code",
   "execution_count": 97,
   "metadata": {},
   "outputs": [],
   "source": [
    "assert longest_common_prefix([\"\", \"\", \"\"]) == \"\""
   ]
  },
  {
   "cell_type": "code",
   "execution_count": 98,
   "metadata": {},
   "outputs": [],
   "source": [
    "assert longest_common_prefix([\"\"]) == \"\""
   ]
  },
  {
   "cell_type": "code",
   "execution_count": 100,
   "metadata": {},
   "outputs": [],
   "source": [
    "assert longest_common_prefix([]) == \"\""
   ]
  }
 ],
 "metadata": {
  "kernelspec": {
   "display_name": "Python 3",
   "language": "python",
   "name": "python3"
  },
  "language_info": {
   "codemirror_mode": {
    "name": "ipython",
    "version": 3
   },
   "file_extension": ".py",
   "mimetype": "text/x-python",
   "name": "python",
   "nbconvert_exporter": "python",
   "pygments_lexer": "ipython3",
   "version": "3.7.5"
  }
 },
 "nbformat": 4,
 "nbformat_minor": 4
}
