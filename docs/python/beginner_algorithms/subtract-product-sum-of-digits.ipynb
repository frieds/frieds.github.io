{
 "cells": [
  {
   "cell_type": "markdown",
   "metadata": {},
   "source": [
    "# Subtract the Product and Sum of Digits of an Integer (via Leetcode)\n",
    "\n",
    "Date published: 2020-03-28\n",
    "\n",
    "Category: Python\n",
    "\n",
    "Subcategory: Beginner Algorithms\n",
    "\n",
    "Tags: functions, loops\n"
   ]
  },
  {
   "cell_type": "markdown",
   "metadata": {},
   "source": [
    "**Problem setup:**\n",
    "\n",
    "This problem can be found on <a href=\"https://leetcode.com/problems/subtract-the-product-and-sum-of-digits-of-an-integer/\" target=\"_blank\">Leetcode</a>.\n",
    "\n",
    "Given an integer number `n`, return the difference between the product of its digits and the sum of its digits."
   ]
  },
  {
   "cell_type": "markdown",
   "metadata": {},
   "source": [
    "### Test Cases"
   ]
  },
  {
   "cell_type": "code",
   "execution_count": 3,
   "metadata": {},
   "outputs": [],
   "source": [
    "# assert subtract_product_and_sum(35) == 27"
   ]
  },
  {
   "cell_type": "markdown",
   "metadata": {},
   "source": [
    "- Product of digits = 3 * 5 = 35\n",
    "- Sum of digits = 3 + 5 = 8\n",
    "- Difference = 35 - 8 = 27"
   ]
  },
  {
   "cell_type": "code",
   "execution_count": 2,
   "metadata": {},
   "outputs": [],
   "source": [
    "# assert subtract_product_and_sum(235) == 20"
   ]
  },
  {
   "cell_type": "markdown",
   "metadata": {},
   "source": [
    "- Product of digits = 2 * 3 * 5 = 30\n",
    "- Sum of digits = 2 + 3 + 5 = 10\n",
    "- Difference = 30 - 10 = 20"
   ]
  },
  {
   "cell_type": "markdown",
   "metadata": {},
   "source": [
    "### Pseudocode"
   ]
  },
  {
   "cell_type": "code",
   "execution_count": null,
   "metadata": {},
   "outputs": [],
   "source": [
    "# define function to with argument for num\n",
    "    # cast num to a string to be able to iterate over its digits\n",
    "    # assign variable to hold product of digits as 1\n",
    "    # assign variable to hold sum of digits as 0\n",
    "    \n",
    "    # iterate over each digit in string version of number:\n",
    "        # cast string digit to an integer\n",
    "        # product of digits = product of digits * integer digit\n",
    "        # sum of digits = sum of digits * integer digit\n",
    "    # assign variable difference to be product of digits minus sum of digits\n",
    "    # return difference"
   ]
  },
  {
   "cell_type": "markdown",
   "metadata": {},
   "source": [
    "My solution above is the simplest possible solution. I wouldn't dwell on space and time complexity here. There's minimal space used as only 3 variables are created (no data structures). For time complexity, the simplest possible operation is done which is a single iteration over each digit in the input integer."
   ]
  },
  {
   "cell_type": "markdown",
   "metadata": {},
   "source": [
    "### Code"
   ]
  },
  {
   "cell_type": "code",
   "execution_count": 1,
   "metadata": {},
   "outputs": [],
   "source": [
    "def subtract_product_and_sum(n)\n",
    "    str_n = str(n)\n",
    "    product_of_digits = 1\n",
    "    sum_of_digits = 0\n",
    "    for number in str_n:\n",
    "        int_n = int(number)\n",
    "        product_of_digits *= int_n\n",
    "        sum_of_digits += int_n\n",
    "    diff = product_of_digits - sum_of_digits\n",
    "    return diff"
   ]
  },
  {
   "cell_type": "markdown",
   "metadata": {},
   "source": [
    "### Verify test cases"
   ]
  },
  {
   "cell_type": "code",
   "execution_count": null,
   "metadata": {},
   "outputs": [],
   "source": [
    "assert subtract_product_and_sum(35) == 27"
   ]
  },
  {
   "cell_type": "code",
   "execution_count": null,
   "metadata": {},
   "outputs": [],
   "source": [
    "assert subtract_product_and_sum(235) == 20"
   ]
  }
 ],
 "metadata": {
  "kernelspec": {
   "display_name": "Python 3",
   "language": "python",
   "name": "python3"
  },
  "language_info": {
   "codemirror_mode": {
    "name": "ipython",
    "version": 3
   },
   "file_extension": ".py",
   "mimetype": "text/x-python",
   "name": "python",
   "nbconvert_exporter": "python",
   "pygments_lexer": "ipython3",
   "version": "3.7.5"
  }
 },
 "nbformat": 4,
 "nbformat_minor": 4
}
