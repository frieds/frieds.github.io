{
 "cells": [
  {
   "cell_type": "markdown",
   "metadata": {},
   "source": [
    "# Find the Median of Two Sorted Arrays (via Leetcode)\n",
    "\n",
    "Date published: 2020-03-08\n",
    "\n",
    "Category: Python\n",
    "\n",
    "Subcategory: Advanced Algorithms\n",
    "\n",
    "Tags: functions, loops, sets\n"
   ]
  },
  {
   "cell_type": "markdown",
   "metadata": {},
   "source": [
    "This example was found on <a href=\"https://leetcode.com/problems/median-of-two-sorted-arrays/\" target=\"_blank\">Leetcode</a>.\n",
    "\n",
    "In this tutorial, I'll walk extensively through my logic for solving this problem.\n",
    "\n",
    "I'll solve it the brute force way and later solve it in a more performant way.\n",
    "\n",
    "**Problem statement**:\n",
    "\n",
    "There are two sorted arrays, `nums1` and `nums2` of size `m` and `n` respectively. \n",
    "\n",
    "Find the median of the two sorted arrays. Assume both arrays are non-empty.\n",
    "\n",
    "The overall run time complexity should be O(log (m+n)).\n",
    "\n",
    "**Test cases**:"
   ]
  },
  {
   "cell_type": "code",
   "execution_count": 14,
   "metadata": {},
   "outputs": [],
   "source": [
    "# odd-numbered lists; median is middle number\n",
    "# assert find_median_of_two_sorted_arrays([1], [1, 2]) == 1\n",
    "# assert find_median_of_two_sorted_arrays([1], [1, 2, 3, 4]) == 2\n",
    "# assert find_median_of_two_sorted_arrays([1, 5], [0, 3, 6]) == 3\n",
    "\n",
    "# even-numbered lists; median is average of two \"middle\" numbers\n",
    "# assert find_median_of_two_sorted_arrays([1], [2]) == 1.5\n",
    "# assert find_median_of_two_sorted_arrays([1], [2, 4, 6]) == 3\n",
    "# assert find_median_of_two_sorted_arrays([1, 3], [2, 4]) == 2.5"
   ]
  },
  {
   "cell_type": "markdown",
   "metadata": {},
   "source": [
    "### Brute Force Method"
   ]
  },
  {
   "cell_type": "markdown",
   "metadata": {},
   "source": [
    "#### Pseudocode\n",
    "\n",
    "I want to calculate the \"middle\" number(s) used to calculate the median. To find the \"middle\" number(s), I'll use the \"merge step\" pattern - without creating a merged list. This pattern use two pointers - one for each list - to track the index at each list. The elements at each index are compared, and the pointer is incremented for the smaller value.\n",
    "\n",
    "The median for an even-numbered list such as `[1, 2, 3, 4]` is the average of the two \"middle\" numbers of `2` and `3` which is `2.5`.  \n",
    "\n",
    "The median for an odd-number list such as `[1, 2, 3]` is the \"middle\" number of `2`.\n",
    "\n",
    "That's enough to begin coding.\n",
    "\n",
    "#### Coded Solution"
   ]
  },
  {
   "cell_type": "code",
   "execution_count": 15,
   "metadata": {
    "tags": []
   },
   "outputs": [],
   "source": [
    "def find_median_of_two_sorted_arrays(nums1, nums2):\n",
    "    nums1_length, nums2_length = len(nums1), len(nums2)\n",
    "    total_length = nums1_length + nums2_length\n",
    "    median_index2 = total_length // 2\n",
    "\n",
    "    nums1_index, nums2_index = 0, 0\n",
    "    previous_value, current_value = None, None\n",
    "\n",
    "    joined_list_index = 0\n",
    "    while joined_list_index <= median_index2:\n",
    "        # helps us store the \"middle\" numbers to use in median final calculations\n",
    "        previous_value = current_value\n",
    "\n",
    "        # checks if there are still elements left in both arrays. If so, we need to compare the elements at the\n",
    "        # current positions of the pointers and move the pointer with the smaller value.\n",
    "        if nums1_index < nums1_length and nums2_index < nums2_length:\n",
    "            if nums1[nums1_index] < nums2[nums2_index]:\n",
    "                current_value = nums1[nums1_index]\n",
    "                nums1_index += 1\n",
    "            else:\n",
    "                current_value = nums2[nums2_index]\n",
    "                nums2_index += 1\n",
    "        # condition checks if elements still left in first array\n",
    "        elif nums1_index < nums1_length:\n",
    "            current_value = nums1[nums1_index]\n",
    "            nums1_index += 1\n",
    "        # no elements left in first array\n",
    "        else:\n",
    "            current_value = nums2[nums2_index]\n",
    "            nums2_index += 1\n",
    "\n",
    "        joined_list_index += 1\n",
    "\n",
    "    # do median calculation\n",
    "    if total_length % 2 == 0:\n",
    "        return (previous_value + current_value) / 2.0\n",
    "    else:\n",
    "        return current_value"
   ]
  },
  {
   "cell_type": "markdown",
   "metadata": {},
   "source": [
    "All the test cases below pass."
   ]
  },
  {
   "cell_type": "code",
   "execution_count": 16,
   "metadata": {},
   "outputs": [],
   "source": [
    "assert find_median_of_two_sorted_arrays([1], [1, 2]) == 1\n",
    "assert find_median_of_two_sorted_arrays([1], [1, 2, 3, 4]) == 2\n",
    "assert find_median_of_two_sorted_arrays([1, 5], [0, 3, 6]) == 3\n",
    "assert find_median_of_two_sorted_arrays([1], [2]) == 1.5\n",
    "assert find_median_of_two_sorted_arrays([1], [2, 4, 6]) == 3\n",
    "assert find_median_of_two_sorted_arrays([1, 3], [2, 4]) == 2.5"
   ]
  }
 ],
 "metadata": {
  "kernelspec": {
   "display_name": "Python 3 (ipykernel)",
   "language": "python",
   "name": "python3"
  },
  "language_info": {
   "codemirror_mode": {
    "name": "ipython",
    "version": 3
   },
   "file_extension": ".py",
   "mimetype": "text/x-python",
   "name": "python",
   "nbconvert_exporter": "python",
   "pygments_lexer": "ipython3",
   "version": "3.11.2"
  }
 },
 "nbformat": 4,
 "nbformat_minor": 4
}
