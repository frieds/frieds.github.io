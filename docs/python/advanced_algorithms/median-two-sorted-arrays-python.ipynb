{
 "cells": [
  {
   "cell_type": "markdown",
   "metadata": {},
   "source": [
    "# Find the Median of Two Sorted Arrays (via Leetcode)\n",
    "\n",
    "Date published: 2020-03-08\n",
    "\n",
    "Category: Python\n",
    "\n",
    "Subcategory: Advanced Algorithms\n",
    "\n",
    "Tags: functions, loops, sets\n"
   ]
  },
  {
   "cell_type": "markdown",
   "metadata": {},
   "source": [
    "This example was found on <a href=\"https://leetcode.com/problems/median-of-two-sorted-arrays/\" target=\"_blank\">Leetcode</a>.\n",
    "\n",
    "In this tutorial, I'll walk extensively through my logic for solving this problem.\n",
    "\n",
    "**Problem statement**:\n",
    "\n",
    "There are two sorted arrays, `nums1` and `nums2` of size `m` and `n` respectively. \n",
    "\n",
    "Find the median of the two sorted arrays. Assume both arrays are non-empty.\n",
    "\n",
    "**Test cases**:\n",
    "\n",
    "Each list must have at least one value, should be sorted from least to greatest and should only contain integers.\n",
    "\n",
    "**Sum of length of lists is an odd number**:\n",
    "\n",
    "- `nums1=[1]` and `nums2=[1, 2]`\n",
    "    - `len(nums1)` = 1 and `len(nums2)` = 2\n",
    "    - Sum of length of lists is 3\n",
    "    - Median is 1\n",
    "    - Need to traverse to index 1 of combined lists - equivalent to `range(0, 2)` since 2nd argument exclusive\n",
    "- `nums1=[1]` and `nums2=[1, 2, 3, 4]`\n",
    "    - `len(nums1)` = 1 and `len(nums2)` = 4\n",
    "    - Sum of length of lists is 5\n",
    "    - Median is 2\n",
    "    - Need to traverse to index 2 of combined lists - equivalent to `range(0, 3)`\n",
    "    - A *special* edge case: want to keep on iterating over elements `nums2` and can't utilize index greater than 0 for `nums1`\n",
    "- `nums1=[1, 5]` and `nums2=[0, 3, 6]`\n",
    "    - `len(nums1)` = 2 and `len(nums2)` = 3\n",
    "    - Sum of length of lists is 5\n",
    "    - Median is 3\n",
    "    - Need to traverse to index 2 of combined lists - equivalent to `range(0, 3)`\n",
    "\n",
    "**Sum of length of lists is an even number**:\n",
    "\n",
    "- `nums1=[1]` and `nums2=[2]`\n",
    "    - `len(nums1)` = 1 and `len(nums2)` = 1\n",
    "    - Sum of length of lists is 2.\n",
    "    - Median is (1+2)/2 = 1.5\n",
    "    - Need to traverse to index 1 of combined lists - equivalent to `range(0, 2)`\n",
    "- `nums1=[1]` and `nums2=[2, 4, 6]`\n",
    "    - `len(nums1)` = 1 and `len(nums2)` = 3\n",
    "    - Sum of length of lists is 4\n",
    "    - Median is (2+4)/2 = 3\n",
    "    - Need to traverse to index 2 of combined lists - equivalent to `range(0, 3)`\n",
    "- `nums1=[1, 3]` and `nums2=[2, 4]`\n",
    "    - `len(nums1)` = 2 and `len(nums2)` = 2\n",
    "    - Sum of length of lists is 4\n",
    "    - Median is (2+3)/2 = 2.5\n",
    "    - Need to traverse to index 2 of combined lists - equivalent to `range(0, 3)`\n",
    "    \n",
    "Let's write out Python test cases."
   ]
  },
  {
   "cell_type": "code",
   "execution_count": 1,
   "metadata": {},
   "outputs": [],
   "source": [
    "# assert find_median_of_two_sorted_arrays([1], [1, 2]) == 1\n",
    "# assert find_median_of_two_sorted_arrays([1], [1, 2, 3, 4]) == 2\n",
    "# assert find_median_of_two_sorted_arrays([1, 5], [0, 3, 6]) == 3\n",
    "# assert find_median_of_two_sorted_arrays([1], [2]) == 1.5\n",
    "# assert find_median_of_two_sorted_arrays([1], [2, 4, 6]) == 3\n",
    "# assert find_median_of_two_sorted_arrays([1, 3], [2, 4]) == 2.5"
   ]
  },
  {
   "cell_type": "markdown",
   "metadata": {},
   "source": [
    "### Brute Force Method"
   ]
  },
  {
   "cell_type": "markdown",
   "metadata": {},
   "source": [
    "In general, I think it's best practice to first try to solve the problem using brute force - meaning solve it by any means necessary - even if it's not best-performant code. Use the plethora of Python functions, data structures and methods to derive the solution in the quickest way you know possible.\n",
    "\n",
    "Programming in the real world, in most cases, just solved in a quick fashion - likely the brute force way - is more optimal than solving the problem over a long duration with more performant code that uses less memory and computes in a shorter time period. Once the problem is solved, then work on optimizing it to be better. \n",
    "\n",
    "#### Pseudocode\n",
    "\n",
    "We have two sorted lists. It's confusing to work with two separate data structures and manage iterating over them. Therefore, I think it's simplest to create one sorted list. \n",
    "\n",
    "There are two formulas to find the median of a list - one if the list has an even number of elements and another if the list has an odd number of elements.\n",
    "\n",
    "Since there will be one sorted list, I can easily retrieve the element(s) at a given index needed to calculate the median.\n",
    "\n",
    "This method isn't performant because it's high time complexity to sort a list and additional space complexity to store a new sorted list. My hypothesis is that there's a simpler time complexity way that may involve just one iteration over half of `m` + `n` in order to find the median value.\n",
    "\n",
    "#### Coded Solution"
   ]
  },
  {
   "cell_type": "code",
   "execution_count": 3,
   "metadata": {},
   "outputs": [],
   "source": [
    "import logging\n",
    "logging.basicConfig(level=logging.DEBUG, format='%(asctime)-25s %(levelname)-7s %(lineno)-4s %(message)-8s')                      \n",
    "\n",
    "def find_median_of_two_sorted_arrays(nums1, nums2):\n",
    "    \"\"\"\n",
    "    Find the median of two sorted arrays through iterating over one combined sorted list.\n",
    "    Reach middle index and calculate median based on specific formula relative to count of \n",
    "    elements in combined list.\n",
    "    \n",
    "    param nums1: first sorted list\n",
    "    param nums2: second sorted list\n",
    "    return median: median of two sorted lists    \n",
    "    \"\"\"\n",
    "\n",
    "    logging.debug(\"create one sorted list from nums1 and nums2...\")\n",
    "    sorted_list = sorted(nums1+nums2)\n",
    "    logging.debug(\"calculate the length of sorted_list...\")\n",
    "    len_sorted_list = len(sorted_list)\n",
    "    if len_sorted_list == 2:\n",
    "        logging.debug(\"given 2-number sorted list, calculate average of two middle numbers in list...\")\n",
    "        median = (sorted_list[0] + sorted_list[1])/2\n",
    "    elif len_sorted_list % 2 == 0:\n",
    "        logging.debug(\"given even numbered sorted_list, use Python floor division operator to calculate two middle # indices...\")\n",
    "        lower_middle_index = len_sorted_list // 2 - 1\n",
    "        higher_middle_index = len_sorted_list // 2\n",
    "        logging.debug(\"calculate median as \")\n",
    "        median = (sorted_list[lower_middle_index] + sorted_list[higher_middle_index])/2\n",
    "    else:\n",
    "        logging.debug(\"given odd-numbered sorted_list, calculate median as exact middle value...\")\n",
    "        exact_middle_list_index = len_sorted_list // 2\n",
    "        median = sorted_list[exact_middle_list_index]\n",
    "    logging.debug(\"median: {median}\")\n",
    "    return median"
   ]
  },
  {
   "cell_type": "markdown",
   "metadata": {},
   "source": [
    "All the test cases below pass."
   ]
  },
  {
   "cell_type": "code",
   "execution_count": 4,
   "metadata": {},
   "outputs": [
    {
     "name": "stderr",
     "output_type": "stream",
     "text": [
      "2020-03-08 20:47:31,891   DEBUG   4    create one sorted list from nums1 and nums2...\n",
      "2020-03-08 20:47:31,892   DEBUG   6    calculate the length of sorted_list...\n",
      "2020-03-08 20:47:31,893   DEBUG   18   given odd-numbered sorted_list, calculate median as exact middle value...\n",
      "2020-03-08 20:47:31,894   DEBUG   21   median: {median}\n"
     ]
    }
   ],
   "source": [
    "assert find_median_of_two_sorted_arrays([1], [1, 2]) == 1"
   ]
  },
  {
   "cell_type": "markdown",
   "metadata": {},
   "source": [
    "Turn off logger messages for verifying rest of test cases."
   ]
  },
  {
   "cell_type": "code",
   "execution_count": 5,
   "metadata": {},
   "outputs": [],
   "source": [
    "logger = logging.getLogger()\n",
    "logger.disabled = True"
   ]
  },
  {
   "cell_type": "code",
   "execution_count": 6,
   "metadata": {},
   "outputs": [],
   "source": [
    "assert find_median_of_two_sorted_arrays([1], [1, 2, 3, 4]) == 2\n",
    "assert find_median_of_two_sorted_arrays([1, 5], [0, 3, 6]) == 3\n",
    "assert find_median_of_two_sorted_arrays([1], [2]) == 1.5\n",
    "assert find_median_of_two_sorted_arrays([1], [2, 4, 6]) == 3\n",
    "assert find_median_of_two_sorted_arrays([1, 3], [2, 4]) == 2.5"
   ]
  },
  {
   "cell_type": "markdown",
   "metadata": {},
   "source": [
    "### A More Performant Method"
   ]
  },
  {
   "cell_type": "markdown",
   "metadata": {},
   "source": [
    "#### Pseudocode"
   ]
  },
  {
   "cell_type": "code",
   "execution_count": 7,
   "metadata": {},
   "outputs": [],
   "source": [
    "# a python deque is a great data structure for quick O(1) pops at the front - unlike a list\n",
    "# assign a Python deque to store the values of nums1\n",
    "# assign a Python deque to store the values of nums2\n",
    "\n",
    "# assign variable sum_length_two_lists to be sum of the lengths of the input lists\n",
    "# assign variable last_iterated_value to be None\n",
    "\n",
    "# as we iterate over each list, we'll compare the values at index 0 of each list...\n",
    "# create a function called element_comparisons_on_lists that takes in inputs nums1, nums2, and last_iterated_value\n",
    "    # NEED TO CHECK LENGTH OF LIST...\n",
    "    # if len(nums2) is equal to 0 or nums1[0] <= nums2[0]:\n",
    "        # pop out first element of nums1 and assign it to last_iterated_value\n",
    "    # else:\n",
    "        # pop out first element of nums2 and assign it to last_iterated_value\n",
    "    # return nums1, nums2 and last_iterated_value\n",
    "\n",
    "# if sum_length_two_lists is equal to two:\n",
    "    # calculate median as average of two values - the one in east list\n",
    "# else if sum_length_two_lists is even number:\n",
    "    # assign middle_values_list to be empty python list\n",
    "    # create python set of lower-middle-index and upper-middle-index\n",
    "    # iterate from combined_index in range(0, upper-middle-# + 1)\n",
    "        # if combined_index in python set:\n",
    "            # append element to middle_values_list\n",
    "        # call element_comparisons_on_lists and return values\n",
    "    # median is average of two numbers in middle_values_list\n",
    "# else:\n",
    "    # sum_length_two_lists is an odd number...\n",
    "    # iterate from combined_index in range(0, middle number in list + 1)\n",
    "        # call element_comparisons_on_lists and return values\n",
    "    # median is last_iterated_value\n",
    "# return median"
   ]
  },
  {
   "cell_type": "markdown",
   "metadata": {},
   "source": [
    "#### Algorithm Coded"
   ]
  },
  {
   "cell_type": "code",
   "execution_count": 9,
   "metadata": {},
   "outputs": [],
   "source": [
    "from collections import deque\n",
    "\n",
    "def element_comparisons_on_lists(nums1, nums2, last_iterated_value):\n",
    "    \"\"\"\n",
    "    Compute the smaller element of the two sorted lists and remove that value from deque\n",
    "    \n",
    "    param nums1: first sorted list\n",
    "    param nums2: second sorted list\n",
    "    last_iterated_value: the smaller of available elements in each of two sorted lists\n",
    "    return nums1, nums2, last_iterated_value\n",
    "    \"\"\"\n",
    "    if len(nums2) == 0: \n",
    "        logging.debug(\"no elements in nums2; pop out first element of nums1 and assign it to last_iterated_value\")\n",
    "        last_iterated_value = nums1.popleft()\n",
    "    elif len(nums1) == 0:\n",
    "        logging.debug(\"no elements in nums1; pop out first element of nums2 and assign it to last_iterated_value\")\n",
    "        last_iterated_value = nums2.popleft()\n",
    "    elif nums1[0] <= nums2[0]:\n",
    "        logging.debug(\"pop out first element of nums1 and assign it to last_iterated_value\")\n",
    "        last_iterated_value = nums1.popleft()\n",
    "    else:\n",
    "        logging.debug(\"pop out first element of nums2 and assign it to last_iterated_value\")\n",
    "        last_iterated_value = nums2.popleft()\n",
    "    logging.info(f\"nums1: {nums1} and nums2: {nums2} and last_iterated_value: {last_iterated_value}\")\n",
    "    return nums1, nums2, last_iterated_value\n",
    "\n",
    "def find_median_of_two_sorted_arrays(nums1, nums2):\n",
    "    \"\"\"\n",
    "    Find the median of two sorted arrays through iterating over lists to reach middle index and using median\n",
    "    function specific to the total count of elements in nums1 and nums2\n",
    "    \n",
    "    param nums1: first sorted list\n",
    "    param nums2: second sorted list\n",
    "    return median: median of two sorted lists\n",
    "    \"\"\"\n",
    "    # a python deque is a great data structure for quick O(1) pops at the front - unlike a list\n",
    "    logging.debug(\"assign a Python deque to store the values of nums1...\")\n",
    "    nums1 = deque(nums1)\n",
    "    logging.debug(\"assign a Python deque to store the values of nums2...\")\n",
    "    nums2 = deque(nums2)\n",
    "\n",
    "    logging.debug(\"assign variable sum_length_two_lists to be sum of the lengths of the input lists...\")\n",
    "    sum_length_two_lists = len(nums1) + len(nums2)\n",
    "    logging.info(f\"sum_length_two_lists: {sum_length_two_lists}\")\n",
    "    logging.debug(\"assign variable last_iterated_value to be None...\") \n",
    "    last_iterated_value = None\n",
    "\n",
    "    logging.debug(\"as we iterate over each list, we'll compare the values at index 0 of each list...\")\n",
    "\n",
    "    if sum_length_two_lists == 2:\n",
    "        logging.debug(\"calculate median as average of two values - the one in each list\")\n",
    "        median = (nums1[0] + nums2[0])/2\n",
    "    elif sum_length_two_lists % 2 == 0:\n",
    "        logging.debug(\"sum_length_two_lists is an even number\")\n",
    "        logging.debug(\"assign middle_values_list to be empty python list...\")\n",
    "        middle_values_list = []\n",
    "        logging.debug(\"create python set of lower-middle-index and upper-middle-index\")\n",
    "        set_middle_indices = {sum_length_two_lists // 2 - 1, sum_length_two_lists // 2}\n",
    "\n",
    "        logging.debug(\"iterate over roughly half the indices in sum_length_two_lists...\")\n",
    "        # need +1 on right side b/c it's exclusive and we need to reach index at sum_length_two_lists // 2\n",
    "        for combined_index in range(0, sum_length_two_lists // 2 + 1):\n",
    "            logging.debug(f\"combined_index: {combined_index}\")\n",
    "            nums1, nums2, last_iterated_value = element_comparisons_on_lists(nums1, nums2, last_iterated_value)\n",
    "\n",
    "            logging.debug(\"check if we've reached index of index in list to calculate the median...\")\n",
    "            if combined_index in set_middle_indices:\n",
    "                middle_values_list.append(last_iterated_value)\n",
    "                logging.debug(f\"middle_values_list: {middle_values_list}\")  \n",
    "        median = sum(middle_values_list)/2 \n",
    "    # else:\n",
    "    elif sum_length_two_lists % 2 != 0:\n",
    "        logging.debug(\"iterate over roughly half the indices in sum_length_two_lists...\")\n",
    "        for combined_index in range(0, sum_length_two_lists // 2 + 1):\n",
    "            logging.info(f\"combined_index: {combined_index}\")\n",
    "            nums1, nums2, last_iterated_value = element_comparisons_on_lists(nums1, nums2, last_iterated_value)\n",
    "        median = last_iterated_value\n",
    "    logging.info(f\"median: {median}\")\n",
    "    return median"
   ]
  },
  {
   "cell_type": "markdown",
   "metadata": {},
   "source": [
    "Verify test cases. All pass."
   ]
  },
  {
   "cell_type": "code",
   "execution_count": 10,
   "metadata": {},
   "outputs": [],
   "source": [
    "assert find_median_of_two_sorted_arrays([1], [1, 2]) == 1\n",
    "assert find_median_of_two_sorted_arrays([1], [1, 2, 3, 4]) == 2\n",
    "assert find_median_of_two_sorted_arrays([1, 5], [0, 3, 6]) == 3\n",
    "assert find_median_of_two_sorted_arrays([1], [2]) == 1.5\n",
    "assert find_median_of_two_sorted_arrays([1], [2, 4, 6]) == 3\n",
    "assert find_median_of_two_sorted_arrays([1, 3], [2, 4]) == 2.5"
   ]
  }
 ],
 "metadata": {
  "kernelspec": {
   "display_name": "Python 3",
   "language": "python",
   "name": "python3"
  },
  "language_info": {
   "codemirror_mode": {
    "name": "ipython",
    "version": 3
   },
   "file_extension": ".py",
   "mimetype": "text/x-python",
   "name": "python",
   "nbconvert_exporter": "python",
   "pygments_lexer": "ipython3",
   "version": "3.7.5"
  }
 },
 "nbformat": 4,
 "nbformat_minor": 4
}
