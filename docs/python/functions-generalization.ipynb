{
 "cells": [
  {
   "cell_type": "markdown",
   "metadata": {},
   "source": [
    "# Generalizing Functions to Be More Reusable\n",
    "\n",
    "Date published: 2018-02-18\n",
    "\n",
    "Category: Python\n",
    "\n",
    "Subcategory: Beginner Concepts\n",
    "\n",
    "Tags: functions\n"
   ]
  },
  {
   "cell_type": "markdown",
   "metadata": {},
   "source": [
    "In a previous tutorial on functions, I utilized the example below with bike trips data and a function to calculate the duration of all trips in seconds.\n",
    "\n",
    "But, it wasn't *perfect*.\n",
    "\n",
    "Inside the function, I utilized an index of `0` so I could iterate over the first index of trip duration values in each inner list.\n",
    "\n",
    "However, we can make that function better by making it more **generalizable** so the function can serve multiple purposes. To make it more **generalizable**, let's allow the function to take an additional argument for an index value of our inner lists (each representing a ride)."
   ]
  },
  {
   "cell_type": "markdown",
   "metadata": {},
   "source": [
    "### Bike Trips Example"
   ]
  },
  {
   "cell_type": "markdown",
   "metadata": {},
   "source": [
    "#### Sample Data"
   ]
  },
  {
   "cell_type": "markdown",
   "metadata": {},
   "source": [
    "Below is a sample of data for bike trips as a list of lists. Each inner list holds the data for a trip formatted as *[duration in seconds, date]*."
   ]
  },
  {
   "cell_type": "code",
   "execution_count": 1,
   "metadata": {
    "collapsed": true,
    "jupyter": {
     "outputs_hidden": true
    }
   },
   "outputs": [],
   "source": [
    "bike_trips = [[475, '2018-02-18'],\n",
    "              [825, '2018-02-18'],\n",
    "              [1034, '2018-02-18'],\n",
    "              [980, '2018-02-18'],\n",
    "              [1350, '2018-02-19'],\n",
    "              [1880, '2018-02-19'],\n",
    "              [1950, '2018-02-19'],\n",
    "              [1530, '2018-02-19']\n",
    "             ]"
   ]
  },
  {
   "cell_type": "markdown",
   "metadata": {},
   "source": [
    "I previously created a function to find the sum of seconds biked on a given day."
   ]
  },
  {
   "cell_type": "markdown",
   "metadata": {},
   "source": [
    "#### Old function to calculate sum of trip durations on a day"
   ]
  },
  {
   "cell_type": "code",
   "execution_count": 2,
   "metadata": {
    "collapsed": true,
    "jupyter": {
     "outputs_hidden": true
    }
   },
   "outputs": [],
   "source": [
    "# global variables below can be used in any function\n",
    "index_trip_duration_seconds = 0\n",
    "index_trip_date = 1\n",
    "\n",
    "\n",
    "def sum_seconds_biked_day(ride_date):\n",
    "    \"\"\"\n",
    "    Find the sum of seconds biked on a given day\n",
    "    \n",
    "    Keyword argument:\n",
    "    ride_date -- date (string in format year-month-day)\n",
    "    \"\"\"\n",
    "    sum_trips_seconds = 0\n",
    "    for trip in bike_trips:\n",
    "        if trip[index_trip_date] == ride_date:\n",
    "            sum_trips_seconds += trip[index_trip_duration_seconds]\n",
    "        \n",
    "    return sum_trips_seconds"
   ]
  },
  {
   "cell_type": "markdown",
   "metadata": {},
   "source": [
    "#### New more generalizable function to calculate the sum over an index in our inner lists"
   ]
  },
  {
   "cell_type": "code",
   "execution_count": 3,
   "metadata": {
    "collapsed": true,
    "jupyter": {
     "outputs_hidden": true
    }
   },
   "outputs": [],
   "source": [
    "def sum_of_index_value(ride_date, index_value):\n",
    "    \"\"\"\n",
    "    Find the sum through iteration over an index value in a list of lists\n",
    "    \n",
    "    Keyword argument:\n",
    "    ride_date -- date (string in format year-month-day)\n",
    "    index_value -- index of inner list (int)\n",
    "    \"\"\"\n",
    "    sum_values = 0\n",
    "    for trip in bike_trips:\n",
    "        if trip[index_trip_date] == ride_date:\n",
    "            sum_values += trip[index_value]\n",
    "        \n",
    "    return sum_values"
   ]
  },
  {
   "cell_type": "markdown",
   "metadata": {},
   "source": [
    "### Application of New Function"
   ]
  },
  {
   "cell_type": "markdown",
   "metadata": {},
   "source": [
    "Let's say our `bike_trips` data structure is improved upon to add miles ridden with each ride.\n",
    "\n",
    "Each inner list now holds the data for a trip formatted as *[duration in seconds, miles ridden, date]*."
   ]
  },
  {
   "cell_type": "code",
   "execution_count": 4,
   "metadata": {
    "collapsed": true,
    "jupyter": {
     "outputs_hidden": true
    }
   },
   "outputs": [],
   "source": [
    "bike_trips = [[475, '2018-02-18', 1.8],\n",
    "              [825, '2018-02-18', 3.2],\n",
    "              [1034, '2018-02-18', 4.5],\n",
    "              [980, '2018-02-18', 3.9],\n",
    "              [1350, '2018-02-19', 5.1],\n",
    "              [1880, '2018-02-19', 7.3],\n",
    "              [1950, '2018-02-19', 6.3],\n",
    "              [1530, '2018-02-19', 5.4],\n",
    "              [1350, '2018-02-19', 4.0],\n",
    "              [2345, '2018-02-20', 7.0],\n",
    "              [2353, '2018-02-20', 6.4]\n",
    "             ]"
   ]
  },
  {
   "cell_type": "markdown",
   "metadata": {},
   "source": [
    "Create a new variable to assign miles ridden to an index value."
   ]
  },
  {
   "cell_type": "code",
   "execution_count": 5,
   "metadata": {
    "collapsed": true,
    "jupyter": {
     "outputs_hidden": true
    }
   },
   "outputs": [],
   "source": [
    "index_miles_ridden = 2"
   ]
  },
  {
   "cell_type": "markdown",
   "metadata": {},
   "source": [
    "\n",
    "#### Apply `sum_of_index_value` to calculate sum of trip durations "
   ]
  },
  {
   "cell_type": "markdown",
   "metadata": {},
   "source": [
    "When a function has more than a few numeric arguments, it is easy to forget what they are, or what order they should be in. In that case it is often a good idea to include the names of the parameters in the argument list:\n",
    "polygon(bob, n=7, length=70)\n",
    "These are called keyword arguments because they include the parameter names as “key- words” (not to be confused with Python keywords like while and def).\n",
    "This syntax makes the program more readable. It is also a reminder about how arguments and parameters work: when you call a function, the arguments are assigned to the param- eters."
   ]
  },
  {
   "cell_type": "markdown",
   "metadata": {},
   "source": [
    "Now that are function takes two arguments, I like to include the names of the parameters in the argument list. This helps with readability.\n",
    "\n",
    "These are called **keyword arguments** because they include the parameter names as *keywords*. "
   ]
  },
  {
   "cell_type": "code",
   "execution_count": 6,
   "metadata": {
    "collapsed": false,
    "jupyter": {
     "outputs_hidden": false
    }
   },
   "outputs": [
    {
     "data": {
      "text/plain": [
       "3314"
      ]
     },
     "execution_count": 6,
     "metadata": {},
     "output_type": "execute_result"
    }
   ],
   "source": [
    "sum_of_index_value(ride_date='2018-02-18', index_value=index_trip_duration_seconds)"
   ]
  },
  {
   "cell_type": "markdown",
   "metadata": {},
   "source": [
    "#### Apply `sum_of_index_value` to calculate sum of miles ridden"
   ]
  },
  {
   "cell_type": "code",
   "execution_count": 7,
   "metadata": {
    "collapsed": false,
    "jupyter": {
     "outputs_hidden": false
    }
   },
   "outputs": [
    {
     "data": {
      "text/plain": [
       "13.4"
      ]
     },
     "execution_count": 7,
     "metadata": {},
     "output_type": "execute_result"
    }
   ],
   "source": [
    "sum_of_index_value(ride_date='2018-02-18', index_value=index_miles_ridden)"
   ]
  },
  {
   "cell_type": "markdown",
   "metadata": {},
   "source": [
    "**Our new function now serves two (or more) purposes, instead of just one.**"
   ]
  }
 ],
 "metadata": {
  "kernelspec": {
   "display_name": "Python 3",
   "language": "python",
   "name": "python3"
  },
  "language_info": {
   "codemirror_mode": {
    "name": "ipython",
    "version": 3
   },
   "file_extension": ".py",
   "mimetype": "text/x-python",
   "name": "python",
   "nbconvert_exporter": "python",
   "pygments_lexer": "ipython3",
   "version": "3.7.5"
  },
  "toc": {
   "colors": {
    "hover_highlight": "#DAA520",
    "navigate_num": "#000000",
    "navigate_text": "#333333",
    "running_highlight": "#FF0000",
    "selected_highlight": "#FFD700",
    "sidebar_border": "#EEEEEE",
    "wrapper_background": "#FFFFFF"
   },
   "moveMenuLeft": true,
   "nav_menu": {
    "height": "189px",
    "width": "252px"
   },
   "navigate_menu": true,
   "number_sections": true,
   "sideBar": true,
   "threshold": 4,
   "toc_cell": false,
   "toc_section_display": "block",
   "toc_window_display": false,
   "widenNotebook": false
  }
 },
 "nbformat": 4,
 "nbformat_minor": 4
}
