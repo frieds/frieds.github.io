{
 "cells": [
  {
   "cell_type": "markdown",
   "metadata": {},
   "source": [
    "# Number of Steps to Reduce a Number to Zero (via Leetcode)\n",
    "\n",
    "Date published: 2020-03-27\n",
    "\n",
    "Category: Python\n",
    "\n",
    "Subcategory: Beginner Algorithms\n",
    "\n",
    "Tags: functions, loops, modulo, dictionaries\n"
   ]
  },
  {
   "cell_type": "markdown",
   "metadata": {},
   "source": [
    "This problem can be found on <a href=\"https://leetcode.com/problems/number-of-steps-to-reduce-a-number-to-zero/\" target=\"_blank\">Leetcode</a>.\n",
    "\n",
    "Given a non-negative integer `num`, return the number of steps to reduce it to zero. If the current number is even, divide it by 2; otherwise, subtract one from it. "
   ]
  },
  {
   "cell_type": "markdown",
   "metadata": {},
   "source": [
    "### Write out Test Cases"
   ]
  },
  {
   "cell_type": "code",
   "execution_count": null,
   "metadata": {},
   "outputs": [],
   "source": [
    "# assert number_of_steps(8) == 4"
   ]
  },
  {
   "cell_type": "markdown",
   "metadata": {},
   "source": [
    "To elaborate on test case above. Here are the steps:\n",
    "    \n",
    "1) `num` of 8 is even; divide by 2; `num` equals 4\n",
    "\n",
    "2) `num` of 4 is even; divide by 2; `num` equals 2\n",
    "\n",
    "3) `num` of 2 is even; divide by 2; `num` equals 1\n",
    "\n",
    "4) `num` of 1 is odd; subtract 1; `num` equals 0 "
   ]
  },
  {
   "cell_type": "code",
   "execution_count": 4,
   "metadata": {},
   "outputs": [],
   "source": [
    "# assert number_of_steps(14) == 6"
   ]
  },
  {
   "cell_type": "markdown",
   "metadata": {},
   "source": [
    "To elaborate on test case above. Here are the steps:\n",
    "    \n",
    "1) `num` of 14 is even; divide by 2; `num` equals 7\n",
    "\n",
    "2) `num` of 7 is odd; subtract 1; `num` equals 6\n",
    "\n",
    "3) `num` of 6 is even; divide by 2; `num` equals 3\n",
    "\n",
    "4) `num` of 3 is odd; subtract 1; `num` equals 2 \n",
    "\n",
    "5) `num` of 2 is even; divide by 2; `num` equals 1 \n",
    "\n",
    "6) `num` of 1 is odd; subtract 1; `num` equals 0"
   ]
  },
  {
   "cell_type": "markdown",
   "metadata": {},
   "source": [
    "### Pseudocode"
   ]
  },
  {
   "cell_type": "code",
   "execution_count": null,
   "metadata": {},
   "outputs": [],
   "source": [
    "# define function to take in num\n",
    "    # set a variable for count of steps\n",
    "    # while num is not equal to 0:\n",
    "        # if num is even:\n",
    "            # reassign num to be num divided by 2\n",
    "        # else:\n",
    "            # number is odd...\n",
    "            # reassign num to be num minus 1\n",
    "        # increment count of steps variable by 1\n",
    "    # return count of steps"
   ]
  },
  {
   "cell_type": "markdown",
   "metadata": {},
   "source": [
    "My solution above is the simplest possible solution. I wouldn't worry about time or space complexity considerations here. Time complexity is *roughly* O(n/2) and space complexity is simply O(1) for the one variable created."
   ]
  },
  {
   "cell_type": "markdown",
   "metadata": {},
   "source": [
    "### Code"
   ]
  },
  {
   "cell_type": "code",
   "execution_count": 1,
   "metadata": {},
   "outputs": [],
   "source": [
    "def number_of_steps(num):\n",
    "    count_of_steps = 0\n",
    "    while num != 0:\n",
    "        if num % 2 == 0:\n",
    "            num /= 2\n",
    "        else:\n",
    "            # number is odd...\n",
    "            num -= 1\n",
    "        count_of_steps += 1\n",
    "    return count_of_steps"
   ]
  },
  {
   "cell_type": "markdown",
   "metadata": {},
   "source": [
    "### Verify test cases"
   ]
  },
  {
   "cell_type": "code",
   "execution_count": 2,
   "metadata": {},
   "outputs": [],
   "source": [
    "assert number_of_steps(8) == 4"
   ]
  },
  {
   "cell_type": "code",
   "execution_count": 3,
   "metadata": {},
   "outputs": [],
   "source": [
    "assert number_of_steps(14) == 6"
   ]
  }
 ],
 "metadata": {
  "kernelspec": {
   "display_name": "Python 3",
   "language": "python",
   "name": "python3"
  },
  "language_info": {
   "codemirror_mode": {
    "name": "ipython",
    "version": 3
   },
   "file_extension": ".py",
   "mimetype": "text/x-python",
   "name": "python",
   "nbconvert_exporter": "python",
   "pygments_lexer": "ipython3",
   "version": "3.7.5"
  }
 },
 "nbformat": 4,
 "nbformat_minor": 4
}
