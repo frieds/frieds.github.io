{
 "cells": [
  {
   "cell_type": "markdown",
   "metadata": {},
   "source": [
    "# Intro to Designing Classes\n",
    "\n",
    "Date published: 2020-03-25\n",
    "\n",
    "Category: Python\n",
    "\n",
    "Subcategory: Intermediate Concepts\n",
    "\n",
    "Tags: classes, object oriented programming\n"
   ]
  },
  {
   "cell_type": "markdown",
   "metadata": {},
   "source": [
    "Python is an object-oriented programming language that is ideal for creating reusable patterns of code.\n",
    "\n",
    "An important concept in Python is to distinguish classes and objects:\n",
    "\n",
    "A **class** is a blueprint created by a programmer for an object. This defines the logic for attributes and methods that can characterize an object instantiated from this class.\n",
    "\n",
    "A **object** is an instance of a class. This is the implemented version of the class and the underlying attributes - both variables and methods - can be utilized in the python program.\n",
    "\n",
    "Together, classes create patterns and objects make use of the patterns.\n",
    "\n",
    "This tutorial will cover how to create classes, create an instance object of a class and create attributes of a class through variables and instance methods.\n",
    "\n",
    "### Classes\n",
    "\n",
    "I can define a class using the `class` keyword. Below is the simplest example possible. However, the class below is empty and not a good use case of creating a reusable pattern.\n",
    "\n",
    "Class names should use the CapWords convention - as in each word should be capitalized and chained to one another *without* an underscore. This is best practice laid out in the <a href=\"https://www.python.org/dev/peps/pep-0008/#class-names\" target=\"_blank\">Python style guide</a>. \n",
    "\n",
    "This class will be like a pizza shop. I eventually expect it to take in orders, make pizza and deliver orders."
   ]
  },
  {
   "cell_type": "code",
   "execution_count": 62,
   "metadata": {},
   "outputs": [],
   "source": [
    "class PizzaShopOrder(object):\n",
    "    pass"
   ]
  },
  {
   "cell_type": "markdown",
   "metadata": {},
   "source": [
    "#### The Constructor Method\n",
    "\n",
    "The `__init__` method below is a special method that gets called when the object is instantiated - also known as creating an instance of the class. The `__init__` method is commonly referred to the constructor method.\n",
    "\n",
    "The constructor method usually stores attributes of the instance of the class.\n",
    "\n",
    "I can create an empty constructor method as seen below.\n",
    "\n",
    "Notice how the first argument to the constructor method is `self`. This is needed! It's a reference to objects made on this class. "
   ]
  },
  {
   "cell_type": "code",
   "execution_count": 63,
   "metadata": {},
   "outputs": [],
   "source": [
    "class PizzaShopOrder(object):\n",
    "    def __init__(self):\n",
    "        pass\n",
    "        # this is the constructor method"
   ]
  },
  {
   "cell_type": "markdown",
   "metadata": {},
   "source": [
    "I want to initialize an instance of the `PizzaShopOrder` class. I can do so with the following syntax.\n",
    "\n",
    "Another way of saying this is I assign the variable `pizza_object` to be an instance of the `PizzaShopOrder` class."
   ]
  },
  {
   "cell_type": "code",
   "execution_count": 64,
   "metadata": {},
   "outputs": [],
   "source": [
    "pizza_object = PizzaShopOrder()"
   ]
  },
  {
   "cell_type": "markdown",
   "metadata": {},
   "source": [
    "The constructor method usually holds attributes related to a class instance. I want to assign attributes necessary for the pizza shop in dealing with an order. Every order must be a request for a pizza type, size and quantity.\n",
    "\n",
    "For example, I often order a style of pepperoni, size of a slice and a quantity of 1.\n",
    "\n",
    "The parameters of the constructor method typically have the same names as the attributes.\n",
    "\n",
    "Below, `self.size` stores the parameter of the `size` as an attribute of `self`."
   ]
  },
  {
   "cell_type": "code",
   "execution_count": 65,
   "metadata": {},
   "outputs": [],
   "source": [
    "class PizzaShopOrder(object):\n",
    "    def __init__(self, style, size, quantity):\n",
    "        self.style = style\n",
    "        self.size = size\n",
    "        self.quantity = quantity"
   ]
  },
  {
   "cell_type": "markdown",
   "metadata": {},
   "source": [
    "Given these new attributes, I want to create a new instance of the class. I *must* provide arguments to the instance of `PizzaShopOrder`."
   ]
  },
  {
   "cell_type": "code",
   "execution_count": 66,
   "metadata": {},
   "outputs": [],
   "source": [
    "pizza_object = PizzaShopOrder(style=\"pepperoni\", size=\"slice\", quantity=1)"
   ]
  },
  {
   "cell_type": "markdown",
   "metadata": {},
   "source": [
    "I can reference these attributes of the `pizza_object` using the dot operator. I want to reference the variables initialized in the constructor method."
   ]
  },
  {
   "cell_type": "code",
   "execution_count": 67,
   "metadata": {},
   "outputs": [
    {
     "data": {
      "text/plain": [
       "'pepperoni'"
      ]
     },
     "execution_count": 67,
     "metadata": {},
     "output_type": "execute_result"
    }
   ],
   "source": [
    "pizza_object.style"
   ]
  },
  {
   "cell_type": "markdown",
   "metadata": {},
   "source": [
    "Additionally, I can set default values for the class attributes. For example, the class `PizzaShopOrder2` (note the name difference because of the `2` at the end) below has default arguments for `size` and `quantity`. This may be realistic for a pizza shop because most people likely order 1 slice by default."
   ]
  },
  {
   "cell_type": "code",
   "execution_count": 68,
   "metadata": {},
   "outputs": [],
   "source": [
    "class PizzaShopOrder2(object):\n",
    "    def __init__(self, style, size=\"slice\", quantity=1):\n",
    "        self.style = style\n",
    "        self.size = size\n",
    "        self.quantity = quantity"
   ]
  },
  {
   "cell_type": "markdown",
   "metadata": {},
   "source": [
    "I can create an instance of the `PizzaShopOrder2` class and access the values of these attributes.\n",
    "\n",
    "Let's assume someone orders just a \"cheese\"."
   ]
  },
  {
   "cell_type": "code",
   "execution_count": 69,
   "metadata": {},
   "outputs": [],
   "source": [
    "pizza2_object = PizzaShopOrder2(style=\"cheese\")"
   ]
  },
  {
   "cell_type": "markdown",
   "metadata": {},
   "source": [
    "The default values for `quantity` and `size` should still hold."
   ]
  },
  {
   "cell_type": "code",
   "execution_count": 70,
   "metadata": {},
   "outputs": [
    {
     "data": {
      "text/plain": [
       "1"
      ]
     },
     "execution_count": 70,
     "metadata": {},
     "output_type": "execute_result"
    }
   ],
   "source": [
    "pizza2_object.quantity"
   ]
  },
  {
   "cell_type": "code",
   "execution_count": 71,
   "metadata": {},
   "outputs": [
    {
     "data": {
      "text/plain": [
       "'slice'"
      ]
     },
     "execution_count": 71,
     "metadata": {},
     "output_type": "execute_result"
    }
   ],
   "source": [
    "pizza2_object.size"
   ]
  },
  {
   "cell_type": "markdown",
   "metadata": {},
   "source": [
    "As expected, by default the pizza shop sassume the order is for a quantity of 1 for a slice.\n",
    "\n",
    "#### Instance Methods\n",
    "\n",
    "The pizza shop receives an order based on a size, style and quantity request. Next, it should make the pizza and serve it.\n",
    "\n",
    "Below I define two instance methods in the class. For now, these instance methods simply print out a statement. These instance methods are *only* available to an object that's an instance of `PizzaShopOrder()`."
   ]
  },
  {
   "cell_type": "code",
   "execution_count": 72,
   "metadata": {},
   "outputs": [],
   "source": [
    "class PizzaShopOrder(object):\n",
    "    def __init__(self, style, size, quantity):\n",
    "        self.style = style\n",
    "        self.size = size\n",
    "        self.quantity = quantity\n",
    "        \n",
    "    def make(self):\n",
    "        print(\"The pizza is being made...\")\n",
    "        \n",
    "    def serve_pizza(self):\n",
    "        print(\"The pizza has been served!\")"
   ]
  },
  {
   "cell_type": "markdown",
   "metadata": {},
   "source": [
    "Let's create a new object as an instance of the class. Let's assume the order is for 1 mushroom slice. Let's make the pizza and serve it!"
   ]
  },
  {
   "cell_type": "code",
   "execution_count": 73,
   "metadata": {},
   "outputs": [],
   "source": [
    "mushroom_slice_order = PizzaShopOrder(style=\"mushroom\", size=\"slice\", quantity=1)"
   ]
  },
  {
   "cell_type": "markdown",
   "metadata": {},
   "source": [
    "I can reference an attribute of the `mushroom_slice_order` object using the dot operator. I'll call the two instance methods created above."
   ]
  },
  {
   "cell_type": "code",
   "execution_count": 74,
   "metadata": {},
   "outputs": [
    {
     "name": "stdout",
     "output_type": "stream",
     "text": [
      "The pizza is being made...\n"
     ]
    }
   ],
   "source": [
    "mushroom_slice_order.make()"
   ]
  },
  {
   "cell_type": "code",
   "execution_count": 75,
   "metadata": {},
   "outputs": [
    {
     "name": "stdout",
     "output_type": "stream",
     "text": [
      "The pizza has been served!\n"
     ]
    }
   ],
   "source": [
    "mushroom_slice_order.serve_pizza()"
   ]
  },
  {
   "cell_type": "markdown",
   "metadata": {},
   "source": [
    "However, I recall when I visited pizza shops, after the pizza is made, the chef would state the order out loud that's ready to be served. Then I'd walk to the front counter and pick it up. I'll modify the `serve_pizza()` instance method to account for this! \n",
    "\n",
    "The instance methods can utilize the attributes defined in the constructor method."
   ]
  },
  {
   "cell_type": "code",
   "execution_count": 76,
   "metadata": {},
   "outputs": [],
   "source": [
    "class PizzaShopOrder(object):\n",
    "    def __init__(self, style, size, quantity):\n",
    "        self.style = style\n",
    "        self.size = size\n",
    "        self.quantity = quantity\n",
    "        \n",
    "    def make(self):\n",
    "        print(\"The pizza is being made...\")\n",
    "        \n",
    "    def serve_pizza(self):\n",
    "        print(f\"{self.quantity} {self.size} {self.style} is ready!\")"
   ]
  },
  {
   "cell_type": "code",
   "execution_count": 77,
   "metadata": {},
   "outputs": [],
   "source": [
    "cheese_slice_order = PizzaShopOrder(style=\"cheese\", size=\"slice\", quantity=1)"
   ]
  },
  {
   "cell_type": "code",
   "execution_count": 78,
   "metadata": {},
   "outputs": [
    {
     "name": "stdout",
     "output_type": "stream",
     "text": [
      "The pizza is being made...\n"
     ]
    }
   ],
   "source": [
    "cheese_slice_order.make()"
   ]
  },
  {
   "cell_type": "code",
   "execution_count": 79,
   "metadata": {},
   "outputs": [
    {
     "name": "stdout",
     "output_type": "stream",
     "text": [
      "1 slice cheese is ready!\n"
     ]
    }
   ],
   "source": [
    "cheese_slice_order.serve_pizza()"
   ]
  },
  {
   "cell_type": "markdown",
   "metadata": {},
   "source": [
    "This tutorial covered how to create a class, create an instance of a class and initialize attributes with the constructor method. There are many more important concepts with object-oriented programming in Python such as inheritance that will be covered in other tutorials.\n",
    "\n",
    "You can learn more about class in Python on the <a href=\"https://docs.python.org/3/tutorial/classes.html\" target=\"_blank\">official documentation page</a>."
   ]
  }
 ],
 "metadata": {
  "kernelspec": {
   "display_name": "Python 3",
   "language": "python",
   "name": "python3"
  },
  "language_info": {
   "codemirror_mode": {
    "name": "ipython",
    "version": 3
   },
   "file_extension": ".py",
   "mimetype": "text/x-python",
   "name": "python",
   "nbconvert_exporter": "python",
   "pygments_lexer": "ipython3",
   "version": "3.7.5"
  }
 },
 "nbformat": 4,
 "nbformat_minor": 4
}
