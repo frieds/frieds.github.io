{
 "cells": [
  {
   "cell_type": "markdown",
   "metadata": {},
   "source": [
    "# Rank Transform of Array (via Leetcode)\n",
    "\n",
    "Date published: 2020-04-10\n",
    "\n",
    "Category: Python\n",
    "\n",
    "Subcategory: Beginner Algorithms\n",
    "\n",
    "Tags: functions, loops, lists, dictionaries, zip function\n"
   ]
  },
  {
   "cell_type": "markdown",
   "metadata": {},
   "source": [
    "This problem is on <a href=\"https://leetcode.com/problems/rank-transform-of-an-array/\" target=\"_blank\">Leetcode</a>.\n",
    "\n",
    "**Problem statement**:\n",
    "\n",
    "Given an array of integers `arr`, replace each element with its rank. The rank represents how large the element is in the array. The rank has the following rules:\n",
    "\n",
    "- Rank is an integer starting from 1.\n",
    "- The larger the element, the larger the rank. \n",
    "- If two elements are equal, their rank must be the same."
   ]
  },
  {
   "cell_type": "markdown",
   "metadata": {},
   "source": [
    "### Define Test Cases"
   ]
  },
  {
   "cell_type": "code",
   "execution_count": 16,
   "metadata": {},
   "outputs": [],
   "source": [
    "# assert array_rank_transform([40, 10, 20, 30]) == [4, 1, 2, 3]"
   ]
  },
  {
   "cell_type": "markdown",
   "metadata": {},
   "source": [
    "- `40` is the 4th smallest number in the array (smaller than no other number)\n",
    "- `10` is the 1st smallest number in the array (smaller than `20`, `30` and `40`\n",
    "- `20` is the 2nd smallest number in the array (smaller than `30` and `40`)\n",
    "- `30` is the 3rd smallest number in the array (smaller than `40`)"
   ]
  },
  {
   "cell_type": "code",
   "execution_count": 17,
   "metadata": {},
   "outputs": [],
   "source": [
    "# assert array_rank_transform([100, 100, 100]) == [1, 1, 1]"
   ]
  },
  {
   "cell_type": "markdown",
   "metadata": {},
   "source": [
    "Remember elements of the same value can share the same rank value.\n",
    "\n",
    "- `100` is the 1st smallest number in the array (tied with `100` and `100`)\n",
    "- `100` is the 1st smallest number in the array (tied with `100` and `100`)\n",
    "- `100` is the 1st smallest number in the array (tied with `100` and `100`)"
   ]
  },
  {
   "cell_type": "markdown",
   "metadata": {},
   "source": [
    "### Explanation of Solution #1\n",
    "\n",
    "#### Pseudocode for Solution #1"
   ]
  },
  {
   "cell_type": "code",
   "execution_count": 24,
   "metadata": {},
   "outputs": [],
   "source": [
    "# create a function that takes an array as an input\n",
    "    # use sorted function on input list to sort it from smallest to largest\n",
    "    # assign variable rank to be integer rank value of 1\n",
    "    # assign variable sorted_rank_list to store list of final ranks and just one item of 1\n",
    "\n",
    "    # iterate over element in sorted list... \n",
    "    # iterate i from 1 to the length of the sorted_list\n",
    "        # want to compare value in iteration to previous value...\n",
    "        # if sorted_list[i] == sorted_list[i-1]\n",
    "            # the value in sorted list is same as previous value...\n",
    "            # we want rank value to stay the same for equal values...\n",
    "            # don't increase rank\n",
    "        # else:\n",
    "            # increment rank by 1\n",
    "        # append rank value to sorted_rank_list\n",
    "\n",
    "    # assign rank_list to be an empty list\n",
    "\n",
    "    # create rank_list values through use of sorted_list, input list and sorted_rank_list...\n",
    "    # iterate over each item in original input list\n",
    "        # for every index, element in enumerate(sorted_list):\n",
    "            # if element is equal to item\n",
    "                # want to find equivalent ranking for that number in sorted_list\n",
    "                # append sorted_rank_list[index] to rank_list\n",
    "                # break out of for loop to move to next number in original array\n",
    "    # return rank_list "
   ]
  },
  {
   "cell_type": "markdown",
   "metadata": {},
   "source": [
    "#### Code for Solution #1"
   ]
  },
  {
   "cell_type": "code",
   "execution_count": 19,
   "metadata": {},
   "outputs": [],
   "source": [
    "def array_rank_transform(arr):       \n",
    "    sorted_list = sorted(arr)\n",
    "    rank = 1\n",
    "    # seed initial rank as 1 because that's first item in input list\n",
    "    sorted_rank_list = [1]\n",
    "    for i in range(1, len(sorted_list)):\n",
    "        if sorted_list[i] != sorted_list[i-1]:\n",
    "            rank += 1\n",
    "        sorted_rank_list.append(rank)\n",
    "    rank_list = []\n",
    "    for item in arr:\n",
    "        for index, element in enumerate(sorted_list):\n",
    "            if element == item:\n",
    "                rank_list.append(sorted_rank_list[index])\n",
    "                # we want to break out of inner for loop\n",
    "                break\n",
    "    return rank_list"
   ]
  },
  {
   "cell_type": "markdown",
   "metadata": {},
   "source": [
    "#### Verify Solution #1 with Test Cases"
   ]
  },
  {
   "cell_type": "code",
   "execution_count": 20,
   "metadata": {},
   "outputs": [],
   "source": [
    "assert array_rank_transform([40, 10, 20, 30]) == [4, 1, 2, 3]"
   ]
  },
  {
   "cell_type": "code",
   "execution_count": 21,
   "metadata": {},
   "outputs": [],
   "source": [
    "assert array_rank_transform([100, 100, 100]) == [1, 1, 1]"
   ]
  },
  {
   "cell_type": "code",
   "execution_count": 22,
   "metadata": {},
   "outputs": [],
   "source": [
    "assert array_rank_transform([1, 3, 3, 5]) == [1, 2, 2, 3]"
   ]
  },
  {
   "cell_type": "markdown",
   "metadata": {},
   "source": [
    "#### Complexity of Solution #1"
   ]
  },
  {
   "cell_type": "markdown",
   "metadata": {},
   "source": [
    "Let `n` be the count of values in the input list.\n",
    "\n",
    "**Space complexity**:\n",
    "\n",
    "- `sorted_list` will hold `n` values and therefore is O(n)\n",
    "- `sorted_rank_list` will hold `n` values and is O(n)\n",
    "- `rank_list` will hold `n` values and is O(n)\n",
    "\n",
    "Total space complexity is O(3n). The 3 is insignificant so I'll round to O(n).\n",
    "\n",
    "**Time complexity**:\n",
    "\n",
    "- Sort the input list is an O(nlogn) operation\n",
    "- Iteration over every value in `sorted_list` is O(n)\n",
    "- Iteration over each value in `arr` - the input list - is O(n)\n",
    "- Iteration over each index and value in `sorted_list` up to finding an equivalent value in the input list should be on average O(n/2); the division by 2 is insignificant so this will be O(n).\n",
    "\n",
    "Total time eomplexity is also O(nlogn) + O(n) + O(n) + O(n) which equals O(3nlogn). The 3 is insignificant so I'll round to O(nlogn)."
   ]
  },
  {
   "cell_type": "markdown",
   "metadata": {},
   "source": [
    "### Explanation of Solution #2"
   ]
  },
  {
   "cell_type": "markdown",
   "metadata": {},
   "source": [
    "#### Pseudocode for Solution #2"
   ]
  },
  {
   "cell_type": "code",
   "execution_count": null,
   "metadata": {},
   "outputs": [],
   "source": [
    "# create a function that takes an array as an input\n",
    "    # use sorted function on input list to sort it from smallest to largest\n",
    "    # assign variable rank to be integer rank value of 1\n",
    "    # assign variable sorted_rank_list to store list of final ranks and just one item of 1\n",
    "\n",
    "    # iterate over element in sorted list... \n",
    "    # iterate i from 1 to the length of the sorted_list\n",
    "        # want to compare value in iteration to previous value...\n",
    "        # if sorted_list[i] is not equal to sorted_list[i-1]\n",
    "            # increment rank by 1\n",
    "        # append rank value to sorted_rank_list\n",
    "\n",
    "    # rank_list and sorted_list are the same size...\n",
    "    # create dictionary with each item as a key and its rank as the value...\n",
    "    # dictionary called item_rank_dict\n",
    "    # assign rank_list to be an empty list\n",
    "    \n",
    "    # iterate over each item in original input list\n",
    "        # lookup rank of item in item_rank_dict and append value to rank_list\n",
    "    # return rank_list "
   ]
  },
  {
   "cell_type": "markdown",
   "metadata": {},
   "source": [
    "#### Code for Solution #2"
   ]
  },
  {
   "cell_type": "code",
   "execution_count": null,
   "metadata": {},
   "outputs": [],
   "source": [
    "def array_rank_transform(arr):       \n",
    "    sorted_list = sorted(arr)\n",
    "    rank = 1\n",
    "    sorted_rank_list = [1]\n",
    "    for i in range(1, len(sorted_list)):\n",
    "        if sorted_list[i] != sorted_list[i-1]:\n",
    "            rank += 1\n",
    "        sorted_rank_list.append(rank)\n",
    "    \n",
    "    rank_list = [] \n",
    "    # zip function returns iterator of tuple pairs of matching values in two inputss\n",
    "    # dict function casts 1nd value in tuple as key and 2nd value in tuple as value\n",
    "    item_rank_dict = dict(zip(sorted_list, sorted_rank_list))\n",
    "    \n",
    "    for item in arr:\n",
    "        item_rank = item_rank_dict[item]\n",
    "        rank_list.append(item_rank)\n",
    "    return rank_list"
   ]
  },
  {
   "cell_type": "markdown",
   "metadata": {},
   "source": [
    "#### Complexity for Solution #2\n",
    "\n",
    "Let `n` be the count of values in the input list.\n",
    "\n",
    "**Space complexity**:\n",
    "\n",
    "- `sorted_list` will hold `n` values and therefore is O(n)\n",
    "- `sorted_rank_list` will hold `n` values and is O(n)\n",
    "- `rank_list` will hold `n` values and is O(n)\n",
    "- `item_rank_dict` will hold `n` values and is O(n)\n",
    "\n",
    "Total space complexity is O(4n). The 4 is insignificant so I'll round to O(n).\n",
    "\n",
    "**Time complexity**:\n",
    "\n",
    "- Sort the input list is an O(nlogn) operation\n",
    "- Iteration over every value in `sorted_list` is O(n)\n",
    "- Creation of `item_rank_dict` is an O(n) operation\n",
    "- Iteration over each value in `arr` - the input list - is O(n)\n",
    "\n",
    "Total time complexity is O(3nlogn). The 3 is insignificant so I'll round to O(nlogn). "
   ]
  },
  {
   "cell_type": "markdown",
   "metadata": {},
   "source": [
    "#### Verify Test Cases for Solution #2"
   ]
  },
  {
   "cell_type": "code",
   "execution_count": 27,
   "metadata": {},
   "outputs": [],
   "source": [
    "assert array_rank_transform([40, 10, 20, 30]) == [4, 1, 2, 3]"
   ]
  },
  {
   "cell_type": "code",
   "execution_count": 28,
   "metadata": {},
   "outputs": [],
   "source": [
    "assert array_rank_transform([100, 100, 100]) == [1, 1, 1]"
   ]
  },
  {
   "cell_type": "code",
   "execution_count": 29,
   "metadata": {},
   "outputs": [],
   "source": [
    "assert array_rank_transform([1, 3, 3, 5]) == [1, 2, 2, 3]"
   ]
  }
 ],
 "metadata": {
  "kernelspec": {
   "display_name": "Python 3",
   "language": "python",
   "name": "python3"
  },
  "language_info": {
   "codemirror_mode": {
    "name": "ipython",
    "version": 3
   },
   "file_extension": ".py",
   "mimetype": "text/x-python",
   "name": "python",
   "nbconvert_exporter": "python",
   "pygments_lexer": "ipython3",
   "version": "3.7.5"
  }
 },
 "nbformat": 4,
 "nbformat_minor": 4
}
