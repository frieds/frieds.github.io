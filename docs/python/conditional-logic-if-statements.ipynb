{
 "cells": [
  {
   "cell_type": "markdown",
   "metadata": {},
   "source": [
    "# Conditional Logic with If Statements\n",
    "\n",
    "Date published: 2018-02-26\n",
    "\n",
    "Category: Python\n",
    "\n",
    "Subcategory: Beginner Concepts\n",
    "\n",
    "Tags: math\n"
   ]
  },
  {
   "cell_type": "markdown",
   "metadata": {},
   "source": [
    "### Boolean Expressions"
   ]
  },
  {
   "cell_type": "markdown",
   "metadata": {},
   "source": [
    "A **boolean expression** always evaluates to be `True` or `False`.\n",
    "\n",
    "You can evaluate a boolean expression with a `==` operator."
   ]
  },
  {
   "cell_type": "code",
   "execution_count": 1,
   "metadata": {},
   "outputs": [
    {
     "data": {
      "text/plain": [
       "True"
      ]
     },
     "execution_count": 1,
     "metadata": {},
     "output_type": "execute_result"
    }
   ],
   "source": [
    "\"dan\" == \"dan\""
   ]
  },
  {
   "cell_type": "code",
   "execution_count": 2,
   "metadata": {},
   "outputs": [
    {
     "data": {
      "text/plain": [
       "True"
      ]
     },
     "execution_count": 2,
     "metadata": {},
     "output_type": "execute_result"
    }
   ],
   "source": [
    "3 == 3"
   ]
  },
  {
   "cell_type": "code",
   "execution_count": 3,
   "metadata": {},
   "outputs": [
    {
     "data": {
      "text/plain": [
       "False"
      ]
     },
     "execution_count": 3,
     "metadata": {},
     "output_type": "execute_result"
    }
   ],
   "source": [
    "3 == 7"
   ]
  },
  {
   "cell_type": "markdown",
   "metadata": {},
   "source": [
    "`True` and `False` are of type `bool`."
   ]
  },
  {
   "cell_type": "code",
   "execution_count": 4,
   "metadata": {},
   "outputs": [
    {
     "data": {
      "text/plain": [
       "bool"
      ]
     },
     "execution_count": 4,
     "metadata": {},
     "output_type": "execute_result"
    }
   ],
   "source": [
    "type(True)"
   ]
  },
  {
   "cell_type": "markdown",
   "metadata": {},
   "source": [
    "### Relational operators"
   ]
  },
  {
   "cell_type": "markdown",
   "metadata": {},
   "source": [
    "**Relational operators** evaluate expressions to be `True` or `False`.\n",
    "\n",
    "All examples below evaluate to `True`"
   ]
  },
  {
   "cell_type": "markdown",
   "metadata": {},
   "source": [
    "\n",
    "| **operator** | **code example** | **code description** |\n",
    "| --- | --- | --- |\n",
    "| == | 8 == 8 | 8 is equal to 8  |\n",
    "| != | 7 != 8 | 7 is not equal to 8 |\n",
    "| > | 4 > 2 | 4 is greater than 2 |\n",
    "| < | 3 < 5 | 3 is less than 5 |\n",
    "| >= | 10 >= 9 | 10 is greater than or equal to 9 |\n",
    "| <= | 6 <= 6 | 6 is less less than or equal to 6 |"
   ]
  },
  {
   "cell_type": "markdown",
   "metadata": {},
   "source": [
    "Remember `=` is an assignment operator in Python while a `==` is a relational operator."
   ]
  },
  {
   "cell_type": "markdown",
   "metadata": {},
   "source": [
    "### Logical Operators"
   ]
  },
  {
   "cell_type": "markdown",
   "metadata": {},
   "source": [
    "All examples below evaluate to true."
   ]
  },
  {
   "cell_type": "markdown",
   "metadata": {},
   "source": [
    "\n",
    "| **operator** | **code example** | **code description** |\n",
    "| --- | --- | --- |\n",
    "| and | 3 > 2 and 5 > 4 | 3 is greater than 2 and 5 is greater than 4  |\n",
    "| or | 5 > 4 or 3 > 4 | 5 is greater than 4 or 3 is greater than 4 |\n",
    "| not | not 4 > 6 | not 4 is greater than 6 - two negatives make a positive |"
   ]
  },
  {
   "cell_type": "markdown",
   "metadata": {},
   "source": [
    "### Conditional Execution"
   ]
  },
  {
   "cell_type": "markdown",
   "metadata": {},
   "source": [
    "In programming, it's helpful to check conditions to change the behavior of programs and output relevant results. **Conditional statements** give us this ability."
   ]
  },
  {
   "cell_type": "code",
   "execution_count": 5,
   "metadata": {},
   "outputs": [
    {
     "name": "stdout",
     "output_type": "stream",
     "text": [
      "8 is greater than 5\n"
     ]
    }
   ],
   "source": [
    "if 8 > 5:\n",
    "    print(\"8 is greater than 5\")"
   ]
  },
  {
   "cell_type": "markdown",
   "metadata": {},
   "source": [
    "The boolean of `8 > 5` after the `if` is called the **condition**."
   ]
  },
  {
   "cell_type": "markdown",
   "metadata": {},
   "source": [
    "#### Chained conditionals"
   ]
  },
  {
   "cell_type": "markdown",
   "metadata": {},
   "source": [
    "Sometimes, there are two or more conditionals to be evaluated."
   ]
  },
  {
   "cell_type": "markdown",
   "metadata": {},
   "source": [
    "Let's say I ask you to guess a number between 0 and 10 and your goal is to guess correctly. You guess 6 first and the correct number is 9."
   ]
  },
  {
   "cell_type": "code",
   "execution_count": 6,
   "metadata": {},
   "outputs": [
    {
     "name": "stdout",
     "output_type": "stream",
     "text": [
      "you guessed too low\n"
     ]
    }
   ],
   "source": [
    "guess = 6\n",
    "\n",
    "if guess < 9:\n",
    "    print(\"you guessed too low\")\n",
    "elif guess > 9:\n",
    "    print(\"you guessed too high\")\n",
    "else:\n",
    "    (\"you're correct!\")"
   ]
  },
  {
   "cell_type": "markdown",
   "metadata": {},
   "source": [
    "`elif` is an abbreviation for *else if*. We could have additional `elif` statements if needed.\n",
    "\n",
    "Our program will evaluate in this order:\n",
    "\n",
    "1) Variable `guess` is assigned to the value of 6\n",
    "\n",
    "2) The `if` statement is evaluated to True and we print the statement in its body.\n",
    "\n",
    "However, let's say your next guess is 9."
   ]
  },
  {
   "cell_type": "code",
   "execution_count": 7,
   "metadata": {},
   "outputs": [
    {
     "name": "stdout",
     "output_type": "stream",
     "text": [
      "you're correct!\n"
     ]
    }
   ],
   "source": [
    "guess = 9\n",
    "\n",
    "if guess < 9:\n",
    "    print(\"you guessed too low\")\n",
    "elif guess > 9:\n",
    "    print(\"you guessed too high\")\n",
    "else:\n",
    "    print(\"you're correct!\")"
   ]
  },
  {
   "cell_type": "markdown",
   "metadata": {},
   "source": [
    "Our program will evaluate in this order:\n",
    "\n",
    "1) Variable `guess` is assigned to the value of 10\n",
    "\n",
    "2) The `if` statement is evaluated to `False` so we **don't** proceed to its indented body\n",
    "\n",
    "3) The `elif` statement is evaluated to `False` so we **don't** proceed to its indented body\n",
    "\n",
    "4) Once reached, the `else` statement always evaluates to `True` so we proceed to its indented body and print that string."
   ]
  }
 ],
 "metadata": {
  "kernelspec": {
   "display_name": "Python 3",
   "language": "python",
   "name": "python3"
  },
  "language_info": {
   "codemirror_mode": {
    "name": "ipython",
    "version": 3
   },
   "file_extension": ".py",
   "mimetype": "text/x-python",
   "name": "python",
   "nbconvert_exporter": "python",
   "pygments_lexer": "ipython3",
   "version": "3.7.5"
  }
 },
 "nbformat": 4,
 "nbformat_minor": 4
}
