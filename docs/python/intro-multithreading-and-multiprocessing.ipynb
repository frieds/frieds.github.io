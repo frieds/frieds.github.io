{
 "cells": [
  {
   "cell_type": "markdown",
   "metadata": {},
   "source": [
    "# Intro to Multithreading and Multiprocessing\n",
    "\n",
    "Date published: 2018-04-25\n",
    "\n",
    "Category: Python\n",
    "\n",
    "Subcategory: Intermediate Concepts\n",
    "\n",
    "Tags: multithreading, multiprocessing\n"
   ]
  },
  {
   "cell_type": "markdown",
   "metadata": {},
   "source": [
    "### Why is Performant Code Important"
   ]
  },
  {
   "cell_type": "markdown",
   "metadata": {},
   "source": [
    "In analyzing data, you may be dealing with thousands, millions or even billions of records. As you perform computations to gain insights, you'll likely do lots of data transformations.\n",
    "\n",
    "With each computation, to save even seconds or minutes can be greatly helpful for you to deliver insights to your team faster and ultimately get more work done over time.\n",
    "\n",
    "With parallel programming in Python, you can do just that."
   ]
  },
  {
   "cell_type": "markdown",
   "metadata": {},
   "source": [
    "### Brief Overview"
   ]
  },
  {
   "cell_type": "markdown",
   "metadata": {},
   "source": [
    "#### Intro to Parallelism"
   ]
  },
  {
   "cell_type": "markdown",
   "metadata": {},
   "source": [
    "**Parallelism** (aka parallel programming) is when two or more tasks run *at the same time*. There's important terminology to understand regarding parallelism too.\n",
    "\n",
    "A **thread** is an execution context for code.\n",
    "\n",
    "A **process** is a program and state of all threads executing in a program.\n",
    "\n",
    "One process can have several threads running *at the same time*. One program could also have several proccess running *at the same time*.\n",
    "\n",
    "In Python, by default programs run as a single process with a single thread of execution; this uses just a single CPU. \n",
    "\n",
    "Examples parallelism can help with:\n",
    "\n",
    "- executing database queries\n",
    "- pre-processing lots of images to use for machine learning\n",
    "- web crawling "
   ]
  },
  {
   "cell_type": "markdown",
   "metadata": {},
   "source": [
    "#### CPU & Core"
   ]
  },
  {
   "cell_type": "markdown",
   "metadata": {},
   "source": [
    "The CPU (central processing unit) manages the computational work of the computer. CPUs have one or more cores which allow for code to be executed simultaneously. \n",
    "\n",
    "My Macbook Pro has 4 cores.\n",
    "\n",
    "A single core can perform a number of computations in a limited amount of time. However, if a Python program uses another process running on another core, we greatly decrease the program's runtime."
   ]
  },
  {
   "cell_type": "markdown",
   "metadata": {},
   "source": [
    "#### Python's Global Interpreter Lock"
   ]
  },
  {
   "cell_type": "markdown",
   "metadata": {},
   "source": [
    "CPython (the standard python implementation) has something called the GIL (Global Interpreter Lock); the GIL prevents two threads from executing simultaneously in the same program. However, two threads can run concurrently and one can run code while another may be waiting.\n",
    "\n",
    "The GIL limits parallel programming in Python out of the box."
   ]
  },
  {
   "cell_type": "markdown",
   "metadata": {},
   "source": [
    "#### When to use threads versus processes"
   ]
  },
  {
   "cell_type": "markdown",
   "metadata": {},
   "source": [
    "**Threads** are typically best for IO tasks or tasks involving external systems since threads work well to combine results quickly. On the other hand, processes need to pickle their results and therefore take more time to combine results from multiple processes.\n",
    "\n",
    "**Threads** provide no benefit for expensive CPU tasks since threads must run within the GIL.\n",
    "\n",
    "**Multiple processes** can speed up Python operations that are CPU intensive because they can utilize multiple cores and avoid Python's GIL."
   ]
  },
  {
   "cell_type": "markdown",
   "metadata": {},
   "source": [
    "### `map` Function and Example"
   ]
  },
  {
   "cell_type": "markdown",
   "metadata": {},
   "source": [
    "The use of `map` will be applied in our parallel programming examples later; so I'll provide a brief introduction now.\n",
    "\n",
    "Below I wrote a function called `number_times_two` to take in a number, multiply it by two and return the result.\n",
    "\n",
    "`map` is a built-in Python function that helps us easily apply a function over every item in an iterable such as a list. \n",
    "\n",
    "We'll use the `map` function to apply `number_times_two` to every element in the list of numbers `[1, 2, 3, 4]`.\n",
    "\n",
    "This table illustrates the operations that will take place."
   ]
  },
  {
   "cell_type": "markdown",
   "metadata": {},
   "source": [
    "Input | number_times_two Operation | Result\n",
    "--- | --- | ---\n",
    "1 | 1*2 | 2\n",
    "2 | 2*2 | 4\n",
    "3 | 3*2 | 6\n",
    "4 | 4*2 | 8\n",
    "\n",
    "\n"
   ]
  },
  {
   "cell_type": "code",
   "execution_count": 55,
   "metadata": {},
   "outputs": [],
   "source": [
    "def number_times_two(number):\n",
    "    \"\"\"\n",
    "    Multiply a number by 2\n",
    "    \n",
    "    :param number: a value we'll use in our computation\n",
    "    :type number: (preferably an) int\n",
    "    \n",
    "    :returns: number*2\n",
    "    \"\"\"\n",
    "    return number*2"
   ]
  },
  {
   "cell_type": "code",
   "execution_count": 56,
   "metadata": {},
   "outputs": [
    {
     "data": {
      "text/plain": [
       "function"
      ]
     },
     "execution_count": 56,
     "metadata": {},
     "output_type": "execute_result"
    }
   ],
   "source": [
    "type(number_times_two)"
   ]
  },
  {
   "cell_type": "markdown",
   "metadata": {},
   "source": [
    "The `map` function returns an *map object* that is an *iterator*."
   ]
  },
  {
   "cell_type": "code",
   "execution_count": 57,
   "metadata": {},
   "outputs": [
    {
     "data": {
      "text/plain": [
       "<map at 0x10f325198>"
      ]
     },
     "execution_count": 57,
     "metadata": {},
     "output_type": "execute_result"
    }
   ],
   "source": [
    "map(number_times_two, [1, 2, 3, 4])"
   ]
  },
  {
   "cell_type": "markdown",
   "metadata": {},
   "source": [
    "We can call the built-in `list` function to output our result, the *map* object, as a list."
   ]
  },
  {
   "cell_type": "code",
   "execution_count": 58,
   "metadata": {},
   "outputs": [
    {
     "data": {
      "text/plain": [
       "[2, 4, 6, 8]"
      ]
     },
     "execution_count": 58,
     "metadata": {},
     "output_type": "execute_result"
    }
   ],
   "source": [
    "list(map(number_times_two, [1, 2, 3, 4]))"
   ]
  },
  {
   "cell_type": "markdown",
   "metadata": {},
   "source": [
    "### Parallelism"
   ]
  },
  {
   "cell_type": "markdown",
   "metadata": {},
   "source": [
    "#### Import Modules"
   ]
  },
  {
   "cell_type": "code",
   "execution_count": 59,
   "metadata": {},
   "outputs": [],
   "source": [
    "from requests import get\n",
    "from multiprocessing.dummy import Pool as ThreadPool \n",
    "from multiprocessing import Pool\n",
    "from concurrent.futures import ThreadPoolExecutor\n",
    "from concurrent.futures import ProcessPoolExecutor\n",
    "import matplotlib.pyplot as plt\n",
    "from time import time\n",
    "from random import sample\n",
    "import numpy as np\n",
    "%matplotlib inline"
   ]
  },
  {
   "cell_type": "markdown",
   "metadata": {},
   "source": [
    "#### Helper Functions"
   ]
  },
  {
   "cell_type": "markdown",
   "metadata": {},
   "source": [
    "These functions below will help us visually illustrate the effect of multithreading so it's easier to understand."
   ]
  },
  {
   "cell_type": "code",
   "execution_count": 60,
   "metadata": {},
   "outputs": [],
   "source": [
    "def multithreading(function, iterable, number_of_threads):\n",
    "    \"\"\"\n",
    "    Maps a function across an iterable (such as a list of elements) with the optional use of multithreading.\n",
    "    \n",
    "    :param function: name of a function\n",
    "    :type function: function\n",
    "    \n",
    "    :param iterable: elements used as inputs to function parameter\n",
    "    :type iterable: list\n",
    "    \n",
    "    :param number_of_threads: number of threads to use in map operation\n",
    "    :type number_of_threads: int\n",
    "    \n",
    "    :returns list_objects: return objects from our function parameter calls\n",
    "    :return type: list\n",
    "    \"\"\"    \n",
    "    with ThreadPoolExecutor(max_workers=number_of_threads) as executor:\n",
    "        responses = executor.map(function, iterable)\n",
    "    return list(responses)"
   ]
  },
  {
   "cell_type": "code",
   "execution_count": 61,
   "metadata": {},
   "outputs": [],
   "source": [
    "def do_multiprocessing(function, iterable, number_of_concurrent_processes):\n",
    "    \"\"\"\n",
    "    Maps a function across an iterable (such as a list of elements) with the optional use of multiprocessing.\n",
    "    \n",
    "    :param function: name of a function\n",
    "    :type function: function\n",
    "    \n",
    "    :param iterable: elements used as inputs to function parameter\n",
    "    :type iterable: list\n",
    "    \n",
    "    :param number_of_concurrent_processes: number of concurrent processes in multiprocessing\n",
    "    :type number_of_concurrent_processes: int\n",
    "    \n",
    "    :returns list_objects: return objects from our function parameter calls\n",
    "    :return type: list\n",
    "    \"\"\"    \n",
    "    with ProcessPoolExecutor(max_workers=number_of_concurrent_processes) as executor:\n",
    "        responses = executor.map(function, iterable)\n",
    "    return list(responses)"
   ]
  },
  {
   "cell_type": "code",
   "execution_count": 62,
   "metadata": {},
   "outputs": [],
   "source": [
    "def transform_timestamps_to_be_seconds_from_process_start_time(process_start_time, all_task_timestamps):\n",
    "    \"\"\"\n",
    "    Take list of start and end timestamps of # of seconds since epoch, and subtract the process start time from them all\n",
    "    \n",
    "    Therefore we'll know how far timestamps are from the 0th second, the start of the program.\n",
    "    \n",
    "    :param process_start_time: # of seconds since epoch for start of task\n",
    "    :type process_start_time: float\n",
    "    \n",
    "    :param all_task_timestamps: # of seconds since epoch for end of task\n",
    "    :type all_task_timestamps: list\n",
    "    \n",
    "    :return function_timestamps_starting_from_zero: same shape as all_task_timestamps but all values subtracted by process_start_time\n",
    "    :type function_timestamps_starting_from_zero: numpy array\n",
    "    \"\"\"\n",
    "    function_timestamps_starting_from_zero = np.array(all_task_timestamps) - process_start_time\n",
    "    return function_timestamps_starting_from_zero"
   ]
  },
  {
   "cell_type": "code",
   "execution_count": 63,
   "metadata": {},
   "outputs": [],
   "source": [
    "def separate_list_elements(list_of_lists):\n",
    "    \"\"\"\n",
    "    Given a list structure such as [[x, y], [x, y]] return a list of just the x's and another of just y's\n",
    "    \n",
    "    :param list_of_lists: list with nested lists\n",
    "    :type list_of_list: list\n",
    "    \n",
    "    :return start_values, end_values: two lists - one of all 0-th index values and another of 1st index values in each nested list\n",
    "    :return type: tuple storing two lists\n",
    "    \"\"\"\n",
    "    start_values = [inner_list[0] for inner_list in list_of_lists]\n",
    "    start_values = np.array(start_values)\n",
    "    \n",
    "    end_values = [inner_list[1] for inner_list in list_of_lists]\n",
    "    end_values = np.array(end_values)\n",
    "    return start_values, end_values"
   ]
  },
  {
   "cell_type": "code",
   "execution_count": 64,
   "metadata": {},
   "outputs": [],
   "source": [
    "def generate_bar_colors(number_of_threads_or_subprocesses):\n",
    "    \"\"\"\n",
    "    Make a list of colors the same length as the number of threads or number of concurrent subprocesses\n",
    "    \n",
    "    :param number_of_threads_or_subprocesses: number of threads used in multithreading or number of processes used in multiprocessing\n",
    "    :type number_of_threads_or_subprocesses: int\n",
    "    \n",
    "    :return colors: list of colors chosen from good_colors\n",
    "    :type colors: list\n",
    "    \"\"\"\n",
    "    good_colors = ['firebrick', 'darkgreen', 'royalblue', 'rebeccapurple', 'dimgrey', 'teal', 'chocolate', 'darkgoldenrod']\n",
    "    colors = sample(good_colors, number_of_threads_or_subprocesses)\n",
    "    return colors"
   ]
  },
  {
   "cell_type": "code",
   "execution_count": 65,
   "metadata": {},
   "outputs": [],
   "source": [
    "def visualize_task_times(start_times, end_times, plot_title, colors):\n",
    "    \"\"\"\n",
    "    Use Matplotlib module to create a horizontal bar chart of the time elapsed for each task.\n",
    "    \n",
    "    :param start_times: start times of tasks\n",
    "    :type start_times: list\n",
    "    \n",
    "    :param end_times: end times of tasks\n",
    "    :type end_times: list\n",
    "    \n",
    "    :param plot_title: title of plot\n",
    "    :type plot_title: string\n",
    "    \n",
    "    :param colors: colors of bars\n",
    "    :type colors: list\n",
    "    \n",
    "    :return: None\n",
    "    \"\"\"\n",
    "    plt.barh(range(len(start_times)), end_times-start_times, left=start_times, color=colors);\n",
    "    plt.grid(axis='x');\n",
    "    plt.ylabel(\"Tasks\");\n",
    "    plt.xlabel(\"Seconds\");\n",
    "    plt.title(plot_title);\n",
    "    plt.figure(figsize=(12, 10));\n",
    "    plt.show();\n",
    "    return None;"
   ]
  },
  {
   "cell_type": "code",
   "execution_count": 66,
   "metadata": {},
   "outputs": [],
   "source": [
    "def visualize_multiprocessing_effect(number_of_concurrent_processes, function_name, iterable, plot_title):\n",
    "    \"\"\"\n",
    "    Perform multithreading given a function_name and number_of_threads and visualize tasks as bar chart\n",
    "    \n",
    "    :param number_of_concurrent_processes: number of concurrent processes in multiprocessing\n",
    "    :type number_of_concurrent_processes: int\n",
    "    \n",
    "    :param function_name: name of function applied in multithreading operation\n",
    "    :type function_name: function\n",
    "    \n",
    "    :param iterable: elements used as inputs to function parameter\n",
    "    :type iterable: list\n",
    "    \n",
    "    :param plot_title: title of plot\n",
    "    :type plot_title: string\n",
    "    \n",
    "    :return: None\n",
    "    \"\"\"\n",
    "    process_start_time = time() # we track time here \n",
    "    time_logs_multiprocessing_op = do_multiprocessing(function_name, iterable, number_of_concurrent_processes)\n",
    "    multiprocessing_task_timestamps = transform_timestamps_to_be_seconds_from_process_start_time(process_start_time, time_logs_multiprocessing_op)\n",
    "    start_times, end_times = separate_list_elements(multiprocessing_task_timestamps)\n",
    "    colors = generate_bar_colors(number_of_concurrent_processes)\n",
    "    visualize_task_times(start_times, end_times, plot_title, colors)"
   ]
  },
  {
   "cell_type": "code",
   "execution_count": 67,
   "metadata": {},
   "outputs": [],
   "source": [
    "def visualize_multithreading_effect(number_of_threads, function_name, iterable, plot_title):\n",
    "    \"\"\"\n",
    "    Perform multithreading given a function_name and number_of_threads and visualize tasks as bar chart\n",
    "    \n",
    "    :param number_of_threads: number of threads used in multithreading\n",
    "    :type number_of_threads: int\n",
    "    \n",
    "    :param function_name: name of function applied in multithreading operation\n",
    "    :type function_name: function\n",
    "    \n",
    "    :param iterable: elements used as inputs to function parameter\n",
    "    :type iterable: list\n",
    "    \n",
    "    :param plot_title: title of plot\n",
    "    :type plot_title: string\n",
    "    \n",
    "    :return: None\n",
    "    \"\"\"\n",
    "    process_start_time = time() # we track time here \n",
    "    time_logs_multithreading_op = multithreading(function_name, iterable, number_of_threads)\n",
    "    multithreading_task_timestamps = transform_timestamps_to_be_seconds_from_process_start_time(process_start_time, time_logs_multithreading_op)\n",
    "    start_times, end_times = separate_list_elements(multithreading_task_timestamps)\n",
    "    colors = generate_bar_colors(number_of_threads)\n",
    "    visualize_task_times(start_times, end_times, plot_title, colors)"
   ]
  },
  {
   "cell_type": "markdown",
   "metadata": {},
   "source": [
    "### Measure Server Response Times"
   ]
  },
  {
   "cell_type": "markdown",
   "metadata": {},
   "source": [
    "This is a popular example on the web. For a long list of URLs, we'll use the `requests` module to `get` a *response object*. \n",
    "\n",
    "With this *response object*, we could later perform operations to see the status of the request, get the contents of the site and more!"
   ]
  },
  {
   "cell_type": "code",
   "execution_count": 68,
   "metadata": {},
   "outputs": [],
   "source": [
    "twelve_urls = ['https://secure.capitalbikeshare.com/map/']*16"
   ]
  },
  {
   "cell_type": "code",
   "execution_count": 69,
   "metadata": {},
   "outputs": [],
   "source": [
    "def get_response_time_measurements(url):\n",
    "    \"\"\"\n",
    "    mark start time, then call the get method and pass in a url to receive a server response object, then mark end time\n",
    "    \n",
    "    :param url: address of a worldwide web page \n",
    "    :type url: string\n",
    "    \n",
    "    :returns: start_time and stop_time of this task\n",
    "    :type returns: list\n",
    "    \"\"\"\n",
    "    start_time = time()\n",
    "    try:\n",
    "        response = get(url)\n",
    "    except Exception as exception_object:\n",
    "        print('Error with request for url: {0}'.format(url))\n",
    "    stop_time = time()\n",
    "    return [start_time, stop_time]"
   ]
  },
  {
   "cell_type": "markdown",
   "metadata": {},
   "source": [
    "First, just to illustrate our `multithreading` function, I'll call the `multithreading` function relevant to this example.\n",
    "\n",
    "We'll be return a list of nested lists, in which each nested list will contain the start timestamp and end timestamp of each task - each task being getting a new server response."
   ]
  },
  {
   "cell_type": "code",
   "execution_count": 70,
   "metadata": {},
   "outputs": [
    {
     "data": {
      "text/plain": [
       "[[1524632208.212652, 1524632209.3562171],\n",
       " [1524632209.356304, 1524632210.377363],\n",
       " [1524632210.377422, 1524632211.401835],\n",
       " [1524632211.401959, 1524632212.424235],\n",
       " [1524632212.424294, 1524632213.458614],\n",
       " [1524632213.458688, 1524632214.472278],\n",
       " [1524632214.4723809, 1524632215.3774521],\n",
       " [1524632215.377533, 1524632216.250168],\n",
       " [1524632216.250221, 1524632217.121071],\n",
       " [1524632217.1211221, 1524632218.161929],\n",
       " [1524632218.1619892, 1524632219.187152],\n",
       " [1524632219.187215, 1524632220.207478],\n",
       " [1524632220.207537, 1524632221.231024],\n",
       " [1524632221.231082, 1524632222.255033],\n",
       " [1524632222.255092, 1524632223.084519],\n",
       " [1524632223.084579, 1524632223.900953]]"
      ]
     },
     "execution_count": 70,
     "metadata": {},
     "output_type": "execute_result"
    }
   ],
   "source": [
    "multithreading(function=get_response_time_measurements, iterable=twelve_urls, number_of_threads=1)"
   ]
  },
  {
   "cell_type": "markdown",
   "metadata": {},
   "source": [
    "#### Multithreading with 1 Thread"
   ]
  },
  {
   "cell_type": "markdown",
   "metadata": {},
   "source": [
    "In the visualizations below, each color represents the use of one thread in the operations. \n",
    "\n",
    "So for multithreading with two threads, you'll see two color bars, one for each thread."
   ]
  },
  {
   "cell_type": "code",
   "execution_count": 71,
   "metadata": {},
   "outputs": [
    {
     "data": {
      "image/png": "[encoded data removed]",
      "text/plain": [
       "<matplotlib.figure.Figure at 0x10f9b4860>"
      ]
     },
     "metadata": {},
     "output_type": "display_data"
    },
    {
     "data": {
      "text/plain": [
       "<matplotlib.figure.Figure at 0x10f883240>"
      ]
     },
     "metadata": {},
     "output_type": "display_data"
    }
   ],
   "source": [
    "visualize_multithreading_effect(number_of_threads=1,\n",
    "                                function_name=get_response_time_measurements,\n",
    "                                iterable=twelve_urls,\n",
    "                                plot_title=\"Tasks for URL Server Responses; 1 Thread\")"
   ]
  },
  {
   "cell_type": "markdown",
   "metadata": {},
   "source": [
    "#### Multithreading with 2 Threads"
   ]
  },
  {
   "cell_type": "code",
   "execution_count": 72,
   "metadata": {},
   "outputs": [
    {
     "data": {
      "image/png": "[encoded data removed]",
      "text/plain": [
       "<matplotlib.figure.Figure at 0x10f2b4828>"
      ]
     },
     "metadata": {},
     "output_type": "display_data"
    },
    {
     "data": {
      "text/plain": [
       "<matplotlib.figure.Figure at 0x10f96acf8>"
      ]
     },
     "metadata": {},
     "output_type": "display_data"
    }
   ],
   "source": [
    "visualize_multithreading_effect(number_of_threads=2,\n",
    "                                function_name=get_response_time_measurements,\n",
    "                                iterable=twelve_urls,\n",
    "                                plot_title=\"Tasks for URL Server Responses; 2 Threads\")"
   ]
  },
  {
   "cell_type": "markdown",
   "metadata": {},
   "source": [
    "Let's visualize the effect of multithreading with 4 threads."
   ]
  },
  {
   "cell_type": "markdown",
   "metadata": {},
   "source": [
    "#### Multithreading with 4 Threads"
   ]
  },
  {
   "cell_type": "code",
   "execution_count": 73,
   "metadata": {},
   "outputs": [
    {
     "data": {
      "image/png": "[encoded data removed]",
      "text/plain": [
       "<matplotlib.figure.Figure at 0x113e01978>"
      ]
     },
     "metadata": {},
     "output_type": "display_data"
    },
    {
     "data": {
      "text/plain": [
       "<matplotlib.figure.Figure at 0x12d98ef98>"
      ]
     },
     "metadata": {},
     "output_type": "display_data"
    }
   ],
   "source": [
    "visualize_multithreading_effect(number_of_threads=4,\n",
    "                                function_name=get_response_time_measurements,\n",
    "                                iterable=twelve_urls,\n",
    "                                plot_title=\"Tasks for URL Server Responses; 4 Threads\")"
   ]
  },
  {
   "cell_type": "markdown",
   "metadata": {},
   "source": [
    "#### Multithreading with 8 Threads"
   ]
  },
  {
   "cell_type": "code",
   "execution_count": 74,
   "metadata": {},
   "outputs": [
    {
     "data": {
      "image/png": "[encoded data removed]",
      "text/plain": [
       "<matplotlib.figure.Figure at 0x108d6a588>"
      ]
     },
     "metadata": {},
     "output_type": "display_data"
    },
    {
     "data": {
      "text/plain": [
       "<matplotlib.figure.Figure at 0x12d963048>"
      ]
     },
     "metadata": {},
     "output_type": "display_data"
    }
   ],
   "source": [
    "visualize_multithreading_effect(number_of_threads=8,\n",
    "                                function_name=get_response_time_measurements,\n",
    "                                iterable=twelve_urls,\n",
    "                                plot_title=\"Tasks for URL Server Responses; 8 Threads\")"
   ]
  },
  {
   "cell_type": "markdown",
   "metadata": {},
   "source": [
    "#### Multiprocessing with 1 Process"
   ]
  },
  {
   "cell_type": "markdown",
   "metadata": {},
   "source": [
    "In the visualizations below, each color represents the use of one process in the operations. \n",
    "\n",
    "So for multiprocessing with two concurrent processes, you'll see two color bars, one for each process."
   ]
  },
  {
   "cell_type": "code",
   "execution_count": 75,
   "metadata": {},
   "outputs": [
    {
     "data": {
      "image/png": "[encoded data removed]",
      "text/plain": [
       "<matplotlib.figure.Figure at 0x11fdd7518>"
      ]
     },
     "metadata": {},
     "output_type": "display_data"
    },
    {
     "data": {
      "text/plain": [
       "<matplotlib.figure.Figure at 0x10f320f98>"
      ]
     },
     "metadata": {},
     "output_type": "display_data"
    }
   ],
   "source": [
    "visualize_multiprocessing_effect(number_of_concurrent_processes=1,\n",
    "                                function_name=get_response_time_measurements,\n",
    "                                iterable=twelve_urls,\n",
    "                                plot_title=\"Tasks for URL Server Responses; 1 Process\")"
   ]
  },
  {
   "cell_type": "markdown",
   "metadata": {},
   "source": [
    "#### Multiprocessing with 2 Processes"
   ]
  },
  {
   "cell_type": "code",
   "execution_count": 76,
   "metadata": {},
   "outputs": [
    {
     "data": {
      "image/png": "[encoded data removed]",
      "text/plain": [
       "<matplotlib.figure.Figure at 0x11fdcd160>"
      ]
     },
     "metadata": {},
     "output_type": "display_data"
    },
    {
     "data": {
      "text/plain": [
       "<matplotlib.figure.Figure at 0x113d6f0f0>"
      ]
     },
     "metadata": {},
     "output_type": "display_data"
    }
   ],
   "source": [
    "visualize_multiprocessing_effect(number_of_concurrent_processes=2,\n",
    "                                function_name=get_response_time_measurements,\n",
    "                                iterable=twelve_urls,\n",
    "                                plot_title=\"Tasks for URL Server Responses; 2 Processes\")"
   ]
  },
  {
   "cell_type": "markdown",
   "metadata": {},
   "source": [
    "Let's visualize the effect of multiprocessing with 4 concurrent processes."
   ]
  },
  {
   "cell_type": "markdown",
   "metadata": {},
   "source": [
    "#### Multiprocessing with 4 Processes"
   ]
  },
  {
   "cell_type": "code",
   "execution_count": 77,
   "metadata": {},
   "outputs": [
    {
     "data": {
      "image/png": "[encoded data removed]",
      "text/plain": [
       "<matplotlib.figure.Figure at 0x113c44588>"
      ]
     },
     "metadata": {},
     "output_type": "display_data"
    },
    {
     "data": {
      "text/plain": [
       "<matplotlib.figure.Figure at 0x10f2b6358>"
      ]
     },
     "metadata": {},
     "output_type": "display_data"
    }
   ],
   "source": [
    "visualize_multiprocessing_effect(number_of_concurrent_processes=4,\n",
    "                                function_name=get_response_time_measurements,\n",
    "                                iterable=twelve_urls,\n",
    "                                plot_title=\"Tasks for URL Server Responses; 4 Processes\")"
   ]
  },
  {
   "cell_type": "markdown",
   "metadata": {},
   "source": [
    "Let's visualize the effect of multiprocessing with 8 concurrent processes."
   ]
  },
  {
   "cell_type": "code",
   "execution_count": 79,
   "metadata": {},
   "outputs": [
    {
     "data": {
      "image/png": "[encoded data removed]",
      "text/plain": [
       "<matplotlib.figure.Figure at 0x113c416a0>"
      ]
     },
     "metadata": {},
     "output_type": "display_data"
    },
    {
     "data": {
      "text/plain": [
       "<matplotlib.figure.Figure at 0x12d976128>"
      ]
     },
     "metadata": {},
     "output_type": "display_data"
    }
   ],
   "source": [
    "visualize_multiprocessing_effect(number_of_concurrent_processes=8,\n",
    "                                function_name=get_response_time_measurements,\n",
    "                                iterable=twelve_urls,\n",
    "                                plot_title=\"Tasks for URL Server Responses; 8 Processes\")"
   ]
  },
  {
   "cell_type": "markdown",
   "metadata": {},
   "source": [
    "#### Single Process and Thread"
   ]
  },
  {
   "cell_type": "markdown",
   "metadata": {},
   "source": [
    "Now, let's perform the same operation **without** the overhead of setting up multithreading."
   ]
  },
  {
   "cell_type": "code",
   "execution_count": 80,
   "metadata": {},
   "outputs": [
    {
     "name": "stdout",
     "output_type": "stream",
     "text": [
      "CPU times: user 410 ms, sys: 28.4 ms, total: 438 ms\n",
      "Wall time: 16 s\n"
     ]
    }
   ],
   "source": [
    "%%time\n",
    "\n",
    "# traditional python program without multithreading\n",
    "task_timestamps = list(map(get_response_time_measurements, twelve_urls));"
   ]
  },
  {
   "cell_type": "markdown",
   "metadata": {},
   "source": [
    "**Conclusion:** both multithreading and multiprocessing complete much quicker than a single thread & program.\n",
    "\n",
    "The reason parallel programming is much faster here is because the processor isn't working very hard to retreive the contents on the sites; however, the bottleneck is waiting for the site's server response to our HTTP request - an external resource. While one task is performing an operation of getting/waiting for a server response for one URL, another task can start for a different URL. \n",
    "\n",
    "Threads are also fairly quick to combine their results too. So if we were web crawling and constantly wanted to combine results from multiple crawlers, it'd be ideal to use multiple threads to spawn multiple web crawlers rather than multiple processes which take longer to combine results."
   ]
  },
  {
   "cell_type": "markdown",
   "metadata": {},
   "source": [
    "### Example: Squares of Numbers"
   ]
  },
  {
   "cell_type": "markdown",
   "metadata": {},
   "source": [
    "Given this big list of numbers in `big_list`, we want to output a new list that has the square of all numbers in `big_list`.\n",
    "\n",
    "Think of this as a *lot* of *small* operations."
   ]
  },
  {
   "cell_type": "code",
   "execution_count": 81,
   "metadata": {},
   "outputs": [],
   "source": [
    "big_list = range(1, 12000000)"
   ]
  },
  {
   "cell_type": "code",
   "execution_count": 82,
   "metadata": {},
   "outputs": [],
   "source": [
    "def square_value(x):\n",
    "    return x**2"
   ]
  },
  {
   "cell_type": "markdown",
   "metadata": {},
   "source": [
    "#### Multithreading"
   ]
  },
  {
   "cell_type": "markdown",
   "metadata": {},
   "source": [
    "Below I utilize code from another module of the Python standard library, `multiprocessing`, to perform multithreading for this operation. \n",
    "\n",
    "By default, we will use all available threads on our computer."
   ]
  },
  {
   "cell_type": "code",
   "execution_count": 83,
   "metadata": {},
   "outputs": [
    {
     "name": "stdout",
     "output_type": "stream",
     "text": [
      "CPU times: user 5.51 s, sys: 715 ms, total: 6.23 s\n",
      "Wall time: 6.2 s\n"
     ]
    }
   ],
   "source": [
    "%%time\n",
    "\n",
    "pool = ThreadPool() \n",
    "\n",
    "squares_pool_results = pool.map(square_value, big_list)\n",
    "\n",
    "pool.close()\n",
    "pool.join()"
   ]
  },
  {
   "cell_type": "markdown",
   "metadata": {},
   "source": [
    "#### Multiprocessing"
   ]
  },
  {
   "cell_type": "markdown",
   "metadata": {},
   "source": [
    "Below I utilize code from the lower-level module of the Python standard library, `multiprocessing`, to perform multiprocessing for this operation. \n",
    "\n",
    "We'll use 2 concurrent processes."
   ]
  },
  {
   "cell_type": "code",
   "execution_count": 84,
   "metadata": {},
   "outputs": [
    {
     "name": "stdout",
     "output_type": "stream",
     "text": [
      "CPU times: user 2.04 s, sys: 947 ms, total: 2.99 s\n",
      "Wall time: 4.84 s\n"
     ]
    }
   ],
   "source": [
    "%%time\n",
    "\n",
    "with Pool(processes=2) as multiprocessing_operation:\n",
    "    multiprocessing_operation.map(square_value, big_list)"
   ]
  },
  {
   "cell_type": "markdown",
   "metadata": {},
   "source": [
    "#### Single Process & Thread"
   ]
  },
  {
   "cell_type": "code",
   "execution_count": 85,
   "metadata": {},
   "outputs": [
    {
     "name": "stdout",
     "output_type": "stream",
     "text": [
      "CPU times: user 13 µs, sys: 8 µs, total: 21 µs\n",
      "Wall time: 26 µs\n"
     ]
    }
   ],
   "source": [
    "%%time\n",
    "    \n",
    "squares_results = map(square_value, big_list)"
   ]
  },
  {
   "cell_type": "markdown",
   "metadata": {},
   "source": [
    "**Conclusion:** process completes much faster *without* parallel programming.\n",
    "\n",
    "This may come as a surprise that parallel programming hurts our performance here.\n",
    "\n",
    "Using parallel programming in Python or any other interpreted language with a global interpreter lock (GIL) can actually result in reduced performance if you're *just* doing a CPU bound task. This program must carry parallel programming's additional overhead of creating new threads or processes and synchronizing their results. "
   ]
  },
  {
   "cell_type": "markdown",
   "metadata": {},
   "source": [
    "### Example: CPU Heavy Computations"
   ]
  },
  {
   "cell_type": "markdown",
   "metadata": {},
   "source": [
    "In this example, we'll only perform 8 tasks - with each task requiring a large amount of math operations."
   ]
  },
  {
   "cell_type": "code",
   "execution_count": 86,
   "metadata": {},
   "outputs": [],
   "source": [
    "def sum_all_intgers_from_zero_to_end_range_number(end_range_number):\n",
    "    \"\"\"\n",
    "    Calculate the sum of all integer numbers from 0 to end_range_number. \n",
    "    \n",
    "    :param end_range_number: highest value to loop over\n",
    "    :type end_range_number: integer\n",
    "    \n",
    "    :returns [start_time, stop_time]: list of start_time of task and end time of task\n",
    "    :return type: list\n",
    "    \"\"\"\n",
    "    start_time = time()\n",
    "    the_sum = 0\n",
    "    for number in range(0, end_range_number):\n",
    "        the_sum += number\n",
    "    stop_time = time()\n",
    "    return [start_time, stop_time]"
   ]
  },
  {
   "cell_type": "code",
   "execution_count": 87,
   "metadata": {},
   "outputs": [],
   "source": [
    "large_number = 11**7\n",
    "iterations = 8"
   ]
  },
  {
   "cell_type": "code",
   "execution_count": 88,
   "metadata": {},
   "outputs": [],
   "source": [
    "large_numbers = [large_number]*iterations"
   ]
  },
  {
   "cell_type": "code",
   "execution_count": 89,
   "metadata": {},
   "outputs": [
    {
     "data": {
      "text/plain": [
       "[19487171,\n",
       " 19487171,\n",
       " 19487171,\n",
       " 19487171,\n",
       " 19487171,\n",
       " 19487171,\n",
       " 19487171,\n",
       " 19487171]"
      ]
     },
     "execution_count": 89,
     "metadata": {},
     "output_type": "execute_result"
    }
   ],
   "source": [
    "large_numbers"
   ]
  },
  {
   "cell_type": "markdown",
   "metadata": {},
   "source": [
    "#### Multithreading"
   ]
  },
  {
   "cell_type": "markdown",
   "metadata": {},
   "source": [
    "Let's visualize the effect of multithreading with 2 concurrent threads."
   ]
  },
  {
   "cell_type": "code",
   "execution_count": 95,
   "metadata": {},
   "outputs": [
    {
     "data": {
      "image/png": "[encoded data removed]",
      "text/plain": [
       "<matplotlib.figure.Figure at 0x113e10cc0>"
      ]
     },
     "metadata": {},
     "output_type": "display_data"
    },
    {
     "data": {
      "text/plain": [
       "<matplotlib.figure.Figure at 0x10f2d0278>"
      ]
     },
     "metadata": {},
     "output_type": "display_data"
    }
   ],
   "source": [
    "visualize_multithreading_effect(number_of_threads=2,\n",
    "                                function_name=sum_all_intgers_from_zero_to_end_range_number,\n",
    "                                iterable=large_numbers,\n",
    "                                plot_title=\"Tasks for Heavy CPU Computations; 2 Threads\")"
   ]
  },
  {
   "cell_type": "markdown",
   "metadata": {},
   "source": [
    "#### Multiprocessing"
   ]
  },
  {
   "cell_type": "markdown",
   "metadata": {},
   "source": [
    "Let's visualize the effect of multiprocessing with 2 concurrent subprocesses."
   ]
  },
  {
   "cell_type": "code",
   "execution_count": 91,
   "metadata": {},
   "outputs": [
    {
     "data": {
      "image/png": "[encoded data removed]",
      "text/plain": [
       "<matplotlib.figure.Figure at 0x10f2eadd8>"
      ]
     },
     "metadata": {},
     "output_type": "display_data"
    },
    {
     "data": {
      "text/plain": [
       "<matplotlib.figure.Figure at 0x11b03c978>"
      ]
     },
     "metadata": {},
     "output_type": "display_data"
    }
   ],
   "source": [
    "visualize_multiprocessing_effect(number_of_concurrent_processes=2,\n",
    "                                function_name=sum_all_intgers_from_zero_to_end_range_number,\n",
    "                                iterable=large_numbers,\n",
    "                                plot_title=\"Tasks for Heavy CPU Computations; 2 Processes\")"
   ]
  },
  {
   "cell_type": "markdown",
   "metadata": {},
   "source": [
    "Let's visualize the effect of multiprocessing with 4 concurrent subprocesses."
   ]
  },
  {
   "cell_type": "code",
   "execution_count": 92,
   "metadata": {},
   "outputs": [
    {
     "data": {
      "image/png": "[encoded data removed]",
      "text/plain": [
       "<matplotlib.figure.Figure at 0x12d990be0>"
      ]
     },
     "metadata": {},
     "output_type": "display_data"
    },
    {
     "data": {
      "text/plain": [
       "<matplotlib.figure.Figure at 0x113e07978>"
      ]
     },
     "metadata": {},
     "output_type": "display_data"
    }
   ],
   "source": [
    "visualize_multiprocessing_effect(number_of_concurrent_processes=4,\n",
    "                                function_name=sum_all_intgers_from_zero_to_end_range_number,\n",
    "                                iterable=large_numbers,\n",
    "                                plot_title=\"Tasks for Heavy CPU Computations; 4 Processes\")"
   ]
  },
  {
   "cell_type": "markdown",
   "metadata": {},
   "source": [
    "Let's visualize the effect of multiprocessing with 5 concurrent subprocesses. \n",
    "\n",
    "The runtime of this program is the same as that of 4 subprocess above. But why? Well, there's no benefit to attempting to use greater than 4 sub-processes for CPU bound tasks because my laptop has just 4 cores - the ability to run a single process concurrently on each core."
   ]
  },
  {
   "cell_type": "code",
   "execution_count": 93,
   "metadata": {},
   "outputs": [
    {
     "data": {
      "image/png": "[encoded data removed]",
      "text/plain": [
       "<matplotlib.figure.Figure at 0x139e84668>"
      ]
     },
     "metadata": {},
     "output_type": "display_data"
    },
    {
     "data": {
      "text/plain": [
       "<matplotlib.figure.Figure at 0x11b2bbb70>"
      ]
     },
     "metadata": {},
     "output_type": "display_data"
    }
   ],
   "source": [
    "visualize_multiprocessing_effect(number_of_concurrent_processes=5,\n",
    "                                function_name=sum_all_intgers_from_zero_to_end_range_number,\n",
    "                                iterable=large_numbers,\n",
    "                                plot_title=\"Tasks for Heavy CPU Computations; 5 Processes\")"
   ]
  },
  {
   "cell_type": "markdown",
   "metadata": {},
   "source": [
    "#### Single Program & Thread"
   ]
  },
  {
   "cell_type": "code",
   "execution_count": 94,
   "metadata": {},
   "outputs": [
    {
     "name": "stdout",
     "output_type": "stream",
     "text": [
      "CPU times: user 10.9 s, sys: 34.8 ms, total: 11 s\n",
      "Wall time: 11 s\n"
     ]
    }
   ],
   "source": [
    "%%time\n",
    "\n",
    "for i in range(iterations):\n",
    "    sum_all_intgers_from_zero_to_end_range_number(large_number)"
   ]
  },
  {
   "cell_type": "markdown",
   "metadata": {},
   "source": [
    "**Conclusion:** program completes much faster *with* multiprocessing at approximately 4 subprocesses running concurrently.\n",
    "\n",
    "Multiprocessing here was helpful for this CPU intensive task because we could benefit from using multiple cores and avoid the global interpreter lock.\n",
    "\n",
    "Interestingly, spinning up additional subprocesses past 4 has no major effect on improving runtime of our program. Notice how the total program runtime with 4 subprocesses is equivalent to the program with 5 subprocesses.\n",
    "\n",
    "Threads provide no benefit in Python for CPU intensive tasks like these because of the global interpreter lock."
   ]
  }
 ],
 "metadata": {
  "kernelspec": {
   "display_name": "Python 3 (ipykernel)",
   "language": "python",
   "name": "python3"
  },
  "language_info": {
   "codemirror_mode": {
    "name": "ipython",
    "version": 3
   },
   "file_extension": ".py",
   "mimetype": "text/x-python",
   "name": "python",
   "nbconvert_exporter": "python",
   "pygments_lexer": "ipython3",
   "version": "3.11.2"
  }
 },
 "nbformat": 4,
 "nbformat_minor": 4
}
