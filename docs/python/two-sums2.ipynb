{
 "cells": [
  {
   "cell_type": "markdown",
   "metadata": {},
   "source": [
    "# Two Sum II (via Leetcode)\n",
    "\n",
    "Date published: 2023-05-08\n",
    "\n",
    "Category: Python\n",
    "\n",
    "Subcategory: Beginner Algorithms\n",
    "\n",
    "Tags: functions, loops, lists, two pointers\n"
   ]
  },
  {
   "cell_type": "markdown",
   "metadata": {},
   "source": [
    "Problem found on <a href=\"https://leetcode.com/problems/two-sum-ii-input-array-is-sorted/\" target=\"_blank\">Leetcode</a>.\n",
    "\n",
    "**Problem statement**:\n",
    "\n",
    "Given a list of integers that is sorted in ascending order, find two numbers in the list that add up to a specific target number.\n",
    "\n",
    "The function should return the indices of the tow numbers such that they add up to the target. The first index returned should be smaller than the next one. For this problem, assume index starts at 1, not traditional zero-based indexing.\n",
    "\n",
    "There's always exactly one solution. \n",
    "\n",
    "Desired solution must use constant extra space, meaning an increase in items in `nums` won't increase space complexity."
   ]
  },
  {
   "cell_type": "markdown",
   "metadata": {},
   "source": [
    "#### Test Cases"
   ]
  },
  {
   "cell_type": "code",
   "execution_count": 2,
   "metadata": {},
   "outputs": [],
   "source": [
    "# assert two_sum(numbers=[0, 3, 5, 9], target=8) == [2, 3]"
   ]
  },
  {
   "cell_type": "markdown",
   "metadata": {},
   "source": [
    "The sum of `3` and `5` is the target value of `8`. Since this is one-based indexing, `3` and `5` are respectively at indices `2` and `3`."
   ]
  },
  {
   "cell_type": "code",
   "execution_count": 3,
   "metadata": {},
   "outputs": [],
   "source": [
    "# assert two_sum(numbers=[9, 10, 5, 15], target=25) == [2, 4]"
   ]
  },
  {
   "cell_type": "code",
   "execution_count": 4,
   "metadata": {},
   "outputs": [],
   "source": [
    "# assert two_sum(numbers=[-3, -1, 0, 3], target=-4) == [1, 2]"
   ]
  },
  {
   "cell_type": "code",
   "execution_count": 5,
   "metadata": {},
   "outputs": [],
   "source": [
    "# assert two_sum(numbers=[0, 0, 3, 4], target=0) == [1, 2]"
   ]
  },
  {
   "cell_type": "markdown",
   "metadata": {},
   "source": [
    "### Solution #1 - the Brute Force Way\n",
    "\n",
    "This solution is not constant extra space; it's O(n) space complexity. This solution would be fine to use in a production application. "
   ]
  },
  {
   "cell_type": "markdown",
   "metadata": {},
   "source": [
    "#### Pseudocode"
   ]
  },
  {
   "cell_type": "code",
   "execution_count": 6,
   "metadata": {},
   "outputs": [],
   "source": [
    "# convert numbers list into dict of keys as nums and values as list of indexes (+1 for each index)\n",
    "# [2,7,11,15] -> {2: [0], 7: [1], 11: [2], 15: [3]} \n",
    "\n",
    "# for num, list_indexes in dict:\n",
    "    # given nums=[2, 0, 2] and target=4, don't use first 2 twice so check target-num != num\n",
    "    # if target-num != num and target-num in dict:\n",
    "        # return [list_indexes[0], dict[target-num][0]]\n",
    "\n",
    "# reach here if no two distinct numbers add up to target\n",
    "# two of the same number must add up to target\n",
    "# half = target/2\n",
    "# return dict[half]"
   ]
  },
  {
   "cell_type": "markdown",
   "metadata": {},
   "source": [
    "#### Code"
   ]
  },
  {
   "cell_type": "code",
   "execution_count": 7,
   "metadata": {},
   "outputs": [],
   "source": [
    "from collections import defaultdict\n",
    "from typing import List\n",
    "\n",
    "\n",
    "def two_sum(numbers: List[int], target: int) -> List[int]:\n",
    "\n",
    "    num_indexes = defaultdict(list)\n",
    "\n",
    "    # prompt asked for 1-indexing\n",
    "    for index, num in enumerate(numbers):\n",
    "        num_indexes[num].append(index+1)\n",
    "\n",
    "    for num, list_indexes in num_indexes.items():\n",
    "        difference_num = target - num\n",
    "        if difference_num != num and difference_num in num_indexes:\n",
    "            return [list_indexes[0], num_indexes[difference_num][0]]\n",
    "    # no distinct two numbers may add up to target\n",
    "    # so there must be two occurrences of a number that is half of target\n",
    "    half = target / 2\n",
    "    return num_indexes[half]"
   ]
  },
  {
   "cell_type": "markdown",
   "metadata": {},
   "source": [
    "#### Complexity"
   ]
  },
  {
   "cell_type": "markdown",
   "metadata": {},
   "source": [
    "**Time complexity** at worst case is O(2n) which can be simplified to O(n) because there's two iterations over all values in `nums`. \n",
    "\n",
    "**Space complexity** O(n), where n is the length of items in `nums`. This is because I'm using a defaultdict called `num_indexes` to store the indices of each number in the input array. "
   ]
  },
  {
   "cell_type": "markdown",
   "metadata": {},
   "source": [
    "#### Run Test Cases"
   ]
  },
  {
   "cell_type": "code",
   "execution_count": 8,
   "metadata": {},
   "outputs": [],
   "source": [
    "assert two_sum(numbers=[9, 10, 5, 15], target=20) == [3, 4]"
   ]
  },
  {
   "cell_type": "code",
   "execution_count": 9,
   "metadata": {},
   "outputs": [],
   "source": [
    "assert two_sum(numbers=[-3, -1, 0, 3], target=-4) == [1, 2]"
   ]
  },
  {
   "cell_type": "code",
   "execution_count": 10,
   "metadata": {},
   "outputs": [],
   "source": [
    "assert two_sum(numbers=[0, 0, 3, 4], target=0) == [1, 2]"
   ]
  },
  {
   "cell_type": "markdown",
   "metadata": {},
   "source": [
    "### Solution #2 - a More Performant Way"
   ]
  },
  {
   "cell_type": "markdown",
   "metadata": {},
   "source": [
    "#### Pseudocode\n",
    "\n",
    "This method is more of a Leetcode trick that's doable because nums is sorted. I wouldn't expect someone to code this solution in a production application."
   ]
  },
  {
   "cell_type": "code",
   "execution_count": 15,
   "metadata": {
    "tags": []
   },
   "outputs": [],
   "source": [
    "# initialize left_pointer to the first index of the array\n",
    "# initialize right_pointer to the last index of the array\n",
    "\n",
    "# while left_pointer is less than right_pointer:\n",
    "    # calculate the sum of elements at left_pointer and right_pointer (current_sum)\n",
    "    \n",
    "    # if current_sum equals the target:\n",
    "        # return the indices (left_pointer + 1) and (right_pointer + 1) since it's 1-indexed\n",
    "\n",
    "    # if current_sum is less than the target:\n",
    "        # try to find larger sum...\n",
    "        # move left_pointer one step to the right (increment left_pointer)\n",
    "\n",
    "    # if current_sum is greater than the target:\n",
    "        # try to find smaller sum...\n",
    "        # move right_pointer one step to the left (decrement right_pointer)\n",
    "\n",
    "# no solution is found, return an empty list (although the problem statement guarantees one)"
   ]
  },
  {
   "cell_type": "markdown",
   "metadata": {},
   "source": [
    "#### Code"
   ]
  },
  {
   "cell_type": "code",
   "execution_count": 16,
   "metadata": {},
   "outputs": [],
   "source": [
    "class Solution:\n",
    "    def twoSum(self, numbers: List[int], target: int) -> List[int]:\n",
    "        # Initialize two pointers at the beginning and end of the array\n",
    "        left_index, right_index = 0, len(numbers) - 1\n",
    "\n",
    "        while left_index < right_index:\n",
    "            # Calculate the sum of elements at left and right pointers\n",
    "            current_sum = numbers[left_index] + numbers[right_index]\n",
    "\n",
    "            if current_sum == target:\n",
    "                # Return the indices, but remember to add 1 since the problem uses 1-based indexing\n",
    "                return [left_index + 1, right_index + 1]\n",
    "            elif current_sum < target:\n",
    "                # If the current_sum is less than the target, move the left pointer to the right\n",
    "                left_index += 1\n",
    "            else:\n",
    "                # If the current_sum is greater than the target, move the right pointer to the left\n",
    "                right_index -= 1\n"
   ]
  },
  {
   "cell_type": "markdown",
   "metadata": {},
   "source": [
    "#### Complexity"
   ]
  },
  {
   "cell_type": "markdown",
   "metadata": {},
   "source": [
    "**Time complexity** is at worst cast O(n) because we may increment or decrement each pointer until they both reach the middle of `nums`. \n",
    "\n",
    "**Space complexity** is O(1) because we use a fixed amount of memory to store the two pointers regardless of the size of `nums`. "
   ]
  },
  {
   "cell_type": "markdown",
   "metadata": {},
   "source": [
    "#### Run Test Cases"
   ]
  },
  {
   "cell_type": "code",
   "execution_count": 17,
   "metadata": {},
   "outputs": [],
   "source": [
    "assert two_sum(numbers=[9, 10, 5, 15], target=20) == [3, 4]"
   ]
  },
  {
   "cell_type": "code",
   "execution_count": 18,
   "metadata": {},
   "outputs": [],
   "source": [
    "assert two_sum(numbers=[-3, -1, 0, 3], target=-4) == [1, 2]"
   ]
  },
  {
   "cell_type": "code",
   "execution_count": 19,
   "metadata": {
    "tags": []
   },
   "outputs": [],
   "source": [
    "assert two_sum(numbers=[0, 0, 3, 4], target=0) == [1, 2]"
   ]
  }
 ],
 "metadata": {
  "kernelspec": {
   "display_name": "Python 3 (ipykernel)",
   "language": "python",
   "name": "python3"
  },
  "language_info": {
   "codemirror_mode": {
    "name": "ipython",
    "version": 3
   },
   "file_extension": ".py",
   "mimetype": "text/x-python",
   "name": "python",
   "nbconvert_exporter": "python",
   "pygments_lexer": "ipython3",
   "version": "3.11.2"
  }
 },
 "nbformat": 4,
 "nbformat_minor": 4
}
