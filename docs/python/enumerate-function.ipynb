{
 "cells": [
  {
   "cell_type": "markdown",
   "metadata": {},
   "source": [
    "# Iterate over Index Numbers and Elements in a List Using Enumerate\n",
    "\n",
    "Date published: 2018-02-14\n",
    "\n",
    "Category: Python\n",
    "\n",
    "Subcategory: Beginner Concepts\n",
    "\n",
    "Tags: functions, loops, dictionaries, lists\n"
   ]
  },
  {
   "cell_type": "markdown",
   "metadata": {},
   "source": [
    "#### Import Library"
   ]
  },
  {
   "cell_type": "code",
   "execution_count": 1,
   "metadata": {
    "collapsed": true,
    "jupyter": {
     "outputs_hidden": true
    }
   },
   "outputs": [],
   "source": [
    "from collections import defaultdict"
   ]
  },
  {
   "cell_type": "markdown",
   "metadata": {},
   "source": [
    "#### Definition of Enumerate"
   ]
  },
  {
   "cell_type": "markdown",
   "metadata": {},
   "source": [
    "[`enumerate()`](https://docs.python.org/3/library/functions.html#enumerate) is a powerful Python built-in function that helps you easily iterate over indexes and values in a sequence, iterator or other object that supports iteration.\n",
    "\n",
    "`enumerate()` returns an `enumerate` object."
   ]
  },
  {
   "cell_type": "code",
   "execution_count": 2,
   "metadata": {
    "collapsed": false,
    "jupyter": {
     "outputs_hidden": false
    }
   },
   "outputs": [
    {
     "data": {
      "text/plain": [
       "<enumerate at 0x10e3ced38>"
      ]
     },
     "execution_count": 2,
     "metadata": {},
     "output_type": "execute_result"
    }
   ],
   "source": [
    "enumerate([1, 2, 3])"
   ]
  },
  {
   "cell_type": "markdown",
   "metadata": {},
   "source": [
    "### Simple Example"
   ]
  },
  {
   "cell_type": "markdown",
   "metadata": {},
   "source": [
    "You ask Jen to make a list of dinner choices and rank them; you want to see the values and numeric ranks."
   ]
  },
  {
   "cell_type": "code",
   "execution_count": 3,
   "metadata": {
    "collapsed": true,
    "jupyter": {
     "outputs_hidden": true
    }
   },
   "outputs": [],
   "source": [
    "jen_dinner_choices = [\"pasta\", \"pizza\", \"salad\", \"burger\"]"
   ]
  },
  {
   "cell_type": "markdown",
   "metadata": {},
   "source": [
    "There's two ways to preview the values and ranks."
   ]
  },
  {
   "cell_type": "markdown",
   "metadata": {},
   "source": [
    "#### Loop and print"
   ]
  },
  {
   "cell_type": "code",
   "execution_count": 4,
   "metadata": {
    "collapsed": false,
    "jupyter": {
     "outputs_hidden": false
    }
   },
   "outputs": [
    {
     "name": "stdout",
     "output_type": "stream",
     "text": [
      "0 pasta\n",
      "1 pizza\n",
      "2 salad\n",
      "3 burger\n"
     ]
    }
   ],
   "source": [
    "for index, choice in enumerate(jen_dinner_choices):\n",
    "    print(index, choice)"
   ]
  },
  {
   "cell_type": "markdown",
   "metadata": {},
   "source": [
    "#### Create list of tuples that contain (index, value)"
   ]
  },
  {
   "cell_type": "code",
   "execution_count": 5,
   "metadata": {
    "collapsed": false,
    "jupyter": {
     "outputs_hidden": false
    }
   },
   "outputs": [
    {
     "data": {
      "text/plain": [
       "[(0, 'pasta'), (1, 'pizza'), (2, 'salad'), (3, 'burger')]"
      ]
     },
     "execution_count": 5,
     "metadata": {},
     "output_type": "execute_result"
    }
   ],
   "source": [
    "list(enumerate(jen_dinner_choices))"
   ]
  },
  {
   "cell_type": "markdown",
   "metadata": {},
   "source": [
    "### Example Continued"
   ]
  },
  {
   "cell_type": "markdown",
   "metadata": {},
   "source": [
    "You ask preferences of three more friends to rank these four choices and want to see which is the top pick."
   ]
  },
  {
   "cell_type": "code",
   "execution_count": 6,
   "metadata": {
    "collapsed": true,
    "jupyter": {
     "outputs_hidden": true
    }
   },
   "outputs": [],
   "source": [
    "ed_dinner_choices = [\"burger\", \"pizza\", \"pasta\", \"salad\"]\n",
    "matt_dinner_choices = [\"salad\", \"pasta\", \"burger\", \"pizza\"]\n",
    "pam_dinner_choices = [\"pizza\", \"pasta\", \"burger\", \"salad\"]"
   ]
  },
  {
   "cell_type": "markdown",
   "metadata": {},
   "source": [
    "Let's sum up the ranks of food options. The *lowest sum* food option is the dinner pick!\n",
    "\n",
    "We'll use a Python built-in dictionary-like object called [defaultdict](https://docs.python.org/3/library/collections.html#collections.defaultdict)."
   ]
  },
  {
   "cell_type": "code",
   "execution_count": 7,
   "metadata": {
    "collapsed": false,
    "jupyter": {
     "outputs_hidden": false
    }
   },
   "outputs": [],
   "source": [
    "# define empty defaultdict to store keys as food options (strings) and values as cumulative rankings (ints)\n",
    "# default value of int in line below is 0\n",
    "choice_ranks = defaultdict(int)\n",
    "\n",
    "def increment_choice_ranks(person_choices_ranks, food_option_rank):\n",
    "    \"\"\"Add individual person's food rankings to cumulative rankings defaultdict\n",
    "    \n",
    "    Keyword arguments: \n",
    "    person_choices_ranks -- person's ranking of four food options (list)\n",
    "    food_option_rank -- cumulative food rankings (defaultdict)\n",
    "    \"\"\"\n",
    "    # loop through index and values of person's food rankings\n",
    "    for index, choice in enumerate(person_choices_ranks):\n",
    "        \n",
    "        print(\"food rank is: {0}\".format(index))\n",
    "        print(\"food choice is: {0}\".format(choice))\n",
    "        \n",
    "        # increment cumulative ranking value by person's rank\n",
    "        food_option_rank[choice] += index\n",
    "        \n",
    "        print(\"new food_option_rank is: {0}\".format(food_option_rank))\n",
    "        print(\" \")\n",
    "        \n",
    "    # return our cumulative food rankings\n",
    "    return food_option_rank"
   ]
  },
  {
   "cell_type": "markdown",
   "metadata": {},
   "source": [
    "Call our `increment_choice_ranks` function using each person's food choices; each time, we increment our choice_ranks defaultdict.\n",
    "\n",
    "The output is printed below to show how the defaultdict changes with each new food ranking."
   ]
  },
  {
   "cell_type": "code",
   "execution_count": 8,
   "metadata": {
    "collapsed": false,
    "jupyter": {
     "outputs_hidden": false
    }
   },
   "outputs": [
    {
     "name": "stdout",
     "output_type": "stream",
     "text": [
      "food rank is: 0\n",
      "food choice is: pasta\n",
      "new food_option_rank is: defaultdict(<class 'int'>, {'pasta': 0})\n",
      " \n",
      "food rank is: 1\n",
      "food choice is: pizza\n",
      "new food_option_rank is: defaultdict(<class 'int'>, {'pasta': 0, 'pizza': 1})\n",
      " \n",
      "food rank is: 2\n",
      "food choice is: salad\n",
      "new food_option_rank is: defaultdict(<class 'int'>, {'pasta': 0, 'pizza': 1, 'salad': 2})\n",
      " \n",
      "food rank is: 3\n",
      "food choice is: burger\n",
      "new food_option_rank is: defaultdict(<class 'int'>, {'pasta': 0, 'pizza': 1, 'salad': 2, 'burger': 3})\n",
      " \n",
      "food rank is: 0\n",
      "food choice is: burger\n",
      "new food_option_rank is: defaultdict(<class 'int'>, {'pasta': 0, 'pizza': 1, 'salad': 2, 'burger': 3})\n",
      " \n",
      "food rank is: 1\n",
      "food choice is: pizza\n",
      "new food_option_rank is: defaultdict(<class 'int'>, {'pasta': 0, 'pizza': 2, 'salad': 2, 'burger': 3})\n",
      " \n",
      "food rank is: 2\n",
      "food choice is: pasta\n",
      "new food_option_rank is: defaultdict(<class 'int'>, {'pasta': 2, 'pizza': 2, 'salad': 2, 'burger': 3})\n",
      " \n",
      "food rank is: 3\n",
      "food choice is: salad\n",
      "new food_option_rank is: defaultdict(<class 'int'>, {'pasta': 2, 'pizza': 2, 'salad': 5, 'burger': 3})\n",
      " \n",
      "food rank is: 0\n",
      "food choice is: salad\n",
      "new food_option_rank is: defaultdict(<class 'int'>, {'pasta': 2, 'pizza': 2, 'salad': 5, 'burger': 3})\n",
      " \n",
      "food rank is: 1\n",
      "food choice is: pasta\n",
      "new food_option_rank is: defaultdict(<class 'int'>, {'pasta': 3, 'pizza': 2, 'salad': 5, 'burger': 3})\n",
      " \n",
      "food rank is: 2\n",
      "food choice is: burger\n",
      "new food_option_rank is: defaultdict(<class 'int'>, {'pasta': 3, 'pizza': 2, 'salad': 5, 'burger': 5})\n",
      " \n",
      "food rank is: 3\n",
      "food choice is: pizza\n",
      "new food_option_rank is: defaultdict(<class 'int'>, {'pasta': 3, 'pizza': 5, 'salad': 5, 'burger': 5})\n",
      " \n",
      "food rank is: 0\n",
      "food choice is: pizza\n",
      "new food_option_rank is: defaultdict(<class 'int'>, {'pasta': 3, 'pizza': 5, 'salad': 5, 'burger': 5})\n",
      " \n",
      "food rank is: 1\n",
      "food choice is: pasta\n",
      "new food_option_rank is: defaultdict(<class 'int'>, {'pasta': 4, 'pizza': 5, 'salad': 5, 'burger': 5})\n",
      " \n",
      "food rank is: 2\n",
      "food choice is: burger\n",
      "new food_option_rank is: defaultdict(<class 'int'>, {'pasta': 4, 'pizza': 5, 'salad': 5, 'burger': 7})\n",
      " \n",
      "food rank is: 3\n",
      "food choice is: salad\n",
      "new food_option_rank is: defaultdict(<class 'int'>, {'pasta': 4, 'pizza': 5, 'salad': 8, 'burger': 7})\n",
      " \n"
     ]
    }
   ],
   "source": [
    "choice_ranks = increment_choice_ranks(jen_dinner_choices, choice_ranks)\n",
    "choice_ranks = increment_choice_ranks(ed_dinner_choices, choice_ranks)\n",
    "choice_ranks = increment_choice_ranks(matt_dinner_choices, choice_ranks)\n",
    "choice_ranks = increment_choice_ranks(pam_dinner_choices, choice_ranks)"
   ]
  },
  {
   "cell_type": "code",
   "execution_count": 9,
   "metadata": {
    "collapsed": false,
    "jupyter": {
     "outputs_hidden": false
    }
   },
   "outputs": [
    {
     "data": {
      "text/plain": [
       "defaultdict(int, {'burger': 7, 'pasta': 4, 'pizza': 5, 'salad': 8})"
      ]
     },
     "execution_count": 9,
     "metadata": {},
     "output_type": "execute_result"
    }
   ],
   "source": [
    "choice_ranks"
   ]
  },
  {
   "cell_type": "markdown",
   "metadata": {},
   "source": [
    "**Pasta** is the winner!!"
   ]
  }
 ],
 "metadata": {
  "kernelspec": {
   "display_name": "Python 3",
   "language": "python",
   "name": "python3"
  },
  "language_info": {
   "codemirror_mode": {
    "name": "ipython",
    "version": 3
   },
   "file_extension": ".py",
   "mimetype": "text/x-python",
   "name": "python",
   "nbconvert_exporter": "python",
   "pygments_lexer": "ipython3",
   "version": "3.7.5"
  },
  "toc": {
   "colors": {
    "hover_highlight": "#DAA520",
    "navigate_num": "#000000",
    "navigate_text": "#333333",
    "running_highlight": "#FF0000",
    "selected_highlight": "#FFD700",
    "sidebar_border": "#EEEEEE",
    "wrapper_background": "#FFFFFF"
   },
   "moveMenuLeft": true,
   "nav_menu": {
    "height": "117px",
    "width": "252px"
   },
   "navigate_menu": true,
   "number_sections": true,
   "sideBar": true,
   "threshold": 4,
   "toc_cell": false,
   "toc_section_display": "block",
   "toc_window_display": false,
   "widenNotebook": false
  }
 },
 "nbformat": 4,
 "nbformat_minor": 4
}
