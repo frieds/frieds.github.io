{
 "cells": [
  {
   "cell_type": "markdown",
   "metadata": {},
   "source": [
    "# Iterate Over Sequences Using For and While Loops\n",
    "\n",
    "Date published: 2018-02-18\n",
    "\n",
    "Category: Python\n",
    "\n",
    "Subcategory: Beginner Concepts\n",
    "\n",
    "Tags: lists, loops\n"
   ]
  },
  {
   "cell_type": "markdown",
   "metadata": {},
   "source": [
    "Let's start with a simple list of grocery bills to illustrate these concepts."
   ]
  },
  {
   "cell_type": "code",
   "execution_count": 1,
   "metadata": {
    "collapsed": true,
    "jupyter": {
     "outputs_hidden": true
    }
   },
   "outputs": [],
   "source": [
    "groceries = [\"carrots\", \"soup\", \"spinach\"]"
   ]
  },
  {
   "cell_type": "markdown",
   "metadata": {},
   "source": [
    "We want to use loops in Python to repeat similar tasks."
   ]
  },
  {
   "cell_type": "markdown",
   "metadata": {},
   "source": [
    "### for statements to loop"
   ]
  },
  {
   "cell_type": "markdown",
   "metadata": {},
   "source": [
    "**For** loops allow you to iterate over a sequences (such as a list or string) in the order they appear in the sequence."
   ]
  },
  {
   "cell_type": "code",
   "execution_count": 2,
   "metadata": {
    "collapsed": false,
    "jupyter": {
     "outputs_hidden": false
    }
   },
   "outputs": [
    {
     "name": "stdout",
     "output_type": "stream",
     "text": [
      "carrots\n",
      "soup\n",
      "spinach\n"
     ]
    }
   ],
   "source": [
    "for grocery in groceries:\n",
    "    print(grocery)"
   ]
  },
  {
   "cell_type": "markdown",
   "metadata": {},
   "source": [
    "We're essentially saying for *each* element in the `groceries` list, print *each* element to a new line.\n",
    "\n",
    "A **for** loop has a header that ends with a colon and an indented body below.\n",
    "\n",
    "A **for** statement is called a loop because the flow of execution is through the body, and then back up to the header."
   ]
  },
  {
   "cell_type": "markdown",
   "metadata": {},
   "source": [
    "The loop terminates when we've iterated over all elements of the Python sequence."
   ]
  },
  {
   "cell_type": "markdown",
   "metadata": {},
   "source": [
    "### range() function"
   ]
  },
  {
   "cell_type": "markdown",
   "metadata": {},
   "source": [
    "The `range()` function helps iterate over a sequence of numbers.\n",
    "\n",
    "We can print the numbers from 0 to 3."
   ]
  },
  {
   "cell_type": "code",
   "execution_count": 3,
   "metadata": {
    "collapsed": false,
    "jupyter": {
     "outputs_hidden": false
    }
   },
   "outputs": [
    {
     "name": "stdout",
     "output_type": "stream",
     "text": [
      "0\n",
      "1\n",
      "2\n",
      "3\n"
     ]
    }
   ],
   "source": [
    "for number in range(4):\n",
    "    print(number)"
   ]
  },
  {
   "cell_type": "markdown",
   "metadata": {},
   "source": [
    "`range(4)` generates 4 values; however, we start counting at 0 so we only print up to 3.\n",
    "\n",
    "We can also specify any *start* and *end* value as arguments to the `range()` function."
   ]
  },
  {
   "cell_type": "code",
   "execution_count": 4,
   "metadata": {
    "collapsed": false,
    "jupyter": {
     "outputs_hidden": false
    }
   },
   "outputs": [
    {
     "name": "stdout",
     "output_type": "stream",
     "text": [
      "4\n",
      "5\n"
     ]
    }
   ],
   "source": [
    "for number in range(4, 6):\n",
    "    print(number)"
   ]
  },
  {
   "cell_type": "markdown",
   "metadata": {},
   "source": [
    "A third optional argument could be a *step* - an increment with each iteration from start to end."
   ]
  },
  {
   "cell_type": "code",
   "execution_count": 5,
   "metadata": {
    "collapsed": false,
    "jupyter": {
     "outputs_hidden": false
    }
   },
   "outputs": [
    {
     "name": "stdout",
     "output_type": "stream",
     "text": [
      "4\n",
      "6\n",
      "8\n"
     ]
    }
   ],
   "source": [
    "for even_number in range(4, 9, 2):\n",
    "    print(even_number)"
   ]
  },
  {
   "cell_type": "markdown",
   "metadata": {},
   "source": [
    "Our *step* value of 2 helps us print just even numbers since we start at 4 - an even number."
   ]
  },
  {
   "cell_type": "markdown",
   "metadata": {},
   "source": [
    "### While loop"
   ]
  },
  {
   "cell_type": "markdown",
   "metadata": {},
   "source": [
    "A **while** loop implements repeated code based on a given Boolean condition.\n",
    "\n",
    "The code in the **while** loop will execute as long as the **while** statement evaluates to True.\n",
    "\n",
    "For the last line in the code block below, `number` gets a reassignment **update** to get the *old* value, which starts at 5, and with each loop, update `number` to a new value with an addition of 1. Updating a variable by a positive amount is called an **increment**. Updating by a negative amount is considered a **decrement**."
   ]
  },
  {
   "cell_type": "code",
   "execution_count": 6,
   "metadata": {
    "collapsed": false,
    "jupyter": {
     "outputs_hidden": false
    }
   },
   "outputs": [
    {
     "name": "stdout",
     "output_type": "stream",
     "text": [
      "5\n",
      "6\n",
      "7\n"
     ]
    }
   ],
   "source": [
    "number = 5\n",
    "while number < 8:\n",
    "    print(number)\n",
    "    number += 1  # increments the number value by 1"
   ]
  },
  {
   "cell_type": "markdown",
   "metadata": {},
   "source": [
    "The code executed in the body of the **while** loop three times since 5, 6 and 7 are each smaller than 8.\n",
    "\n",
    "Once our number was equal to 8, then the **while** condition evaluated to False, since 8 is not less than 8, and the execution of the **while** loop ended."
   ]
  }
 ],
 "metadata": {
  "kernelspec": {
   "display_name": "Python 3",
   "language": "python",
   "name": "python3"
  },
  "language_info": {
   "codemirror_mode": {
    "name": "ipython",
    "version": 3
   },
   "file_extension": ".py",
   "mimetype": "text/x-python",
   "name": "python",
   "nbconvert_exporter": "python",
   "pygments_lexer": "ipython3",
   "version": "3.7.5"
  },
  "toc": {
   "colors": {
    "hover_highlight": "#DAA520",
    "navigate_num": "#000000",
    "navigate_text": "#333333",
    "running_highlight": "#FF0000",
    "selected_highlight": "#FFD700",
    "sidebar_border": "#EEEEEE",
    "wrapper_background": "#FFFFFF"
   },
   "moveMenuLeft": true,
   "nav_menu": {
    "height": "189px",
    "width": "252px"
   },
   "navigate_menu": true,
   "number_sections": true,
   "sideBar": true,
   "threshold": 4,
   "toc_cell": false,
   "toc_section_display": "block",
   "toc_window_display": false,
   "widenNotebook": false
  }
 },
 "nbformat": 4,
 "nbformat_minor": 4
}
