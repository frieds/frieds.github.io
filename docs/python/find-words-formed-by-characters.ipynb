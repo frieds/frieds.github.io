{
 "cells": [
  {
   "cell_type": "markdown",
   "metadata": {},
   "source": [
    "# Find Words Formed by Characters (via Leetcode)\n",
    "\n",
    "Date published: 2020-04-13\n",
    "\n",
    "Category: Python\n",
    "\n",
    "Subcategory: Beginner Algorithms\n",
    "\n",
    "Tags: functions, loops, dictionaries\n"
   ]
  },
  {
   "cell_type": "markdown",
   "metadata": {},
   "source": [
    "Problem on <a href=\"https://leetcode.com/problems/find-words-that-can-be-formed-by-characters/\" target=\"_blank\">Leetcode</a>.\n",
    "\n",
    "**Problem statement**:\n",
    "\n",
    "You are provided a list of `words` and random letters in `chars`. You want to find if the letters in `chars` exist in each word in `words` and output a sum of those letters across `words`."
   ]
  },
  {
   "cell_type": "markdown",
   "metadata": {},
   "source": [
    "### Test Cases"
   ]
  },
  {
   "cell_type": "code",
   "execution_count": 3,
   "metadata": {},
   "outputs": [],
   "source": [
    "# assert find_words_formed_by_characters(words=[\"cat\", \"bt\", \"hat\", \"tree\"], chars=\"atach\") == 6"
   ]
  },
  {
   "cell_type": "markdown",
   "metadata": {},
   "source": [
    "`\"cat\"` and `\"hat\"` exist in `chars`. The count of letters is 3 and 3 respectively and the sum of those is 6."
   ]
  },
  {
   "cell_type": "code",
   "execution_count": 4,
   "metadata": {},
   "outputs": [],
   "source": [
    "# assert find_words_formed_by_characters(words=['hi', 'help', 'hello'], chars='hlope') == 4"
   ]
  },
  {
   "cell_type": "markdown",
   "metadata": {},
   "source": [
    "`\"help\"` exists in `chars`. The count of letters in `\"help\"` is 4."
   ]
  },
  {
   "cell_type": "markdown",
   "metadata": {},
   "source": [
    "### Pseudocode"
   ]
  },
  {
   "cell_type": "code",
   "execution_count": 5,
   "metadata": {},
   "outputs": [],
   "source": [
    "# create function with arguments for words and chars\n",
    "    # assign characters_good_words_sum to 0 \n",
    "    # this will our running total of count of characters in words that are in chars...\n",
    "\n",
    "    # for word in words:\n",
    "        # we want to reset our dictionary to keep track of unique occurences of letters in chars\n",
    "        # cast chars to a dict to be a count of unique letters...\n",
    "        # chars_default_dict = defaultdict(int)\n",
    "        # for char in chars:\n",
    "            # chars_default_dict[char] += 1\n",
    "        # set a boolean variable to True to mark all letters in word found in chars\n",
    "        \n",
    "        # for each index and letter in enumerate(word):\n",
    "            # if letter in chars_default_dict_update:\n",
    "                # if value at chars_default_dict_update[letter] is greater than 1:\n",
    "                    # reduce value by 1\n",
    "                # else:\n",
    "                    # delete key from chars_default_dict_update\n",
    "            # else:\n",
    "                # letter wasn't found in chars_default_dict_update...\n",
    "                # we want to advance to next word...\n",
    "                # set boolean to False\n",
    "                # break\n",
    "\n",
    "        # if boolean value is True:\n",
    "            # this means we reached last index in iteration and all letters in word in chars...\n",
    "            # find count of word and append to characters_good_words_sum\n",
    "\n",
    "    # return characters_good_words_sum"
   ]
  },
  {
   "cell_type": "markdown",
   "metadata": {},
   "source": [
    "### Code"
   ]
  },
  {
   "cell_type": "code",
   "execution_count": 6,
   "metadata": {},
   "outputs": [],
   "source": [
    "from collections import defaultdict\n",
    "\n",
    "def find_words_formed_by_characters(words, chars):        \n",
    "    characters_good_words_sum = 0\n",
    "    for word in words:\n",
    "        chars_default_dict = defaultdict(int)\n",
    "        for char in chars:\n",
    "            chars_default_dict[char] += 1\n",
    "        all_letters_in_word_found_in_chars = True\n",
    "    \n",
    "        for index, letter in enumerate(word):\n",
    "            if letter in chars_default_dict:\n",
    "                if chars_default_dict[letter] > 1:\n",
    "                    chars_default_dict[letter] -= 1\n",
    "                else:\n",
    "                    del chars_default_dict[letter]\n",
    "            else:\n",
    "                all_letters_in_word_found_in_chars = False\n",
    "                break\n",
    "        if all_letters_in_word_found_in_chars is True:\n",
    "            characters_good_words_sum += len(word)\n",
    "    return characters_good_words_sum"
   ]
  },
  {
   "cell_type": "markdown",
   "metadata": {},
   "source": [
    "### Complexity"
   ]
  },
  {
   "cell_type": "markdown",
   "metadata": {},
   "source": [
    "Let `n` be the count of items in `words`, `m` be the max length of characters in an item in `words`, and `b` be the length of characters in `chars`.\n",
    "\n",
    "**Time complexity**:\n",
    "\n",
    "- O(b) operation to iterate over each characters in `chars`\n",
    "- An iteration over each word in `words` and then each letter in the word is O(nm)\n",
    "\n",
    "Time complexity is O(nmb).\n",
    "\n",
    "**Space complexity**:\n",
    "\n",
    "- O(bm) complexity for size of `chars_default_dict` created `m` time for each word in `words`.\n",
    "\n",
    "Space complexity is O(bm)."
   ]
  },
  {
   "cell_type": "markdown",
   "metadata": {},
   "source": [
    "### Run Test Cases"
   ]
  },
  {
   "cell_type": "code",
   "execution_count": 7,
   "metadata": {},
   "outputs": [],
   "source": [
    "assert find_words_formed_by_characters(words=[\"cat\", \"bt\", \"hat\", \"tree\"], chars=\"atach\") == 6"
   ]
  },
  {
   "cell_type": "code",
   "execution_count": 8,
   "metadata": {},
   "outputs": [],
   "source": [
    "assert find_words_formed_by_characters(words=['hi', 'help', 'hello'], chars='hlope') == 4"
   ]
  }
 ],
 "metadata": {
  "kernelspec": {
   "display_name": "Python 3",
   "language": "python",
   "name": "python3"
  },
  "language_info": {
   "codemirror_mode": {
    "name": "ipython",
    "version": 3
   },
   "file_extension": ".py",
   "mimetype": "text/x-python",
   "name": "python",
   "nbconvert_exporter": "python",
   "pygments_lexer": "ipython3",
   "version": "3.7.5"
  }
 },
 "nbformat": 4,
 "nbformat_minor": 4
}
