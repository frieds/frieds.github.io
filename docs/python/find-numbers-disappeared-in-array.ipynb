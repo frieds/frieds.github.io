{
 "cells": [
  {
   "cell_type": "markdown",
   "metadata": {},
   "source": [
    "# Find All Numbers Disappeared in an Array (via Leetcode)\n",
    "\n",
    "Date published: 2020-03-28\n",
    "\n",
    "Category: Python\n",
    "\n",
    "Subcategory: Beginner Algorithms\n",
    "\n",
    "Tags: functions, loops, sets\n"
   ]
  },
  {
   "cell_type": "markdown",
   "metadata": {},
   "source": [
    "**Problem setup**"
   ]
  },
  {
   "cell_type": "markdown",
   "metadata": {},
   "source": [
    "This problem is on <a href=\"https://leetcode.com/problems/find-all-numbers-disappeared-in-an-array/\" target=\"_blank\">Leetcode</a>.\n",
    "\n",
    "Given an array of integers where 1 ≤ a[i] ≤ n (n = size of array), some elements appear twice and others appear once.\n",
    "\n",
    "Find all the elements of [1, n] inclusive that do not appear in this array."
   ]
  },
  {
   "cell_type": "markdown",
   "metadata": {},
   "source": [
    "### Test Cases"
   ]
  },
  {
   "cell_type": "code",
   "execution_count": 28,
   "metadata": {},
   "outputs": [],
   "source": [
    "# assert find_disappeared_numbers_in_array([1, 3, 4, 3]) == [2]"
   ]
  },
  {
   "cell_type": "markdown",
   "metadata": {},
   "source": [
    "In this test case, the size of the array is 4, assigned to `n`. All elements of `[1, n]` would be `[1, 2, 3, 4]`. However, the input list does not contain `2`. Therefore, this test case should return 2."
   ]
  },
  {
   "cell_type": "code",
   "execution_count": 29,
   "metadata": {},
   "outputs": [],
   "source": [
    "# assert find_disappeared_numbers_in_array([5, 6, 1, 5, 6, 1]) == [2, 3, 4]"
   ]
  },
  {
   "cell_type": "markdown",
   "metadata": {},
   "source": [
    "In this test case, the the size of the array is 6. All elements of `[1, n]` would be `[1, 2, 3, 4, 5, 6]`. However, the array doesn't contain `[2, 3, 4]` and so our function should return that."
   ]
  },
  {
   "cell_type": "markdown",
   "metadata": {},
   "source": [
    "### Pseudocode"
   ]
  },
  {
   "cell_type": "code",
   "execution_count": 30,
   "metadata": {},
   "outputs": [],
   "source": [
    "# build a python set of all numbers from i to n with n being the size of the array. \n",
    "\n",
    "# iterate over input list\n",
    "    # if item in set:\n",
    "        # pop item out of set\n",
    "\n",
    "# return: convert set to a list"
   ]
  },
  {
   "cell_type": "markdown",
   "metadata": {},
   "source": [
    "**Explanation of space and time complexity**:\n",
    "\n",
    "Let `n` be the number of elements in the input list assigned to the variable `nums`.\n",
    "\n",
    "I iterate over `n` and therefore it's an O(n) time complexity. There a is another O(1) check for membership in the set that is done O(n) times. Total time complexity is O(2n). The 2 is negligent so most people say this is just O(n) time complexity.\n",
    "\n",
    "I initially create a Python set of values from 1 to the value of `n`. Therefore, this is an O(n) space complexity.\n",
    "\n",
    "Here is a <a href=\"https://wiki.python.org/moin/TimeComplexity\" target=\"_blank\">great resource</a> on time complexity operations in Python."
   ]
  },
  {
   "cell_type": "markdown",
   "metadata": {},
   "source": [
    "### Code"
   ]
  },
  {
   "cell_type": "code",
   "execution_count": 31,
   "metadata": {},
   "outputs": [],
   "source": [
    "def find_disappeared_numbers_in_array(nums):\n",
    "    length_nums = len(nums)\n",
    "    all_numbers_set = set(range(1, length_nums + 1))\n",
    "\n",
    "    for num in nums:\n",
    "        if num in all_numbers_set:\n",
    "            all_numbers_set.remove(num)\n",
    "\n",
    "    return list(all_numbers_set)"
   ]
  },
  {
   "cell_type": "markdown",
   "metadata": {},
   "source": [
    "### Verify Test Cases"
   ]
  },
  {
   "cell_type": "code",
   "execution_count": 32,
   "metadata": {},
   "outputs": [],
   "source": [
    "assert find_disappeared_numbers_in_array([1, 3, 4, 3]) == [2]"
   ]
  },
  {
   "cell_type": "code",
   "execution_count": 33,
   "metadata": {},
   "outputs": [],
   "source": [
    "assert find_disappeared_numbers_in_array([5, 6, 1, 5, 6, 1]) == [2, 3, 4]"
   ]
  }
 ],
 "metadata": {
  "kernelspec": {
   "display_name": "Python 3",
   "language": "python",
   "name": "python3"
  },
  "language_info": {
   "codemirror_mode": {
    "name": "ipython",
    "version": 3
   },
   "file_extension": ".py",
   "mimetype": "text/x-python",
   "name": "python",
   "nbconvert_exporter": "python",
   "pygments_lexer": "ipython3",
   "version": "3.7.5"
  }
 },
 "nbformat": 4,
 "nbformat_minor": 4
}
