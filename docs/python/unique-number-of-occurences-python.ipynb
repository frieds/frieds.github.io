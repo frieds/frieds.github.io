{
 "cells": [
  {
   "cell_type": "markdown",
   "metadata": {},
   "source": [
    "# Unique Number of Occurences (via Leetcode)\n",
    "\n",
    "Date published: 2020-03-25\n",
    "\n",
    "Category: Python\n",
    "\n",
    "Subcategory: Beginner Algorithms\n",
    "\n",
    "Tags: functions, loops, dictionaries\n"
   ]
  },
  {
   "cell_type": "markdown",
   "metadata": {},
   "source": [
    "#### Problem Setup"
   ]
  },
  {
   "cell_type": "markdown",
   "metadata": {},
   "source": [
    "This problem ws found on <a href=\"https://leetcode.com/problems/unique-number-of-occurrences/\" target=\"_blank\">Leetcode</a>.\n",
    "\n",
    "Given an array of integers `arr`, write a function that returns true if and only if the number of occurrences of each value in the array is unique."
   ]
  },
  {
   "cell_type": "markdown",
   "metadata": {},
   "source": [
    "#### Test Cases"
   ]
  },
  {
   "cell_type": "markdown",
   "metadata": {},
   "source": [
    "In this first test case, there's 3 occurences of `1`, 2 occurences of `2`, and 1 occurence of `3`. Note how 3, 2, and 1 are all different from one another. Therefore, this test case should return `True`."
   ]
  },
  {
   "cell_type": "code",
   "execution_count": null,
   "metadata": {},
   "outputs": [],
   "source": [
    "# assert unique_occurences(arr=[1, 2, 2, 1, 1, 3]) == True"
   ]
  },
  {
   "cell_type": "markdown",
   "metadata": {},
   "source": [
    "In this test case, there's 1 occurence of `1` and 1 occurence of `2`. These count of occurences of each unique value are 1; therfore this test case should return `False`."
   ]
  },
  {
   "cell_type": "code",
   "execution_count": null,
   "metadata": {},
   "outputs": [],
   "source": [
    "# assert unique_occurences(arr=[1, 2]) == False"
   ]
  },
  {
   "cell_type": "markdown",
   "metadata": {},
   "source": [
    "### Pseudocode"
   ]
  },
  {
   "cell_type": "markdown",
   "metadata": {},
   "source": [
    "`n` is the length of items in `arr`.\n",
    "\n",
    "The pseudocode below stores a dictionary with a worst case scenario having `n` keys. Therefore, this dictionary is an O(n) space complexity.\n",
    "\n",
    "The set created below can also have up to `n` elements and is therefore O(n) space complexity too.\n",
    "\n",
    "Therefore, total space complexity is O(2n) but the 2 is negligible relative to the size of `n` so the total space complexity is just O(n).\n",
    "\n",
    "I also perform two iterations - one over all elements in `arr` and another over each element in the dictionary. Therefore, exact time complexity is O(2n). Once again, the 2 is negligible relative to the size of `n` so the total time complexity is just O(n)."
   ]
  },
  {
   "cell_type": "code",
   "execution_count": null,
   "metadata": {},
   "outputs": [],
   "source": [
    "# create empty dictionary to keep track of count of unique occurences of each element in arr\n",
    "\n",
    "# iterate over each element in arr\n",
    "    # if element is not a key in dictionary:\n",
    "        # access value element in dict and assign value of 1\n",
    "    # if element is a key in dictionary:\n",
    "        # access value in dict and increment by 1\n",
    "\n",
    "# need to see if the count of occurences of any of the elements are the same...\n",
    "# as we do iteration, we want to return false if we find values among two key-value pairs are the same...\n",
    "\n",
    "# create an empty set\n",
    "\n",
    "# iterate over each key-value pair in dict:\n",
    "    # if value exists in set:\n",
    "        # return False\n",
    "    # else:\n",
    "        # access value and add it to the set\n",
    "        \n",
    "# we've reached iteration and have not returned False, so all count of occurences are unique...\n",
    "# return True"
   ]
  },
  {
   "cell_type": "markdown",
   "metadata": {},
   "source": [
    "### Code"
   ]
  },
  {
   "cell_type": "code",
   "execution_count": 6,
   "metadata": {},
   "outputs": [],
   "source": [
    "def unique_occurences(arr):\n",
    "    dict_count_unique_occurrences = {}\n",
    "\n",
    "    for element in arr:\n",
    "        if element not in dict_count_unique_occurrences:\n",
    "            dict_count_unique_occurrences[element] = 1\n",
    "        else:\n",
    "            dict_count_unique_occurrences[element] += 1\n",
    "\n",
    "    set_count_unique_occurences = set()\n",
    "\n",
    "    for key in dict_count_unique_occurrences:\n",
    "        the_count = dict_count_unique_occurrences[key]\n",
    "        if the_count in set_count_unique_occurences:\n",
    "            return False\n",
    "        else:\n",
    "            set_count_unique_occurences.add(the_count)\n",
    "\n",
    "    return True"
   ]
  },
  {
   "cell_type": "markdown",
   "metadata": {},
   "source": [
    "Let's evaluate the two test cases to ensure they pass."
   ]
  },
  {
   "cell_type": "code",
   "execution_count": 7,
   "metadata": {},
   "outputs": [],
   "source": [
    "assert unique_occurences(arr=[1, 2, 2, 1, 1, 3]) == True\n",
    "assert unique_occurences(arr=[1, 2]) == False"
   ]
  },
  {
   "cell_type": "markdown",
   "metadata": {},
   "source": [
    "In alternative to my use of a Python dictionary above, you can use a Python <a href=\"https://docs.python.org/2/library/collections.html#collections.defaultdict\" target=\"_blank\">defaultdict</a>."
   ]
  }
 ],
 "metadata": {
  "kernelspec": {
   "display_name": "Python 3",
   "language": "python",
   "name": "python3"
  },
  "language_info": {
   "codemirror_mode": {
    "name": "ipython",
    "version": 3
   },
   "file_extension": ".py",
   "mimetype": "text/x-python",
   "name": "python",
   "nbconvert_exporter": "python",
   "pygments_lexer": "ipython3",
   "version": "3.7.5"
  }
 },
 "nbformat": 4,
 "nbformat_minor": 4
}
