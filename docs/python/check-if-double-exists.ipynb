{
 "cells": [
  {
   "cell_type": "markdown",
   "metadata": {},
   "source": [
    "# Check if Double of Value Exists (via Leetcode)\n",
    "\n",
    "Date published: 2020-04-12\n",
    "\n",
    "Category: Python\n",
    "\n",
    "Subcategory: Beginner Algorithms\n",
    "\n",
    "Tags: functions, loops, sets\n"
   ]
  },
  {
   "cell_type": "markdown",
   "metadata": {},
   "source": [
    "This problem can be found on <a href=\"https://leetcode.com/problems/check-if-n-and-its-double-exist/\" target=\"_blank\">Leetcode</a>.\n",
    "\n",
    "**Problem statement**:\n",
    "\n",
    "Given a list of integers, check if an integer in the list called `M` has a value that's exactly double of a different integer `N` in the list. "
   ]
  },
  {
   "cell_type": "markdown",
   "metadata": {},
   "source": [
    "### Test Cases"
   ]
  },
  {
   "cell_type": "code",
   "execution_count": 4,
   "metadata": {},
   "outputs": [],
   "source": [
    "# assert check_if_double_exists([10, 1, 3, 6]) == True"
   ]
  },
  {
   "cell_type": "markdown",
   "metadata": {},
   "source": [
    "In the list, `6` is twice the value of `3` so return `True`."
   ]
  },
  {
   "cell_type": "code",
   "execution_count": 5,
   "metadata": {},
   "outputs": [],
   "source": [
    "# assert check_if_double_exists([8, 5, 3]) == False"
   ]
  },
  {
   "cell_type": "markdown",
   "metadata": {},
   "source": [
    "In the list, no value is twice the value of another one."
   ]
  },
  {
   "cell_type": "markdown",
   "metadata": {},
   "source": [
    "### Pseudocode"
   ]
  },
  {
   "cell_type": "code",
   "execution_count": 6,
   "metadata": {},
   "outputs": [],
   "source": [
    "# create a function that takes as an input a list of integers\n",
    "\n",
    "    # keep track of items iterated over in a set to allow for O(1) comparison lookups\n",
    "    # assign covered_items_set to be empty set\n",
    "    # iterate over items in input list:\n",
    "        # if item*2 in set or item/2 in set:\n",
    "            # return True\n",
    "        # else:\n",
    "            # add item to set\n",
    "    # finished iteration and coudn't find a double or half equivalent value...\n",
    "    # return False"
   ]
  },
  {
   "cell_type": "markdown",
   "metadata": {},
   "source": [
    "### Code"
   ]
  },
  {
   "cell_type": "code",
   "execution_count": 9,
   "metadata": {},
   "outputs": [],
   "source": [
    "def check_if_double_exists(integers_list):\n",
    "    covered_items_set = set()\n",
    "    for number in integers_list:\n",
    "        if number*2 in covered_items_set or number/2 in covered_items_set:\n",
    "            return True\n",
    "        else:\n",
    "            covered_items_set.add(number)\n",
    "    return False"
   ]
  },
  {
   "cell_type": "markdown",
   "metadata": {},
   "source": [
    "### Complexity"
   ]
  },
  {
   "cell_type": "markdown",
   "metadata": {},
   "source": [
    "Let `n` be the count of items in the input list.\n",
    "\n",
    "**Time complexity** is O(n) because at worst case, there's a single iteration over all values in the integer list.\n",
    "\n",
    "**Space complexity** is O(n) because at worst case, all values in the integer list are added to a set of `n` length."
   ]
  },
  {
   "cell_type": "markdown",
   "metadata": {},
   "source": [
    "### Verify Code with Test Cases"
   ]
  },
  {
   "cell_type": "code",
   "execution_count": 10,
   "metadata": {},
   "outputs": [],
   "source": [
    "assert check_if_double_exists([10, 1, 3, 6]) == True"
   ]
  },
  {
   "cell_type": "code",
   "execution_count": 11,
   "metadata": {},
   "outputs": [],
   "source": [
    "assert check_if_double_exists([8, 5, 3]) == False"
   ]
  }
 ],
 "metadata": {
  "kernelspec": {
   "display_name": "Python 3 (ipykernel)",
   "language": "python",
   "name": "python3"
  },
  "language_info": {
   "codemirror_mode": {
    "name": "ipython",
    "version": 3
   },
   "file_extension": ".py",
   "mimetype": "text/x-python",
   "name": "python",
   "nbconvert_exporter": "python",
   "pygments_lexer": "ipython3",
   "version": "3.11.2"
  }
 },
 "nbformat": 4,
 "nbformat_minor": 4
}
