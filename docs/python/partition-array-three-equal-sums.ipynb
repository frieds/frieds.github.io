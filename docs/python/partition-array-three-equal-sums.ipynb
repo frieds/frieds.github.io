{
 "cells": [
  {
   "cell_type": "markdown",
   "metadata": {},
   "source": [
    "# Partition Array Into Three Parts With Equal Sum (via Leetcode)\n",
    "\n",
    "Date published: 2020-04-17\n",
    "\n",
    "Category: Python\n",
    "\n",
    "Subcategory: Beginner Algorithms\n",
    "\n",
    "Tags: functions, loops\n"
   ]
  },
  {
   "cell_type": "markdown",
   "metadata": {},
   "source": [
    "Problem can be found on <a href=\"https://leetcode.com/problems/partition-array-into-three-parts-with-equal-sum/\" target=\"_blank\">Leetcode</a>.\n",
    "\n",
    "**Problem statement:**\n",
    "\n",
    "Given an array of integers, return `True` if and only if we can partition the array into *at least* three non-empty parts with equal sums. Otherwise, return `False`."
   ]
  },
  {
   "cell_type": "markdown",
   "metadata": {},
   "source": [
    "### Test Cases"
   ]
  },
  {
   "cell_type": "code",
   "execution_count": 244,
   "metadata": {},
   "outputs": [],
   "source": [
    "# assert three_equal_sum_partitions([10, -10, 10, -10, 10, -10, 10, -10]) == True"
   ]
  },
  {
   "cell_type": "markdown",
   "metadata": {},
   "source": [
    "The total sum is 0. One third of 0 is still 0. This test case evaluates to `True` so each partition must have a sum of 0.\n",
    "\n",
    "- Partition 1 is `[10, -10]`\n",
    "- Partition 2 is `[10, -10]`\n",
    "- Partition 3 is `[10, -10]`\n",
    "\n",
    "It doesn't matter that there's a 4th partition of `[10, -10]` that has a sum of 0."
   ]
  },
  {
   "cell_type": "code",
   "execution_count": 245,
   "metadata": {},
   "outputs": [],
   "source": [
    "# assert three_equal_sum_partitions([0, 2, 1, -6, 6, -7, 9, 1, 2, 0, 1]) == True"
   ]
  },
  {
   "cell_type": "markdown",
   "metadata": {},
   "source": [
    "The total sum is 9. One third of 9 is 3. This test case evaluates to `True` so each partition must have a sum of 3.\n",
    "\n",
    "- Partition 1 is `[0, 2, 1]`\n",
    "- Partition 2 is `[-6, 6, -7, 9, 1]`\n",
    "- Partition 3 is `[2, 0, 1]`"
   ]
  },
  {
   "cell_type": "code",
   "execution_count": 246,
   "metadata": {},
   "outputs": [],
   "source": [
    "# assert three_equal_sum_partitions([0,2,1,-6,6,7,9,-1,2,0,1]) == False"
   ]
  },
  {
   "cell_type": "markdown",
   "metadata": {},
   "source": [
    "The total sum is 21. One third of 21 is 7. However, this test case evalutes to `False` because there are not three partitions with a sum of 7."
   ]
  },
  {
   "cell_type": "markdown",
   "metadata": {},
   "source": [
    "### Pseudocode"
   ]
  },
  {
   "cell_type": "code",
   "execution_count": 243,
   "metadata": {},
   "outputs": [],
   "source": [
    "# create a function with an argument for a list of integers\n",
    "    # assign a variable to be one third of sum of list of integers\n",
    "    # assign variable partition_sum to be 0\n",
    "    # assign a count for the number of partitions that equal exactly one third total sum of integers list\n",
    "    \n",
    "    # iterate through all indices in integer list\n",
    "        # increment partition_sum by value in in integer list at this index\n",
    "        # if partition_sum is equal to one third of total sum:\n",
    "            # increase count by 1\n",
    "            # if count is equal to 3:\n",
    "                # we've satisfied constraints of *at least* 3...\n",
    "                # return True\n",
    "            # reset partition_sum to 0 \n",
    "    # finished iteration and didn't find three equal sums...\n",
    "    # return False"
   ]
  },
  {
   "cell_type": "markdown",
   "metadata": {},
   "source": [
    "### Code"
   ]
  },
  {
   "cell_type": "code",
   "execution_count": 248,
   "metadata": {},
   "outputs": [],
   "source": [
    "def three_equal_sum_partitions(integers_list):\n",
    "    one_third_total_sum = sum(integers_list)/3    \n",
    "    partition_sum = 0\n",
    "    count_one_third_sum_partitions = 0\n",
    "    \n",
    "    for i in range(0, len(integers_list)):\n",
    "        partition_sum += integers_list[i]\n",
    "        if partition_sum == one_third_total_sum:\n",
    "            count_one_third_sum_partitions += 1\n",
    "            if count_one_third_sum_partitions == 3:\n",
    "                return True\n",
    "            partition_sum = 0                    \n",
    "    return False"
   ]
  },
  {
   "cell_type": "markdown",
   "metadata": {},
   "source": [
    "### Complexity"
   ]
  },
  {
   "cell_type": "markdown",
   "metadata": {},
   "source": [
    "Let `n` be the count of values in `integers_list`.\n",
    "\n",
    "**Time complexity**:\n",
    "\n",
    "- Calculation of sum of `integers_list` requires iteration over all values in `integers_list` so it's an O(n) operation.\n",
    "- At worst case, there must be an iteration over all index values in `integers_list` which is an O(n) operation.\n",
    "\n",
    "Total time complexity is O(2n). However, the 2 is minimal and can be removed. Final time complexity is O(n).\n",
    "\n",
    "**Space complexity**:\n",
    "\n",
    "Only a few variables are created for O(1) operations which is minor so it's essentially zero."
   ]
  },
  {
   "cell_type": "markdown",
   "metadata": {},
   "source": [
    "### Validate Code with Test Cases"
   ]
  },
  {
   "cell_type": "code",
   "execution_count": 249,
   "metadata": {},
   "outputs": [],
   "source": [
    "assert three_equal_sum_partitions([10,-10,10,-10,10,-10,10,-10]) == True"
   ]
  },
  {
   "cell_type": "code",
   "execution_count": 250,
   "metadata": {},
   "outputs": [],
   "source": [
    "assert three_equal_sum_partitions([0,2,1,-6,6,-7,9,1,2,0,1]) == True"
   ]
  },
  {
   "cell_type": "code",
   "execution_count": 251,
   "metadata": {},
   "outputs": [],
   "source": [
    "assert three_equal_sum_partitions([0,2,1,-6,6,7,9,-1,2,0,1]) == False"
   ]
  },
  {
   "cell_type": "code",
   "execution_count": 252,
   "metadata": {},
   "outputs": [],
   "source": [
    "assert three_equal_sum_partitions([3,3,6,5,-2,2,5,1,-9,4]) == True"
   ]
  }
 ],
 "metadata": {
  "kernelspec": {
   "display_name": "Python 3",
   "language": "python",
   "name": "python3"
  },
  "language_info": {
   "codemirror_mode": {
    "name": "ipython",
    "version": 3
   },
   "file_extension": ".py",
   "mimetype": "text/x-python",
   "name": "python",
   "nbconvert_exporter": "python",
   "pygments_lexer": "ipython3",
   "version": "3.7.5"
  }
 },
 "nbformat": 4,
 "nbformat_minor": 4
}
