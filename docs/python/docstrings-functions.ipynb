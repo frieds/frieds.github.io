{
 "cells": [
  {
   "cell_type": "markdown",
   "metadata": {},
   "source": [
    "# Docstrings Best Practices in Functions\n",
    "\n",
    "Date published: 2018-02-19\n",
    "\n",
    "Category: Python\n",
    "\n",
    "Subcategory: Beginner Concepts\n",
    "\n",
    "Tags: documentation, functions, dictionaries, loops, lists\n"
   ]
  },
  {
   "cell_type": "markdown",
   "metadata": {},
   "source": [
    "A **docstring** is a documentation string at the beginning of the class, function or function body that briefly explains how it works. \n",
    "\n",
    "Every function you create ought to have a **docstring**. They're in triple-quoted strings and allow for multi-line text."
   ]
  },
  {
   "cell_type": "markdown",
   "metadata": {},
   "source": [
    "#### Why Docstrings Are So Important"
   ]
  },
  {
   "cell_type": "markdown",
   "metadata": {},
   "source": [
    "As a programmer, you'll likely spend a significant amount of time reading and trying to understand documentation and others' code than writing your own code on a greenfield project. You'll struggle to understand variable names, method operations and how functions work. It can be frustrating. How do you remedy this? \n",
    "\n",
    "Document your code well with docstrings!  "
   ]
  },
  {
   "cell_type": "markdown",
   "metadata": {},
   "source": [
    "### 3 Ways to Write Docstrings"
   ]
  },
  {
   "cell_type": "markdown",
   "metadata": {},
   "source": [
    "I'll illustrate 3 acceptable ways go write docstrings given the complexity of your code. In these 3 ways, I'll use simple examples."
   ]
  },
  {
   "cell_type": "markdown",
   "metadata": {},
   "source": [
    "#### Docstring Method #1\n",
    "\n",
    "This docstring is a short one-line docstring meant for minimal complexity functions."
   ]
  },
  {
   "cell_type": "code",
   "execution_count": 1,
   "metadata": {},
   "outputs": [],
   "source": [
    "def multiply_all_numbers(list_of_items):\n",
    "    \"\"\"multiply all numbers by one another and return product\"\"\"\n",
    "    multiplication_product = 1\n",
    "    for item in list_of_items:\n",
    "        multiplication_product *= item\n",
    "    return multiplication_product"
   ]
  },
  {
   "cell_type": "markdown",
   "metadata": {},
   "source": [
    "#### Docstring Method #2\n",
    "\n",
    "This docstring is the most common method and can be used for a function with any level of complexity."
   ]
  },
  {
   "cell_type": "code",
   "execution_count": 7,
   "metadata": {},
   "outputs": [],
   "source": [
    "from collections import defaultdict\n",
    "\n",
    "def count_occurences_items(list_of_items):\n",
    "    \"\"\"Given a list of items, count the occurences of each item in key-value pairs in a defaultdict.\n",
    "\n",
    "    :param list_of_item: list of items    \n",
    "    :return count_item_occurences: defaultdict of keys of item names and values being count of occurences in input list\n",
    "    \"\"\"\n",
    "    count_item_occurences = defaultdict(int)\n",
    "    for item in list_of_items:\n",
    "        count_item_occurences[item] += 1\n",
    "    return count_item_occurences"
   ]
  },
  {
   "cell_type": "markdown",
   "metadata": {},
   "source": [
    "#### Docstring Method #3"
   ]
  },
  {
   "cell_type": "markdown",
   "metadata": {},
   "source": [
    "Below I use a form of docstrings I first noticed built into the <a href=\"https://www.jetbrains.com/help/pycharm/using-docstrings-to-specify-types.html\" target=\"_blank\">PyCharm (by Jetbrains) IDE</a>. This is the most detailed version that I would especially recommend for complex functions."
   ]
  },
  {
   "cell_type": "code",
   "execution_count": 6,
   "metadata": {},
   "outputs": [],
   "source": [
    "def count_occurences_items(list_of_items):\n",
    "    \"\"\"Given a list of items, count the occurences of each item in key-value pairs in a defaultdict.\n",
    "\n",
    "    :param list_of_item: list of items\n",
    "    :type list_of_item: list\n",
    "    \n",
    "    :return count_item_occurences: keys of item names and values being count of occurences in input list\n",
    "    :type count_item_occurences: defaultdict\n",
    "    \"\"\"\n",
    "    count_item_occurences = defaultdict(int)\n",
    "    for item in list_of_items:\n",
    "        count_item_occurences[item] += 1\n",
    "    return count_item_occurences"
   ]
  },
  {
   "cell_type": "markdown",
   "metadata": {},
   "source": [
    "More details on using docstrings in Python on the <a href=\"https://www.python.org/dev/peps/pep-0257/\" target=\"_blank\">official documentation page</a>."
   ]
  }
 ],
 "metadata": {
  "kernelspec": {
   "display_name": "Python 3",
   "language": "python",
   "name": "python3"
  },
  "language_info": {
   "codemirror_mode": {
    "name": "ipython",
    "version": 3
   },
   "file_extension": ".py",
   "mimetype": "text/x-python",
   "name": "python",
   "nbconvert_exporter": "python",
   "pygments_lexer": "ipython3",
   "version": "3.7.5"
  },
  "toc": {
   "colors": {
    "hover_highlight": "#DAA520",
    "navigate_num": "#000000",
    "navigate_text": "#333333",
    "running_highlight": "#FF0000",
    "selected_highlight": "#FFD700",
    "sidebar_border": "#EEEEEE",
    "wrapper_background": "#FFFFFF"
   },
   "moveMenuLeft": true,
   "nav_menu": {
    "height": "189px",
    "width": "252px"
   },
   "navigate_menu": true,
   "number_sections": true,
   "sideBar": true,
   "threshold": 4,
   "toc_cell": false,
   "toc_section_display": "block",
   "toc_window_display": false,
   "widenNotebook": false
  }
 },
 "nbformat": 4,
 "nbformat_minor": 4
}
