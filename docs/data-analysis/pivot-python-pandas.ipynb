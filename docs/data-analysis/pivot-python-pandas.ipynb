{
 "cells": [
  {
   "cell_type": "markdown",
   "metadata": {},
   "source": [
    "# pivot() Method: Pivot DataFrame Without Aggregation Operation\n",
    "\n",
    "Date published: 2018-11-24\n",
    "\n",
    "Category: Data Analysis\n",
    "\n",
    "Subcategory: Data Wrangling\n",
    "\n",
    "Tags: pivot, python, pandas\n"
   ]
  },
  {
   "cell_type": "markdown",
   "metadata": {},
   "source": [
    "In pandas, we can pivot our DataFrame without applying an aggregate operation. This pivot is helpful to see our data in a different way - often turning a format with many rows that would require scrolling into a new format with fewer rows but perhaps more columns."
   ]
  },
  {
   "cell_type": "markdown",
   "metadata": {},
   "source": [
    "### Import Module"
   ]
  },
  {
   "cell_type": "code",
   "execution_count": 48,
   "metadata": {},
   "outputs": [],
   "source": [
    "import pandas as pd"
   ]
  },
  {
   "cell_type": "markdown",
   "metadata": {},
   "source": [
    "### Example: Pivot Tesla Car Acceleration Details"
   ]
  },
  {
   "cell_type": "markdown",
   "metadata": {},
   "source": [
    "Here is fictional acceleration tests for three popular Tesla car models. In order to verify acceleration of the cars, I figured a third-party may make three *runs* to test the three models alongside one another."
   ]
  },
  {
   "cell_type": "code",
   "execution_count": 49,
   "metadata": {},
   "outputs": [
    {
     "data": {
      "text/html": [
       "<div>\n",
       "<style scoped>\n",
       "    .dataframe tbody tr th:only-of-type {\n",
       "        vertical-align: middle;\n",
       "    }\n",
       "\n",
       "    .dataframe tbody tr th {\n",
       "        vertical-align: top;\n",
       "    }\n",
       "\n",
       "    .dataframe thead th {\n",
       "        text-align: right;\n",
       "    }\n",
       "</style>\n",
       "<table border=\"1\" class=\"dataframe\">\n",
       "  <thead>\n",
       "    <tr style=\"text-align: right;\">\n",
       "      <th></th>\n",
       "      <th>car_model</th>\n",
       "      <th>date</th>\n",
       "      <th>0-60mph_in_seconds</th>\n",
       "    </tr>\n",
       "  </thead>\n",
       "  <tbody>\n",
       "    <tr>\n",
       "      <th>0</th>\n",
       "      <td>Tesla Model S P100D</td>\n",
       "      <td>Sept 1 9am</td>\n",
       "      <td>2.50</td>\n",
       "    </tr>\n",
       "    <tr>\n",
       "      <th>1</th>\n",
       "      <td>Tesla Model X P100D</td>\n",
       "      <td>Sept 1 9am</td>\n",
       "      <td>2.92</td>\n",
       "    </tr>\n",
       "    <tr>\n",
       "      <th>2</th>\n",
       "      <td>Tesla Model 3 AWD Dual Motor</td>\n",
       "      <td>Sept 1 9am</td>\n",
       "      <td>3.33</td>\n",
       "    </tr>\n",
       "    <tr>\n",
       "      <th>3</th>\n",
       "      <td>Tesla Model S P100D</td>\n",
       "      <td>Sept 1 10am</td>\n",
       "      <td>2.51</td>\n",
       "    </tr>\n",
       "    <tr>\n",
       "      <th>4</th>\n",
       "      <td>Tesla Model X P100D</td>\n",
       "      <td>Sept 1 10am</td>\n",
       "      <td>2.91</td>\n",
       "    </tr>\n",
       "    <tr>\n",
       "      <th>5</th>\n",
       "      <td>Tesla Model 3 AWD Dual Motor</td>\n",
       "      <td>Sept 1 10am</td>\n",
       "      <td>3.31</td>\n",
       "    </tr>\n",
       "    <tr>\n",
       "      <th>6</th>\n",
       "      <td>Tesla Model S P100D</td>\n",
       "      <td>Sept 1 11am</td>\n",
       "      <td>2.51</td>\n",
       "    </tr>\n",
       "    <tr>\n",
       "      <th>7</th>\n",
       "      <td>Tesla Model X P100D</td>\n",
       "      <td>Sept 1 11am</td>\n",
       "      <td>2.92</td>\n",
       "    </tr>\n",
       "    <tr>\n",
       "      <th>8</th>\n",
       "      <td>Tesla Model 3 AWD Dual Motor</td>\n",
       "      <td>Sept 1 11am</td>\n",
       "      <td>3.30</td>\n",
       "    </tr>\n",
       "  </tbody>\n",
       "</table>\n",
       "</div>"
      ],
      "text/plain": [
       "                      car_model         date  0-60mph_in_seconds\n",
       "0           Tesla Model S P100D   Sept 1 9am                2.50\n",
       "1           Tesla Model X P100D   Sept 1 9am                2.92\n",
       "2  Tesla Model 3 AWD Dual Motor   Sept 1 9am                3.33\n",
       "3           Tesla Model S P100D  Sept 1 10am                2.51\n",
       "4           Tesla Model X P100D  Sept 1 10am                2.91\n",
       "5  Tesla Model 3 AWD Dual Motor  Sept 1 10am                3.31\n",
       "6           Tesla Model S P100D  Sept 1 11am                2.51\n",
       "7           Tesla Model X P100D  Sept 1 11am                2.92\n",
       "8  Tesla Model 3 AWD Dual Motor  Sept 1 11am                3.30"
      ]
     },
     "execution_count": 49,
     "metadata": {},
     "output_type": "execute_result"
    }
   ],
   "source": [
    "s = 'Tesla Model S P100D'\n",
    "x = 'Tesla Model X P100D'\n",
    "three = 'Tesla Model 3 AWD Dual Motor'\n",
    "\n",
    "models = [s, x, three]*3\n",
    "dates = ['Sept 1 9am']*3 + ['Sept 1 10am']*3 + ['Sept 1 11am']*3\n",
    "acceleration_times = [2.5, 2.92, 3.33, 2.51, 2.91, 3.31, 2.51, 2.92, 3.3]\n",
    "\n",
    "data = {'car_model': models, \n",
    "        'date': dates, \n",
    "        '0-60mph_in_seconds': acceleration_times} \n",
    "df = pd.DataFrame(data)\n",
    "df"
   ]
  },
  {
   "cell_type": "markdown",
   "metadata": {},
   "source": [
    "I want to pivot this data so each row is a unique car model, the columns are dates and the values in the table are the acceleration speeds."
   ]
  },
  {
   "cell_type": "code",
   "execution_count": 50,
   "metadata": {},
   "outputs": [
    {
     "data": {
      "text/html": [
       "<div>\n",
       "<style scoped>\n",
       "    .dataframe tbody tr th:only-of-type {\n",
       "        vertical-align: middle;\n",
       "    }\n",
       "\n",
       "    .dataframe tbody tr th {\n",
       "        vertical-align: top;\n",
       "    }\n",
       "\n",
       "    .dataframe thead th {\n",
       "        text-align: right;\n",
       "    }\n",
       "</style>\n",
       "<table border=\"1\" class=\"dataframe\">\n",
       "  <thead>\n",
       "    <tr style=\"text-align: right;\">\n",
       "      <th>date</th>\n",
       "      <th>Sept 1 10am</th>\n",
       "      <th>Sept 1 11am</th>\n",
       "      <th>Sept 1 9am</th>\n",
       "    </tr>\n",
       "    <tr>\n",
       "      <th>car_model</th>\n",
       "      <th></th>\n",
       "      <th></th>\n",
       "      <th></th>\n",
       "    </tr>\n",
       "  </thead>\n",
       "  <tbody>\n",
       "    <tr>\n",
       "      <th>Tesla Model 3 AWD Dual Motor</th>\n",
       "      <td>3.31</td>\n",
       "      <td>3.30</td>\n",
       "      <td>3.33</td>\n",
       "    </tr>\n",
       "    <tr>\n",
       "      <th>Tesla Model S P100D</th>\n",
       "      <td>2.51</td>\n",
       "      <td>2.51</td>\n",
       "      <td>2.50</td>\n",
       "    </tr>\n",
       "    <tr>\n",
       "      <th>Tesla Model X P100D</th>\n",
       "      <td>2.91</td>\n",
       "      <td>2.92</td>\n",
       "      <td>2.92</td>\n",
       "    </tr>\n",
       "  </tbody>\n",
       "</table>\n",
       "</div>"
      ],
      "text/plain": [
       "date                          Sept 1 10am  Sept 1 11am  Sept 1 9am\n",
       "car_model                                                         \n",
       "Tesla Model 3 AWD Dual Motor         3.31         3.30        3.33\n",
       "Tesla Model S P100D                  2.51         2.51        2.50\n",
       "Tesla Model X P100D                  2.91         2.92        2.92"
      ]
     },
     "execution_count": 50,
     "metadata": {},
     "output_type": "execute_result"
    }
   ],
   "source": [
    "df.pivot(index='car_model', columns='date', values='0-60mph_in_seconds')"
   ]
  },
  {
   "cell_type": "markdown",
   "metadata": {},
   "source": [
    "This format may be easier to read so you can easily focus your attention on just the acceleration times for the 3 models.\n",
    "\n",
    "You can read more about pandas `pivot()` on the official <a href='https://pandas.pydata.org/pandas-docs/stable/generated/pandas.pivot.html'>documentation page</a>."
   ]
  }
 ],
 "metadata": {
  "kernelspec": {
   "display_name": "Python 3",
   "language": "python",
   "name": "python3"
  },
  "language_info": {
   "codemirror_mode": {
    "name": "ipython",
    "version": 3
   },
   "file_extension": ".py",
   "mimetype": "text/x-python",
   "name": "python",
   "nbconvert_exporter": "python",
   "pygments_lexer": "ipython3",
   "version": "3.7.5"
  }
 },
 "nbformat": 4,
 "nbformat_minor": 4
}
