{
 "cells": [
  {
   "cell_type": "markdown",
   "metadata": {},
   "source": [
    "# Self Join\n",
    "\n",
    "Date published: 2019-04-14\n",
    "\n",
    "Category: Data Analysis\n",
    "\n",
    "Subcategory: Data Wrangling\n",
    "\n",
    "Tags: self join, pandas merge, python, pandas\n"
   ]
  },
  {
   "cell_type": "markdown",
   "metadata": {},
   "source": [
    "In SQL, a popular type of join is a self join which joins a table to itself. This is helpful for comparing rows to one another, based on their values in columns, in a *single* table. \n",
    "\n",
    "In this article, I'll walk through two examples in which self joins can be helpful."
   ]
  },
  {
   "cell_type": "markdown",
   "metadata": {},
   "source": [
    "### Import Modules"
   ]
  },
  {
   "cell_type": "code",
   "execution_count": 16,
   "metadata": {},
   "outputs": [],
   "source": [
    "import pandas as pd"
   ]
  },
  {
   "cell_type": "markdown",
   "metadata": {},
   "source": [
    "### Example 1: Basic Real Estate Transactions"
   ]
  },
  {
   "cell_type": "markdown",
   "metadata": {},
   "source": [
    "#### Create Dataset"
   ]
  },
  {
   "cell_type": "markdown",
   "metadata": {},
   "source": [
    "I'll create a small dataset of 5 real estate transactions that include a unique transaction id for each purchase, a close date for each sale, the buyer's name and seller's name.\n",
    "\n",
    "Notice how Julia was the buyer for transaction id `1` and later a seller for transaction id `2`."
   ]
  },
  {
   "cell_type": "code",
   "execution_count": 17,
   "metadata": {},
   "outputs": [],
   "source": [
    "data = {'transaction_id': [1, 2, 3, 4, 5], \n",
    "        'close_date': [\"2012-08-01\", \"2012-08-02\", \"2012-08-03\", \"2012-08-04\", \"2012-08-04\"], \n",
    "        'buyer_name': [\"Julia\", \"Joe\", \"Jake\", \"Jamie\", \"Jackie\"],\n",
    "       'seller_name': [\"Lara\", \"Julia\", \"Barbara\", \"Emily\", \"Mason\"]\n",
    "       }\n",
    "df = pd.DataFrame(data)"
   ]
  },
  {
   "cell_type": "markdown",
   "metadata": {},
   "source": [
    "View entire `df`."
   ]
  },
  {
   "cell_type": "code",
   "execution_count": 18,
   "metadata": {},
   "outputs": [
    {
     "data": {
      "text/html": [
       "<div>\n",
       "<style scoped>\n",
       "    .dataframe tbody tr th:only-of-type {\n",
       "        vertical-align: middle;\n",
       "    }\n",
       "\n",
       "    .dataframe tbody tr th {\n",
       "        vertical-align: top;\n",
       "    }\n",
       "\n",
       "    .dataframe thead th {\n",
       "        text-align: right;\n",
       "    }\n",
       "</style>\n",
       "<table border=\"1\" class=\"dataframe\">\n",
       "  <thead>\n",
       "    <tr style=\"text-align: right;\">\n",
       "      <th></th>\n",
       "      <th>transaction_id</th>\n",
       "      <th>close_date</th>\n",
       "      <th>buyer_name</th>\n",
       "      <th>seller_name</th>\n",
       "    </tr>\n",
       "  </thead>\n",
       "  <tbody>\n",
       "    <tr>\n",
       "      <th>0</th>\n",
       "      <td>1</td>\n",
       "      <td>2012-08-01</td>\n",
       "      <td>Julia</td>\n",
       "      <td>Lara</td>\n",
       "    </tr>\n",
       "    <tr>\n",
       "      <th>1</th>\n",
       "      <td>2</td>\n",
       "      <td>2012-08-02</td>\n",
       "      <td>Joe</td>\n",
       "      <td>Julia</td>\n",
       "    </tr>\n",
       "    <tr>\n",
       "      <th>2</th>\n",
       "      <td>3</td>\n",
       "      <td>2012-08-03</td>\n",
       "      <td>Jake</td>\n",
       "      <td>Barbara</td>\n",
       "    </tr>\n",
       "    <tr>\n",
       "      <th>3</th>\n",
       "      <td>4</td>\n",
       "      <td>2012-08-04</td>\n",
       "      <td>Jamie</td>\n",
       "      <td>Emily</td>\n",
       "    </tr>\n",
       "    <tr>\n",
       "      <th>4</th>\n",
       "      <td>5</td>\n",
       "      <td>2012-08-04</td>\n",
       "      <td>Jackie</td>\n",
       "      <td>Mason</td>\n",
       "    </tr>\n",
       "  </tbody>\n",
       "</table>\n",
       "</div>"
      ],
      "text/plain": [
       "   transaction_id  close_date buyer_name seller_name\n",
       "0               1  2012-08-01      Julia        Lara\n",
       "1               2  2012-08-02        Joe       Julia\n",
       "2               3  2012-08-03       Jake     Barbara\n",
       "3               4  2012-08-04      Jamie       Emily\n",
       "4               5  2012-08-04     Jackie       Mason"
      ]
     },
     "execution_count": 18,
     "metadata": {},
     "output_type": "execute_result"
    }
   ],
   "source": [
    "df"
   ]
  },
  {
   "cell_type": "markdown",
   "metadata": {},
   "source": [
    "#### Find People Who Were Both Buyers and Sellers"
   ]
  },
  {
   "cell_type": "markdown",
   "metadata": {},
   "source": [
    "Often times, people buy homes and then later sell that homes. In this dataset, I'm curious, which people both bought and sold a home? We noticed earlier Julia bought a home and later sold one so Julia's name should be the only result.\n",
    "\n",
    "One method of finding a solution is to do a self join. In pandas, the DataFrame object has a `merge()` method. Below, for `df`, for the `merge` method, I'll set the following arguments:\n",
    "\n",
    "- `right=df` so that the first `df` listed in the statement merges with another DataFrame, `df`\n",
    "- `left_on='buyer_name'` is the column to join from the left `df`\n",
    "- `right_on='seller_name` is the column to join from the right `df`\n",
    "\n",
    "By default, these arguments are also set in the `merge` method:\n",
    "\n",
    "- `how='inner'` so returned results only show records in which the left `df` has a value in `buyer_name` equivalent to the right `df` with a value of `seller_name`. \n",
    "- `suffixes=(‘_x’, ‘_y’)` so `_x` is appended to the end of column names from our left `df` if those column names originally match the right `df`. `_y` is appended to the end of column names from our right `df` if those column names originally match the left `df`."
   ]
  },
  {
   "cell_type": "code",
   "execution_count": 20,
   "metadata": {},
   "outputs": [
    {
     "data": {
      "text/html": [
       "<div>\n",
       "<style scoped>\n",
       "    .dataframe tbody tr th:only-of-type {\n",
       "        vertical-align: middle;\n",
       "    }\n",
       "\n",
       "    .dataframe tbody tr th {\n",
       "        vertical-align: top;\n",
       "    }\n",
       "\n",
       "    .dataframe thead th {\n",
       "        text-align: right;\n",
       "    }\n",
       "</style>\n",
       "<table border=\"1\" class=\"dataframe\">\n",
       "  <thead>\n",
       "    <tr style=\"text-align: right;\">\n",
       "      <th></th>\n",
       "      <th>transaction_id_x</th>\n",
       "      <th>close_date_x</th>\n",
       "      <th>buyer_name_x</th>\n",
       "      <th>seller_name_x</th>\n",
       "      <th>transaction_id_y</th>\n",
       "      <th>close_date_y</th>\n",
       "      <th>buyer_name_y</th>\n",
       "      <th>seller_name_y</th>\n",
       "    </tr>\n",
       "  </thead>\n",
       "  <tbody>\n",
       "    <tr>\n",
       "      <th>0</th>\n",
       "      <td>1</td>\n",
       "      <td>2012-08-01</td>\n",
       "      <td>Julia</td>\n",
       "      <td>Lara</td>\n",
       "      <td>2</td>\n",
       "      <td>2012-08-02</td>\n",
       "      <td>Joe</td>\n",
       "      <td>Julia</td>\n",
       "    </tr>\n",
       "  </tbody>\n",
       "</table>\n",
       "</div>"
      ],
      "text/plain": [
       "   transaction_id_x close_date_x buyer_name_x seller_name_x  transaction_id_y  \\\n",
       "0                 1   2012-08-01        Julia          Lara                 2   \n",
       "\n",
       "  close_date_y buyer_name_y seller_name_y  \n",
       "0   2012-08-02          Joe         Julia  "
      ]
     },
     "execution_count": 20,
     "metadata": {},
     "output_type": "execute_result"
    }
   ],
   "source": [
    "df2 = df.merge(right=df, left_on='buyer_name', right_on='seller_name')\n",
    "df2df2 = df.merge(right=df, left_on='buyer_name', right_on='seller_name')\n",
    "df2"
   ]
  },
  {
   "cell_type": "markdown",
   "metadata": {},
   "source": [
    "Our output of `df2` shows in a single record, the details of Julia who bought a home and sold a home.\n",
    "\n",
    "We can find all unique values in the `buyer_name_x` field to programmatically arrive at our result."
   ]
  },
  {
   "cell_type": "code",
   "execution_count": 21,
   "metadata": {},
   "outputs": [
    {
     "data": {
      "text/plain": [
       "array(['Julia'], dtype=object)"
      ]
     },
     "execution_count": 21,
     "metadata": {},
     "output_type": "execute_result"
    }
   ],
   "source": [
    "df2['buyer_name_x'].unique()"
   ]
  },
  {
   "cell_type": "markdown",
   "metadata": {},
   "source": [
    "### Example 2: Intermediate Real Estate Transactions"
   ]
  },
  {
   "cell_type": "markdown",
   "metadata": {},
   "source": [
    "#### Append New Row to Dataset"
   ]
  },
  {
   "cell_type": "markdown",
   "metadata": {},
   "source": [
    "Below, I create a new row for another real estate transaction in which Julia buys a 2nd home."
   ]
  },
  {
   "cell_type": "code",
   "execution_count": 24,
   "metadata": {},
   "outputs": [],
   "source": [
    "df.loc[5] = [6, \"2012-08-05\", \"Julia\", \"Mary\"]"
   ]
  },
  {
   "cell_type": "markdown",
   "metadata": {},
   "source": [
    "View new `df` with additional row."
   ]
  },
  {
   "cell_type": "code",
   "execution_count": 26,
   "metadata": {},
   "outputs": [
    {
     "data": {
      "text/html": [
       "<div>\n",
       "<style scoped>\n",
       "    .dataframe tbody tr th:only-of-type {\n",
       "        vertical-align: middle;\n",
       "    }\n",
       "\n",
       "    .dataframe tbody tr th {\n",
       "        vertical-align: top;\n",
       "    }\n",
       "\n",
       "    .dataframe thead th {\n",
       "        text-align: right;\n",
       "    }\n",
       "</style>\n",
       "<table border=\"1\" class=\"dataframe\">\n",
       "  <thead>\n",
       "    <tr style=\"text-align: right;\">\n",
       "      <th></th>\n",
       "      <th>transaction_id</th>\n",
       "      <th>close_date</th>\n",
       "      <th>buyer_name</th>\n",
       "      <th>seller_name</th>\n",
       "    </tr>\n",
       "  </thead>\n",
       "  <tbody>\n",
       "    <tr>\n",
       "      <th>0</th>\n",
       "      <td>1</td>\n",
       "      <td>2012-08-01</td>\n",
       "      <td>Julia</td>\n",
       "      <td>Lara</td>\n",
       "    </tr>\n",
       "    <tr>\n",
       "      <th>1</th>\n",
       "      <td>2</td>\n",
       "      <td>2012-08-02</td>\n",
       "      <td>Joe</td>\n",
       "      <td>Julia</td>\n",
       "    </tr>\n",
       "    <tr>\n",
       "      <th>2</th>\n",
       "      <td>3</td>\n",
       "      <td>2012-08-03</td>\n",
       "      <td>Jake</td>\n",
       "      <td>Barbara</td>\n",
       "    </tr>\n",
       "    <tr>\n",
       "      <th>3</th>\n",
       "      <td>4</td>\n",
       "      <td>2012-08-04</td>\n",
       "      <td>Jamie</td>\n",
       "      <td>Emily</td>\n",
       "    </tr>\n",
       "    <tr>\n",
       "      <th>4</th>\n",
       "      <td>5</td>\n",
       "      <td>2012-08-04</td>\n",
       "      <td>Jackie</td>\n",
       "      <td>Mason</td>\n",
       "    </tr>\n",
       "    <tr>\n",
       "      <th>5</th>\n",
       "      <td>6</td>\n",
       "      <td>2012-08-05</td>\n",
       "      <td>Julia</td>\n",
       "      <td>Mary</td>\n",
       "    </tr>\n",
       "  </tbody>\n",
       "</table>\n",
       "</div>"
      ],
      "text/plain": [
       "   transaction_id  close_date buyer_name seller_name\n",
       "0               1  2012-08-01      Julia        Lara\n",
       "1               2  2012-08-02        Joe       Julia\n",
       "2               3  2012-08-03       Jake     Barbara\n",
       "3               4  2012-08-04      Jamie       Emily\n",
       "4               5  2012-08-04     Jackie       Mason\n",
       "5               6  2012-08-05      Julia        Mary"
      ]
     },
     "execution_count": 26,
     "metadata": {},
     "output_type": "execute_result"
    }
   ],
   "source": [
    "df"
   ]
  },
  {
   "cell_type": "markdown",
   "metadata": {},
   "source": [
    "#### Find People Who Are Both Buyers and Sellers"
   ]
  },
  {
   "cell_type": "markdown",
   "metadata": {},
   "source": [
    "This is the same ask as with Example 1. However, our dataset is slightly different so a self join will return different results.\n",
    "\n",
    "I'll use the same code to perform a self join but assign the output to `df` instead.\n"
   ]
  },
  {
   "cell_type": "code",
   "execution_count": 28,
   "metadata": {},
   "outputs": [
    {
     "data": {
      "text/html": [
       "<div>\n",
       "<style scoped>\n",
       "    .dataframe tbody tr th:only-of-type {\n",
       "        vertical-align: middle;\n",
       "    }\n",
       "\n",
       "    .dataframe tbody tr th {\n",
       "        vertical-align: top;\n",
       "    }\n",
       "\n",
       "    .dataframe thead th {\n",
       "        text-align: right;\n",
       "    }\n",
       "</style>\n",
       "<table border=\"1\" class=\"dataframe\">\n",
       "  <thead>\n",
       "    <tr style=\"text-align: right;\">\n",
       "      <th></th>\n",
       "      <th>transaction_id_x</th>\n",
       "      <th>close_date_x</th>\n",
       "      <th>buyer_name_x</th>\n",
       "      <th>seller_name_x</th>\n",
       "      <th>transaction_id_y</th>\n",
       "      <th>close_date_y</th>\n",
       "      <th>buyer_name_y</th>\n",
       "      <th>seller_name_y</th>\n",
       "    </tr>\n",
       "  </thead>\n",
       "  <tbody>\n",
       "    <tr>\n",
       "      <th>0</th>\n",
       "      <td>1</td>\n",
       "      <td>2012-08-01</td>\n",
       "      <td>Julia</td>\n",
       "      <td>Lara</td>\n",
       "      <td>2</td>\n",
       "      <td>2012-08-02</td>\n",
       "      <td>Joe</td>\n",
       "      <td>Julia</td>\n",
       "    </tr>\n",
       "    <tr>\n",
       "      <th>1</th>\n",
       "      <td>6</td>\n",
       "      <td>2012-08-05</td>\n",
       "      <td>Julia</td>\n",
       "      <td>Mary</td>\n",
       "      <td>2</td>\n",
       "      <td>2012-08-02</td>\n",
       "      <td>Joe</td>\n",
       "      <td>Julia</td>\n",
       "    </tr>\n",
       "  </tbody>\n",
       "</table>\n",
       "</div>"
      ],
      "text/plain": [
       "   transaction_id_x close_date_x buyer_name_x seller_name_x  transaction_id_y  \\\n",
       "0                 1   2012-08-01        Julia          Lara                 2   \n",
       "1                 6   2012-08-05        Julia          Mary                 2   \n",
       "\n",
       "  close_date_y buyer_name_y seller_name_y  \n",
       "0   2012-08-02          Joe         Julia  \n",
       "1   2012-08-02          Joe         Julia  "
      ]
     },
     "execution_count": 28,
     "metadata": {},
     "output_type": "execute_result"
    }
   ],
   "source": [
    "df3 = df.merge(right=df, left_on='buyer_name', right_on='seller_name')\n",
    "df3"
   ]
  },
  {
   "cell_type": "markdown",
   "metadata": {},
   "source": [
    "There are *two* records! \n",
    "\n",
    "The first record indicates Julia's purchase for `transaction_id` of `1` and later a sale with `transaction_id` of `2`.\n",
    "\n",
    "The second record indicates Julia's purchase for `transaction_id` of `6` and later a sale with `transaction_id` of `2`. \n",
    "\n",
    "This is the correct output as I wanted all rows of `df` to be joined with `df` in which a `buyer_name` from the left `df` is equivalent to a `seller_name` from the right `df`.\n",
    "\n",
    "I can find all unique values of the `buyer_name_x` field to programmatically arrive at our result."
   ]
  },
  {
   "cell_type": "code",
   "execution_count": 29,
   "metadata": {},
   "outputs": [
    {
     "data": {
      "text/plain": [
       "array(['Julia'], dtype=object)"
      ]
     },
     "execution_count": 29,
     "metadata": {},
     "output_type": "execute_result"
    }
   ],
   "source": [
    "df3['buyer_name_x'].unique()"
   ]
  }
 ],
 "metadata": {
  "kernelspec": {
   "display_name": "Python 3",
   "language": "python",
   "name": "python3"
  },
  "language_info": {
   "codemirror_mode": {
    "name": "ipython",
    "version": 3
   },
   "file_extension": ".py",
   "mimetype": "text/x-python",
   "name": "python",
   "nbconvert_exporter": "python",
   "pygments_lexer": "ipython3",
   "version": "3.7.5"
  }
 },
 "nbformat": 4,
 "nbformat_minor": 4
}
