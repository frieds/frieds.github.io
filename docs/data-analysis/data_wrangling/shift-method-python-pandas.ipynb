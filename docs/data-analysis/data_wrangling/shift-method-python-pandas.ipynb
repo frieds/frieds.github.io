{
 "cells": [
  {
   "cell_type": "markdown",
   "metadata": {},
   "source": [
    "# shift() Method: Shift Values in Column Up or Down\n",
    "\n",
    "Date published: 2019-04-21\n",
    "\n",
    "Category: Data Analysis\n",
    "\n",
    "Subcategory: Data Wrangling\n",
    "\n",
    "Tags: shift method, pandas, python\n"
   ]
  },
  {
   "cell_type": "markdown",
   "metadata": {},
   "source": [
    "The <a href='https://pandas.pydata.org/pandas-docs/stable/reference/api/pandas.Series.shift.html' target='_blank'>shift() method</a> for a pandas series helps shift values in a column up or down. This is similar to using the SQL window functions for `LAG()` and `LEAD()`. You can learn about these SQL window functions via <a href='https://mode.com/resources/sql-tutorial/sql-window-functions/' target='_blank'>Mode's SQL tutorial</a>.\n",
    "\n",
    "In this tutorial, I'll walk through an example of using the `shift()` pandas series method for analyzing bike rides."
   ]
  },
  {
   "cell_type": "markdown",
   "metadata": {},
   "source": [
    "### Setup Code"
   ]
  },
  {
   "cell_type": "markdown",
   "metadata": {},
   "source": [
    "#### Import Module"
   ]
  },
  {
   "cell_type": "code",
   "execution_count": 143,
   "metadata": {},
   "outputs": [],
   "source": [
    "import pandas as pd\n",
    "import datetime\n",
    "import random\n",
    "import numpy as np"
   ]
  },
  {
   "cell_type": "markdown",
   "metadata": {},
   "source": [
    "### Example 1: Duration Idle Time Between Bike Rides"
   ]
  },
  {
   "cell_type": "markdown",
   "metadata": {},
   "source": [
    "In this example, I assume a service in which I lend out a single bike for people to ride throughout the day in San Francisco. Each record in the dataset is the start and end time for a ride."
   ]
  },
  {
   "cell_type": "markdown",
   "metadata": {},
   "source": [
    "#### Create Bike Rides Data"
   ]
  },
  {
   "cell_type": "markdown",
   "metadata": {},
   "source": [
    "The code below creates a list of start and end times of rides."
   ]
  },
  {
   "cell_type": "code",
   "execution_count": 144,
   "metadata": {},
   "outputs": [],
   "source": [
    "random.seed(38)\n",
    "ride_start_time = datetime.datetime.today()\n",
    "ride_end_time = ride_start_time + datetime.timedelta(minutes=20)\n",
    "ride_start_times = []\n",
    "ride_end_times = []\n",
    "count_of_rides = 6\n",
    "\n",
    "for ride in range(count_of_rides):\n",
    "    minutes_between_rides = random.randint(8, 100)\n",
    "    ride_start_time = ride_end_time + datetime.timedelta(minutes=minutes_between_rides)\n",
    "    \n",
    "    minutes_riding = random.randint(5, 25)\n",
    "    ride_end_time = ride_start_time + datetime.timedelta(minutes=minutes_riding)\n",
    "    \n",
    "    ride_start_times.append(ride_start_time)\n",
    "    ride_end_times.append(ride_end_time)"
   ]
  },
  {
   "cell_type": "markdown",
   "metadata": {},
   "source": [
    "Create a pandas dataframe given the lists `ride_start_times` and `ride_end_times`."
   ]
  },
  {
   "cell_type": "code",
   "execution_count": 145,
   "metadata": {},
   "outputs": [],
   "source": [
    "data = {'ride_start_time': ride_start_times,\n",
    "        'ride_end_time':  ride_end_times\n",
    "       }\n",
    "df_bike_rides = pd.DataFrame(data)"
   ]
  },
  {
   "cell_type": "markdown",
   "metadata": {},
   "source": [
    "View the newly created dataframe `df_bike_rides`."
   ]
  },
  {
   "cell_type": "code",
   "execution_count": 146,
   "metadata": {},
   "outputs": [
    {
     "data": {
      "text/html": [
       "<div>\n",
       "<style scoped>\n",
       "    .dataframe tbody tr th:only-of-type {\n",
       "        vertical-align: middle;\n",
       "    }\n",
       "\n",
       "    .dataframe tbody tr th {\n",
       "        vertical-align: top;\n",
       "    }\n",
       "\n",
       "    .dataframe thead th {\n",
       "        text-align: right;\n",
       "    }\n",
       "</style>\n",
       "<table border=\"1\" class=\"dataframe\">\n",
       "  <thead>\n",
       "    <tr style=\"text-align: right;\">\n",
       "      <th></th>\n",
       "      <th>ride_start_time</th>\n",
       "      <th>ride_end_time</th>\n",
       "    </tr>\n",
       "  </thead>\n",
       "  <tbody>\n",
       "    <tr>\n",
       "      <th>0</th>\n",
       "      <td>2019-04-21 21:23:29.711347</td>\n",
       "      <td>2019-04-21 21:41:29.711347</td>\n",
       "    </tr>\n",
       "    <tr>\n",
       "      <th>1</th>\n",
       "      <td>2019-04-21 22:43:29.711347</td>\n",
       "      <td>2019-04-21 22:51:29.711347</td>\n",
       "    </tr>\n",
       "    <tr>\n",
       "      <th>2</th>\n",
       "      <td>2019-04-21 23:07:29.711347</td>\n",
       "      <td>2019-04-21 23:23:29.711347</td>\n",
       "    </tr>\n",
       "    <tr>\n",
       "      <th>3</th>\n",
       "      <td>2019-04-22 01:00:29.711347</td>\n",
       "      <td>2019-04-22 01:19:29.711347</td>\n",
       "    </tr>\n",
       "    <tr>\n",
       "      <th>4</th>\n",
       "      <td>2019-04-22 02:14:29.711347</td>\n",
       "      <td>2019-04-22 02:20:29.711347</td>\n",
       "    </tr>\n",
       "    <tr>\n",
       "      <th>5</th>\n",
       "      <td>2019-04-22 03:45:29.711347</td>\n",
       "      <td>2019-04-22 03:55:29.711347</td>\n",
       "    </tr>\n",
       "  </tbody>\n",
       "</table>\n",
       "</div>"
      ],
      "text/plain": [
       "             ride_start_time              ride_end_time\n",
       "0 2019-04-21 21:23:29.711347 2019-04-21 21:41:29.711347\n",
       "1 2019-04-21 22:43:29.711347 2019-04-21 22:51:29.711347\n",
       "2 2019-04-21 23:07:29.711347 2019-04-21 23:23:29.711347\n",
       "3 2019-04-22 01:00:29.711347 2019-04-22 01:19:29.711347\n",
       "4 2019-04-22 02:14:29.711347 2019-04-22 02:20:29.711347\n",
       "5 2019-04-22 03:45:29.711347 2019-04-22 03:55:29.711347"
      ]
     },
     "execution_count": 146,
     "metadata": {},
     "output_type": "execute_result"
    }
   ],
   "source": [
    "df_bike_rides"
   ]
  },
  {
   "cell_type": "markdown",
   "metadata": {},
   "source": [
    "#### Find the Mean Duration of Time, in Minutes, Bike is Left Idle Between Rides"
   ]
  },
  {
   "cell_type": "markdown",
   "metadata": {},
   "source": [
    "For example, the first ride ended around 4:24PM and was next used for a ride at 5:52PM. I want to calculate a new column that states there was approximately 86 minutes, equivalent to approximately 5160 seconds, of idle time between these rides.\n",
    "\n",
    "I want to do a column-by-column comparison. I use the `shift()` method to create a new column in `df_bike_rides` that's a shift of value in `ride_end_time` down one period."
   ]
  },
  {
   "cell_type": "code",
   "execution_count": 147,
   "metadata": {},
   "outputs": [],
   "source": [
    "df_bike_rides['previous_ride_end_time'] = df_bike_rides['ride_end_time'].shift(periods=1)"
   ]
  },
  {
   "cell_type": "markdown",
   "metadata": {},
   "source": [
    "View `df_bike_rides`."
   ]
  },
  {
   "cell_type": "code",
   "execution_count": 148,
   "metadata": {},
   "outputs": [
    {
     "data": {
      "text/html": [
       "<div>\n",
       "<style scoped>\n",
       "    .dataframe tbody tr th:only-of-type {\n",
       "        vertical-align: middle;\n",
       "    }\n",
       "\n",
       "    .dataframe tbody tr th {\n",
       "        vertical-align: top;\n",
       "    }\n",
       "\n",
       "    .dataframe thead th {\n",
       "        text-align: right;\n",
       "    }\n",
       "</style>\n",
       "<table border=\"1\" class=\"dataframe\">\n",
       "  <thead>\n",
       "    <tr style=\"text-align: right;\">\n",
       "      <th></th>\n",
       "      <th>ride_start_time</th>\n",
       "      <th>ride_end_time</th>\n",
       "      <th>previous_ride_end_time</th>\n",
       "    </tr>\n",
       "  </thead>\n",
       "  <tbody>\n",
       "    <tr>\n",
       "      <th>0</th>\n",
       "      <td>2019-04-21 21:23:29.711347</td>\n",
       "      <td>2019-04-21 21:41:29.711347</td>\n",
       "      <td>NaT</td>\n",
       "    </tr>\n",
       "    <tr>\n",
       "      <th>1</th>\n",
       "      <td>2019-04-21 22:43:29.711347</td>\n",
       "      <td>2019-04-21 22:51:29.711347</td>\n",
       "      <td>2019-04-21 21:41:29.711347</td>\n",
       "    </tr>\n",
       "    <tr>\n",
       "      <th>2</th>\n",
       "      <td>2019-04-21 23:07:29.711347</td>\n",
       "      <td>2019-04-21 23:23:29.711347</td>\n",
       "      <td>2019-04-21 22:51:29.711347</td>\n",
       "    </tr>\n",
       "    <tr>\n",
       "      <th>3</th>\n",
       "      <td>2019-04-22 01:00:29.711347</td>\n",
       "      <td>2019-04-22 01:19:29.711347</td>\n",
       "      <td>2019-04-21 23:23:29.711347</td>\n",
       "    </tr>\n",
       "    <tr>\n",
       "      <th>4</th>\n",
       "      <td>2019-04-22 02:14:29.711347</td>\n",
       "      <td>2019-04-22 02:20:29.711347</td>\n",
       "      <td>2019-04-22 01:19:29.711347</td>\n",
       "    </tr>\n",
       "    <tr>\n",
       "      <th>5</th>\n",
       "      <td>2019-04-22 03:45:29.711347</td>\n",
       "      <td>2019-04-22 03:55:29.711347</td>\n",
       "      <td>2019-04-22 02:20:29.711347</td>\n",
       "    </tr>\n",
       "  </tbody>\n",
       "</table>\n",
       "</div>"
      ],
      "text/plain": [
       "             ride_start_time              ride_end_time  \\\n",
       "0 2019-04-21 21:23:29.711347 2019-04-21 21:41:29.711347   \n",
       "1 2019-04-21 22:43:29.711347 2019-04-21 22:51:29.711347   \n",
       "2 2019-04-21 23:07:29.711347 2019-04-21 23:23:29.711347   \n",
       "3 2019-04-22 01:00:29.711347 2019-04-22 01:19:29.711347   \n",
       "4 2019-04-22 02:14:29.711347 2019-04-22 02:20:29.711347   \n",
       "5 2019-04-22 03:45:29.711347 2019-04-22 03:55:29.711347   \n",
       "\n",
       "      previous_ride_end_time  \n",
       "0                        NaT  \n",
       "1 2019-04-21 21:41:29.711347  \n",
       "2 2019-04-21 22:51:29.711347  \n",
       "3 2019-04-21 23:23:29.711347  \n",
       "4 2019-04-22 01:19:29.711347  \n",
       "5 2019-04-22 02:20:29.711347  "
      ]
     },
     "execution_count": 148,
     "metadata": {},
     "output_type": "execute_result"
    }
   ],
   "source": [
    "df_bike_rides"
   ]
  },
  {
   "cell_type": "markdown",
   "metadata": {},
   "source": [
    "The `shift()` method for a pandas series is similar to a window function in SQL using `LAG()` and `LEAD()`. The same operation above would look like the following in SQL:\n",
    "\n",
    "```sql\n",
    "SELECT *, LAG(ride_end_time) OVER (ORDER BY ride_start_time ASC) AS previous_ride_end_time\n",
    "FROM df_bike_rides\n",
    "ORDER BY ride_start_time ASC\n",
    "```"
   ]
  },
  {
   "cell_type": "markdown",
   "metadata": {},
   "source": [
    "Given this new column for `previous_ride_end_time`, I can subtract the time between a new bike ride's start time and the previous ride's end time. The result is the duration the bike was idle between rides."
   ]
  },
  {
   "cell_type": "code",
   "execution_count": 149,
   "metadata": {},
   "outputs": [],
   "source": [
    "df_bike_rides['duration_bike_idle_between_rides'] = df_bike_rides['ride_start_time'] - df_bike_rides['previous_ride_end_time']"
   ]
  },
  {
   "cell_type": "markdown",
   "metadata": {},
   "source": [
    "View `df_bike_rides`."
   ]
  },
  {
   "cell_type": "code",
   "execution_count": 150,
   "metadata": {},
   "outputs": [
    {
     "data": {
      "text/html": [
       "<div>\n",
       "<style scoped>\n",
       "    .dataframe tbody tr th:only-of-type {\n",
       "        vertical-align: middle;\n",
       "    }\n",
       "\n",
       "    .dataframe tbody tr th {\n",
       "        vertical-align: top;\n",
       "    }\n",
       "\n",
       "    .dataframe thead th {\n",
       "        text-align: right;\n",
       "    }\n",
       "</style>\n",
       "<table border=\"1\" class=\"dataframe\">\n",
       "  <thead>\n",
       "    <tr style=\"text-align: right;\">\n",
       "      <th></th>\n",
       "      <th>ride_start_time</th>\n",
       "      <th>ride_end_time</th>\n",
       "      <th>previous_ride_end_time</th>\n",
       "      <th>duration_bike_idle_between_rides</th>\n",
       "    </tr>\n",
       "  </thead>\n",
       "  <tbody>\n",
       "    <tr>\n",
       "      <th>0</th>\n",
       "      <td>2019-04-21 21:23:29.711347</td>\n",
       "      <td>2019-04-21 21:41:29.711347</td>\n",
       "      <td>NaT</td>\n",
       "      <td>NaT</td>\n",
       "    </tr>\n",
       "    <tr>\n",
       "      <th>1</th>\n",
       "      <td>2019-04-21 22:43:29.711347</td>\n",
       "      <td>2019-04-21 22:51:29.711347</td>\n",
       "      <td>2019-04-21 21:41:29.711347</td>\n",
       "      <td>01:02:00</td>\n",
       "    </tr>\n",
       "    <tr>\n",
       "      <th>2</th>\n",
       "      <td>2019-04-21 23:07:29.711347</td>\n",
       "      <td>2019-04-21 23:23:29.711347</td>\n",
       "      <td>2019-04-21 22:51:29.711347</td>\n",
       "      <td>00:16:00</td>\n",
       "    </tr>\n",
       "    <tr>\n",
       "      <th>3</th>\n",
       "      <td>2019-04-22 01:00:29.711347</td>\n",
       "      <td>2019-04-22 01:19:29.711347</td>\n",
       "      <td>2019-04-21 23:23:29.711347</td>\n",
       "      <td>01:37:00</td>\n",
       "    </tr>\n",
       "    <tr>\n",
       "      <th>4</th>\n",
       "      <td>2019-04-22 02:14:29.711347</td>\n",
       "      <td>2019-04-22 02:20:29.711347</td>\n",
       "      <td>2019-04-22 01:19:29.711347</td>\n",
       "      <td>00:55:00</td>\n",
       "    </tr>\n",
       "    <tr>\n",
       "      <th>5</th>\n",
       "      <td>2019-04-22 03:45:29.711347</td>\n",
       "      <td>2019-04-22 03:55:29.711347</td>\n",
       "      <td>2019-04-22 02:20:29.711347</td>\n",
       "      <td>01:25:00</td>\n",
       "    </tr>\n",
       "  </tbody>\n",
       "</table>\n",
       "</div>"
      ],
      "text/plain": [
       "             ride_start_time              ride_end_time  \\\n",
       "0 2019-04-21 21:23:29.711347 2019-04-21 21:41:29.711347   \n",
       "1 2019-04-21 22:43:29.711347 2019-04-21 22:51:29.711347   \n",
       "2 2019-04-21 23:07:29.711347 2019-04-21 23:23:29.711347   \n",
       "3 2019-04-22 01:00:29.711347 2019-04-22 01:19:29.711347   \n",
       "4 2019-04-22 02:14:29.711347 2019-04-22 02:20:29.711347   \n",
       "5 2019-04-22 03:45:29.711347 2019-04-22 03:55:29.711347   \n",
       "\n",
       "      previous_ride_end_time duration_bike_idle_between_rides  \n",
       "0                        NaT                              NaT  \n",
       "1 2019-04-21 21:41:29.711347                         01:02:00  \n",
       "2 2019-04-21 22:51:29.711347                         00:16:00  \n",
       "3 2019-04-21 23:23:29.711347                         01:37:00  \n",
       "4 2019-04-22 01:19:29.711347                         00:55:00  \n",
       "5 2019-04-22 02:20:29.711347                         01:25:00  "
      ]
     },
     "execution_count": 150,
     "metadata": {},
     "output_type": "execute_result"
    }
   ],
   "source": [
    "df_bike_rides"
   ]
  },
  {
   "cell_type": "markdown",
   "metadata": {},
   "source": [
    "The new column `duration_bike_idle_between_rides` shows the duration of idle bike time between rides in the format HH-MM-SS. The value of `01:02:00` is equivalent to saying *1 hour and 2 minutes*. Below, I convert that timedelta format into a single numerical value of minutes. I utilize the `dt` accessor and `total_seconds()` <a href='https://pandas.pydata.org/pandas-docs/stable/reference/api/pandas.Series.dt.total_seconds.html' target=\"_blank\">method</a> to calculate the total seconds a bike is idle between rides. Then I divide this value by `60` to get a value in minutes."
   ]
  },
  {
   "cell_type": "code",
   "execution_count": 151,
   "metadata": {},
   "outputs": [],
   "source": [
    "df_bike_rides['minutes_bike_idle_between_rides'] = df_bike_rides['duration_bike_idle_between_rides'].dt.total_seconds()/60"
   ]
  },
  {
   "cell_type": "markdown",
   "metadata": {},
   "source": [
    "View `df_bike_rides` below with a new column for the `minutes_bike_idle_between_rides`."
   ]
  },
  {
   "cell_type": "code",
   "execution_count": 152,
   "metadata": {},
   "outputs": [
    {
     "data": {
      "text/html": [
       "<div>\n",
       "<style scoped>\n",
       "    .dataframe tbody tr th:only-of-type {\n",
       "        vertical-align: middle;\n",
       "    }\n",
       "\n",
       "    .dataframe tbody tr th {\n",
       "        vertical-align: top;\n",
       "    }\n",
       "\n",
       "    .dataframe thead th {\n",
       "        text-align: right;\n",
       "    }\n",
       "</style>\n",
       "<table border=\"1\" class=\"dataframe\">\n",
       "  <thead>\n",
       "    <tr style=\"text-align: right;\">\n",
       "      <th></th>\n",
       "      <th>ride_start_time</th>\n",
       "      <th>ride_end_time</th>\n",
       "      <th>previous_ride_end_time</th>\n",
       "      <th>duration_bike_idle_between_rides</th>\n",
       "      <th>minutes_bike_idle_between_rides</th>\n",
       "    </tr>\n",
       "  </thead>\n",
       "  <tbody>\n",
       "    <tr>\n",
       "      <th>0</th>\n",
       "      <td>2019-04-21 21:23:29.711347</td>\n",
       "      <td>2019-04-21 21:41:29.711347</td>\n",
       "      <td>NaT</td>\n",
       "      <td>NaT</td>\n",
       "      <td>NaN</td>\n",
       "    </tr>\n",
       "    <tr>\n",
       "      <th>1</th>\n",
       "      <td>2019-04-21 22:43:29.711347</td>\n",
       "      <td>2019-04-21 22:51:29.711347</td>\n",
       "      <td>2019-04-21 21:41:29.711347</td>\n",
       "      <td>01:02:00</td>\n",
       "      <td>62.0</td>\n",
       "    </tr>\n",
       "    <tr>\n",
       "      <th>2</th>\n",
       "      <td>2019-04-21 23:07:29.711347</td>\n",
       "      <td>2019-04-21 23:23:29.711347</td>\n",
       "      <td>2019-04-21 22:51:29.711347</td>\n",
       "      <td>00:16:00</td>\n",
       "      <td>16.0</td>\n",
       "    </tr>\n",
       "    <tr>\n",
       "      <th>3</th>\n",
       "      <td>2019-04-22 01:00:29.711347</td>\n",
       "      <td>2019-04-22 01:19:29.711347</td>\n",
       "      <td>2019-04-21 23:23:29.711347</td>\n",
       "      <td>01:37:00</td>\n",
       "      <td>97.0</td>\n",
       "    </tr>\n",
       "    <tr>\n",
       "      <th>4</th>\n",
       "      <td>2019-04-22 02:14:29.711347</td>\n",
       "      <td>2019-04-22 02:20:29.711347</td>\n",
       "      <td>2019-04-22 01:19:29.711347</td>\n",
       "      <td>00:55:00</td>\n",
       "      <td>55.0</td>\n",
       "    </tr>\n",
       "    <tr>\n",
       "      <th>5</th>\n",
       "      <td>2019-04-22 03:45:29.711347</td>\n",
       "      <td>2019-04-22 03:55:29.711347</td>\n",
       "      <td>2019-04-22 02:20:29.711347</td>\n",
       "      <td>01:25:00</td>\n",
       "      <td>85.0</td>\n",
       "    </tr>\n",
       "  </tbody>\n",
       "</table>\n",
       "</div>"
      ],
      "text/plain": [
       "             ride_start_time              ride_end_time  \\\n",
       "0 2019-04-21 21:23:29.711347 2019-04-21 21:41:29.711347   \n",
       "1 2019-04-21 22:43:29.711347 2019-04-21 22:51:29.711347   \n",
       "2 2019-04-21 23:07:29.711347 2019-04-21 23:23:29.711347   \n",
       "3 2019-04-22 01:00:29.711347 2019-04-22 01:19:29.711347   \n",
       "4 2019-04-22 02:14:29.711347 2019-04-22 02:20:29.711347   \n",
       "5 2019-04-22 03:45:29.711347 2019-04-22 03:55:29.711347   \n",
       "\n",
       "      previous_ride_end_time duration_bike_idle_between_rides  \\\n",
       "0                        NaT                              NaT   \n",
       "1 2019-04-21 21:41:29.711347                         01:02:00   \n",
       "2 2019-04-21 22:51:29.711347                         00:16:00   \n",
       "3 2019-04-21 23:23:29.711347                         01:37:00   \n",
       "4 2019-04-22 01:19:29.711347                         00:55:00   \n",
       "5 2019-04-22 02:20:29.711347                         01:25:00   \n",
       "\n",
       "   minutes_bike_idle_between_rides  \n",
       "0                              NaN  \n",
       "1                             62.0  \n",
       "2                             16.0  \n",
       "3                             97.0  \n",
       "4                             55.0  \n",
       "5                             85.0  "
      ]
     },
     "execution_count": 152,
     "metadata": {},
     "output_type": "execute_result"
    }
   ],
   "source": [
    "df_bike_rides"
   ]
  },
  {
   "cell_type": "markdown",
   "metadata": {},
   "source": [
    "I calculate the mean `minutes_bike_idle_between_rides` value as 63 minutes."
   ]
  },
  {
   "cell_type": "code",
   "execution_count": 153,
   "metadata": {},
   "outputs": [
    {
     "data": {
      "text/plain": [
       "63.0"
      ]
     },
     "execution_count": 153,
     "metadata": {},
     "output_type": "execute_result"
    }
   ],
   "source": [
    "avg_minutes_bikes_idle_between_rides = df_bike_rides['minutes_bike_idle_between_rides'].mean()\n",
    "avg_minutes_bikes_idle_between_rides"
   ]
  },
  {
   "cell_type": "markdown",
   "metadata": {},
   "source": [
    "### Example 2: Duration Idle Time Between Bike Rides Per Unique Bike"
   ]
  },
  {
   "cell_type": "markdown",
   "metadata": {},
   "source": [
    "This example below is similar to the one above. However, I assume I now operate a fleet of 2 bikes and rent them out for people to ride to specific stations in the city of San Francisco. \n",
    "\n",
    "Below I create a pandas dataframe with details on bike ride times, the bike id and the start and end station."
   ]
  },
  {
   "cell_type": "code",
   "execution_count": 154,
   "metadata": {},
   "outputs": [],
   "source": [
    "data = {'ride_start_time': ride_start_times,\n",
    "        'ride_end_time':  ride_end_times,\n",
    "        'bike_id': [1, 22, 1, 1, 22, 22],\n",
    "        'start_station': [\"21st & Folsom\", \"21st & Folsom\", \"4th & King\", \"24th & Valencia\", \"4th & King\",  \"16th and Mission\"],\n",
    "        'end_station':  [\"4th & King\", \"4th & King\", \"24th & Valencia\", \"Embarcadero & Market\",  \"16th and Mission\", \"4th & King\"]\n",
    "       }\n",
    "df_bike_sharing = pd.DataFrame(data)"
   ]
  },
  {
   "cell_type": "markdown",
   "metadata": {},
   "source": [
    "View `df_bike_sharing`."
   ]
  },
  {
   "cell_type": "code",
   "execution_count": 155,
   "metadata": {},
   "outputs": [
    {
     "data": {
      "text/html": [
       "<div>\n",
       "<style scoped>\n",
       "    .dataframe tbody tr th:only-of-type {\n",
       "        vertical-align: middle;\n",
       "    }\n",
       "\n",
       "    .dataframe tbody tr th {\n",
       "        vertical-align: top;\n",
       "    }\n",
       "\n",
       "    .dataframe thead th {\n",
       "        text-align: right;\n",
       "    }\n",
       "</style>\n",
       "<table border=\"1\" class=\"dataframe\">\n",
       "  <thead>\n",
       "    <tr style=\"text-align: right;\">\n",
       "      <th></th>\n",
       "      <th>ride_start_time</th>\n",
       "      <th>ride_end_time</th>\n",
       "      <th>bike_id</th>\n",
       "      <th>start_station</th>\n",
       "      <th>end_station</th>\n",
       "    </tr>\n",
       "  </thead>\n",
       "  <tbody>\n",
       "    <tr>\n",
       "      <th>0</th>\n",
       "      <td>2019-04-21 21:23:29.711347</td>\n",
       "      <td>2019-04-21 21:41:29.711347</td>\n",
       "      <td>1</td>\n",
       "      <td>21st &amp; Folsom</td>\n",
       "      <td>4th &amp; King</td>\n",
       "    </tr>\n",
       "    <tr>\n",
       "      <th>1</th>\n",
       "      <td>2019-04-21 22:43:29.711347</td>\n",
       "      <td>2019-04-21 22:51:29.711347</td>\n",
       "      <td>22</td>\n",
       "      <td>21st &amp; Folsom</td>\n",
       "      <td>4th &amp; King</td>\n",
       "    </tr>\n",
       "    <tr>\n",
       "      <th>2</th>\n",
       "      <td>2019-04-21 23:07:29.711347</td>\n",
       "      <td>2019-04-21 23:23:29.711347</td>\n",
       "      <td>1</td>\n",
       "      <td>4th &amp; King</td>\n",
       "      <td>24th &amp; Valencia</td>\n",
       "    </tr>\n",
       "    <tr>\n",
       "      <th>3</th>\n",
       "      <td>2019-04-22 01:00:29.711347</td>\n",
       "      <td>2019-04-22 01:19:29.711347</td>\n",
       "      <td>1</td>\n",
       "      <td>24th &amp; Valencia</td>\n",
       "      <td>Embarcadero &amp; Market</td>\n",
       "    </tr>\n",
       "    <tr>\n",
       "      <th>4</th>\n",
       "      <td>2019-04-22 02:14:29.711347</td>\n",
       "      <td>2019-04-22 02:20:29.711347</td>\n",
       "      <td>22</td>\n",
       "      <td>4th &amp; King</td>\n",
       "      <td>16th and Mission</td>\n",
       "    </tr>\n",
       "    <tr>\n",
       "      <th>5</th>\n",
       "      <td>2019-04-22 03:45:29.711347</td>\n",
       "      <td>2019-04-22 03:55:29.711347</td>\n",
       "      <td>22</td>\n",
       "      <td>16th and Mission</td>\n",
       "      <td>4th &amp; King</td>\n",
       "    </tr>\n",
       "  </tbody>\n",
       "</table>\n",
       "</div>"
      ],
      "text/plain": [
       "             ride_start_time              ride_end_time  bike_id  \\\n",
       "0 2019-04-21 21:23:29.711347 2019-04-21 21:41:29.711347        1   \n",
       "1 2019-04-21 22:43:29.711347 2019-04-21 22:51:29.711347       22   \n",
       "2 2019-04-21 23:07:29.711347 2019-04-21 23:23:29.711347        1   \n",
       "3 2019-04-22 01:00:29.711347 2019-04-22 01:19:29.711347        1   \n",
       "4 2019-04-22 02:14:29.711347 2019-04-22 02:20:29.711347       22   \n",
       "5 2019-04-22 03:45:29.711347 2019-04-22 03:55:29.711347       22   \n",
       "\n",
       "      start_station           end_station  \n",
       "0     21st & Folsom            4th & King  \n",
       "1     21st & Folsom            4th & King  \n",
       "2        4th & King       24th & Valencia  \n",
       "3   24th & Valencia  Embarcadero & Market  \n",
       "4        4th & King      16th and Mission  \n",
       "5  16th and Mission            4th & King  "
      ]
     },
     "execution_count": 155,
     "metadata": {},
     "output_type": "execute_result"
    }
   ],
   "source": [
    "df_bike_sharing"
   ]
  },
  {
   "cell_type": "markdown",
   "metadata": {},
   "source": [
    "I sort `df_bike_sharing` first by the `bike_id` column and then the `ride_start_time` column."
   ]
  },
  {
   "cell_type": "code",
   "execution_count": 156,
   "metadata": {},
   "outputs": [],
   "source": [
    "df_bike_sharing.sort_values(by=['bike_id', 'ride_start_time'], inplace=True)"
   ]
  },
  {
   "cell_type": "code",
   "execution_count": 157,
   "metadata": {},
   "outputs": [
    {
     "data": {
      "text/html": [
       "<div>\n",
       "<style scoped>\n",
       "    .dataframe tbody tr th:only-of-type {\n",
       "        vertical-align: middle;\n",
       "    }\n",
       "\n",
       "    .dataframe tbody tr th {\n",
       "        vertical-align: top;\n",
       "    }\n",
       "\n",
       "    .dataframe thead th {\n",
       "        text-align: right;\n",
       "    }\n",
       "</style>\n",
       "<table border=\"1\" class=\"dataframe\">\n",
       "  <thead>\n",
       "    <tr style=\"text-align: right;\">\n",
       "      <th></th>\n",
       "      <th>ride_start_time</th>\n",
       "      <th>ride_end_time</th>\n",
       "      <th>bike_id</th>\n",
       "      <th>start_station</th>\n",
       "      <th>end_station</th>\n",
       "    </tr>\n",
       "  </thead>\n",
       "  <tbody>\n",
       "    <tr>\n",
       "      <th>0</th>\n",
       "      <td>2019-04-21 21:23:29.711347</td>\n",
       "      <td>2019-04-21 21:41:29.711347</td>\n",
       "      <td>1</td>\n",
       "      <td>21st &amp; Folsom</td>\n",
       "      <td>4th &amp; King</td>\n",
       "    </tr>\n",
       "    <tr>\n",
       "      <th>2</th>\n",
       "      <td>2019-04-21 23:07:29.711347</td>\n",
       "      <td>2019-04-21 23:23:29.711347</td>\n",
       "      <td>1</td>\n",
       "      <td>4th &amp; King</td>\n",
       "      <td>24th &amp; Valencia</td>\n",
       "    </tr>\n",
       "    <tr>\n",
       "      <th>3</th>\n",
       "      <td>2019-04-22 01:00:29.711347</td>\n",
       "      <td>2019-04-22 01:19:29.711347</td>\n",
       "      <td>1</td>\n",
       "      <td>24th &amp; Valencia</td>\n",
       "      <td>Embarcadero &amp; Market</td>\n",
       "    </tr>\n",
       "    <tr>\n",
       "      <th>1</th>\n",
       "      <td>2019-04-21 22:43:29.711347</td>\n",
       "      <td>2019-04-21 22:51:29.711347</td>\n",
       "      <td>22</td>\n",
       "      <td>21st &amp; Folsom</td>\n",
       "      <td>4th &amp; King</td>\n",
       "    </tr>\n",
       "    <tr>\n",
       "      <th>4</th>\n",
       "      <td>2019-04-22 02:14:29.711347</td>\n",
       "      <td>2019-04-22 02:20:29.711347</td>\n",
       "      <td>22</td>\n",
       "      <td>4th &amp; King</td>\n",
       "      <td>16th and Mission</td>\n",
       "    </tr>\n",
       "    <tr>\n",
       "      <th>5</th>\n",
       "      <td>2019-04-22 03:45:29.711347</td>\n",
       "      <td>2019-04-22 03:55:29.711347</td>\n",
       "      <td>22</td>\n",
       "      <td>16th and Mission</td>\n",
       "      <td>4th &amp; King</td>\n",
       "    </tr>\n",
       "  </tbody>\n",
       "</table>\n",
       "</div>"
      ],
      "text/plain": [
       "             ride_start_time              ride_end_time  bike_id  \\\n",
       "0 2019-04-21 21:23:29.711347 2019-04-21 21:41:29.711347        1   \n",
       "2 2019-04-21 23:07:29.711347 2019-04-21 23:23:29.711347        1   \n",
       "3 2019-04-22 01:00:29.711347 2019-04-22 01:19:29.711347        1   \n",
       "1 2019-04-21 22:43:29.711347 2019-04-21 22:51:29.711347       22   \n",
       "4 2019-04-22 02:14:29.711347 2019-04-22 02:20:29.711347       22   \n",
       "5 2019-04-22 03:45:29.711347 2019-04-22 03:55:29.711347       22   \n",
       "\n",
       "      start_station           end_station  \n",
       "0     21st & Folsom            4th & King  \n",
       "2        4th & King       24th & Valencia  \n",
       "3   24th & Valencia  Embarcadero & Market  \n",
       "1     21st & Folsom            4th & King  \n",
       "4        4th & King      16th and Mission  \n",
       "5  16th and Mission            4th & King  "
      ]
     },
     "execution_count": 157,
     "metadata": {},
     "output_type": "execute_result"
    }
   ],
   "source": [
    "df_bike_sharing"
   ]
  },
  {
   "cell_type": "markdown",
   "metadata": {},
   "source": [
    "For the `bike_id` column, I shift down values by 1 to create a new column called `previous_bike_id`. I do this so I can easily compare a bike id to the previous ride's ID to identify the last ride by a bike id for a day.\n",
    "\n",
    "Similar to LAG()"
   ]
  },
  {
   "cell_type": "code",
   "execution_count": 158,
   "metadata": {},
   "outputs": [],
   "source": [
    "df_bike_sharing['previous_bike_id'] = df_bike_sharing['bike_id'].shift(periods=1)"
   ]
  },
  {
   "cell_type": "code",
   "execution_count": 159,
   "metadata": {},
   "outputs": [
    {
     "data": {
      "text/html": [
       "<div>\n",
       "<style scoped>\n",
       "    .dataframe tbody tr th:only-of-type {\n",
       "        vertical-align: middle;\n",
       "    }\n",
       "\n",
       "    .dataframe tbody tr th {\n",
       "        vertical-align: top;\n",
       "    }\n",
       "\n",
       "    .dataframe thead th {\n",
       "        text-align: right;\n",
       "    }\n",
       "</style>\n",
       "<table border=\"1\" class=\"dataframe\">\n",
       "  <thead>\n",
       "    <tr style=\"text-align: right;\">\n",
       "      <th></th>\n",
       "      <th>ride_start_time</th>\n",
       "      <th>ride_end_time</th>\n",
       "      <th>bike_id</th>\n",
       "      <th>start_station</th>\n",
       "      <th>end_station</th>\n",
       "      <th>previous_bike_id</th>\n",
       "    </tr>\n",
       "  </thead>\n",
       "  <tbody>\n",
       "    <tr>\n",
       "      <th>0</th>\n",
       "      <td>2019-04-21 21:23:29.711347</td>\n",
       "      <td>2019-04-21 21:41:29.711347</td>\n",
       "      <td>1</td>\n",
       "      <td>21st &amp; Folsom</td>\n",
       "      <td>4th &amp; King</td>\n",
       "      <td>NaN</td>\n",
       "    </tr>\n",
       "    <tr>\n",
       "      <th>2</th>\n",
       "      <td>2019-04-21 23:07:29.711347</td>\n",
       "      <td>2019-04-21 23:23:29.711347</td>\n",
       "      <td>1</td>\n",
       "      <td>4th &amp; King</td>\n",
       "      <td>24th &amp; Valencia</td>\n",
       "      <td>1.0</td>\n",
       "    </tr>\n",
       "    <tr>\n",
       "      <th>3</th>\n",
       "      <td>2019-04-22 01:00:29.711347</td>\n",
       "      <td>2019-04-22 01:19:29.711347</td>\n",
       "      <td>1</td>\n",
       "      <td>24th &amp; Valencia</td>\n",
       "      <td>Embarcadero &amp; Market</td>\n",
       "      <td>1.0</td>\n",
       "    </tr>\n",
       "    <tr>\n",
       "      <th>1</th>\n",
       "      <td>2019-04-21 22:43:29.711347</td>\n",
       "      <td>2019-04-21 22:51:29.711347</td>\n",
       "      <td>22</td>\n",
       "      <td>21st &amp; Folsom</td>\n",
       "      <td>4th &amp; King</td>\n",
       "      <td>1.0</td>\n",
       "    </tr>\n",
       "    <tr>\n",
       "      <th>4</th>\n",
       "      <td>2019-04-22 02:14:29.711347</td>\n",
       "      <td>2019-04-22 02:20:29.711347</td>\n",
       "      <td>22</td>\n",
       "      <td>4th &amp; King</td>\n",
       "      <td>16th and Mission</td>\n",
       "      <td>22.0</td>\n",
       "    </tr>\n",
       "    <tr>\n",
       "      <th>5</th>\n",
       "      <td>2019-04-22 03:45:29.711347</td>\n",
       "      <td>2019-04-22 03:55:29.711347</td>\n",
       "      <td>22</td>\n",
       "      <td>16th and Mission</td>\n",
       "      <td>4th &amp; King</td>\n",
       "      <td>22.0</td>\n",
       "    </tr>\n",
       "  </tbody>\n",
       "</table>\n",
       "</div>"
      ],
      "text/plain": [
       "             ride_start_time              ride_end_time  bike_id  \\\n",
       "0 2019-04-21 21:23:29.711347 2019-04-21 21:41:29.711347        1   \n",
       "2 2019-04-21 23:07:29.711347 2019-04-21 23:23:29.711347        1   \n",
       "3 2019-04-22 01:00:29.711347 2019-04-22 01:19:29.711347        1   \n",
       "1 2019-04-21 22:43:29.711347 2019-04-21 22:51:29.711347       22   \n",
       "4 2019-04-22 02:14:29.711347 2019-04-22 02:20:29.711347       22   \n",
       "5 2019-04-22 03:45:29.711347 2019-04-22 03:55:29.711347       22   \n",
       "\n",
       "      start_station           end_station  previous_bike_id  \n",
       "0     21st & Folsom            4th & King               NaN  \n",
       "2        4th & King       24th & Valencia               1.0  \n",
       "3   24th & Valencia  Embarcadero & Market               1.0  \n",
       "1     21st & Folsom            4th & King               1.0  \n",
       "4        4th & King      16th and Mission              22.0  \n",
       "5  16th and Mission            4th & King              22.0  "
      ]
     },
     "execution_count": 159,
     "metadata": {},
     "output_type": "execute_result"
    }
   ],
   "source": [
    "df_bike_sharing"
   ]
  },
  {
   "cell_type": "markdown",
   "metadata": {},
   "source": [
    "In SQL, this operation would be:\n",
    "\n",
    "```sql\n",
    "SELECT *, LAG(bike_id) OVER (ORDER BY bike_id ASC, ride_start_time ASC) AS previous_bike_id\n",
    "FROM df_bike_sharing \n",
    "ORDER BY bike_id ASC, ride_start_time ASC\n",
    "```\n",
    "\n",
    "For the `ride_end_time` column, I shift down values by 1 to create a new column called `previous_ride_end_time`. I do this so I can later find the idle bike time between rides."
   ]
  },
  {
   "cell_type": "code",
   "execution_count": 160,
   "metadata": {},
   "outputs": [],
   "source": [
    "df_bike_sharing['previous_ride_end_time'] = df_bike_sharing['ride_end_time'].shift(periods=1)"
   ]
  },
  {
   "cell_type": "code",
   "execution_count": 161,
   "metadata": {},
   "outputs": [
    {
     "data": {
      "text/html": [
       "<div>\n",
       "<style scoped>\n",
       "    .dataframe tbody tr th:only-of-type {\n",
       "        vertical-align: middle;\n",
       "    }\n",
       "\n",
       "    .dataframe tbody tr th {\n",
       "        vertical-align: top;\n",
       "    }\n",
       "\n",
       "    .dataframe thead th {\n",
       "        text-align: right;\n",
       "    }\n",
       "</style>\n",
       "<table border=\"1\" class=\"dataframe\">\n",
       "  <thead>\n",
       "    <tr style=\"text-align: right;\">\n",
       "      <th></th>\n",
       "      <th>ride_start_time</th>\n",
       "      <th>ride_end_time</th>\n",
       "      <th>bike_id</th>\n",
       "      <th>start_station</th>\n",
       "      <th>end_station</th>\n",
       "      <th>previous_bike_id</th>\n",
       "      <th>previous_ride_end_time</th>\n",
       "    </tr>\n",
       "  </thead>\n",
       "  <tbody>\n",
       "    <tr>\n",
       "      <th>0</th>\n",
       "      <td>2019-04-21 21:23:29.711347</td>\n",
       "      <td>2019-04-21 21:41:29.711347</td>\n",
       "      <td>1</td>\n",
       "      <td>21st &amp; Folsom</td>\n",
       "      <td>4th &amp; King</td>\n",
       "      <td>NaN</td>\n",
       "      <td>NaT</td>\n",
       "    </tr>\n",
       "    <tr>\n",
       "      <th>2</th>\n",
       "      <td>2019-04-21 23:07:29.711347</td>\n",
       "      <td>2019-04-21 23:23:29.711347</td>\n",
       "      <td>1</td>\n",
       "      <td>4th &amp; King</td>\n",
       "      <td>24th &amp; Valencia</td>\n",
       "      <td>1.0</td>\n",
       "      <td>2019-04-21 21:41:29.711347</td>\n",
       "    </tr>\n",
       "    <tr>\n",
       "      <th>3</th>\n",
       "      <td>2019-04-22 01:00:29.711347</td>\n",
       "      <td>2019-04-22 01:19:29.711347</td>\n",
       "      <td>1</td>\n",
       "      <td>24th &amp; Valencia</td>\n",
       "      <td>Embarcadero &amp; Market</td>\n",
       "      <td>1.0</td>\n",
       "      <td>2019-04-21 23:23:29.711347</td>\n",
       "    </tr>\n",
       "    <tr>\n",
       "      <th>1</th>\n",
       "      <td>2019-04-21 22:43:29.711347</td>\n",
       "      <td>2019-04-21 22:51:29.711347</td>\n",
       "      <td>22</td>\n",
       "      <td>21st &amp; Folsom</td>\n",
       "      <td>4th &amp; King</td>\n",
       "      <td>1.0</td>\n",
       "      <td>2019-04-22 01:19:29.711347</td>\n",
       "    </tr>\n",
       "    <tr>\n",
       "      <th>4</th>\n",
       "      <td>2019-04-22 02:14:29.711347</td>\n",
       "      <td>2019-04-22 02:20:29.711347</td>\n",
       "      <td>22</td>\n",
       "      <td>4th &amp; King</td>\n",
       "      <td>16th and Mission</td>\n",
       "      <td>22.0</td>\n",
       "      <td>2019-04-21 22:51:29.711347</td>\n",
       "    </tr>\n",
       "    <tr>\n",
       "      <th>5</th>\n",
       "      <td>2019-04-22 03:45:29.711347</td>\n",
       "      <td>2019-04-22 03:55:29.711347</td>\n",
       "      <td>22</td>\n",
       "      <td>16th and Mission</td>\n",
       "      <td>4th &amp; King</td>\n",
       "      <td>22.0</td>\n",
       "      <td>2019-04-22 02:20:29.711347</td>\n",
       "    </tr>\n",
       "  </tbody>\n",
       "</table>\n",
       "</div>"
      ],
      "text/plain": [
       "             ride_start_time              ride_end_time  bike_id  \\\n",
       "0 2019-04-21 21:23:29.711347 2019-04-21 21:41:29.711347        1   \n",
       "2 2019-04-21 23:07:29.711347 2019-04-21 23:23:29.711347        1   \n",
       "3 2019-04-22 01:00:29.711347 2019-04-22 01:19:29.711347        1   \n",
       "1 2019-04-21 22:43:29.711347 2019-04-21 22:51:29.711347       22   \n",
       "4 2019-04-22 02:14:29.711347 2019-04-22 02:20:29.711347       22   \n",
       "5 2019-04-22 03:45:29.711347 2019-04-22 03:55:29.711347       22   \n",
       "\n",
       "      start_station           end_station  previous_bike_id  \\\n",
       "0     21st & Folsom            4th & King               NaN   \n",
       "2        4th & King       24th & Valencia               1.0   \n",
       "3   24th & Valencia  Embarcadero & Market               1.0   \n",
       "1     21st & Folsom            4th & King               1.0   \n",
       "4        4th & King      16th and Mission              22.0   \n",
       "5  16th and Mission            4th & King              22.0   \n",
       "\n",
       "      previous_ride_end_time  \n",
       "0                        NaT  \n",
       "2 2019-04-21 21:41:29.711347  \n",
       "3 2019-04-21 23:23:29.711347  \n",
       "1 2019-04-22 01:19:29.711347  \n",
       "4 2019-04-21 22:51:29.711347  \n",
       "5 2019-04-22 02:20:29.711347  "
      ]
     },
     "execution_count": 161,
     "metadata": {},
     "output_type": "execute_result"
    }
   ],
   "source": [
    "df_bike_sharing"
   ]
  },
  {
   "cell_type": "markdown",
   "metadata": {},
   "source": [
    "We only want to calculate a duration the bike was idle in a row if it's a comparison for the same bike id. Below I show the code to replace all values in a row with `NaN` or `NaT` if the condition is false. "
   ]
  },
  {
   "cell_type": "code",
   "execution_count": 162,
   "metadata": {},
   "outputs": [
    {
     "data": {
      "text/html": [
       "<div>\n",
       "<style scoped>\n",
       "    .dataframe tbody tr th:only-of-type {\n",
       "        vertical-align: middle;\n",
       "    }\n",
       "\n",
       "    .dataframe tbody tr th {\n",
       "        vertical-align: top;\n",
       "    }\n",
       "\n",
       "    .dataframe thead th {\n",
       "        text-align: right;\n",
       "    }\n",
       "</style>\n",
       "<table border=\"1\" class=\"dataframe\">\n",
       "  <thead>\n",
       "    <tr style=\"text-align: right;\">\n",
       "      <th></th>\n",
       "      <th>ride_start_time</th>\n",
       "      <th>ride_end_time</th>\n",
       "      <th>bike_id</th>\n",
       "      <th>start_station</th>\n",
       "      <th>end_station</th>\n",
       "      <th>previous_bike_id</th>\n",
       "      <th>previous_ride_end_time</th>\n",
       "    </tr>\n",
       "  </thead>\n",
       "  <tbody>\n",
       "    <tr>\n",
       "      <th>0</th>\n",
       "      <td>NaT</td>\n",
       "      <td>NaT</td>\n",
       "      <td>NaN</td>\n",
       "      <td>NaN</td>\n",
       "      <td>NaN</td>\n",
       "      <td>NaN</td>\n",
       "      <td>NaT</td>\n",
       "    </tr>\n",
       "    <tr>\n",
       "      <th>2</th>\n",
       "      <td>2019-04-21 23:07:29.711347</td>\n",
       "      <td>2019-04-21 23:23:29.711347</td>\n",
       "      <td>1.0</td>\n",
       "      <td>4th &amp; King</td>\n",
       "      <td>24th &amp; Valencia</td>\n",
       "      <td>1.0</td>\n",
       "      <td>2019-04-21 21:41:29.711347</td>\n",
       "    </tr>\n",
       "    <tr>\n",
       "      <th>3</th>\n",
       "      <td>2019-04-22 01:00:29.711347</td>\n",
       "      <td>2019-04-22 01:19:29.711347</td>\n",
       "      <td>1.0</td>\n",
       "      <td>24th &amp; Valencia</td>\n",
       "      <td>Embarcadero &amp; Market</td>\n",
       "      <td>1.0</td>\n",
       "      <td>2019-04-21 23:23:29.711347</td>\n",
       "    </tr>\n",
       "    <tr>\n",
       "      <th>1</th>\n",
       "      <td>NaT</td>\n",
       "      <td>NaT</td>\n",
       "      <td>NaN</td>\n",
       "      <td>NaN</td>\n",
       "      <td>NaN</td>\n",
       "      <td>NaN</td>\n",
       "      <td>NaT</td>\n",
       "    </tr>\n",
       "    <tr>\n",
       "      <th>4</th>\n",
       "      <td>2019-04-22 02:14:29.711347</td>\n",
       "      <td>2019-04-22 02:20:29.711347</td>\n",
       "      <td>22.0</td>\n",
       "      <td>4th &amp; King</td>\n",
       "      <td>16th and Mission</td>\n",
       "      <td>22.0</td>\n",
       "      <td>2019-04-21 22:51:29.711347</td>\n",
       "    </tr>\n",
       "    <tr>\n",
       "      <th>5</th>\n",
       "      <td>2019-04-22 03:45:29.711347</td>\n",
       "      <td>2019-04-22 03:55:29.711347</td>\n",
       "      <td>22.0</td>\n",
       "      <td>16th and Mission</td>\n",
       "      <td>4th &amp; King</td>\n",
       "      <td>22.0</td>\n",
       "      <td>2019-04-22 02:20:29.711347</td>\n",
       "    </tr>\n",
       "  </tbody>\n",
       "</table>\n",
       "</div>"
      ],
      "text/plain": [
       "             ride_start_time              ride_end_time  bike_id  \\\n",
       "0                        NaT                        NaT      NaN   \n",
       "2 2019-04-21 23:07:29.711347 2019-04-21 23:23:29.711347      1.0   \n",
       "3 2019-04-22 01:00:29.711347 2019-04-22 01:19:29.711347      1.0   \n",
       "1                        NaT                        NaT      NaN   \n",
       "4 2019-04-22 02:14:29.711347 2019-04-22 02:20:29.711347     22.0   \n",
       "5 2019-04-22 03:45:29.711347 2019-04-22 03:55:29.711347     22.0   \n",
       "\n",
       "      start_station           end_station  previous_bike_id  \\\n",
       "0               NaN                   NaN               NaN   \n",
       "2        4th & King       24th & Valencia               1.0   \n",
       "3   24th & Valencia  Embarcadero & Market               1.0   \n",
       "1               NaN                   NaN               NaN   \n",
       "4        4th & King      16th and Mission              22.0   \n",
       "5  16th and Mission            4th & King              22.0   \n",
       "\n",
       "      previous_ride_end_time  \n",
       "0                        NaT  \n",
       "2 2019-04-21 21:41:29.711347  \n",
       "3 2019-04-21 23:23:29.711347  \n",
       "1                        NaT  \n",
       "4 2019-04-21 22:51:29.711347  \n",
       "5 2019-04-22 02:20:29.711347  "
      ]
     },
     "execution_count": 162,
     "metadata": {},
     "output_type": "execute_result"
    }
   ],
   "source": [
    "df_bike_sharing.where(df_bike_sharing['bike_id'] == df_bike_sharing['previous_bike_id'])"
   ]
  },
  {
   "cell_type": "markdown",
   "metadata": {},
   "source": [
    "With the above change, I calculate `ride_start_time` minus `previous_ride_end_time` where the above condition holds True. With that calculation, I create a new column called `duration_bike_idle`."
   ]
  },
  {
   "cell_type": "code",
   "execution_count": 163,
   "metadata": {},
   "outputs": [],
   "source": [
    "df_bike_sharing['duration_bike_idle'] = (df_bike_sharing['ride_start_time']-df_bike_sharing['previous_ride_end_time']).where(df_bike_sharing['bike_id'] == df_bike_sharing['previous_bike_id'])"
   ]
  },
  {
   "cell_type": "code",
   "execution_count": 165,
   "metadata": {},
   "outputs": [
    {
     "data": {
      "text/html": [
       "<div>\n",
       "<style scoped>\n",
       "    .dataframe tbody tr th:only-of-type {\n",
       "        vertical-align: middle;\n",
       "    }\n",
       "\n",
       "    .dataframe tbody tr th {\n",
       "        vertical-align: top;\n",
       "    }\n",
       "\n",
       "    .dataframe thead th {\n",
       "        text-align: right;\n",
       "    }\n",
       "</style>\n",
       "<table border=\"1\" class=\"dataframe\">\n",
       "  <thead>\n",
       "    <tr style=\"text-align: right;\">\n",
       "      <th></th>\n",
       "      <th>ride_start_time</th>\n",
       "      <th>ride_end_time</th>\n",
       "      <th>bike_id</th>\n",
       "      <th>start_station</th>\n",
       "      <th>end_station</th>\n",
       "      <th>duration_bike_idle</th>\n",
       "    </tr>\n",
       "  </thead>\n",
       "  <tbody>\n",
       "    <tr>\n",
       "      <th>0</th>\n",
       "      <td>2019-04-21 21:23:29.711347</td>\n",
       "      <td>2019-04-21 21:41:29.711347</td>\n",
       "      <td>1</td>\n",
       "      <td>21st &amp; Folsom</td>\n",
       "      <td>4th &amp; King</td>\n",
       "      <td>NaT</td>\n",
       "    </tr>\n",
       "    <tr>\n",
       "      <th>2</th>\n",
       "      <td>2019-04-21 23:07:29.711347</td>\n",
       "      <td>2019-04-21 23:23:29.711347</td>\n",
       "      <td>1</td>\n",
       "      <td>4th &amp; King</td>\n",
       "      <td>24th &amp; Valencia</td>\n",
       "      <td>01:26:00</td>\n",
       "    </tr>\n",
       "    <tr>\n",
       "      <th>3</th>\n",
       "      <td>2019-04-22 01:00:29.711347</td>\n",
       "      <td>2019-04-22 01:19:29.711347</td>\n",
       "      <td>1</td>\n",
       "      <td>24th &amp; Valencia</td>\n",
       "      <td>Embarcadero &amp; Market</td>\n",
       "      <td>01:37:00</td>\n",
       "    </tr>\n",
       "    <tr>\n",
       "      <th>1</th>\n",
       "      <td>2019-04-21 22:43:29.711347</td>\n",
       "      <td>2019-04-21 22:51:29.711347</td>\n",
       "      <td>22</td>\n",
       "      <td>21st &amp; Folsom</td>\n",
       "      <td>4th &amp; King</td>\n",
       "      <td>NaT</td>\n",
       "    </tr>\n",
       "    <tr>\n",
       "      <th>4</th>\n",
       "      <td>2019-04-22 02:14:29.711347</td>\n",
       "      <td>2019-04-22 02:20:29.711347</td>\n",
       "      <td>22</td>\n",
       "      <td>4th &amp; King</td>\n",
       "      <td>16th and Mission</td>\n",
       "      <td>03:23:00</td>\n",
       "    </tr>\n",
       "    <tr>\n",
       "      <th>5</th>\n",
       "      <td>2019-04-22 03:45:29.711347</td>\n",
       "      <td>2019-04-22 03:55:29.711347</td>\n",
       "      <td>22</td>\n",
       "      <td>16th and Mission</td>\n",
       "      <td>4th &amp; King</td>\n",
       "      <td>01:25:00</td>\n",
       "    </tr>\n",
       "  </tbody>\n",
       "</table>\n",
       "</div>"
      ],
      "text/plain": [
       "             ride_start_time              ride_end_time  bike_id  \\\n",
       "0 2019-04-21 21:23:29.711347 2019-04-21 21:41:29.711347        1   \n",
       "2 2019-04-21 23:07:29.711347 2019-04-21 23:23:29.711347        1   \n",
       "3 2019-04-22 01:00:29.711347 2019-04-22 01:19:29.711347        1   \n",
       "1 2019-04-21 22:43:29.711347 2019-04-21 22:51:29.711347       22   \n",
       "4 2019-04-22 02:14:29.711347 2019-04-22 02:20:29.711347       22   \n",
       "5 2019-04-22 03:45:29.711347 2019-04-22 03:55:29.711347       22   \n",
       "\n",
       "      start_station           end_station duration_bike_idle  \n",
       "0     21st & Folsom            4th & King                NaT  \n",
       "2        4th & King       24th & Valencia           01:26:00  \n",
       "3   24th & Valencia  Embarcadero & Market           01:37:00  \n",
       "1     21st & Folsom            4th & King                NaT  \n",
       "4        4th & King      16th and Mission           03:23:00  \n",
       "5  16th and Mission            4th & King           01:25:00  "
      ]
     },
     "execution_count": 165,
     "metadata": {},
     "output_type": "execute_result"
    }
   ],
   "source": [
    "df_bike_sharing"
   ]
  },
  {
   "cell_type": "markdown",
   "metadata": {},
   "source": [
    "I drop `previous_bike_id` and `previous_ride_end_time` since they were intermediary outputs used for calculations. They're not necessary for a final presentation of the critical details."
   ]
  },
  {
   "cell_type": "code",
   "execution_count": 164,
   "metadata": {},
   "outputs": [],
   "source": [
    "df_bike_sharing.drop(['previous_bike_id', 'previous_ride_end_time'], axis=1, inplace=True)"
   ]
  },
  {
   "cell_type": "markdown",
   "metadata": {},
   "source": [
    "The new column `duration_bike_idle_seconds` shows the duration of idle bike time between rides in the format HH-MM-SS. The value of `01:26:00` is equivalent to saying *1 hour and 26 minutes*. Below, I convert that timedelta format into a single numerical value of minutes. I utilize the `dt` accessor and `total_seconds()` <a href='https://pandas.pydata.org/pandas-docs/stable/reference/api/pandas.Series.dt.total_seconds.html' target='_blank'>method</a> to calculate the total seconds a bike is idle between rides of the same bike id. Then I divide this value by `60` to get a value in minutes.\n"
   ]
  },
  {
   "cell_type": "code",
   "execution_count": 166,
   "metadata": {},
   "outputs": [],
   "source": [
    "df_bike_sharing['duration_bike_idle_seconds'] = df_bike_sharing['duration_bike_idle'].dt.total_seconds()"
   ]
  },
  {
   "cell_type": "code",
   "execution_count": 167,
   "metadata": {},
   "outputs": [
    {
     "data": {
      "text/html": [
       "<div>\n",
       "<style scoped>\n",
       "    .dataframe tbody tr th:only-of-type {\n",
       "        vertical-align: middle;\n",
       "    }\n",
       "\n",
       "    .dataframe tbody tr th {\n",
       "        vertical-align: top;\n",
       "    }\n",
       "\n",
       "    .dataframe thead th {\n",
       "        text-align: right;\n",
       "    }\n",
       "</style>\n",
       "<table border=\"1\" class=\"dataframe\">\n",
       "  <thead>\n",
       "    <tr style=\"text-align: right;\">\n",
       "      <th></th>\n",
       "      <th>ride_start_time</th>\n",
       "      <th>ride_end_time</th>\n",
       "      <th>bike_id</th>\n",
       "      <th>start_station</th>\n",
       "      <th>end_station</th>\n",
       "      <th>duration_bike_idle</th>\n",
       "      <th>duration_bike_idle_seconds</th>\n",
       "    </tr>\n",
       "  </thead>\n",
       "  <tbody>\n",
       "    <tr>\n",
       "      <th>0</th>\n",
       "      <td>2019-04-21 21:23:29.711347</td>\n",
       "      <td>2019-04-21 21:41:29.711347</td>\n",
       "      <td>1</td>\n",
       "      <td>21st &amp; Folsom</td>\n",
       "      <td>4th &amp; King</td>\n",
       "      <td>NaT</td>\n",
       "      <td>NaN</td>\n",
       "    </tr>\n",
       "    <tr>\n",
       "      <th>2</th>\n",
       "      <td>2019-04-21 23:07:29.711347</td>\n",
       "      <td>2019-04-21 23:23:29.711347</td>\n",
       "      <td>1</td>\n",
       "      <td>4th &amp; King</td>\n",
       "      <td>24th &amp; Valencia</td>\n",
       "      <td>01:26:00</td>\n",
       "      <td>5160.0</td>\n",
       "    </tr>\n",
       "    <tr>\n",
       "      <th>3</th>\n",
       "      <td>2019-04-22 01:00:29.711347</td>\n",
       "      <td>2019-04-22 01:19:29.711347</td>\n",
       "      <td>1</td>\n",
       "      <td>24th &amp; Valencia</td>\n",
       "      <td>Embarcadero &amp; Market</td>\n",
       "      <td>01:37:00</td>\n",
       "      <td>5820.0</td>\n",
       "    </tr>\n",
       "    <tr>\n",
       "      <th>1</th>\n",
       "      <td>2019-04-21 22:43:29.711347</td>\n",
       "      <td>2019-04-21 22:51:29.711347</td>\n",
       "      <td>22</td>\n",
       "      <td>21st &amp; Folsom</td>\n",
       "      <td>4th &amp; King</td>\n",
       "      <td>NaT</td>\n",
       "      <td>NaN</td>\n",
       "    </tr>\n",
       "    <tr>\n",
       "      <th>4</th>\n",
       "      <td>2019-04-22 02:14:29.711347</td>\n",
       "      <td>2019-04-22 02:20:29.711347</td>\n",
       "      <td>22</td>\n",
       "      <td>4th &amp; King</td>\n",
       "      <td>16th and Mission</td>\n",
       "      <td>03:23:00</td>\n",
       "      <td>12180.0</td>\n",
       "    </tr>\n",
       "    <tr>\n",
       "      <th>5</th>\n",
       "      <td>2019-04-22 03:45:29.711347</td>\n",
       "      <td>2019-04-22 03:55:29.711347</td>\n",
       "      <td>22</td>\n",
       "      <td>16th and Mission</td>\n",
       "      <td>4th &amp; King</td>\n",
       "      <td>01:25:00</td>\n",
       "      <td>5100.0</td>\n",
       "    </tr>\n",
       "  </tbody>\n",
       "</table>\n",
       "</div>"
      ],
      "text/plain": [
       "             ride_start_time              ride_end_time  bike_id  \\\n",
       "0 2019-04-21 21:23:29.711347 2019-04-21 21:41:29.711347        1   \n",
       "2 2019-04-21 23:07:29.711347 2019-04-21 23:23:29.711347        1   \n",
       "3 2019-04-22 01:00:29.711347 2019-04-22 01:19:29.711347        1   \n",
       "1 2019-04-21 22:43:29.711347 2019-04-21 22:51:29.711347       22   \n",
       "4 2019-04-22 02:14:29.711347 2019-04-22 02:20:29.711347       22   \n",
       "5 2019-04-22 03:45:29.711347 2019-04-22 03:55:29.711347       22   \n",
       "\n",
       "      start_station           end_station duration_bike_idle  \\\n",
       "0     21st & Folsom            4th & King                NaT   \n",
       "2        4th & King       24th & Valencia           01:26:00   \n",
       "3   24th & Valencia  Embarcadero & Market           01:37:00   \n",
       "1     21st & Folsom            4th & King                NaT   \n",
       "4        4th & King      16th and Mission           03:23:00   \n",
       "5  16th and Mission            4th & King           01:25:00   \n",
       "\n",
       "   duration_bike_idle_seconds  \n",
       "0                         NaN  \n",
       "2                      5160.0  \n",
       "3                      5820.0  \n",
       "1                         NaN  \n",
       "4                     12180.0  \n",
       "5                      5100.0  "
      ]
     },
     "execution_count": 167,
     "metadata": {},
     "output_type": "execute_result"
    }
   ],
   "source": [
    "df_bike_sharing"
   ]
  },
  {
   "cell_type": "markdown",
   "metadata": {},
   "source": [
    "Here is the average seconds each `bike_id` is idle during the day in seconds between the first and last ride. I group by the `bike_id` column and calculate the mean of the `duration_bike_idle_seconds_time` column. I reset the index and rename the columns so this final output is easier to understand."
   ]
  },
  {
   "cell_type": "code",
   "execution_count": 168,
   "metadata": {},
   "outputs": [
    {
     "data": {
      "text/html": [
       "<div>\n",
       "<style scoped>\n",
       "    .dataframe tbody tr th:only-of-type {\n",
       "        vertical-align: middle;\n",
       "    }\n",
       "\n",
       "    .dataframe tbody tr th {\n",
       "        vertical-align: top;\n",
       "    }\n",
       "\n",
       "    .dataframe thead th {\n",
       "        text-align: right;\n",
       "    }\n",
       "</style>\n",
       "<table border=\"1\" class=\"dataframe\">\n",
       "  <thead>\n",
       "    <tr style=\"text-align: right;\">\n",
       "      <th></th>\n",
       "      <th>bike_id</th>\n",
       "      <th>avg_seconds_idle_between_rides</th>\n",
       "    </tr>\n",
       "  </thead>\n",
       "  <tbody>\n",
       "    <tr>\n",
       "      <th>0</th>\n",
       "      <td>1</td>\n",
       "      <td>5490.0</td>\n",
       "    </tr>\n",
       "    <tr>\n",
       "      <th>1</th>\n",
       "      <td>22</td>\n",
       "      <td>8640.0</td>\n",
       "    </tr>\n",
       "  </tbody>\n",
       "</table>\n",
       "</div>"
      ],
      "text/plain": [
       "   bike_id  avg_seconds_idle_between_rides\n",
       "0        1                          5490.0\n",
       "1       22                          8640.0"
      ]
     },
     "execution_count": 168,
     "metadata": {},
     "output_type": "execute_result"
    }
   ],
   "source": [
    "df_bike_sharing.groupby('bike_id')['duration_bike_idle_seconds'].mean().reset_index().rename(columns={'duration_bike_idle_seconds': 'avg_seconds_idle_between_rides'})"
   ]
  },
  {
   "cell_type": "markdown",
   "metadata": {},
   "source": [
    "Bike id of `22` was left idle longer between rides than the bike id of `1`."
   ]
  }
 ],
 "metadata": {
  "kernelspec": {
   "display_name": "Python 3",
   "language": "python",
   "name": "python3"
  },
  "language_info": {
   "codemirror_mode": {
    "name": "ipython",
    "version": 3
   },
   "file_extension": ".py",
   "mimetype": "text/x-python",
   "name": "python",
   "nbconvert_exporter": "python",
   "pygments_lexer": "ipython3",
   "version": "3.7.5"
  }
 },
 "nbformat": 4,
 "nbformat_minor": 4
}
