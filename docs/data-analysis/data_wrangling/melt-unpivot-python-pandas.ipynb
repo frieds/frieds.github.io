{
 "cells": [
  {
   "cell_type": "markdown",
   "metadata": {},
   "source": [
    "# melt() Method: Unpivot a DataFrame\n",
    "\n",
    "Date published: 2018-11-25\n",
    "\n",
    "Category: Data Analysis\n",
    "\n",
    "Subcategory: Data Wrangling\n",
    "\n",
    "Tags: unpivot, melt, python, pandas\n"
   ]
  },
  {
   "cell_type": "markdown",
   "metadata": {},
   "source": [
    "In pandas, we can \"unpivot\" a DataFrame - turn it from a *wide* format - many columns - to a *long* format - few columns but many rows. We can accomplish this with the pandas <a href='https://pandas.pydata.org/pandas-docs/version/0.23.4/generated/pandas.melt.html'>melt()</a> method. This can be helpful for further analysis of our new unpivoted DataFrame."
   ]
  },
  {
   "cell_type": "markdown",
   "metadata": {},
   "source": [
    "### Import Module"
   ]
  },
  {
   "cell_type": "code",
   "execution_count": 20,
   "metadata": {},
   "outputs": [],
   "source": [
    "import pandas as pd"
   ]
  },
  {
   "cell_type": "markdown",
   "metadata": {},
   "source": [
    "### Example: Pivot Tesla Car Acceleration Details"
   ]
  },
  {
   "cell_type": "markdown",
   "metadata": {},
   "source": [
    "Here is fictional acceleration tests for three popular Tesla car models. In order to verify acceleration of the cars, I figured a third-party may make three *runs* to test the three models alongside one another."
   ]
  },
  {
   "cell_type": "code",
   "execution_count": 21,
   "metadata": {},
   "outputs": [
    {
     "data": {
      "text/html": [
       "<div>\n",
       "<style scoped>\n",
       "    .dataframe tbody tr th:only-of-type {\n",
       "        vertical-align: middle;\n",
       "    }\n",
       "\n",
       "    .dataframe tbody tr th {\n",
       "        vertical-align: top;\n",
       "    }\n",
       "\n",
       "    .dataframe thead th {\n",
       "        text-align: right;\n",
       "    }\n",
       "</style>\n",
       "<table border=\"1\" class=\"dataframe\">\n",
       "  <thead>\n",
       "    <tr style=\"text-align: right;\">\n",
       "      <th></th>\n",
       "      <th>car_model</th>\n",
       "      <th>Sept 1 9am</th>\n",
       "      <th>Sept 1 10am</th>\n",
       "      <th>Sept 1 11am</th>\n",
       "    </tr>\n",
       "  </thead>\n",
       "  <tbody>\n",
       "    <tr>\n",
       "      <th>0</th>\n",
       "      <td>Tesla Model S P100D</td>\n",
       "      <td>2.50</td>\n",
       "      <td>2.51</td>\n",
       "      <td>2.54</td>\n",
       "    </tr>\n",
       "    <tr>\n",
       "      <th>1</th>\n",
       "      <td>Tesla Model X P100D</td>\n",
       "      <td>2.92</td>\n",
       "      <td>2.91</td>\n",
       "      <td>2.93</td>\n",
       "    </tr>\n",
       "    <tr>\n",
       "      <th>2</th>\n",
       "      <td>Tesla Model 3 AWD Dual Motor</td>\n",
       "      <td>3.33</td>\n",
       "      <td>3.31</td>\n",
       "      <td>3.35</td>\n",
       "    </tr>\n",
       "  </tbody>\n",
       "</table>\n",
       "</div>"
      ],
      "text/plain": [
       "                      car_model  Sept 1 9am  Sept 1 10am  Sept 1 11am\n",
       "0           Tesla Model S P100D        2.50         2.51         2.54\n",
       "1           Tesla Model X P100D        2.92         2.91         2.93\n",
       "2  Tesla Model 3 AWD Dual Motor        3.33         3.31         3.35"
      ]
     },
     "execution_count": 21,
     "metadata": {},
     "output_type": "execute_result"
    }
   ],
   "source": [
    "s = 'Tesla Model S P100D'\n",
    "x = 'Tesla Model X P100D'\n",
    "three = 'Tesla Model 3 AWD Dual Motor'\n",
    "\n",
    "s_data = [s, 2.5, 2.51, 2.54]\n",
    "x_data = [x, 2.92, 2.91, 2.93]\n",
    "three_data = [three, 3.33, 3.31, 3.35]\n",
    "\n",
    "data = [s_data, x_data, three_data] \n",
    "df = pd.DataFrame(data, columns=['car_model', 'Sept 1 9am', 'Sept 1 10am', 'Sept 1 11am'])\n",
    "df"
   ]
  },
  {
   "cell_type": "markdown",
   "metadata": {},
   "source": [
    "Notice how this DataFrame features four columns, one for the car model name, and three for acceleration *runs* of a car. If they were to continue with this trend of data collection and do far more *runs*, this dataset would have lots of columns - perhaps making it daunting to visualize and analyze. \n",
    "\n",
    "I want to \"unpivot\" this data from a wide format to a long format using the pandas `melt()` method.\n",
    "\n",
    "On the `df` DataFrame, we'll call the `melt()` method and set the following arguments:\n",
    "\n",
    "- `id_vars` to `['car_model']` since each row from `df` is identified by the car model name\n",
    "- `var_name` to `'date'` since this new column needs a name\n",
    "- `value_name` to `'0-60mph_in_seconds'` since this new column needs a name"
   ]
  },
  {
   "cell_type": "code",
   "execution_count": 22,
   "metadata": {},
   "outputs": [
    {
     "data": {
      "text/html": [
       "<div>\n",
       "<style scoped>\n",
       "    .dataframe tbody tr th:only-of-type {\n",
       "        vertical-align: middle;\n",
       "    }\n",
       "\n",
       "    .dataframe tbody tr th {\n",
       "        vertical-align: top;\n",
       "    }\n",
       "\n",
       "    .dataframe thead th {\n",
       "        text-align: right;\n",
       "    }\n",
       "</style>\n",
       "<table border=\"1\" class=\"dataframe\">\n",
       "  <thead>\n",
       "    <tr style=\"text-align: right;\">\n",
       "      <th></th>\n",
       "      <th>car_model</th>\n",
       "      <th>date</th>\n",
       "      <th>0-60mph_in_seconds</th>\n",
       "    </tr>\n",
       "  </thead>\n",
       "  <tbody>\n",
       "    <tr>\n",
       "      <th>0</th>\n",
       "      <td>Tesla Model S P100D</td>\n",
       "      <td>Sept 1 9am</td>\n",
       "      <td>2.50</td>\n",
       "    </tr>\n",
       "    <tr>\n",
       "      <th>1</th>\n",
       "      <td>Tesla Model X P100D</td>\n",
       "      <td>Sept 1 9am</td>\n",
       "      <td>2.92</td>\n",
       "    </tr>\n",
       "    <tr>\n",
       "      <th>2</th>\n",
       "      <td>Tesla Model 3 AWD Dual Motor</td>\n",
       "      <td>Sept 1 9am</td>\n",
       "      <td>3.33</td>\n",
       "    </tr>\n",
       "    <tr>\n",
       "      <th>3</th>\n",
       "      <td>Tesla Model S P100D</td>\n",
       "      <td>Sept 1 10am</td>\n",
       "      <td>2.51</td>\n",
       "    </tr>\n",
       "    <tr>\n",
       "      <th>4</th>\n",
       "      <td>Tesla Model X P100D</td>\n",
       "      <td>Sept 1 10am</td>\n",
       "      <td>2.91</td>\n",
       "    </tr>\n",
       "    <tr>\n",
       "      <th>5</th>\n",
       "      <td>Tesla Model 3 AWD Dual Motor</td>\n",
       "      <td>Sept 1 10am</td>\n",
       "      <td>3.31</td>\n",
       "    </tr>\n",
       "    <tr>\n",
       "      <th>6</th>\n",
       "      <td>Tesla Model S P100D</td>\n",
       "      <td>Sept 1 11am</td>\n",
       "      <td>2.54</td>\n",
       "    </tr>\n",
       "    <tr>\n",
       "      <th>7</th>\n",
       "      <td>Tesla Model X P100D</td>\n",
       "      <td>Sept 1 11am</td>\n",
       "      <td>2.93</td>\n",
       "    </tr>\n",
       "    <tr>\n",
       "      <th>8</th>\n",
       "      <td>Tesla Model 3 AWD Dual Motor</td>\n",
       "      <td>Sept 1 11am</td>\n",
       "      <td>3.35</td>\n",
       "    </tr>\n",
       "  </tbody>\n",
       "</table>\n",
       "</div>"
      ],
      "text/plain": [
       "                      car_model         date  0-60mph_in_seconds\n",
       "0           Tesla Model S P100D   Sept 1 9am                2.50\n",
       "1           Tesla Model X P100D   Sept 1 9am                2.92\n",
       "2  Tesla Model 3 AWD Dual Motor   Sept 1 9am                3.33\n",
       "3           Tesla Model S P100D  Sept 1 10am                2.51\n",
       "4           Tesla Model X P100D  Sept 1 10am                2.91\n",
       "5  Tesla Model 3 AWD Dual Motor  Sept 1 10am                3.31\n",
       "6           Tesla Model S P100D  Sept 1 11am                2.54\n",
       "7           Tesla Model X P100D  Sept 1 11am                2.93\n",
       "8  Tesla Model 3 AWD Dual Motor  Sept 1 11am                3.35"
      ]
     },
     "execution_count": 22,
     "metadata": {},
     "output_type": "execute_result"
    }
   ],
   "source": [
    "df_unpivoted = df.melt(id_vars=['car_model'], var_name='date', value_name='0-60mph_in_seconds')\n",
    "df_unpivoted"
   ]
  },
  {
   "cell_type": "markdown",
   "metadata": {},
   "source": [
    "After this \"unpivot\", we can easily calculate the minimum (essentially the fastest) 0-60 time that we'd publish in a final report. To do so, we take our `df_unpivoted` DataFrame, group by the `car_model` column, and find the minimum value in the `0-60mph_in_seconds` column."
   ]
  },
  {
   "cell_type": "code",
   "execution_count": 23,
   "metadata": {},
   "outputs": [
    {
     "data": {
      "text/plain": [
       "car_model\n",
       "Tesla Model 3 AWD Dual Motor    3.31\n",
       "Tesla Model S P100D             2.50\n",
       "Tesla Model X P100D             2.91\n",
       "Name: 0-60mph_in_seconds, dtype: float64"
      ]
     },
     "execution_count": 23,
     "metadata": {},
     "output_type": "execute_result"
    }
   ],
   "source": [
    "df_unpivoted.groupby('car_model')['0-60mph_in_seconds'].min()"
   ]
  }
 ],
 "metadata": {
  "kernelspec": {
   "display_name": "Python 3",
   "language": "python",
   "name": "python3"
  },
  "language_info": {
   "codemirror_mode": {
    "name": "ipython",
    "version": 3
   },
   "file_extension": ".py",
   "mimetype": "text/x-python",
   "name": "python",
   "nbconvert_exporter": "python",
   "pygments_lexer": "ipython3",
   "version": "3.7.5"
  }
 },
 "nbformat": 4,
 "nbformat_minor": 4
}
