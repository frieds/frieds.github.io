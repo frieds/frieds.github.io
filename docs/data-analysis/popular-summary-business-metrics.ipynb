{
 "cells": [
  {
   "cell_type": "markdown",
   "metadata": {},
   "source": [
    "# Popular Summary Business Metrics\n",
    "\n",
    "Date published: 2019-08-26\n",
    "\n",
    "Category: Data Analysis\n",
    "\n",
    "Subcategory: Business Metrics\n",
    "\n",
    "Tags: business metrics, python, pandas\n"
   ]
  },
  {
   "cell_type": "markdown",
   "metadata": {},
   "source": [
    "On the job, I'm often asked to setup a measurement plan for a new app feature or quantify something that's happend in the past. There's several common calculations for metrics including:\n",
    "\n",
    "- Sum: result of adding numbers\n",
    "- Count: total number of occurences of something\n",
    "- Average: a number to regard the central tendancy of a set of values calculated as the sum of a condition divided by the count of occurences of that condition\n",
    "- Percentile: a value that represents a threshold for the percentage of data points less than the value\n",
    "- Ratio: comparison of two numbers into a value\n",
    "- Probability: how likely something is to happen\n",
    "\n",
    "In this post, I'll walk through a scenario in which I am asked to calculate the *success* of a website homepage that's for a note-taking app. *Success* is a vague word and there's lots of ways we can characterize it. With each metric using a calculation from the list above, I'll align that metric to be relevant to overall business goal: get as many weekly active users as possible.\n",
    "\n",
    "The homepage is just meant to educate people about the note-taking app and encourage them to sign up. There's a lot of content on the homepage about the features of the app and there's a single signup button to create an account and use the note-taking app. \n",
    "\n",
    "A caveat: this is a very simple business example and this post is meant to introduce popular summary business metrics. For a real-world project, I'd encourage you to understand your business problems, business goals and the pros and cons of each potential metric you choose. Here's a <a href=\"https://firstround.com/review/im-sorry-but-those-are-vanity-metrics/\" target=\"_blank\">great article</a> from First Round Capital that goes into more detail on evaluation of types of metrics on whether they're a practical indicator of your business' success."
   ]
  },
  {
   "cell_type": "markdown",
   "metadata": {},
   "source": [
    "### Setup Code and Data"
   ]
  },
  {
   "cell_type": "markdown",
   "metadata": {},
   "source": [
    "#### Import Modules"
   ]
  },
  {
   "cell_type": "code",
   "execution_count": 83,
   "metadata": {},
   "outputs": [],
   "source": [
    "from datetime import datetime\n",
    "from random import randint\n",
    "from random import choice\n",
    "from random import seed\n",
    "import numpy as np\n",
    "import pandas as pd\n",
    "from datetime import timedelta"
   ]
  },
  {
   "cell_type": "markdown",
   "metadata": {},
   "source": [
    "#### Generate Data"
   ]
  },
  {
   "cell_type": "markdown",
   "metadata": {},
   "source": [
    "I'll generate relevant session data we can use to compute all metrics above.\n",
    "\n",
    "Below I create 17 sessions in which each session is simplified to a visitor landing on the homepage only and then either clicking the signup button or leaving the site.\n",
    "\n",
    "For each session, there's a:\n",
    "\n",
    "- cookie id to represent a unique value for a visitor based on the visitor's browser\n",
    "- timestamp for when the visitor lands on the homepage\n",
    "- a value to represent the timestamp for when a user clicked the signup button or an `NaT` value to represent not a timestamp meaning the visitor never clicked the signup button"
   ]
  },
  {
   "cell_type": "code",
   "execution_count": 145,
   "metadata": {},
   "outputs": [],
   "source": [
    "seed(6)\n",
    "session_start_time = datetime.today().replace(microsecond=0,second=0,minute=0)\n",
    "signup_button_time = session_start_time + timedelta(seconds=random_seconds)\n",
    "session_start_times = []\n",
    "click_signup_button_times = []\n",
    "count_of_sessions = 50\n",
    "\n",
    "cookie_ids_list = list(range(1, 15)) + list(range(1, 4))\n",
    "\n",
    "for session in cookie_ids_list:\n",
    "    \n",
    "    random_seconds_between_session_start_times = randint(a=1, b=20)\n",
    "    session_start_time = session_start_time + timedelta(seconds=random_seconds_between_session_start_times)\n",
    "    \n",
    "    random_seconds_to_signup = randint(a=4, b=100)\n",
    "    click_signup_button_time = session_start_time + timedelta(seconds=random_seconds_to_signup)\n",
    "    \n",
    "    # randomly choose either the signup button time or np.NaN to be no button click\n",
    "    click_signup_button_time = random.choice([click_signup_button_time, np.NaN])\n",
    "    \n",
    "    session_start_times.append(session_start_time)\n",
    "    click_signup_button_times.append(click_signup_button_time)"
   ]
  },
  {
   "cell_type": "markdown",
   "metadata": {},
   "source": [
    "Create a Pandas dataframe from `session_start_times` and `signup_button_times`."
   ]
  },
  {
   "cell_type": "code",
   "execution_count": 125,
   "metadata": {},
   "outputs": [],
   "source": [
    "data = {'cookie_id': cookie_ids_list,\n",
    "        'session_start_time': session_start_times,\n",
    "        'click_signup_button_time':  click_signup_button_times\n",
    "       }\n",
    "df_sessions = pd.DataFrame(data)"
   ]
  },
  {
   "cell_type": "markdown",
   "metadata": {},
   "source": [
    "View entire dataset."
   ]
  },
  {
   "cell_type": "code",
   "execution_count": 126,
   "metadata": {},
   "outputs": [
    {
     "data": {
      "text/html": [
       "<div>\n",
       "<style scoped>\n",
       "    .dataframe tbody tr th:only-of-type {\n",
       "        vertical-align: middle;\n",
       "    }\n",
       "\n",
       "    .dataframe tbody tr th {\n",
       "        vertical-align: top;\n",
       "    }\n",
       "\n",
       "    .dataframe thead th {\n",
       "        text-align: right;\n",
       "    }\n",
       "</style>\n",
       "<table border=\"1\" class=\"dataframe\">\n",
       "  <thead>\n",
       "    <tr style=\"text-align: right;\">\n",
       "      <th></th>\n",
       "      <th>cookie_id</th>\n",
       "      <th>session_start_time</th>\n",
       "      <th>click_signup_button_time</th>\n",
       "    </tr>\n",
       "  </thead>\n",
       "  <tbody>\n",
       "    <tr>\n",
       "      <th>0</th>\n",
       "      <td>1</td>\n",
       "      <td>2019-08-25 15:00:19</td>\n",
       "      <td>NaT</td>\n",
       "    </tr>\n",
       "    <tr>\n",
       "      <th>1</th>\n",
       "      <td>2</td>\n",
       "      <td>2019-08-25 15:00:28</td>\n",
       "      <td>2019-08-25 15:00:36</td>\n",
       "    </tr>\n",
       "    <tr>\n",
       "      <th>2</th>\n",
       "      <td>3</td>\n",
       "      <td>2019-08-25 15:00:33</td>\n",
       "      <td>NaT</td>\n",
       "    </tr>\n",
       "    <tr>\n",
       "      <th>3</th>\n",
       "      <td>4</td>\n",
       "      <td>2019-08-25 15:00:45</td>\n",
       "      <td>2019-08-25 15:01:29</td>\n",
       "    </tr>\n",
       "    <tr>\n",
       "      <th>4</th>\n",
       "      <td>5</td>\n",
       "      <td>2019-08-25 15:00:54</td>\n",
       "      <td>2019-08-25 15:02:00</td>\n",
       "    </tr>\n",
       "    <tr>\n",
       "      <th>5</th>\n",
       "      <td>6</td>\n",
       "      <td>2019-08-25 15:01:08</td>\n",
       "      <td>2019-08-25 15:02:20</td>\n",
       "    </tr>\n",
       "    <tr>\n",
       "      <th>6</th>\n",
       "      <td>7</td>\n",
       "      <td>2019-08-25 15:01:15</td>\n",
       "      <td>NaT</td>\n",
       "    </tr>\n",
       "    <tr>\n",
       "      <th>7</th>\n",
       "      <td>8</td>\n",
       "      <td>2019-08-25 15:01:35</td>\n",
       "      <td>2019-08-25 15:03:06</td>\n",
       "    </tr>\n",
       "    <tr>\n",
       "      <th>8</th>\n",
       "      <td>9</td>\n",
       "      <td>2019-08-25 15:01:49</td>\n",
       "      <td>2019-08-25 15:02:35</td>\n",
       "    </tr>\n",
       "    <tr>\n",
       "      <th>9</th>\n",
       "      <td>10</td>\n",
       "      <td>2019-08-25 15:02:01</td>\n",
       "      <td>NaT</td>\n",
       "    </tr>\n",
       "    <tr>\n",
       "      <th>10</th>\n",
       "      <td>11</td>\n",
       "      <td>2019-08-25 15:02:16</td>\n",
       "      <td>2019-08-25 15:03:49</td>\n",
       "    </tr>\n",
       "    <tr>\n",
       "      <th>11</th>\n",
       "      <td>12</td>\n",
       "      <td>2019-08-25 15:02:23</td>\n",
       "      <td>NaT</td>\n",
       "    </tr>\n",
       "    <tr>\n",
       "      <th>12</th>\n",
       "      <td>13</td>\n",
       "      <td>2019-08-25 15:02:27</td>\n",
       "      <td>2019-08-25 15:02:36</td>\n",
       "    </tr>\n",
       "    <tr>\n",
       "      <th>13</th>\n",
       "      <td>14</td>\n",
       "      <td>2019-08-25 15:02:39</td>\n",
       "      <td>2019-08-25 15:03:45</td>\n",
       "    </tr>\n",
       "    <tr>\n",
       "      <th>14</th>\n",
       "      <td>1</td>\n",
       "      <td>2019-08-25 15:02:56</td>\n",
       "      <td>2019-08-25 15:04:13</td>\n",
       "    </tr>\n",
       "    <tr>\n",
       "      <th>15</th>\n",
       "      <td>2</td>\n",
       "      <td>2019-08-25 15:03:08</td>\n",
       "      <td>NaT</td>\n",
       "    </tr>\n",
       "    <tr>\n",
       "      <th>16</th>\n",
       "      <td>3</td>\n",
       "      <td>2019-08-25 15:03:18</td>\n",
       "      <td>2019-08-25 15:04:07</td>\n",
       "    </tr>\n",
       "  </tbody>\n",
       "</table>\n",
       "</div>"
      ],
      "text/plain": [
       "    cookie_id  session_start_time click_signup_button_time\n",
       "0           1 2019-08-25 15:00:19                      NaT\n",
       "1           2 2019-08-25 15:00:28      2019-08-25 15:00:36\n",
       "2           3 2019-08-25 15:00:33                      NaT\n",
       "3           4 2019-08-25 15:00:45      2019-08-25 15:01:29\n",
       "4           5 2019-08-25 15:00:54      2019-08-25 15:02:00\n",
       "5           6 2019-08-25 15:01:08      2019-08-25 15:02:20\n",
       "6           7 2019-08-25 15:01:15                      NaT\n",
       "7           8 2019-08-25 15:01:35      2019-08-25 15:03:06\n",
       "8           9 2019-08-25 15:01:49      2019-08-25 15:02:35\n",
       "9          10 2019-08-25 15:02:01                      NaT\n",
       "10         11 2019-08-25 15:02:16      2019-08-25 15:03:49\n",
       "11         12 2019-08-25 15:02:23                      NaT\n",
       "12         13 2019-08-25 15:02:27      2019-08-25 15:02:36\n",
       "13         14 2019-08-25 15:02:39      2019-08-25 15:03:45\n",
       "14          1 2019-08-25 15:02:56      2019-08-25 15:04:13\n",
       "15          2 2019-08-25 15:03:08                      NaT\n",
       "16          3 2019-08-25 15:03:18      2019-08-25 15:04:07"
      ]
     },
     "execution_count": 126,
     "metadata": {},
     "output_type": "execute_result"
    }
   ],
   "source": [
    "df_sessions"
   ]
  },
  {
   "cell_type": "markdown",
   "metadata": {},
   "source": [
    "### Sum Metric"
   ]
  },
  {
   "cell_type": "markdown",
   "metadata": {},
   "source": [
    "The **sum** is the result of adding things. Given the dataset, I don't think there's a single sum metric that's relevant to the business' goals. However, the sum is a calculation necessary to know the average time a visitor spends on the page before clicking the signup button. We'll revisit this calculation later in the ratio section."
   ]
  },
  {
   "cell_type": "markdown",
   "metadata": {},
   "source": [
    "### Count Metric"
   ]
  },
  {
   "cell_type": "markdown",
   "metadata": {},
   "source": [
    "A **count** is the total number of occurences of something. A relevant count metric for our business goals is the count of sessions. My hypothesis is that more sessions on the homepage will result in more signups which will likely result in more weekly active users. Therefore, the business wants more sessions per day.\n",
    "\n",
    "I can use the Python <a href=\"https://docs.python.org/3/library/functions.html#len\" target=\"_blank\">len() function</a> to count the number of session in the dataset."
   ]
  },
  {
   "cell_type": "code",
   "execution_count": 140,
   "metadata": {},
   "outputs": [
    {
     "data": {
      "text/plain": [
       "17"
      ]
     },
     "execution_count": 140,
     "metadata": {},
     "output_type": "execute_result"
    }
   ],
   "source": [
    "count_sessions = len(df_sessions)\n",
    "count_sessions"
   ]
  },
  {
   "cell_type": "markdown",
   "metadata": {},
   "source": [
    "There were 18 sessions.\n",
    "\n",
    "Another relevant count metric is the count of unique visitors to the site in a day. I'll assume each cookie used on a visitors' browser was used properly and corresponds to each user.\n",
    "\n",
    "I can count the unique values in the `cookie_id` field by using the Pandas series <a href=\"https://pandas.pydata.org/pandas-docs/stable/reference/api/pandas.Series.unique.html\" target=\"_blank\">unique() method</a>."
   ]
  },
  {
   "cell_type": "code",
   "execution_count": 128,
   "metadata": {},
   "outputs": [
    {
     "data": {
      "text/plain": [
       "14"
      ]
     },
     "execution_count": 128,
     "metadata": {},
     "output_type": "execute_result"
    }
   ],
   "source": [
    "df_sessions['cookie_id'].nunique()"
   ]
  },
  {
   "cell_type": "markdown",
   "metadata": {},
   "source": [
    "There were 14 distinct visitors to the homepage."
   ]
  },
  {
   "cell_type": "markdown",
   "metadata": {},
   "source": [
    "### Average Metric"
   ]
  },
  {
   "cell_type": "markdown",
   "metadata": {},
   "source": [
    "An **average** is the \"central\" value from a set of numbers. A relevant average metric that aligns with the business goals is the average time it takes somebody sign up from landing on the homepage first. This average metric gives us a baseline for how much consideration it takes someone to sign up. \n",
    "\n",
    "I need to create a new column that's the time duration for each user to sign up after landing on the homepage. I will subtract `click_signup_button_time` - `session_start_time`."
   ]
  },
  {
   "cell_type": "code",
   "execution_count": 129,
   "metadata": {},
   "outputs": [],
   "source": [
    "df_sessions['time_duration_until_signup'] = df_sessions['click_signup_button_time'] - df_sessions['session_start_time']"
   ]
  },
  {
   "cell_type": "markdown",
   "metadata": {},
   "source": [
    "Preview the first few sessions."
   ]
  },
  {
   "cell_type": "code",
   "execution_count": 130,
   "metadata": {},
   "outputs": [
    {
     "data": {
      "text/html": [
       "<div>\n",
       "<style scoped>\n",
       "    .dataframe tbody tr th:only-of-type {\n",
       "        vertical-align: middle;\n",
       "    }\n",
       "\n",
       "    .dataframe tbody tr th {\n",
       "        vertical-align: top;\n",
       "    }\n",
       "\n",
       "    .dataframe thead th {\n",
       "        text-align: right;\n",
       "    }\n",
       "</style>\n",
       "<table border=\"1\" class=\"dataframe\">\n",
       "  <thead>\n",
       "    <tr style=\"text-align: right;\">\n",
       "      <th></th>\n",
       "      <th>cookie_id</th>\n",
       "      <th>session_start_time</th>\n",
       "      <th>click_signup_button_time</th>\n",
       "      <th>time_duration_until_signup</th>\n",
       "    </tr>\n",
       "  </thead>\n",
       "  <tbody>\n",
       "    <tr>\n",
       "      <th>0</th>\n",
       "      <td>1</td>\n",
       "      <td>2019-08-25 15:00:19</td>\n",
       "      <td>NaT</td>\n",
       "      <td>NaT</td>\n",
       "    </tr>\n",
       "    <tr>\n",
       "      <th>1</th>\n",
       "      <td>2</td>\n",
       "      <td>2019-08-25 15:00:28</td>\n",
       "      <td>2019-08-25 15:00:36</td>\n",
       "      <td>00:00:08</td>\n",
       "    </tr>\n",
       "    <tr>\n",
       "      <th>2</th>\n",
       "      <td>3</td>\n",
       "      <td>2019-08-25 15:00:33</td>\n",
       "      <td>NaT</td>\n",
       "      <td>NaT</td>\n",
       "    </tr>\n",
       "    <tr>\n",
       "      <th>3</th>\n",
       "      <td>4</td>\n",
       "      <td>2019-08-25 15:00:45</td>\n",
       "      <td>2019-08-25 15:01:29</td>\n",
       "      <td>00:00:44</td>\n",
       "    </tr>\n",
       "    <tr>\n",
       "      <th>4</th>\n",
       "      <td>5</td>\n",
       "      <td>2019-08-25 15:00:54</td>\n",
       "      <td>2019-08-25 15:02:00</td>\n",
       "      <td>00:01:06</td>\n",
       "    </tr>\n",
       "  </tbody>\n",
       "</table>\n",
       "</div>"
      ],
      "text/plain": [
       "   cookie_id  session_start_time click_signup_button_time  \\\n",
       "0          1 2019-08-25 15:00:19                      NaT   \n",
       "1          2 2019-08-25 15:00:28      2019-08-25 15:00:36   \n",
       "2          3 2019-08-25 15:00:33                      NaT   \n",
       "3          4 2019-08-25 15:00:45      2019-08-25 15:01:29   \n",
       "4          5 2019-08-25 15:00:54      2019-08-25 15:02:00   \n",
       "\n",
       "  time_duration_until_signup  \n",
       "0                        NaT  \n",
       "1                   00:00:08  \n",
       "2                        NaT  \n",
       "3                   00:00:44  \n",
       "4                   00:01:06  "
      ]
     },
     "execution_count": 130,
     "metadata": {},
     "output_type": "execute_result"
    }
   ],
   "source": [
    "df_sessions.head()"
   ]
  },
  {
   "cell_type": "markdown",
   "metadata": {},
   "source": [
    "I can use the Pandas <a href=\"https://pandas.pydata.org/pandas-docs/stable/reference/api/pandas.DataFrame.mean.html\" target=\"_blank\">mean() method</a> to calculate the average of the `time_duration_until_signup` values."
   ]
  },
  {
   "cell_type": "code",
   "execution_count": 131,
   "metadata": {},
   "outputs": [
    {
     "data": {
      "text/plain": [
       "Timedelta('0 days 00:00:56.454545')"
      ]
     },
     "execution_count": 131,
     "metadata": {},
     "output_type": "execute_result"
    }
   ],
   "source": [
    "df_sessions['time_duration_until_signup'].mean()"
   ]
  },
  {
   "cell_type": "markdown",
   "metadata": {},
   "source": [
    "For users that do sign up, the average time it takes someone to click the signup button after landing on the homepage is approximately 56 seconds."
   ]
  },
  {
   "cell_type": "markdown",
   "metadata": {},
   "source": [
    "### Percentile"
   ]
  },
  {
   "cell_type": "markdown",
   "metadata": {},
   "source": [
    "A **percentile** represents a threshold in which there's a percentage of data points less than that value. A frequently used percentile value is the 50th percentile which represents the median. This means there are approximately 50% of data points smaller than the median value.\n",
    "\n",
    "Median can be especially helpful to understand the central tendancy of a set of values when there's a skewness in the values. You can learn more on my <a href=\"https://dfrieds.com/math/skewness\" target=\"_blank\">skewness article</a>.\n",
    "\n",
    "I can calculate the median `time_duration_until_signup` value using the <a href=\"https://pandas.pydata.org/pandas-docs/stable/reference/api/pandas.Series.median.htmlz\" target=\"_blank\">median method</a>."
   ]
  },
  {
   "cell_type": "code",
   "execution_count": 132,
   "metadata": {},
   "outputs": [
    {
     "data": {
      "text/plain": [
       "Timedelta('0 days 00:01:06')"
      ]
     },
     "execution_count": 132,
     "metadata": {},
     "output_type": "execute_result"
    }
   ],
   "source": [
    "df_sessions['time_duration_until_signup'].median()"
   ]
  },
  {
   "cell_type": "markdown",
   "metadata": {},
   "source": [
    "The median is approximately 1 minute and 6 seconds. In approximately half of sessions with signups, visitors spent less than 1 minute and 6 seconds."
   ]
  },
  {
   "cell_type": "markdown",
   "metadata": {},
   "source": [
    "### Ratio"
   ]
  },
  {
   "cell_type": "markdown",
   "metadata": {},
   "source": [
    "A **ratio** comparison of two numbers into a value. One ratio that's critical to the business' goal is to know the proportion of homepage visits that end up with a click on a signup button. This rate is commony called the clickthrough rate. The higher this rate, the more signups and likely more weekly active users down the road. \n",
    "\n",
    "Let's first count the number of sessions that have a click of the signup button. I'll count the number of non-null values in the `click_signup_button_time` field using the Pandas series <a href=\"https://pandas.pydata.org/pandas-docs/stable/reference/api/pandas.Series.notnull.html`\" target=\"_blank\">notnull() method</a>"
   ]
  },
  {
   "cell_type": "code",
   "execution_count": 139,
   "metadata": {},
   "outputs": [
    {
     "data": {
      "text/plain": [
       "11"
      ]
     },
     "execution_count": 139,
     "metadata": {},
     "output_type": "execute_result"
    }
   ],
   "source": [
    "signup_button_clicks = len(df_sessions[df_sessions['click_signup_button_time'].notnull()])\n",
    "signup_button_clicks"
   ]
  },
  {
   "cell_type": "code",
   "execution_count": 144,
   "metadata": {},
   "outputs": [
    {
     "data": {
      "text/plain": [
       "0.65"
      ]
     },
     "execution_count": 144,
     "metadata": {},
     "output_type": "execute_result"
    }
   ],
   "source": [
    "ratio_clicks_to_session = round(signup_button_clicks/count_sessions, 2)\n",
    "ratio_clicks_to_session"
   ]
  },
  {
   "cell_type": "markdown",
   "metadata": {},
   "source": [
    "0.65 sessions resulted in a signup button click. The higher this ratio, the greater % of visitors we can convert to signup and this would help expand our pool of more potential weekly active users."
   ]
  },
  {
   "cell_type": "markdown",
   "metadata": {},
   "source": [
    "### Probability"
   ]
  },
  {
   "cell_type": "markdown",
   "metadata": {},
   "source": [
    "The `cookie_id` should specify each visitor to the site based on their browser. One interesting observation is `cookie_id` of `1` and `3` each made a visit to the homepage, didn't signed up, but later revisited the homepage and did signup. \n",
    "\n",
    "I'm curious about the click through probability. This is a metric to define if a unique visitor signed up. The calculation is the count of unique visitors (represented by the `cookie_id`) who clicked the button divided by the count of unique visitors."
   ]
  },
  {
   "cell_type": "code",
   "execution_count": 134,
   "metadata": {},
   "outputs": [
    {
     "data": {
      "text/html": [
       "<div>\n",
       "<style scoped>\n",
       "    .dataframe tbody tr th:only-of-type {\n",
       "        vertical-align: middle;\n",
       "    }\n",
       "\n",
       "    .dataframe tbody tr th {\n",
       "        vertical-align: top;\n",
       "    }\n",
       "\n",
       "    .dataframe thead th {\n",
       "        text-align: right;\n",
       "    }\n",
       "</style>\n",
       "<table border=\"1\" class=\"dataframe\">\n",
       "  <thead>\n",
       "    <tr style=\"text-align: right;\">\n",
       "      <th></th>\n",
       "      <th>cookie_id</th>\n",
       "      <th>session_start_time</th>\n",
       "      <th>click_signup_button_time</th>\n",
       "      <th>time_duration_until_signup</th>\n",
       "    </tr>\n",
       "  </thead>\n",
       "  <tbody>\n",
       "    <tr>\n",
       "      <th>0</th>\n",
       "      <td>1</td>\n",
       "      <td>2019-08-25 15:00:19</td>\n",
       "      <td>NaT</td>\n",
       "      <td>NaT</td>\n",
       "    </tr>\n",
       "    <tr>\n",
       "      <th>1</th>\n",
       "      <td>2</td>\n",
       "      <td>2019-08-25 15:00:28</td>\n",
       "      <td>2019-08-25 15:00:36</td>\n",
       "      <td>00:00:08</td>\n",
       "    </tr>\n",
       "    <tr>\n",
       "      <th>2</th>\n",
       "      <td>3</td>\n",
       "      <td>2019-08-25 15:00:33</td>\n",
       "      <td>NaT</td>\n",
       "      <td>NaT</td>\n",
       "    </tr>\n",
       "    <tr>\n",
       "      <th>3</th>\n",
       "      <td>4</td>\n",
       "      <td>2019-08-25 15:00:45</td>\n",
       "      <td>2019-08-25 15:01:29</td>\n",
       "      <td>00:00:44</td>\n",
       "    </tr>\n",
       "    <tr>\n",
       "      <th>4</th>\n",
       "      <td>5</td>\n",
       "      <td>2019-08-25 15:00:54</td>\n",
       "      <td>2019-08-25 15:02:00</td>\n",
       "      <td>00:01:06</td>\n",
       "    </tr>\n",
       "  </tbody>\n",
       "</table>\n",
       "</div>"
      ],
      "text/plain": [
       "   cookie_id  session_start_time click_signup_button_time  \\\n",
       "0          1 2019-08-25 15:00:19                      NaT   \n",
       "1          2 2019-08-25 15:00:28      2019-08-25 15:00:36   \n",
       "2          3 2019-08-25 15:00:33                      NaT   \n",
       "3          4 2019-08-25 15:00:45      2019-08-25 15:01:29   \n",
       "4          5 2019-08-25 15:00:54      2019-08-25 15:02:00   \n",
       "\n",
       "  time_duration_until_signup  \n",
       "0                        NaT  \n",
       "1                   00:00:08  \n",
       "2                        NaT  \n",
       "3                   00:00:44  \n",
       "4                   00:01:06  "
      ]
     },
     "execution_count": 134,
     "metadata": {},
     "output_type": "execute_result"
    }
   ],
   "source": [
    "df_sessions.head()"
   ]
  },
  {
   "cell_type": "code",
   "execution_count": 135,
   "metadata": {},
   "outputs": [
    {
     "data": {
      "text/plain": [
       "11"
      ]
     },
     "execution_count": 135,
     "metadata": {},
     "output_type": "execute_result"
    }
   ],
   "source": [
    "count_unique_visitors_who_signed_up = df_sessions[df_sessions['click_signup_button_time'].notnull()]['cookie_id'].nunique()\n",
    "count_unique_visitors_who_signed_up"
   ]
  },
  {
   "cell_type": "code",
   "execution_count": 136,
   "metadata": {},
   "outputs": [
    {
     "data": {
      "text/plain": [
       "14"
      ]
     },
     "execution_count": 136,
     "metadata": {},
     "output_type": "execute_result"
    }
   ],
   "source": [
    "count_unique_visitors = df_ssessions['cookie_id'].nunique()\n",
    "count_unique_visitors"
   ]
  },
  {
   "cell_type": "code",
   "execution_count": 138,
   "metadata": {},
   "outputs": [
    {
     "data": {
      "text/plain": [
       "0.79"
      ]
     },
     "execution_count": 138,
     "metadata": {},
     "output_type": "execute_result"
    }
   ],
   "source": [
    "click_through_probability = round(count_unique_visitors_who_signed_up/count_unique_visitors, 2)\n",
    "click_through_probability"
   ]
  },
  {
   "cell_type": "markdown",
   "metadata": {},
   "source": [
    "The click through probability is 0.79 which means 79% of unique visitors to the homepage created an account. The higher this probability, the greater % of visitors we can convert to signup and this would help increase our pool of more potential weekly active users."
   ]
  }
 ],
 "metadata": {
  "kernelspec": {
   "display_name": "Python 3",
   "language": "python",
   "name": "python3"
  },
  "language_info": {
   "codemirror_mode": {
    "name": "ipython",
    "version": 3
   },
   "file_extension": ".py",
   "mimetype": "text/x-python",
   "name": "python",
   "nbconvert_exporter": "python",
   "pygments_lexer": "ipython3",
   "version": "3.7.5"
  }
 },
 "nbformat": 4,
 "nbformat_minor": 4
}
