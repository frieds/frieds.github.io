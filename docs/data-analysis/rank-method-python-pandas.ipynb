{
 "cells": [
  {
   "cell_type": "markdown",
   "metadata": {},
   "source": [
    "# Pandas rank() Method: Equivalent to ROW_NUMBER(), RANK(), DENSE_RANK() and NTILE() SQL Window Functions\n",
    "\n",
    "Date published: 2019-04-15\n",
    "\n",
    "Category: Data Analysis\n",
    "\n",
    "Subcategory: Data Wrangling\n",
    "\n",
    "Tags: rank, pandas, python\n"
   ]
  },
  {
   "cell_type": "markdown",
   "metadata": {},
   "source": [
    "In SQL, popular window functions include: `ROW_NUMBER()`, `RANK()`, `DENSE_RANK()` and `NTILE()`. These are helpful for creating a new column that's a rank of some other values in a column, perhaps partitioned by one or multiple groups. You can learn about these SQL window functions via <a href='https://mode.com/resources/sql-tutorial/sql-window-functions/' target='_blank'>Mode's SQL tutorial</a>.\n",
    "\n",
    "Similarly, using pandas in Python, the <a href='https://pandas.pydata.org/pandas-docs/stable/reference/api/pandas.Series.rank.html' target=\"_blank\">rank() method</a> for a series provides similar utility to the SQL window functions listed above.\n",
    "\n",
    "In this tutorial, I'll cover the `rank()` method in pandas with an example of real estate transactions data and later quiz scores."
   ]
  },
  {
   "cell_type": "markdown",
   "metadata": {},
   "source": [
    "### Setup Code"
   ]
  },
  {
   "cell_type": "markdown",
   "metadata": {},
   "source": [
    "#### Import Module"
   ]
  },
  {
   "cell_type": "code",
   "execution_count": 87,
   "metadata": {},
   "outputs": [],
   "source": [
    "import pandas as pd\n",
    "import seaborn as sns"
   ]
  },
  {
   "cell_type": "markdown",
   "metadata": {},
   "source": [
    "#### Gradient Used to Highlight Table Outputs"
   ]
  },
  {
   "cell_type": "code",
   "execution_count": 88,
   "metadata": {},
   "outputs": [],
   "source": [
    "cm = sns.light_palette(\"lightgreen\", as_cmap=True)"
   ]
  },
  {
   "cell_type": "markdown",
   "metadata": {},
   "source": [
    "### Example 1: Count of New Sellers Per Day"
   ]
  },
  {
   "cell_type": "markdown",
   "metadata": {},
   "source": [
    "#### Create Real Estate Transaction Dataset"
   ]
  },
  {
   "cell_type": "markdown",
   "metadata": {},
   "source": [
    "I'll create a small dataset of 8 real estate transactions that include a close date and seller name for each house sale.\n",
    "\n",
    "Take note that Julia sold 5 homes with some transactions on separate days. Lara also sold 2 homes on different days."
   ]
  },
  {
   "cell_type": "code",
   "execution_count": 89,
   "metadata": {},
   "outputs": [],
   "source": [
    "data = {'close_date': [\"2012-08-01\", \"2012-08-01\", \"2012-08-01\", \"2012-08-02\", \"2012-08-03\", \"2012-08-04\", \"2012-08-05\", \"2012-08-07\"],\n",
    "        'seller_name': [\"Lara\", \"Julia\", \"Julia\", \"Emily\", \"Julia\", \"Lara\", \"Julia\", \"Julia\"]\n",
    "       }\n",
    "df = pd.DataFrame(data)"
   ]
  },
  {
   "cell_type": "markdown",
   "metadata": {},
   "source": [
    "View entire `df`."
   ]
  },
  {
   "cell_type": "code",
   "execution_count": 90,
   "metadata": {},
   "outputs": [
    {
     "data": {
      "text/html": [
       "<div>\n",
       "<style scoped>\n",
       "    .dataframe tbody tr th:only-of-type {\n",
       "        vertical-align: middle;\n",
       "    }\n",
       "\n",
       "    .dataframe tbody tr th {\n",
       "        vertical-align: top;\n",
       "    }\n",
       "\n",
       "    .dataframe thead th {\n",
       "        text-align: right;\n",
       "    }\n",
       "</style>\n",
       "<table border=\"1\" class=\"dataframe\">\n",
       "  <thead>\n",
       "    <tr style=\"text-align: right;\">\n",
       "      <th></th>\n",
       "      <th>close_date</th>\n",
       "      <th>seller_name</th>\n",
       "    </tr>\n",
       "  </thead>\n",
       "  <tbody>\n",
       "    <tr>\n",
       "      <th>0</th>\n",
       "      <td>2012-08-01</td>\n",
       "      <td>Lara</td>\n",
       "    </tr>\n",
       "    <tr>\n",
       "      <th>1</th>\n",
       "      <td>2012-08-01</td>\n",
       "      <td>Julia</td>\n",
       "    </tr>\n",
       "    <tr>\n",
       "      <th>2</th>\n",
       "      <td>2012-08-01</td>\n",
       "      <td>Julia</td>\n",
       "    </tr>\n",
       "    <tr>\n",
       "      <th>3</th>\n",
       "      <td>2012-08-02</td>\n",
       "      <td>Emily</td>\n",
       "    </tr>\n",
       "    <tr>\n",
       "      <th>4</th>\n",
       "      <td>2012-08-03</td>\n",
       "      <td>Julia</td>\n",
       "    </tr>\n",
       "    <tr>\n",
       "      <th>5</th>\n",
       "      <td>2012-08-04</td>\n",
       "      <td>Lara</td>\n",
       "    </tr>\n",
       "    <tr>\n",
       "      <th>6</th>\n",
       "      <td>2012-08-05</td>\n",
       "      <td>Julia</td>\n",
       "    </tr>\n",
       "    <tr>\n",
       "      <th>7</th>\n",
       "      <td>2012-08-07</td>\n",
       "      <td>Julia</td>\n",
       "    </tr>\n",
       "  </tbody>\n",
       "</table>\n",
       "</div>"
      ],
      "text/plain": [
       "   close_date seller_name\n",
       "0  2012-08-01        Lara\n",
       "1  2012-08-01       Julia\n",
       "2  2012-08-01       Julia\n",
       "3  2012-08-02       Emily\n",
       "4  2012-08-03       Julia\n",
       "5  2012-08-04        Lara\n",
       "6  2012-08-05       Julia\n",
       "7  2012-08-07       Julia"
      ]
     },
     "execution_count": 90,
     "metadata": {},
     "output_type": "execute_result"
    }
   ],
   "source": [
    "df"
   ]
  },
  {
   "cell_type": "markdown",
   "metadata": {},
   "source": [
    "Convert `close_date` column to datetime type in Python."
   ]
  },
  {
   "cell_type": "code",
   "execution_count": 91,
   "metadata": {},
   "outputs": [],
   "source": [
    "df['close_date'] = pd.to_datetime(df['close_date'])"
   ]
  },
  {
   "cell_type": "markdown",
   "metadata": {},
   "source": [
    "#### Find Rank of Homes Sold for Each Seller by Close Date"
   ]
  },
  {
   "cell_type": "markdown",
   "metadata": {},
   "source": [
    "I want to know the rank of each house sale *by person ordered by time*. \n",
    "\n",
    "Based on looking at the table above, Julia sold her first, second and third house on August 1st. On August 3rd, Julia sold her fourth house. \n",
    "\n",
    "For the `df` dataframe, I want to create a new column that shows the numerical rank values for each person's home sales by day. To do this, I group by the `seller_name` column, and apply the `rank()` method to the `close_date` colummn. I set the `rank()` argument `methond='first'` to rank the sales of houses per person, ordered by date, in the order they appear. The new column with rank values is called `rank_seller_by_close_date`.\n",
    "\n",
    "The `method='first'` for the `rank()` method for pandas series is equivalent to the `ROW_NUMBER()` window function in SQL."
   ]
  },
  {
   "cell_type": "code",
   "execution_count": 92,
   "metadata": {},
   "outputs": [],
   "source": [
    "df['rank_seller_by_close_date'] = df.groupby('seller_name')['close_date'].rank(method='first')"
   ]
  },
  {
   "cell_type": "markdown",
   "metadata": {},
   "source": [
    "Below I output `df` and highlight the `rank_seller_by_close_date` with shades of green designated by numerical value. The higher the rank value, the darker the green highlighted background. `df` is ordered by `close_date`. "
   ]
  },
  {
   "cell_type": "code",
   "execution_count": 93,
   "metadata": {},
   "outputs": [
    {
     "data": {
      "text/html": [
       "<style  type=\"text/css\" >\n",
       "    #T_bbf37b36_5f9a_11e9_b74c_784f4368ca5frow0_col2 {\n",
       "            background-color:  #e9fce9;\n",
       "        }    #T_bbf37b36_5f9a_11e9_b74c_784f4368ca5frow1_col2 {\n",
       "            background-color:  #e9fce9;\n",
       "        }    #T_bbf37b36_5f9a_11e9_b74c_784f4368ca5frow2_col2 {\n",
       "            background-color:  #d3f8d3;\n",
       "        }    #T_bbf37b36_5f9a_11e9_b74c_784f4368ca5frow3_col2 {\n",
       "            background-color:  #e9fce9;\n",
       "        }    #T_bbf37b36_5f9a_11e9_b74c_784f4368ca5frow4_col2 {\n",
       "            background-color:  #bcf5bc;\n",
       "        }    #T_bbf37b36_5f9a_11e9_b74c_784f4368ca5frow5_col2 {\n",
       "            background-color:  #d3f8d3;\n",
       "        }    #T_bbf37b36_5f9a_11e9_b74c_784f4368ca5frow6_col2 {\n",
       "            background-color:  #a6f1a6;\n",
       "        }    #T_bbf37b36_5f9a_11e9_b74c_784f4368ca5frow7_col2 {\n",
       "            background-color:  #90ee90;\n",
       "        }</style>  \n",
       "<table id=\"T_bbf37b36_5f9a_11e9_b74c_784f4368ca5f\" > \n",
       "<thead>    <tr> \n",
       "        <th class=\"blank level0\" ></th> \n",
       "        <th class=\"col_heading level0 col0\" >close_date</th> \n",
       "        <th class=\"col_heading level0 col1\" >seller_name</th> \n",
       "        <th class=\"col_heading level0 col2\" >rank_seller_by_close_date</th> \n",
       "    </tr></thead> \n",
       "<tbody>    <tr> \n",
       "        <th id=\"T_bbf37b36_5f9a_11e9_b74c_784f4368ca5flevel0_row0\" class=\"row_heading level0 row0\" >0</th> \n",
       "        <td id=\"T_bbf37b36_5f9a_11e9_b74c_784f4368ca5frow0_col0\" class=\"data row0 col0\" >2012-08-01 00:00:00</td> \n",
       "        <td id=\"T_bbf37b36_5f9a_11e9_b74c_784f4368ca5frow0_col1\" class=\"data row0 col1\" >Lara</td> \n",
       "        <td id=\"T_bbf37b36_5f9a_11e9_b74c_784f4368ca5frow0_col2\" class=\"data row0 col2\" >1</td> \n",
       "    </tr>    <tr> \n",
       "        <th id=\"T_bbf37b36_5f9a_11e9_b74c_784f4368ca5flevel0_row1\" class=\"row_heading level0 row1\" >1</th> \n",
       "        <td id=\"T_bbf37b36_5f9a_11e9_b74c_784f4368ca5frow1_col0\" class=\"data row1 col0\" >2012-08-01 00:00:00</td> \n",
       "        <td id=\"T_bbf37b36_5f9a_11e9_b74c_784f4368ca5frow1_col1\" class=\"data row1 col1\" >Julia</td> \n",
       "        <td id=\"T_bbf37b36_5f9a_11e9_b74c_784f4368ca5frow1_col2\" class=\"data row1 col2\" >1</td> \n",
       "    </tr>    <tr> \n",
       "        <th id=\"T_bbf37b36_5f9a_11e9_b74c_784f4368ca5flevel0_row2\" class=\"row_heading level0 row2\" >2</th> \n",
       "        <td id=\"T_bbf37b36_5f9a_11e9_b74c_784f4368ca5frow2_col0\" class=\"data row2 col0\" >2012-08-01 00:00:00</td> \n",
       "        <td id=\"T_bbf37b36_5f9a_11e9_b74c_784f4368ca5frow2_col1\" class=\"data row2 col1\" >Julia</td> \n",
       "        <td id=\"T_bbf37b36_5f9a_11e9_b74c_784f4368ca5frow2_col2\" class=\"data row2 col2\" >2</td> \n",
       "    </tr>    <tr> \n",
       "        <th id=\"T_bbf37b36_5f9a_11e9_b74c_784f4368ca5flevel0_row3\" class=\"row_heading level0 row3\" >3</th> \n",
       "        <td id=\"T_bbf37b36_5f9a_11e9_b74c_784f4368ca5frow3_col0\" class=\"data row3 col0\" >2012-08-02 00:00:00</td> \n",
       "        <td id=\"T_bbf37b36_5f9a_11e9_b74c_784f4368ca5frow3_col1\" class=\"data row3 col1\" >Emily</td> \n",
       "        <td id=\"T_bbf37b36_5f9a_11e9_b74c_784f4368ca5frow3_col2\" class=\"data row3 col2\" >1</td> \n",
       "    </tr>    <tr> \n",
       "        <th id=\"T_bbf37b36_5f9a_11e9_b74c_784f4368ca5flevel0_row4\" class=\"row_heading level0 row4\" >4</th> \n",
       "        <td id=\"T_bbf37b36_5f9a_11e9_b74c_784f4368ca5frow4_col0\" class=\"data row4 col0\" >2012-08-03 00:00:00</td> \n",
       "        <td id=\"T_bbf37b36_5f9a_11e9_b74c_784f4368ca5frow4_col1\" class=\"data row4 col1\" >Julia</td> \n",
       "        <td id=\"T_bbf37b36_5f9a_11e9_b74c_784f4368ca5frow4_col2\" class=\"data row4 col2\" >3</td> \n",
       "    </tr>    <tr> \n",
       "        <th id=\"T_bbf37b36_5f9a_11e9_b74c_784f4368ca5flevel0_row5\" class=\"row_heading level0 row5\" >5</th> \n",
       "        <td id=\"T_bbf37b36_5f9a_11e9_b74c_784f4368ca5frow5_col0\" class=\"data row5 col0\" >2012-08-04 00:00:00</td> \n",
       "        <td id=\"T_bbf37b36_5f9a_11e9_b74c_784f4368ca5frow5_col1\" class=\"data row5 col1\" >Lara</td> \n",
       "        <td id=\"T_bbf37b36_5f9a_11e9_b74c_784f4368ca5frow5_col2\" class=\"data row5 col2\" >2</td> \n",
       "    </tr>    <tr> \n",
       "        <th id=\"T_bbf37b36_5f9a_11e9_b74c_784f4368ca5flevel0_row6\" class=\"row_heading level0 row6\" >6</th> \n",
       "        <td id=\"T_bbf37b36_5f9a_11e9_b74c_784f4368ca5frow6_col0\" class=\"data row6 col0\" >2012-08-05 00:00:00</td> \n",
       "        <td id=\"T_bbf37b36_5f9a_11e9_b74c_784f4368ca5frow6_col1\" class=\"data row6 col1\" >Julia</td> \n",
       "        <td id=\"T_bbf37b36_5f9a_11e9_b74c_784f4368ca5frow6_col2\" class=\"data row6 col2\" >4</td> \n",
       "    </tr>    <tr> \n",
       "        <th id=\"T_bbf37b36_5f9a_11e9_b74c_784f4368ca5flevel0_row7\" class=\"row_heading level0 row7\" >7</th> \n",
       "        <td id=\"T_bbf37b36_5f9a_11e9_b74c_784f4368ca5frow7_col0\" class=\"data row7 col0\" >2012-08-07 00:00:00</td> \n",
       "        <td id=\"T_bbf37b36_5f9a_11e9_b74c_784f4368ca5frow7_col1\" class=\"data row7 col1\" >Julia</td> \n",
       "        <td id=\"T_bbf37b36_5f9a_11e9_b74c_784f4368ca5frow7_col2\" class=\"data row7 col2\" >5</td> \n",
       "    </tr></tbody> \n",
       "</table> "
      ],
      "text/plain": [
       "<pandas.io.formats.style.Styler at 0x1a1fde18d0>"
      ]
     },
     "execution_count": 93,
     "metadata": {},
     "output_type": "execute_result"
    }
   ],
   "source": [
    "df.style.background_gradient(cmap=cm, subset=pd.IndexSlice[:, ['rank_seller_by_close_date']])"
   ]
  },
  {
   "cell_type": "markdown",
   "metadata": {},
   "source": [
    "It's difficult to easily see the order of ranks for each seller by date. Below, I output `df` sorted by `seller_name` and then `rank_seller_by_close_date`.\n",
    "\n",
    "Much better! It's clear Julia's home sales are ranked by from oldest to newest. Even though she made two homes sales on August 1st, one is given a rank value of `1` and then next `2`."
   ]
  },
  {
   "cell_type": "code",
   "execution_count": 94,
   "metadata": {},
   "outputs": [
    {
     "data": {
      "text/html": [
       "<style  type=\"text/css\" >\n",
       "    #T_bbf63f9c_5f9a_11e9_a976_784f4368ca5frow0_col2 {\n",
       "            background-color:  #e9fce9;\n",
       "        }    #T_bbf63f9c_5f9a_11e9_a976_784f4368ca5frow1_col2 {\n",
       "            background-color:  #e9fce9;\n",
       "        }    #T_bbf63f9c_5f9a_11e9_a976_784f4368ca5frow2_col2 {\n",
       "            background-color:  #d3f8d3;\n",
       "        }    #T_bbf63f9c_5f9a_11e9_a976_784f4368ca5frow3_col2 {\n",
       "            background-color:  #bcf5bc;\n",
       "        }    #T_bbf63f9c_5f9a_11e9_a976_784f4368ca5frow4_col2 {\n",
       "            background-color:  #a6f1a6;\n",
       "        }    #T_bbf63f9c_5f9a_11e9_a976_784f4368ca5frow5_col2 {\n",
       "            background-color:  #90ee90;\n",
       "        }    #T_bbf63f9c_5f9a_11e9_a976_784f4368ca5frow6_col2 {\n",
       "            background-color:  #e9fce9;\n",
       "        }    #T_bbf63f9c_5f9a_11e9_a976_784f4368ca5frow7_col2 {\n",
       "            background-color:  #d3f8d3;\n",
       "        }</style>  \n",
       "<table id=\"T_bbf63f9c_5f9a_11e9_a976_784f4368ca5f\" > \n",
       "<thead>    <tr> \n",
       "        <th class=\"blank level0\" ></th> \n",
       "        <th class=\"col_heading level0 col0\" >close_date</th> \n",
       "        <th class=\"col_heading level0 col1\" >seller_name</th> \n",
       "        <th class=\"col_heading level0 col2\" >rank_seller_by_close_date</th> \n",
       "    </tr></thead> \n",
       "<tbody>    <tr> \n",
       "        <th id=\"T_bbf63f9c_5f9a_11e9_a976_784f4368ca5flevel0_row0\" class=\"row_heading level0 row0\" >3</th> \n",
       "        <td id=\"T_bbf63f9c_5f9a_11e9_a976_784f4368ca5frow0_col0\" class=\"data row0 col0\" >2012-08-02 00:00:00</td> \n",
       "        <td id=\"T_bbf63f9c_5f9a_11e9_a976_784f4368ca5frow0_col1\" class=\"data row0 col1\" >Emily</td> \n",
       "        <td id=\"T_bbf63f9c_5f9a_11e9_a976_784f4368ca5frow0_col2\" class=\"data row0 col2\" >1</td> \n",
       "    </tr>    <tr> \n",
       "        <th id=\"T_bbf63f9c_5f9a_11e9_a976_784f4368ca5flevel0_row1\" class=\"row_heading level0 row1\" >1</th> \n",
       "        <td id=\"T_bbf63f9c_5f9a_11e9_a976_784f4368ca5frow1_col0\" class=\"data row1 col0\" >2012-08-01 00:00:00</td> \n",
       "        <td id=\"T_bbf63f9c_5f9a_11e9_a976_784f4368ca5frow1_col1\" class=\"data row1 col1\" >Julia</td> \n",
       "        <td id=\"T_bbf63f9c_5f9a_11e9_a976_784f4368ca5frow1_col2\" class=\"data row1 col2\" >1</td> \n",
       "    </tr>    <tr> \n",
       "        <th id=\"T_bbf63f9c_5f9a_11e9_a976_784f4368ca5flevel0_row2\" class=\"row_heading level0 row2\" >2</th> \n",
       "        <td id=\"T_bbf63f9c_5f9a_11e9_a976_784f4368ca5frow2_col0\" class=\"data row2 col0\" >2012-08-01 00:00:00</td> \n",
       "        <td id=\"T_bbf63f9c_5f9a_11e9_a976_784f4368ca5frow2_col1\" class=\"data row2 col1\" >Julia</td> \n",
       "        <td id=\"T_bbf63f9c_5f9a_11e9_a976_784f4368ca5frow2_col2\" class=\"data row2 col2\" >2</td> \n",
       "    </tr>    <tr> \n",
       "        <th id=\"T_bbf63f9c_5f9a_11e9_a976_784f4368ca5flevel0_row3\" class=\"row_heading level0 row3\" >4</th> \n",
       "        <td id=\"T_bbf63f9c_5f9a_11e9_a976_784f4368ca5frow3_col0\" class=\"data row3 col0\" >2012-08-03 00:00:00</td> \n",
       "        <td id=\"T_bbf63f9c_5f9a_11e9_a976_784f4368ca5frow3_col1\" class=\"data row3 col1\" >Julia</td> \n",
       "        <td id=\"T_bbf63f9c_5f9a_11e9_a976_784f4368ca5frow3_col2\" class=\"data row3 col2\" >3</td> \n",
       "    </tr>    <tr> \n",
       "        <th id=\"T_bbf63f9c_5f9a_11e9_a976_784f4368ca5flevel0_row4\" class=\"row_heading level0 row4\" >6</th> \n",
       "        <td id=\"T_bbf63f9c_5f9a_11e9_a976_784f4368ca5frow4_col0\" class=\"data row4 col0\" >2012-08-05 00:00:00</td> \n",
       "        <td id=\"T_bbf63f9c_5f9a_11e9_a976_784f4368ca5frow4_col1\" class=\"data row4 col1\" >Julia</td> \n",
       "        <td id=\"T_bbf63f9c_5f9a_11e9_a976_784f4368ca5frow4_col2\" class=\"data row4 col2\" >4</td> \n",
       "    </tr>    <tr> \n",
       "        <th id=\"T_bbf63f9c_5f9a_11e9_a976_784f4368ca5flevel0_row5\" class=\"row_heading level0 row5\" >7</th> \n",
       "        <td id=\"T_bbf63f9c_5f9a_11e9_a976_784f4368ca5frow5_col0\" class=\"data row5 col0\" >2012-08-07 00:00:00</td> \n",
       "        <td id=\"T_bbf63f9c_5f9a_11e9_a976_784f4368ca5frow5_col1\" class=\"data row5 col1\" >Julia</td> \n",
       "        <td id=\"T_bbf63f9c_5f9a_11e9_a976_784f4368ca5frow5_col2\" class=\"data row5 col2\" >5</td> \n",
       "    </tr>    <tr> \n",
       "        <th id=\"T_bbf63f9c_5f9a_11e9_a976_784f4368ca5flevel0_row6\" class=\"row_heading level0 row6\" >0</th> \n",
       "        <td id=\"T_bbf63f9c_5f9a_11e9_a976_784f4368ca5frow6_col0\" class=\"data row6 col0\" >2012-08-01 00:00:00</td> \n",
       "        <td id=\"T_bbf63f9c_5f9a_11e9_a976_784f4368ca5frow6_col1\" class=\"data row6 col1\" >Lara</td> \n",
       "        <td id=\"T_bbf63f9c_5f9a_11e9_a976_784f4368ca5frow6_col2\" class=\"data row6 col2\" >1</td> \n",
       "    </tr>    <tr> \n",
       "        <th id=\"T_bbf63f9c_5f9a_11e9_a976_784f4368ca5flevel0_row7\" class=\"row_heading level0 row7\" >5</th> \n",
       "        <td id=\"T_bbf63f9c_5f9a_11e9_a976_784f4368ca5frow7_col0\" class=\"data row7 col0\" >2012-08-04 00:00:00</td> \n",
       "        <td id=\"T_bbf63f9c_5f9a_11e9_a976_784f4368ca5frow7_col1\" class=\"data row7 col1\" >Lara</td> \n",
       "        <td id=\"T_bbf63f9c_5f9a_11e9_a976_784f4368ca5frow7_col2\" class=\"data row7 col2\" >2</td> \n",
       "    </tr></tbody> \n",
       "</table> "
      ],
      "text/plain": [
       "<pandas.io.formats.style.Styler at 0x1a1fdf6080>"
      ]
     },
     "execution_count": 94,
     "metadata": {},
     "output_type": "execute_result"
    }
   ],
   "source": [
    "df.sort_values(by=['seller_name', 'rank_seller_by_close_date']).style.background_gradient(cmap=cm, subset=pd.IndexSlice[:, ['rank_seller_by_close_date']])"
   ]
  },
  {
   "cell_type": "markdown",
   "metadata": {},
   "source": [
    "#### Find Count of New Sellers Per Seller Per Day"
   ]
  },
  {
   "cell_type": "markdown",
   "metadata": {},
   "source": [
    "I can utilize the rankings above to find the count of new sellers by day. \n",
    "\n",
    "For example, Julia is a *new* home seller on August 1st because she has a rank of `1` that day. Julia would *not* be counted as a *new* home seller on August 3rd because she has a rank of `3` that day. \n",
    "\n",
    "I can filter `df` by record in which `rank_seller_by_close_date` is equal to `1`. The three records for Lara, Julia and Emily show the `close_date` for each in which they sold their first home."
   ]
  },
  {
   "cell_type": "code",
   "execution_count": 95,
   "metadata": {},
   "outputs": [
    {
     "data": {
      "text/html": [
       "<div>\n",
       "<style scoped>\n",
       "    .dataframe tbody tr th:only-of-type {\n",
       "        vertical-align: middle;\n",
       "    }\n",
       "\n",
       "    .dataframe tbody tr th {\n",
       "        vertical-align: top;\n",
       "    }\n",
       "\n",
       "    .dataframe thead th {\n",
       "        text-align: right;\n",
       "    }\n",
       "</style>\n",
       "<table border=\"1\" class=\"dataframe\">\n",
       "  <thead>\n",
       "    <tr style=\"text-align: right;\">\n",
       "      <th></th>\n",
       "      <th>close_date</th>\n",
       "      <th>seller_name</th>\n",
       "      <th>rank_seller_by_close_date</th>\n",
       "    </tr>\n",
       "  </thead>\n",
       "  <tbody>\n",
       "    <tr>\n",
       "      <th>0</th>\n",
       "      <td>2012-08-01</td>\n",
       "      <td>Lara</td>\n",
       "      <td>1.0</td>\n",
       "    </tr>\n",
       "    <tr>\n",
       "      <th>1</th>\n",
       "      <td>2012-08-01</td>\n",
       "      <td>Julia</td>\n",
       "      <td>1.0</td>\n",
       "    </tr>\n",
       "    <tr>\n",
       "      <th>3</th>\n",
       "      <td>2012-08-02</td>\n",
       "      <td>Emily</td>\n",
       "      <td>1.0</td>\n",
       "    </tr>\n",
       "  </tbody>\n",
       "</table>\n",
       "</div>"
      ],
      "text/plain": [
       "  close_date seller_name  rank_seller_by_close_date\n",
       "0 2012-08-01        Lara                        1.0\n",
       "1 2012-08-01       Julia                        1.0\n",
       "3 2012-08-02       Emily                        1.0"
      ]
     },
     "execution_count": 95,
     "metadata": {},
     "output_type": "execute_result"
    }
   ],
   "source": [
    "df[df['rank_seller_by_close_date']==1]"
   ]
  },
  {
   "cell_type": "markdown",
   "metadata": {},
   "source": [
    "Let's take the table above and group by `close_date` to find the count of `close_date` observations. Below is the output.\n",
    "\n",
    "Similar to above, on `2012-08-01`, we can see `2` new sellers representing Lara and Julia. On `2012-08-02`, we can see `1` new seller representing Emily."
   ]
  },
  {
   "cell_type": "code",
   "execution_count": 96,
   "metadata": {},
   "outputs": [
    {
     "data": {
      "text/html": [
       "<div>\n",
       "<style scoped>\n",
       "    .dataframe tbody tr th:only-of-type {\n",
       "        vertical-align: middle;\n",
       "    }\n",
       "\n",
       "    .dataframe tbody tr th {\n",
       "        vertical-align: top;\n",
       "    }\n",
       "\n",
       "    .dataframe thead th {\n",
       "        text-align: right;\n",
       "    }\n",
       "</style>\n",
       "<table border=\"1\" class=\"dataframe\">\n",
       "  <thead>\n",
       "    <tr style=\"text-align: right;\">\n",
       "      <th></th>\n",
       "      <th>close_date</th>\n",
       "      <th>count_new_sellers_of_homes</th>\n",
       "    </tr>\n",
       "  </thead>\n",
       "  <tbody>\n",
       "    <tr>\n",
       "      <th>0</th>\n",
       "      <td>2012-08-01</td>\n",
       "      <td>2</td>\n",
       "    </tr>\n",
       "    <tr>\n",
       "      <th>1</th>\n",
       "      <td>2012-08-02</td>\n",
       "      <td>1</td>\n",
       "    </tr>\n",
       "  </tbody>\n",
       "</table>\n",
       "</div>"
      ],
      "text/plain": [
       "  close_date  count_new_sellers_of_homes\n",
       "0 2012-08-01                           2\n",
       "1 2012-08-02                           1"
      ]
     },
     "execution_count": 96,
     "metadata": {},
     "output_type": "execute_result"
    }
   ],
   "source": [
    "df[df['rank_seller_by_close_date']==1].groupby('close_date').size().reset_index().rename(columns={0: 'count_new_sellers_of_homes'})"
   ]
  },
  {
   "cell_type": "markdown",
   "metadata": {},
   "source": [
    "### Example 2: Count of New Sellers By Agency Per Day"
   ]
  },
  {
   "cell_type": "markdown",
   "metadata": {},
   "source": [
    "In example 1, I wanted the count of new sellers by day. In this example 2, I want the count of sellers by agency per day.\n",
    "\n",
    "Below, I add a new column called `agency` that goes for each home sale."
   ]
  },
  {
   "cell_type": "code",
   "execution_count": 97,
   "metadata": {},
   "outputs": [],
   "source": [
    "df['agency'] = [\"Fifer\", \"Fifer\", \"Fifer\", \"HomeSales\", \"HomeSales\", \"Fifer\", \"Fifer\", \"Fifer\"]"
   ]
  },
  {
   "cell_type": "markdown",
   "metadata": {},
   "source": [
    "Below I print the output of `df`."
   ]
  },
  {
   "cell_type": "code",
   "execution_count": 98,
   "metadata": {},
   "outputs": [
    {
     "data": {
      "text/html": [
       "<div>\n",
       "<style scoped>\n",
       "    .dataframe tbody tr th:only-of-type {\n",
       "        vertical-align: middle;\n",
       "    }\n",
       "\n",
       "    .dataframe tbody tr th {\n",
       "        vertical-align: top;\n",
       "    }\n",
       "\n",
       "    .dataframe thead th {\n",
       "        text-align: right;\n",
       "    }\n",
       "</style>\n",
       "<table border=\"1\" class=\"dataframe\">\n",
       "  <thead>\n",
       "    <tr style=\"text-align: right;\">\n",
       "      <th></th>\n",
       "      <th>close_date</th>\n",
       "      <th>seller_name</th>\n",
       "      <th>rank_seller_by_close_date</th>\n",
       "      <th>agency</th>\n",
       "    </tr>\n",
       "  </thead>\n",
       "  <tbody>\n",
       "    <tr>\n",
       "      <th>0</th>\n",
       "      <td>2012-08-01</td>\n",
       "      <td>Lara</td>\n",
       "      <td>1.0</td>\n",
       "      <td>Fifer</td>\n",
       "    </tr>\n",
       "    <tr>\n",
       "      <th>1</th>\n",
       "      <td>2012-08-01</td>\n",
       "      <td>Julia</td>\n",
       "      <td>1.0</td>\n",
       "      <td>Fifer</td>\n",
       "    </tr>\n",
       "    <tr>\n",
       "      <th>2</th>\n",
       "      <td>2012-08-01</td>\n",
       "      <td>Julia</td>\n",
       "      <td>2.0</td>\n",
       "      <td>Fifer</td>\n",
       "    </tr>\n",
       "    <tr>\n",
       "      <th>3</th>\n",
       "      <td>2012-08-02</td>\n",
       "      <td>Emily</td>\n",
       "      <td>1.0</td>\n",
       "      <td>HomeSales</td>\n",
       "    </tr>\n",
       "    <tr>\n",
       "      <th>4</th>\n",
       "      <td>2012-08-03</td>\n",
       "      <td>Julia</td>\n",
       "      <td>3.0</td>\n",
       "      <td>HomeSales</td>\n",
       "    </tr>\n",
       "    <tr>\n",
       "      <th>5</th>\n",
       "      <td>2012-08-04</td>\n",
       "      <td>Lara</td>\n",
       "      <td>2.0</td>\n",
       "      <td>Fifer</td>\n",
       "    </tr>\n",
       "    <tr>\n",
       "      <th>6</th>\n",
       "      <td>2012-08-05</td>\n",
       "      <td>Julia</td>\n",
       "      <td>4.0</td>\n",
       "      <td>Fifer</td>\n",
       "    </tr>\n",
       "    <tr>\n",
       "      <th>7</th>\n",
       "      <td>2012-08-07</td>\n",
       "      <td>Julia</td>\n",
       "      <td>5.0</td>\n",
       "      <td>Fifer</td>\n",
       "    </tr>\n",
       "  </tbody>\n",
       "</table>\n",
       "</div>"
      ],
      "text/plain": [
       "  close_date seller_name  rank_seller_by_close_date     agency\n",
       "0 2012-08-01        Lara                        1.0      Fifer\n",
       "1 2012-08-01       Julia                        1.0      Fifer\n",
       "2 2012-08-01       Julia                        2.0      Fifer\n",
       "3 2012-08-02       Emily                        1.0  HomeSales\n",
       "4 2012-08-03       Julia                        3.0  HomeSales\n",
       "5 2012-08-04        Lara                        2.0      Fifer\n",
       "6 2012-08-05       Julia                        4.0      Fifer\n",
       "7 2012-08-07       Julia                        5.0      Fifer"
      ]
     },
     "execution_count": 98,
     "metadata": {},
     "output_type": "execute_result"
    }
   ],
   "source": [
    "df"
   ]
  },
  {
   "cell_type": "markdown",
   "metadata": {},
   "source": [
    "I want to create the rank value of home sales by agency per seller ordered by close date. This is valuable so each agency can understand the count of new sellers per day. \n",
    "\n",
    "Below, I group by two fields, `agency` and then `seller_name` and find a rank value ordered by `close_date`. I store these rank values in a new column called `first_rank_agency_seller_by_close_date`."
   ]
  },
  {
   "cell_type": "code",
   "execution_count": 99,
   "metadata": {},
   "outputs": [],
   "source": [
    "df['first_rank_agency_seller_by_close_date'] = df.groupby(['agency', 'seller_name'])['close_date'].rank(method='first')"
   ]
  },
  {
   "cell_type": "markdown",
   "metadata": {},
   "source": [
    "Below I output `df` and highlight the important column `first_rank_agency_seller_by_close_date`. The order of ranks below is a bit confusing. I'll re-order records after below's output."
   ]
  },
  {
   "cell_type": "code",
   "execution_count": 100,
   "metadata": {},
   "outputs": [
    {
     "data": {
      "text/html": [
       "<style  type=\"text/css\" >\n",
       "    #T_bc001bf4_5f9a_11e9_a1fb_784f4368ca5frow0_col4 {\n",
       "            background-color:  #e9fce9;\n",
       "        }    #T_bc001bf4_5f9a_11e9_a1fb_784f4368ca5frow1_col4 {\n",
       "            background-color:  #e9fce9;\n",
       "        }    #T_bc001bf4_5f9a_11e9_a1fb_784f4368ca5frow2_col4 {\n",
       "            background-color:  #cbf7cb;\n",
       "        }    #T_bc001bf4_5f9a_11e9_a1fb_784f4368ca5frow3_col4 {\n",
       "            background-color:  #e9fce9;\n",
       "        }    #T_bc001bf4_5f9a_11e9_a1fb_784f4368ca5frow4_col4 {\n",
       "            background-color:  #e9fce9;\n",
       "        }    #T_bc001bf4_5f9a_11e9_a1fb_784f4368ca5frow5_col4 {\n",
       "            background-color:  #cbf7cb;\n",
       "        }    #T_bc001bf4_5f9a_11e9_a1fb_784f4368ca5frow6_col4 {\n",
       "            background-color:  #aef3ae;\n",
       "        }    #T_bc001bf4_5f9a_11e9_a1fb_784f4368ca5frow7_col4 {\n",
       "            background-color:  #90ee90;\n",
       "        }</style>  \n",
       "<table id=\"T_bc001bf4_5f9a_11e9_a1fb_784f4368ca5f\" > \n",
       "<thead>    <tr> \n",
       "        <th class=\"blank level0\" ></th> \n",
       "        <th class=\"col_heading level0 col0\" >close_date</th> \n",
       "        <th class=\"col_heading level0 col1\" >seller_name</th> \n",
       "        <th class=\"col_heading level0 col2\" >rank_seller_by_close_date</th> \n",
       "        <th class=\"col_heading level0 col3\" >agency</th> \n",
       "        <th class=\"col_heading level0 col4\" >first_rank_agency_seller_by_close_date</th> \n",
       "    </tr></thead> \n",
       "<tbody>    <tr> \n",
       "        <th id=\"T_bc001bf4_5f9a_11e9_a1fb_784f4368ca5flevel0_row0\" class=\"row_heading level0 row0\" >0</th> \n",
       "        <td id=\"T_bc001bf4_5f9a_11e9_a1fb_784f4368ca5frow0_col0\" class=\"data row0 col0\" >2012-08-01 00:00:00</td> \n",
       "        <td id=\"T_bc001bf4_5f9a_11e9_a1fb_784f4368ca5frow0_col1\" class=\"data row0 col1\" >Lara</td> \n",
       "        <td id=\"T_bc001bf4_5f9a_11e9_a1fb_784f4368ca5frow0_col2\" class=\"data row0 col2\" >1</td> \n",
       "        <td id=\"T_bc001bf4_5f9a_11e9_a1fb_784f4368ca5frow0_col3\" class=\"data row0 col3\" >Fifer</td> \n",
       "        <td id=\"T_bc001bf4_5f9a_11e9_a1fb_784f4368ca5frow0_col4\" class=\"data row0 col4\" >1</td> \n",
       "    </tr>    <tr> \n",
       "        <th id=\"T_bc001bf4_5f9a_11e9_a1fb_784f4368ca5flevel0_row1\" class=\"row_heading level0 row1\" >1</th> \n",
       "        <td id=\"T_bc001bf4_5f9a_11e9_a1fb_784f4368ca5frow1_col0\" class=\"data row1 col0\" >2012-08-01 00:00:00</td> \n",
       "        <td id=\"T_bc001bf4_5f9a_11e9_a1fb_784f4368ca5frow1_col1\" class=\"data row1 col1\" >Julia</td> \n",
       "        <td id=\"T_bc001bf4_5f9a_11e9_a1fb_784f4368ca5frow1_col2\" class=\"data row1 col2\" >1</td> \n",
       "        <td id=\"T_bc001bf4_5f9a_11e9_a1fb_784f4368ca5frow1_col3\" class=\"data row1 col3\" >Fifer</td> \n",
       "        <td id=\"T_bc001bf4_5f9a_11e9_a1fb_784f4368ca5frow1_col4\" class=\"data row1 col4\" >1</td> \n",
       "    </tr>    <tr> \n",
       "        <th id=\"T_bc001bf4_5f9a_11e9_a1fb_784f4368ca5flevel0_row2\" class=\"row_heading level0 row2\" >2</th> \n",
       "        <td id=\"T_bc001bf4_5f9a_11e9_a1fb_784f4368ca5frow2_col0\" class=\"data row2 col0\" >2012-08-01 00:00:00</td> \n",
       "        <td id=\"T_bc001bf4_5f9a_11e9_a1fb_784f4368ca5frow2_col1\" class=\"data row2 col1\" >Julia</td> \n",
       "        <td id=\"T_bc001bf4_5f9a_11e9_a1fb_784f4368ca5frow2_col2\" class=\"data row2 col2\" >2</td> \n",
       "        <td id=\"T_bc001bf4_5f9a_11e9_a1fb_784f4368ca5frow2_col3\" class=\"data row2 col3\" >Fifer</td> \n",
       "        <td id=\"T_bc001bf4_5f9a_11e9_a1fb_784f4368ca5frow2_col4\" class=\"data row2 col4\" >2</td> \n",
       "    </tr>    <tr> \n",
       "        <th id=\"T_bc001bf4_5f9a_11e9_a1fb_784f4368ca5flevel0_row3\" class=\"row_heading level0 row3\" >3</th> \n",
       "        <td id=\"T_bc001bf4_5f9a_11e9_a1fb_784f4368ca5frow3_col0\" class=\"data row3 col0\" >2012-08-02 00:00:00</td> \n",
       "        <td id=\"T_bc001bf4_5f9a_11e9_a1fb_784f4368ca5frow3_col1\" class=\"data row3 col1\" >Emily</td> \n",
       "        <td id=\"T_bc001bf4_5f9a_11e9_a1fb_784f4368ca5frow3_col2\" class=\"data row3 col2\" >1</td> \n",
       "        <td id=\"T_bc001bf4_5f9a_11e9_a1fb_784f4368ca5frow3_col3\" class=\"data row3 col3\" >HomeSales</td> \n",
       "        <td id=\"T_bc001bf4_5f9a_11e9_a1fb_784f4368ca5frow3_col4\" class=\"data row3 col4\" >1</td> \n",
       "    </tr>    <tr> \n",
       "        <th id=\"T_bc001bf4_5f9a_11e9_a1fb_784f4368ca5flevel0_row4\" class=\"row_heading level0 row4\" >4</th> \n",
       "        <td id=\"T_bc001bf4_5f9a_11e9_a1fb_784f4368ca5frow4_col0\" class=\"data row4 col0\" >2012-08-03 00:00:00</td> \n",
       "        <td id=\"T_bc001bf4_5f9a_11e9_a1fb_784f4368ca5frow4_col1\" class=\"data row4 col1\" >Julia</td> \n",
       "        <td id=\"T_bc001bf4_5f9a_11e9_a1fb_784f4368ca5frow4_col2\" class=\"data row4 col2\" >3</td> \n",
       "        <td id=\"T_bc001bf4_5f9a_11e9_a1fb_784f4368ca5frow4_col3\" class=\"data row4 col3\" >HomeSales</td> \n",
       "        <td id=\"T_bc001bf4_5f9a_11e9_a1fb_784f4368ca5frow4_col4\" class=\"data row4 col4\" >1</td> \n",
       "    </tr>    <tr> \n",
       "        <th id=\"T_bc001bf4_5f9a_11e9_a1fb_784f4368ca5flevel0_row5\" class=\"row_heading level0 row5\" >5</th> \n",
       "        <td id=\"T_bc001bf4_5f9a_11e9_a1fb_784f4368ca5frow5_col0\" class=\"data row5 col0\" >2012-08-04 00:00:00</td> \n",
       "        <td id=\"T_bc001bf4_5f9a_11e9_a1fb_784f4368ca5frow5_col1\" class=\"data row5 col1\" >Lara</td> \n",
       "        <td id=\"T_bc001bf4_5f9a_11e9_a1fb_784f4368ca5frow5_col2\" class=\"data row5 col2\" >2</td> \n",
       "        <td id=\"T_bc001bf4_5f9a_11e9_a1fb_784f4368ca5frow5_col3\" class=\"data row5 col3\" >Fifer</td> \n",
       "        <td id=\"T_bc001bf4_5f9a_11e9_a1fb_784f4368ca5frow5_col4\" class=\"data row5 col4\" >2</td> \n",
       "    </tr>    <tr> \n",
       "        <th id=\"T_bc001bf4_5f9a_11e9_a1fb_784f4368ca5flevel0_row6\" class=\"row_heading level0 row6\" >6</th> \n",
       "        <td id=\"T_bc001bf4_5f9a_11e9_a1fb_784f4368ca5frow6_col0\" class=\"data row6 col0\" >2012-08-05 00:00:00</td> \n",
       "        <td id=\"T_bc001bf4_5f9a_11e9_a1fb_784f4368ca5frow6_col1\" class=\"data row6 col1\" >Julia</td> \n",
       "        <td id=\"T_bc001bf4_5f9a_11e9_a1fb_784f4368ca5frow6_col2\" class=\"data row6 col2\" >4</td> \n",
       "        <td id=\"T_bc001bf4_5f9a_11e9_a1fb_784f4368ca5frow6_col3\" class=\"data row6 col3\" >Fifer</td> \n",
       "        <td id=\"T_bc001bf4_5f9a_11e9_a1fb_784f4368ca5frow6_col4\" class=\"data row6 col4\" >3</td> \n",
       "    </tr>    <tr> \n",
       "        <th id=\"T_bc001bf4_5f9a_11e9_a1fb_784f4368ca5flevel0_row7\" class=\"row_heading level0 row7\" >7</th> \n",
       "        <td id=\"T_bc001bf4_5f9a_11e9_a1fb_784f4368ca5frow7_col0\" class=\"data row7 col0\" >2012-08-07 00:00:00</td> \n",
       "        <td id=\"T_bc001bf4_5f9a_11e9_a1fb_784f4368ca5frow7_col1\" class=\"data row7 col1\" >Julia</td> \n",
       "        <td id=\"T_bc001bf4_5f9a_11e9_a1fb_784f4368ca5frow7_col2\" class=\"data row7 col2\" >5</td> \n",
       "        <td id=\"T_bc001bf4_5f9a_11e9_a1fb_784f4368ca5frow7_col3\" class=\"data row7 col3\" >Fifer</td> \n",
       "        <td id=\"T_bc001bf4_5f9a_11e9_a1fb_784f4368ca5frow7_col4\" class=\"data row7 col4\" >4</td> \n",
       "    </tr></tbody> \n",
       "</table> "
      ],
      "text/plain": [
       "<pandas.io.formats.style.Styler at 0x1a1fdf65c0>"
      ]
     },
     "execution_count": 100,
     "metadata": {},
     "output_type": "execute_result"
    }
   ],
   "source": [
    "df.style.background_gradient(cmap=cm, subset=pd.IndexSlice[:, ['first_rank_agency_seller_by_close_date']])"
   ]
  },
  {
   "cell_type": "markdown",
   "metadata": {},
   "source": [
    "The output below is easier to understand because I sort `df` by `agency` and then `seller_name`.\n",
    "\n",
    "Below, notice how `Fifer` *first* helped Julia sell a home on `2012-08-01` and first helped Lara sell a home on `2012-08-01`. Both of these rows have a `first_rank_agency_seller_by_close_date` value of `1`.\n",
    "\n",
    "Then, when Julia sold a home with `HomeSales` on `2012-08-03`, that also has a `first_rank_agency_seller_by_close_date` value of `1` because that was her *first* home sold by date with that agency, `HomeSales`."
   ]
  },
  {
   "cell_type": "code",
   "execution_count": 101,
   "metadata": {},
   "outputs": [
    {
     "data": {
      "text/html": [
       "<style  type=\"text/css\" >\n",
       "    #T_bc034d68_5f9a_11e9_b74b_784f4368ca5frow0_col4 {\n",
       "            background-color:  #e9fce9;\n",
       "        }    #T_bc034d68_5f9a_11e9_b74b_784f4368ca5frow1_col4 {\n",
       "            background-color:  #cbf7cb;\n",
       "        }    #T_bc034d68_5f9a_11e9_b74b_784f4368ca5frow2_col4 {\n",
       "            background-color:  #aef3ae;\n",
       "        }    #T_bc034d68_5f9a_11e9_b74b_784f4368ca5frow3_col4 {\n",
       "            background-color:  #90ee90;\n",
       "        }    #T_bc034d68_5f9a_11e9_b74b_784f4368ca5frow4_col4 {\n",
       "            background-color:  #e9fce9;\n",
       "        }    #T_bc034d68_5f9a_11e9_b74b_784f4368ca5frow5_col4 {\n",
       "            background-color:  #cbf7cb;\n",
       "        }    #T_bc034d68_5f9a_11e9_b74b_784f4368ca5frow6_col4 {\n",
       "            background-color:  #e9fce9;\n",
       "        }    #T_bc034d68_5f9a_11e9_b74b_784f4368ca5frow7_col4 {\n",
       "            background-color:  #e9fce9;\n",
       "        }</style>  \n",
       "<table id=\"T_bc034d68_5f9a_11e9_b74b_784f4368ca5f\" > \n",
       "<thead>    <tr> \n",
       "        <th class=\"blank level0\" ></th> \n",
       "        <th class=\"col_heading level0 col0\" >close_date</th> \n",
       "        <th class=\"col_heading level0 col1\" >seller_name</th> \n",
       "        <th class=\"col_heading level0 col2\" >rank_seller_by_close_date</th> \n",
       "        <th class=\"col_heading level0 col3\" >agency</th> \n",
       "        <th class=\"col_heading level0 col4\" >first_rank_agency_seller_by_close_date</th> \n",
       "    </tr></thead> \n",
       "<tbody>    <tr> \n",
       "        <th id=\"T_bc034d68_5f9a_11e9_b74b_784f4368ca5flevel0_row0\" class=\"row_heading level0 row0\" >1</th> \n",
       "        <td id=\"T_bc034d68_5f9a_11e9_b74b_784f4368ca5frow0_col0\" class=\"data row0 col0\" >2012-08-01 00:00:00</td> \n",
       "        <td id=\"T_bc034d68_5f9a_11e9_b74b_784f4368ca5frow0_col1\" class=\"data row0 col1\" >Julia</td> \n",
       "        <td id=\"T_bc034d68_5f9a_11e9_b74b_784f4368ca5frow0_col2\" class=\"data row0 col2\" >1</td> \n",
       "        <td id=\"T_bc034d68_5f9a_11e9_b74b_784f4368ca5frow0_col3\" class=\"data row0 col3\" >Fifer</td> \n",
       "        <td id=\"T_bc034d68_5f9a_11e9_b74b_784f4368ca5frow0_col4\" class=\"data row0 col4\" >1</td> \n",
       "    </tr>    <tr> \n",
       "        <th id=\"T_bc034d68_5f9a_11e9_b74b_784f4368ca5flevel0_row1\" class=\"row_heading level0 row1\" >2</th> \n",
       "        <td id=\"T_bc034d68_5f9a_11e9_b74b_784f4368ca5frow1_col0\" class=\"data row1 col0\" >2012-08-01 00:00:00</td> \n",
       "        <td id=\"T_bc034d68_5f9a_11e9_b74b_784f4368ca5frow1_col1\" class=\"data row1 col1\" >Julia</td> \n",
       "        <td id=\"T_bc034d68_5f9a_11e9_b74b_784f4368ca5frow1_col2\" class=\"data row1 col2\" >2</td> \n",
       "        <td id=\"T_bc034d68_5f9a_11e9_b74b_784f4368ca5frow1_col3\" class=\"data row1 col3\" >Fifer</td> \n",
       "        <td id=\"T_bc034d68_5f9a_11e9_b74b_784f4368ca5frow1_col4\" class=\"data row1 col4\" >2</td> \n",
       "    </tr>    <tr> \n",
       "        <th id=\"T_bc034d68_5f9a_11e9_b74b_784f4368ca5flevel0_row2\" class=\"row_heading level0 row2\" >6</th> \n",
       "        <td id=\"T_bc034d68_5f9a_11e9_b74b_784f4368ca5frow2_col0\" class=\"data row2 col0\" >2012-08-05 00:00:00</td> \n",
       "        <td id=\"T_bc034d68_5f9a_11e9_b74b_784f4368ca5frow2_col1\" class=\"data row2 col1\" >Julia</td> \n",
       "        <td id=\"T_bc034d68_5f9a_11e9_b74b_784f4368ca5frow2_col2\" class=\"data row2 col2\" >4</td> \n",
       "        <td id=\"T_bc034d68_5f9a_11e9_b74b_784f4368ca5frow2_col3\" class=\"data row2 col3\" >Fifer</td> \n",
       "        <td id=\"T_bc034d68_5f9a_11e9_b74b_784f4368ca5frow2_col4\" class=\"data row2 col4\" >3</td> \n",
       "    </tr>    <tr> \n",
       "        <th id=\"T_bc034d68_5f9a_11e9_b74b_784f4368ca5flevel0_row3\" class=\"row_heading level0 row3\" >7</th> \n",
       "        <td id=\"T_bc034d68_5f9a_11e9_b74b_784f4368ca5frow3_col0\" class=\"data row3 col0\" >2012-08-07 00:00:00</td> \n",
       "        <td id=\"T_bc034d68_5f9a_11e9_b74b_784f4368ca5frow3_col1\" class=\"data row3 col1\" >Julia</td> \n",
       "        <td id=\"T_bc034d68_5f9a_11e9_b74b_784f4368ca5frow3_col2\" class=\"data row3 col2\" >5</td> \n",
       "        <td id=\"T_bc034d68_5f9a_11e9_b74b_784f4368ca5frow3_col3\" class=\"data row3 col3\" >Fifer</td> \n",
       "        <td id=\"T_bc034d68_5f9a_11e9_b74b_784f4368ca5frow3_col4\" class=\"data row3 col4\" >4</td> \n",
       "    </tr>    <tr> \n",
       "        <th id=\"T_bc034d68_5f9a_11e9_b74b_784f4368ca5flevel0_row4\" class=\"row_heading level0 row4\" >0</th> \n",
       "        <td id=\"T_bc034d68_5f9a_11e9_b74b_784f4368ca5frow4_col0\" class=\"data row4 col0\" >2012-08-01 00:00:00</td> \n",
       "        <td id=\"T_bc034d68_5f9a_11e9_b74b_784f4368ca5frow4_col1\" class=\"data row4 col1\" >Lara</td> \n",
       "        <td id=\"T_bc034d68_5f9a_11e9_b74b_784f4368ca5frow4_col2\" class=\"data row4 col2\" >1</td> \n",
       "        <td id=\"T_bc034d68_5f9a_11e9_b74b_784f4368ca5frow4_col3\" class=\"data row4 col3\" >Fifer</td> \n",
       "        <td id=\"T_bc034d68_5f9a_11e9_b74b_784f4368ca5frow4_col4\" class=\"data row4 col4\" >1</td> \n",
       "    </tr>    <tr> \n",
       "        <th id=\"T_bc034d68_5f9a_11e9_b74b_784f4368ca5flevel0_row5\" class=\"row_heading level0 row5\" >5</th> \n",
       "        <td id=\"T_bc034d68_5f9a_11e9_b74b_784f4368ca5frow5_col0\" class=\"data row5 col0\" >2012-08-04 00:00:00</td> \n",
       "        <td id=\"T_bc034d68_5f9a_11e9_b74b_784f4368ca5frow5_col1\" class=\"data row5 col1\" >Lara</td> \n",
       "        <td id=\"T_bc034d68_5f9a_11e9_b74b_784f4368ca5frow5_col2\" class=\"data row5 col2\" >2</td> \n",
       "        <td id=\"T_bc034d68_5f9a_11e9_b74b_784f4368ca5frow5_col3\" class=\"data row5 col3\" >Fifer</td> \n",
       "        <td id=\"T_bc034d68_5f9a_11e9_b74b_784f4368ca5frow5_col4\" class=\"data row5 col4\" >2</td> \n",
       "    </tr>    <tr> \n",
       "        <th id=\"T_bc034d68_5f9a_11e9_b74b_784f4368ca5flevel0_row6\" class=\"row_heading level0 row6\" >3</th> \n",
       "        <td id=\"T_bc034d68_5f9a_11e9_b74b_784f4368ca5frow6_col0\" class=\"data row6 col0\" >2012-08-02 00:00:00</td> \n",
       "        <td id=\"T_bc034d68_5f9a_11e9_b74b_784f4368ca5frow6_col1\" class=\"data row6 col1\" >Emily</td> \n",
       "        <td id=\"T_bc034d68_5f9a_11e9_b74b_784f4368ca5frow6_col2\" class=\"data row6 col2\" >1</td> \n",
       "        <td id=\"T_bc034d68_5f9a_11e9_b74b_784f4368ca5frow6_col3\" class=\"data row6 col3\" >HomeSales</td> \n",
       "        <td id=\"T_bc034d68_5f9a_11e9_b74b_784f4368ca5frow6_col4\" class=\"data row6 col4\" >1</td> \n",
       "    </tr>    <tr> \n",
       "        <th id=\"T_bc034d68_5f9a_11e9_b74b_784f4368ca5flevel0_row7\" class=\"row_heading level0 row7\" >4</th> \n",
       "        <td id=\"T_bc034d68_5f9a_11e9_b74b_784f4368ca5frow7_col0\" class=\"data row7 col0\" >2012-08-03 00:00:00</td> \n",
       "        <td id=\"T_bc034d68_5f9a_11e9_b74b_784f4368ca5frow7_col1\" class=\"data row7 col1\" >Julia</td> \n",
       "        <td id=\"T_bc034d68_5f9a_11e9_b74b_784f4368ca5frow7_col2\" class=\"data row7 col2\" >3</td> \n",
       "        <td id=\"T_bc034d68_5f9a_11e9_b74b_784f4368ca5frow7_col3\" class=\"data row7 col3\" >HomeSales</td> \n",
       "        <td id=\"T_bc034d68_5f9a_11e9_b74b_784f4368ca5frow7_col4\" class=\"data row7 col4\" >1</td> \n",
       "    </tr></tbody> \n",
       "</table> "
      ],
      "text/plain": [
       "<pandas.io.formats.style.Styler at 0x1a1fdf6b70>"
      ]
     },
     "execution_count": 101,
     "metadata": {},
     "output_type": "execute_result"
    }
   ],
   "source": [
    "df.sort_values(by=['agency', 'seller_name']).style.background_gradient(cmap=cm, subset=pd.IndexSlice[:, ['first_rank_agency_seller_by_close_date']])"
   ]
  },
  {
   "cell_type": "markdown",
   "metadata": {},
   "source": [
    "I still want the count of *new* sellers with each agency per day. Below is a filter of `df` for records in which `first_rank_agency_seller_by_close_date` equals `1`."
   ]
  },
  {
   "cell_type": "code",
   "execution_count": 102,
   "metadata": {},
   "outputs": [
    {
     "data": {
      "text/html": [
       "<div>\n",
       "<style scoped>\n",
       "    .dataframe tbody tr th:only-of-type {\n",
       "        vertical-align: middle;\n",
       "    }\n",
       "\n",
       "    .dataframe tbody tr th {\n",
       "        vertical-align: top;\n",
       "    }\n",
       "\n",
       "    .dataframe thead th {\n",
       "        text-align: right;\n",
       "    }\n",
       "</style>\n",
       "<table border=\"1\" class=\"dataframe\">\n",
       "  <thead>\n",
       "    <tr style=\"text-align: right;\">\n",
       "      <th></th>\n",
       "      <th>close_date</th>\n",
       "      <th>seller_name</th>\n",
       "      <th>rank_seller_by_close_date</th>\n",
       "      <th>agency</th>\n",
       "      <th>first_rank_agency_seller_by_close_date</th>\n",
       "    </tr>\n",
       "  </thead>\n",
       "  <tbody>\n",
       "    <tr>\n",
       "      <th>0</th>\n",
       "      <td>2012-08-01</td>\n",
       "      <td>Lara</td>\n",
       "      <td>1.0</td>\n",
       "      <td>Fifer</td>\n",
       "      <td>1.0</td>\n",
       "    </tr>\n",
       "    <tr>\n",
       "      <th>1</th>\n",
       "      <td>2012-08-01</td>\n",
       "      <td>Julia</td>\n",
       "      <td>1.0</td>\n",
       "      <td>Fifer</td>\n",
       "      <td>1.0</td>\n",
       "    </tr>\n",
       "    <tr>\n",
       "      <th>3</th>\n",
       "      <td>2012-08-02</td>\n",
       "      <td>Emily</td>\n",
       "      <td>1.0</td>\n",
       "      <td>HomeSales</td>\n",
       "      <td>1.0</td>\n",
       "    </tr>\n",
       "    <tr>\n",
       "      <th>4</th>\n",
       "      <td>2012-08-03</td>\n",
       "      <td>Julia</td>\n",
       "      <td>3.0</td>\n",
       "      <td>HomeSales</td>\n",
       "      <td>1.0</td>\n",
       "    </tr>\n",
       "  </tbody>\n",
       "</table>\n",
       "</div>"
      ],
      "text/plain": [
       "  close_date seller_name  rank_seller_by_close_date     agency  \\\n",
       "0 2012-08-01        Lara                        1.0      Fifer   \n",
       "1 2012-08-01       Julia                        1.0      Fifer   \n",
       "3 2012-08-02       Emily                        1.0  HomeSales   \n",
       "4 2012-08-03       Julia                        3.0  HomeSales   \n",
       "\n",
       "   first_rank_agency_seller_by_close_date  \n",
       "0                                     1.0  \n",
       "1                                     1.0  \n",
       "3                                     1.0  \n",
       "4                                     1.0  "
      ]
     },
     "execution_count": 102,
     "metadata": {},
     "output_type": "execute_result"
    }
   ],
   "source": [
    "df[df['first_rank_agency_seller_by_close_date']==1]"
   ]
  },
  {
   "cell_type": "markdown",
   "metadata": {},
   "source": [
    "To get the final final output a count of new sellers with each agency per day, I take the filtered dataframe from above, group by `agency` and then `close_date`, and then compute the group size. \n",
    "\n",
    "Above I see two records of homes sold on `2012-08-01` by Lara and Julia with the agency `Fifer`. In the output from the group by operation below, I see an equivalent first record for `Fifer` on `2012-08-01` with `count_new_sellers_of_homes` equal to `2`."
   ]
  },
  {
   "cell_type": "code",
   "execution_count": 103,
   "metadata": {},
   "outputs": [
    {
     "data": {
      "text/html": [
       "<div>\n",
       "<style scoped>\n",
       "    .dataframe tbody tr th:only-of-type {\n",
       "        vertical-align: middle;\n",
       "    }\n",
       "\n",
       "    .dataframe tbody tr th {\n",
       "        vertical-align: top;\n",
       "    }\n",
       "\n",
       "    .dataframe thead th {\n",
       "        text-align: right;\n",
       "    }\n",
       "</style>\n",
       "<table border=\"1\" class=\"dataframe\">\n",
       "  <thead>\n",
       "    <tr style=\"text-align: right;\">\n",
       "      <th></th>\n",
       "      <th>agency</th>\n",
       "      <th>close_date</th>\n",
       "      <th>count_new_sellers_of_homes</th>\n",
       "    </tr>\n",
       "  </thead>\n",
       "  <tbody>\n",
       "    <tr>\n",
       "      <th>0</th>\n",
       "      <td>Fifer</td>\n",
       "      <td>2012-08-01</td>\n",
       "      <td>2</td>\n",
       "    </tr>\n",
       "    <tr>\n",
       "      <th>1</th>\n",
       "      <td>HomeSales</td>\n",
       "      <td>2012-08-02</td>\n",
       "      <td>1</td>\n",
       "    </tr>\n",
       "    <tr>\n",
       "      <th>2</th>\n",
       "      <td>HomeSales</td>\n",
       "      <td>2012-08-03</td>\n",
       "      <td>1</td>\n",
       "    </tr>\n",
       "  </tbody>\n",
       "</table>\n",
       "</div>"
      ],
      "text/plain": [
       "      agency close_date  count_new_sellers_of_homes\n",
       "0      Fifer 2012-08-01                           2\n",
       "1  HomeSales 2012-08-02                           1\n",
       "2  HomeSales 2012-08-03                           1"
      ]
     },
     "execution_count": 103,
     "metadata": {},
     "output_type": "execute_result"
    }
   ],
   "source": [
    "df[df['first_rank_agency_seller_by_close_date']==1].groupby(['agency', 'close_date']).size().reset_index().rename(columns={0: 'count_new_sellers_of_homes'})"
   ]
  },
  {
   "cell_type": "markdown",
   "metadata": {},
   "source": [
    "### Example 3: Pandas Rank `method='min'` Comparison"
   ]
  },
  {
   "cell_type": "markdown",
   "metadata": {},
   "source": [
    "The pandas `rank()` method has an argument `method` that can be set to `min`. This is different than the method used above with `method` set to `first`.\n",
    "\n",
    "The `method='min'` argument for the `rank()` method for pandas series is equivalent to the `RANK()` window function in SQL.\n",
    "\n",
    "Notice how with `method='min'`, in the column `min_rank_agency_seller_by_close_date`, Julia's two home sales on August 1, 2012 are both given a tied rank of 1. \n",
    "\n",
    "Then, the min rank value *skips* a value of `2` and Julia's next sale on August 5, 2012 has a value of `3`."
   ]
  },
  {
   "cell_type": "code",
   "execution_count": 104,
   "metadata": {},
   "outputs": [],
   "source": [
    "df['min_rank_agency_seller_by_close_date'] = df.groupby(['agency', 'seller_name'])['close_date'].rank(method='min')"
   ]
  },
  {
   "cell_type": "code",
   "execution_count": 105,
   "metadata": {},
   "outputs": [
    {
     "data": {
      "text/html": [
       "<style  type=\"text/css\" >\n",
       "    #T_bc0d943a_5f9a_11e9_be80_784f4368ca5frow0_col5 {\n",
       "            background-color:  #e9fce9;\n",
       "        }    #T_bc0d943a_5f9a_11e9_be80_784f4368ca5frow1_col5 {\n",
       "            background-color:  #e9fce9;\n",
       "        }    #T_bc0d943a_5f9a_11e9_be80_784f4368ca5frow2_col5 {\n",
       "            background-color:  #aef3ae;\n",
       "        }    #T_bc0d943a_5f9a_11e9_be80_784f4368ca5frow3_col5 {\n",
       "            background-color:  #90ee90;\n",
       "        }    #T_bc0d943a_5f9a_11e9_be80_784f4368ca5frow4_col5 {\n",
       "            background-color:  #e9fce9;\n",
       "        }    #T_bc0d943a_5f9a_11e9_be80_784f4368ca5frow5_col5 {\n",
       "            background-color:  #cbf7cb;\n",
       "        }    #T_bc0d943a_5f9a_11e9_be80_784f4368ca5frow6_col5 {\n",
       "            background-color:  #e9fce9;\n",
       "        }    #T_bc0d943a_5f9a_11e9_be80_784f4368ca5frow7_col5 {\n",
       "            background-color:  #e9fce9;\n",
       "        }</style>  \n",
       "<table id=\"T_bc0d943a_5f9a_11e9_be80_784f4368ca5f\" > \n",
       "<thead>    <tr> \n",
       "        <th class=\"blank level0\" ></th> \n",
       "        <th class=\"col_heading level0 col0\" >close_date</th> \n",
       "        <th class=\"col_heading level0 col1\" >seller_name</th> \n",
       "        <th class=\"col_heading level0 col2\" >rank_seller_by_close_date</th> \n",
       "        <th class=\"col_heading level0 col3\" >agency</th> \n",
       "        <th class=\"col_heading level0 col4\" >first_rank_agency_seller_by_close_date</th> \n",
       "        <th class=\"col_heading level0 col5\" >min_rank_agency_seller_by_close_date</th> \n",
       "    </tr></thead> \n",
       "<tbody>    <tr> \n",
       "        <th id=\"T_bc0d943a_5f9a_11e9_be80_784f4368ca5flevel0_row0\" class=\"row_heading level0 row0\" >1</th> \n",
       "        <td id=\"T_bc0d943a_5f9a_11e9_be80_784f4368ca5frow0_col0\" class=\"data row0 col0\" >2012-08-01 00:00:00</td> \n",
       "        <td id=\"T_bc0d943a_5f9a_11e9_be80_784f4368ca5frow0_col1\" class=\"data row0 col1\" >Julia</td> \n",
       "        <td id=\"T_bc0d943a_5f9a_11e9_be80_784f4368ca5frow0_col2\" class=\"data row0 col2\" >1</td> \n",
       "        <td id=\"T_bc0d943a_5f9a_11e9_be80_784f4368ca5frow0_col3\" class=\"data row0 col3\" >Fifer</td> \n",
       "        <td id=\"T_bc0d943a_5f9a_11e9_be80_784f4368ca5frow0_col4\" class=\"data row0 col4\" >1</td> \n",
       "        <td id=\"T_bc0d943a_5f9a_11e9_be80_784f4368ca5frow0_col5\" class=\"data row0 col5\" >1</td> \n",
       "    </tr>    <tr> \n",
       "        <th id=\"T_bc0d943a_5f9a_11e9_be80_784f4368ca5flevel0_row1\" class=\"row_heading level0 row1\" >2</th> \n",
       "        <td id=\"T_bc0d943a_5f9a_11e9_be80_784f4368ca5frow1_col0\" class=\"data row1 col0\" >2012-08-01 00:00:00</td> \n",
       "        <td id=\"T_bc0d943a_5f9a_11e9_be80_784f4368ca5frow1_col1\" class=\"data row1 col1\" >Julia</td> \n",
       "        <td id=\"T_bc0d943a_5f9a_11e9_be80_784f4368ca5frow1_col2\" class=\"data row1 col2\" >2</td> \n",
       "        <td id=\"T_bc0d943a_5f9a_11e9_be80_784f4368ca5frow1_col3\" class=\"data row1 col3\" >Fifer</td> \n",
       "        <td id=\"T_bc0d943a_5f9a_11e9_be80_784f4368ca5frow1_col4\" class=\"data row1 col4\" >2</td> \n",
       "        <td id=\"T_bc0d943a_5f9a_11e9_be80_784f4368ca5frow1_col5\" class=\"data row1 col5\" >1</td> \n",
       "    </tr>    <tr> \n",
       "        <th id=\"T_bc0d943a_5f9a_11e9_be80_784f4368ca5flevel0_row2\" class=\"row_heading level0 row2\" >6</th> \n",
       "        <td id=\"T_bc0d943a_5f9a_11e9_be80_784f4368ca5frow2_col0\" class=\"data row2 col0\" >2012-08-05 00:00:00</td> \n",
       "        <td id=\"T_bc0d943a_5f9a_11e9_be80_784f4368ca5frow2_col1\" class=\"data row2 col1\" >Julia</td> \n",
       "        <td id=\"T_bc0d943a_5f9a_11e9_be80_784f4368ca5frow2_col2\" class=\"data row2 col2\" >4</td> \n",
       "        <td id=\"T_bc0d943a_5f9a_11e9_be80_784f4368ca5frow2_col3\" class=\"data row2 col3\" >Fifer</td> \n",
       "        <td id=\"T_bc0d943a_5f9a_11e9_be80_784f4368ca5frow2_col4\" class=\"data row2 col4\" >3</td> \n",
       "        <td id=\"T_bc0d943a_5f9a_11e9_be80_784f4368ca5frow2_col5\" class=\"data row2 col5\" >3</td> \n",
       "    </tr>    <tr> \n",
       "        <th id=\"T_bc0d943a_5f9a_11e9_be80_784f4368ca5flevel0_row3\" class=\"row_heading level0 row3\" >7</th> \n",
       "        <td id=\"T_bc0d943a_5f9a_11e9_be80_784f4368ca5frow3_col0\" class=\"data row3 col0\" >2012-08-07 00:00:00</td> \n",
       "        <td id=\"T_bc0d943a_5f9a_11e9_be80_784f4368ca5frow3_col1\" class=\"data row3 col1\" >Julia</td> \n",
       "        <td id=\"T_bc0d943a_5f9a_11e9_be80_784f4368ca5frow3_col2\" class=\"data row3 col2\" >5</td> \n",
       "        <td id=\"T_bc0d943a_5f9a_11e9_be80_784f4368ca5frow3_col3\" class=\"data row3 col3\" >Fifer</td> \n",
       "        <td id=\"T_bc0d943a_5f9a_11e9_be80_784f4368ca5frow3_col4\" class=\"data row3 col4\" >4</td> \n",
       "        <td id=\"T_bc0d943a_5f9a_11e9_be80_784f4368ca5frow3_col5\" class=\"data row3 col5\" >4</td> \n",
       "    </tr>    <tr> \n",
       "        <th id=\"T_bc0d943a_5f9a_11e9_be80_784f4368ca5flevel0_row4\" class=\"row_heading level0 row4\" >0</th> \n",
       "        <td id=\"T_bc0d943a_5f9a_11e9_be80_784f4368ca5frow4_col0\" class=\"data row4 col0\" >2012-08-01 00:00:00</td> \n",
       "        <td id=\"T_bc0d943a_5f9a_11e9_be80_784f4368ca5frow4_col1\" class=\"data row4 col1\" >Lara</td> \n",
       "        <td id=\"T_bc0d943a_5f9a_11e9_be80_784f4368ca5frow4_col2\" class=\"data row4 col2\" >1</td> \n",
       "        <td id=\"T_bc0d943a_5f9a_11e9_be80_784f4368ca5frow4_col3\" class=\"data row4 col3\" >Fifer</td> \n",
       "        <td id=\"T_bc0d943a_5f9a_11e9_be80_784f4368ca5frow4_col4\" class=\"data row4 col4\" >1</td> \n",
       "        <td id=\"T_bc0d943a_5f9a_11e9_be80_784f4368ca5frow4_col5\" class=\"data row4 col5\" >1</td> \n",
       "    </tr>    <tr> \n",
       "        <th id=\"T_bc0d943a_5f9a_11e9_be80_784f4368ca5flevel0_row5\" class=\"row_heading level0 row5\" >5</th> \n",
       "        <td id=\"T_bc0d943a_5f9a_11e9_be80_784f4368ca5frow5_col0\" class=\"data row5 col0\" >2012-08-04 00:00:00</td> \n",
       "        <td id=\"T_bc0d943a_5f9a_11e9_be80_784f4368ca5frow5_col1\" class=\"data row5 col1\" >Lara</td> \n",
       "        <td id=\"T_bc0d943a_5f9a_11e9_be80_784f4368ca5frow5_col2\" class=\"data row5 col2\" >2</td> \n",
       "        <td id=\"T_bc0d943a_5f9a_11e9_be80_784f4368ca5frow5_col3\" class=\"data row5 col3\" >Fifer</td> \n",
       "        <td id=\"T_bc0d943a_5f9a_11e9_be80_784f4368ca5frow5_col4\" class=\"data row5 col4\" >2</td> \n",
       "        <td id=\"T_bc0d943a_5f9a_11e9_be80_784f4368ca5frow5_col5\" class=\"data row5 col5\" >2</td> \n",
       "    </tr>    <tr> \n",
       "        <th id=\"T_bc0d943a_5f9a_11e9_be80_784f4368ca5flevel0_row6\" class=\"row_heading level0 row6\" >3</th> \n",
       "        <td id=\"T_bc0d943a_5f9a_11e9_be80_784f4368ca5frow6_col0\" class=\"data row6 col0\" >2012-08-02 00:00:00</td> \n",
       "        <td id=\"T_bc0d943a_5f9a_11e9_be80_784f4368ca5frow6_col1\" class=\"data row6 col1\" >Emily</td> \n",
       "        <td id=\"T_bc0d943a_5f9a_11e9_be80_784f4368ca5frow6_col2\" class=\"data row6 col2\" >1</td> \n",
       "        <td id=\"T_bc0d943a_5f9a_11e9_be80_784f4368ca5frow6_col3\" class=\"data row6 col3\" >HomeSales</td> \n",
       "        <td id=\"T_bc0d943a_5f9a_11e9_be80_784f4368ca5frow6_col4\" class=\"data row6 col4\" >1</td> \n",
       "        <td id=\"T_bc0d943a_5f9a_11e9_be80_784f4368ca5frow6_col5\" class=\"data row6 col5\" >1</td> \n",
       "    </tr>    <tr> \n",
       "        <th id=\"T_bc0d943a_5f9a_11e9_be80_784f4368ca5flevel0_row7\" class=\"row_heading level0 row7\" >4</th> \n",
       "        <td id=\"T_bc0d943a_5f9a_11e9_be80_784f4368ca5frow7_col0\" class=\"data row7 col0\" >2012-08-03 00:00:00</td> \n",
       "        <td id=\"T_bc0d943a_5f9a_11e9_be80_784f4368ca5frow7_col1\" class=\"data row7 col1\" >Julia</td> \n",
       "        <td id=\"T_bc0d943a_5f9a_11e9_be80_784f4368ca5frow7_col2\" class=\"data row7 col2\" >3</td> \n",
       "        <td id=\"T_bc0d943a_5f9a_11e9_be80_784f4368ca5frow7_col3\" class=\"data row7 col3\" >HomeSales</td> \n",
       "        <td id=\"T_bc0d943a_5f9a_11e9_be80_784f4368ca5frow7_col4\" class=\"data row7 col4\" >1</td> \n",
       "        <td id=\"T_bc0d943a_5f9a_11e9_be80_784f4368ca5frow7_col5\" class=\"data row7 col5\" >1</td> \n",
       "    </tr></tbody> \n",
       "</table> "
      ],
      "text/plain": [
       "<pandas.io.formats.style.Styler at 0x1a1fdf6cf8>"
      ]
     },
     "execution_count": 105,
     "metadata": {},
     "output_type": "execute_result"
    }
   ],
   "source": [
    "df.sort_values(by=['agency', 'seller_name']).style.background_gradient(cmap=cm, subset=pd.IndexSlice[:, ['min_rank_agency_seller_by_close_date']])"
   ]
  },
  {
   "cell_type": "markdown",
   "metadata": {},
   "source": [
    "The use case for `method='first'` versus `method='min'` varies on a case by case basis. It's important to understand your data well to make sure you utilize the correct one, though you can of course easily swap the argument's value."
   ]
  },
  {
   "cell_type": "markdown",
   "metadata": {},
   "source": [
    "### Example 4: Pandas Rank `method='dense'` Comparison"
   ]
  },
  {
   "cell_type": "markdown",
   "metadata": {},
   "source": [
    "The pandas `rank()` method has an argument `method` that can be set to `'dense'`. This is different than `method` set to either `'first'` or `'min'`. \n",
    "\n",
    "Notice how with `method='dense'`, in the column `dense_rank_agency_seller_by_close_date`, Julia's two home sales on August 1, 2012 are both given a tied rank of `1`. \n",
    "\n",
    "Then, the dense rank value *does not skip* a value of `2` and Julia's next sale on August 5, 2012 has a value of `2`. `'dense'` is different than `min`! "
   ]
  },
  {
   "cell_type": "code",
   "execution_count": 106,
   "metadata": {},
   "outputs": [],
   "source": [
    "df['dense_rank_agency_seller_by_close_date'] = df.groupby(['agency', 'seller_name'])['close_date'].rank(method='dense')"
   ]
  },
  {
   "cell_type": "code",
   "execution_count": 107,
   "metadata": {},
   "outputs": [
    {
     "data": {
      "text/html": [
       "<style  type=\"text/css\" >\n",
       "    #T_bc12cfb8_5f9a_11e9_87b4_784f4368ca5frow0_col6 {\n",
       "            background-color:  #e9fce9;\n",
       "        }    #T_bc12cfb8_5f9a_11e9_87b4_784f4368ca5frow1_col6 {\n",
       "            background-color:  #e9fce9;\n",
       "        }    #T_bc12cfb8_5f9a_11e9_87b4_784f4368ca5frow2_col6 {\n",
       "            background-color:  #bcf5bc;\n",
       "        }    #T_bc12cfb8_5f9a_11e9_87b4_784f4368ca5frow3_col6 {\n",
       "            background-color:  #90ee90;\n",
       "        }    #T_bc12cfb8_5f9a_11e9_87b4_784f4368ca5frow4_col6 {\n",
       "            background-color:  #e9fce9;\n",
       "        }    #T_bc12cfb8_5f9a_11e9_87b4_784f4368ca5frow5_col6 {\n",
       "            background-color:  #bcf5bc;\n",
       "        }    #T_bc12cfb8_5f9a_11e9_87b4_784f4368ca5frow6_col6 {\n",
       "            background-color:  #e9fce9;\n",
       "        }    #T_bc12cfb8_5f9a_11e9_87b4_784f4368ca5frow7_col6 {\n",
       "            background-color:  #e9fce9;\n",
       "        }</style>  \n",
       "<table id=\"T_bc12cfb8_5f9a_11e9_87b4_784f4368ca5f\" > \n",
       "<thead>    <tr> \n",
       "        <th class=\"blank level0\" ></th> \n",
       "        <th class=\"col_heading level0 col0\" >close_date</th> \n",
       "        <th class=\"col_heading level0 col1\" >seller_name</th> \n",
       "        <th class=\"col_heading level0 col2\" >rank_seller_by_close_date</th> \n",
       "        <th class=\"col_heading level0 col3\" >agency</th> \n",
       "        <th class=\"col_heading level0 col4\" >first_rank_agency_seller_by_close_date</th> \n",
       "        <th class=\"col_heading level0 col5\" >min_rank_agency_seller_by_close_date</th> \n",
       "        <th class=\"col_heading level0 col6\" >dense_rank_agency_seller_by_close_date</th> \n",
       "    </tr></thead> \n",
       "<tbody>    <tr> \n",
       "        <th id=\"T_bc12cfb8_5f9a_11e9_87b4_784f4368ca5flevel0_row0\" class=\"row_heading level0 row0\" >1</th> \n",
       "        <td id=\"T_bc12cfb8_5f9a_11e9_87b4_784f4368ca5frow0_col0\" class=\"data row0 col0\" >2012-08-01 00:00:00</td> \n",
       "        <td id=\"T_bc12cfb8_5f9a_11e9_87b4_784f4368ca5frow0_col1\" class=\"data row0 col1\" >Julia</td> \n",
       "        <td id=\"T_bc12cfb8_5f9a_11e9_87b4_784f4368ca5frow0_col2\" class=\"data row0 col2\" >1</td> \n",
       "        <td id=\"T_bc12cfb8_5f9a_11e9_87b4_784f4368ca5frow0_col3\" class=\"data row0 col3\" >Fifer</td> \n",
       "        <td id=\"T_bc12cfb8_5f9a_11e9_87b4_784f4368ca5frow0_col4\" class=\"data row0 col4\" >1</td> \n",
       "        <td id=\"T_bc12cfb8_5f9a_11e9_87b4_784f4368ca5frow0_col5\" class=\"data row0 col5\" >1</td> \n",
       "        <td id=\"T_bc12cfb8_5f9a_11e9_87b4_784f4368ca5frow0_col6\" class=\"data row0 col6\" >1</td> \n",
       "    </tr>    <tr> \n",
       "        <th id=\"T_bc12cfb8_5f9a_11e9_87b4_784f4368ca5flevel0_row1\" class=\"row_heading level0 row1\" >2</th> \n",
       "        <td id=\"T_bc12cfb8_5f9a_11e9_87b4_784f4368ca5frow1_col0\" class=\"data row1 col0\" >2012-08-01 00:00:00</td> \n",
       "        <td id=\"T_bc12cfb8_5f9a_11e9_87b4_784f4368ca5frow1_col1\" class=\"data row1 col1\" >Julia</td> \n",
       "        <td id=\"T_bc12cfb8_5f9a_11e9_87b4_784f4368ca5frow1_col2\" class=\"data row1 col2\" >2</td> \n",
       "        <td id=\"T_bc12cfb8_5f9a_11e9_87b4_784f4368ca5frow1_col3\" class=\"data row1 col3\" >Fifer</td> \n",
       "        <td id=\"T_bc12cfb8_5f9a_11e9_87b4_784f4368ca5frow1_col4\" class=\"data row1 col4\" >2</td> \n",
       "        <td id=\"T_bc12cfb8_5f9a_11e9_87b4_784f4368ca5frow1_col5\" class=\"data row1 col5\" >1</td> \n",
       "        <td id=\"T_bc12cfb8_5f9a_11e9_87b4_784f4368ca5frow1_col6\" class=\"data row1 col6\" >1</td> \n",
       "    </tr>    <tr> \n",
       "        <th id=\"T_bc12cfb8_5f9a_11e9_87b4_784f4368ca5flevel0_row2\" class=\"row_heading level0 row2\" >6</th> \n",
       "        <td id=\"T_bc12cfb8_5f9a_11e9_87b4_784f4368ca5frow2_col0\" class=\"data row2 col0\" >2012-08-05 00:00:00</td> \n",
       "        <td id=\"T_bc12cfb8_5f9a_11e9_87b4_784f4368ca5frow2_col1\" class=\"data row2 col1\" >Julia</td> \n",
       "        <td id=\"T_bc12cfb8_5f9a_11e9_87b4_784f4368ca5frow2_col2\" class=\"data row2 col2\" >4</td> \n",
       "        <td id=\"T_bc12cfb8_5f9a_11e9_87b4_784f4368ca5frow2_col3\" class=\"data row2 col3\" >Fifer</td> \n",
       "        <td id=\"T_bc12cfb8_5f9a_11e9_87b4_784f4368ca5frow2_col4\" class=\"data row2 col4\" >3</td> \n",
       "        <td id=\"T_bc12cfb8_5f9a_11e9_87b4_784f4368ca5frow2_col5\" class=\"data row2 col5\" >3</td> \n",
       "        <td id=\"T_bc12cfb8_5f9a_11e9_87b4_784f4368ca5frow2_col6\" class=\"data row2 col6\" >2</td> \n",
       "    </tr>    <tr> \n",
       "        <th id=\"T_bc12cfb8_5f9a_11e9_87b4_784f4368ca5flevel0_row3\" class=\"row_heading level0 row3\" >7</th> \n",
       "        <td id=\"T_bc12cfb8_5f9a_11e9_87b4_784f4368ca5frow3_col0\" class=\"data row3 col0\" >2012-08-07 00:00:00</td> \n",
       "        <td id=\"T_bc12cfb8_5f9a_11e9_87b4_784f4368ca5frow3_col1\" class=\"data row3 col1\" >Julia</td> \n",
       "        <td id=\"T_bc12cfb8_5f9a_11e9_87b4_784f4368ca5frow3_col2\" class=\"data row3 col2\" >5</td> \n",
       "        <td id=\"T_bc12cfb8_5f9a_11e9_87b4_784f4368ca5frow3_col3\" class=\"data row3 col3\" >Fifer</td> \n",
       "        <td id=\"T_bc12cfb8_5f9a_11e9_87b4_784f4368ca5frow3_col4\" class=\"data row3 col4\" >4</td> \n",
       "        <td id=\"T_bc12cfb8_5f9a_11e9_87b4_784f4368ca5frow3_col5\" class=\"data row3 col5\" >4</td> \n",
       "        <td id=\"T_bc12cfb8_5f9a_11e9_87b4_784f4368ca5frow3_col6\" class=\"data row3 col6\" >3</td> \n",
       "    </tr>    <tr> \n",
       "        <th id=\"T_bc12cfb8_5f9a_11e9_87b4_784f4368ca5flevel0_row4\" class=\"row_heading level0 row4\" >0</th> \n",
       "        <td id=\"T_bc12cfb8_5f9a_11e9_87b4_784f4368ca5frow4_col0\" class=\"data row4 col0\" >2012-08-01 00:00:00</td> \n",
       "        <td id=\"T_bc12cfb8_5f9a_11e9_87b4_784f4368ca5frow4_col1\" class=\"data row4 col1\" >Lara</td> \n",
       "        <td id=\"T_bc12cfb8_5f9a_11e9_87b4_784f4368ca5frow4_col2\" class=\"data row4 col2\" >1</td> \n",
       "        <td id=\"T_bc12cfb8_5f9a_11e9_87b4_784f4368ca5frow4_col3\" class=\"data row4 col3\" >Fifer</td> \n",
       "        <td id=\"T_bc12cfb8_5f9a_11e9_87b4_784f4368ca5frow4_col4\" class=\"data row4 col4\" >1</td> \n",
       "        <td id=\"T_bc12cfb8_5f9a_11e9_87b4_784f4368ca5frow4_col5\" class=\"data row4 col5\" >1</td> \n",
       "        <td id=\"T_bc12cfb8_5f9a_11e9_87b4_784f4368ca5frow4_col6\" class=\"data row4 col6\" >1</td> \n",
       "    </tr>    <tr> \n",
       "        <th id=\"T_bc12cfb8_5f9a_11e9_87b4_784f4368ca5flevel0_row5\" class=\"row_heading level0 row5\" >5</th> \n",
       "        <td id=\"T_bc12cfb8_5f9a_11e9_87b4_784f4368ca5frow5_col0\" class=\"data row5 col0\" >2012-08-04 00:00:00</td> \n",
       "        <td id=\"T_bc12cfb8_5f9a_11e9_87b4_784f4368ca5frow5_col1\" class=\"data row5 col1\" >Lara</td> \n",
       "        <td id=\"T_bc12cfb8_5f9a_11e9_87b4_784f4368ca5frow5_col2\" class=\"data row5 col2\" >2</td> \n",
       "        <td id=\"T_bc12cfb8_5f9a_11e9_87b4_784f4368ca5frow5_col3\" class=\"data row5 col3\" >Fifer</td> \n",
       "        <td id=\"T_bc12cfb8_5f9a_11e9_87b4_784f4368ca5frow5_col4\" class=\"data row5 col4\" >2</td> \n",
       "        <td id=\"T_bc12cfb8_5f9a_11e9_87b4_784f4368ca5frow5_col5\" class=\"data row5 col5\" >2</td> \n",
       "        <td id=\"T_bc12cfb8_5f9a_11e9_87b4_784f4368ca5frow5_col6\" class=\"data row5 col6\" >2</td> \n",
       "    </tr>    <tr> \n",
       "        <th id=\"T_bc12cfb8_5f9a_11e9_87b4_784f4368ca5flevel0_row6\" class=\"row_heading level0 row6\" >3</th> \n",
       "        <td id=\"T_bc12cfb8_5f9a_11e9_87b4_784f4368ca5frow6_col0\" class=\"data row6 col0\" >2012-08-02 00:00:00</td> \n",
       "        <td id=\"T_bc12cfb8_5f9a_11e9_87b4_784f4368ca5frow6_col1\" class=\"data row6 col1\" >Emily</td> \n",
       "        <td id=\"T_bc12cfb8_5f9a_11e9_87b4_784f4368ca5frow6_col2\" class=\"data row6 col2\" >1</td> \n",
       "        <td id=\"T_bc12cfb8_5f9a_11e9_87b4_784f4368ca5frow6_col3\" class=\"data row6 col3\" >HomeSales</td> \n",
       "        <td id=\"T_bc12cfb8_5f9a_11e9_87b4_784f4368ca5frow6_col4\" class=\"data row6 col4\" >1</td> \n",
       "        <td id=\"T_bc12cfb8_5f9a_11e9_87b4_784f4368ca5frow6_col5\" class=\"data row6 col5\" >1</td> \n",
       "        <td id=\"T_bc12cfb8_5f9a_11e9_87b4_784f4368ca5frow6_col6\" class=\"data row6 col6\" >1</td> \n",
       "    </tr>    <tr> \n",
       "        <th id=\"T_bc12cfb8_5f9a_11e9_87b4_784f4368ca5flevel0_row7\" class=\"row_heading level0 row7\" >4</th> \n",
       "        <td id=\"T_bc12cfb8_5f9a_11e9_87b4_784f4368ca5frow7_col0\" class=\"data row7 col0\" >2012-08-03 00:00:00</td> \n",
       "        <td id=\"T_bc12cfb8_5f9a_11e9_87b4_784f4368ca5frow7_col1\" class=\"data row7 col1\" >Julia</td> \n",
       "        <td id=\"T_bc12cfb8_5f9a_11e9_87b4_784f4368ca5frow7_col2\" class=\"data row7 col2\" >3</td> \n",
       "        <td id=\"T_bc12cfb8_5f9a_11e9_87b4_784f4368ca5frow7_col3\" class=\"data row7 col3\" >HomeSales</td> \n",
       "        <td id=\"T_bc12cfb8_5f9a_11e9_87b4_784f4368ca5frow7_col4\" class=\"data row7 col4\" >1</td> \n",
       "        <td id=\"T_bc12cfb8_5f9a_11e9_87b4_784f4368ca5frow7_col5\" class=\"data row7 col5\" >1</td> \n",
       "        <td id=\"T_bc12cfb8_5f9a_11e9_87b4_784f4368ca5frow7_col6\" class=\"data row7 col6\" >1</td> \n",
       "    </tr></tbody> \n",
       "</table> "
      ],
      "text/plain": [
       "<pandas.io.formats.style.Styler at 0x1a1fde1f98>"
      ]
     },
     "execution_count": 107,
     "metadata": {},
     "output_type": "execute_result"
    }
   ],
   "source": [
    "df.sort_values(by=['agency', 'seller_name']).style.background_gradient(cmap=cm, subset=pd.IndexSlice[:, ['dense_rank_agency_seller_by_close_date']])"
   ]
  },
  {
   "cell_type": "markdown",
   "metadata": {},
   "source": [
    "The use case for `'dense'` varies on a case by case basis. A second reminder - please understand your data well and why you'd choose `'dense'` over other options."
   ]
  },
  {
   "cell_type": "markdown",
   "metadata": {},
   "source": [
    "### Example 5: Pandas Rank `pct=True`"
   ]
  },
  {
   "cell_type": "markdown",
   "metadata": {},
   "source": [
    "The pandas series `rank()` method has another argument called `pct` that can be set to `True` or `False`. By default, it's `False`. This `pct` argument computes the percentage rank of data.\n",
    "\n",
    "To set the argument `pct=True` is similar to the `NTILE(100)` window function in SQL."
   ]
  },
  {
   "cell_type": "markdown",
   "metadata": {},
   "source": [
    "#### Create Class Quiz Score Data "
   ]
  },
  {
   "cell_type": "markdown",
   "metadata": {},
   "source": [
    "Below I create fictional data for 11 students in a class that took the same quiz. The max possible score is `100`.\n",
    "\n",
    "I remember in school, teachers told me I was in a certain percentile based on my GPA or score on a quiz. Therefore, I created a dataset I'll remember in relation to percentile rankings!"
   ]
  },
  {
   "cell_type": "code",
   "execution_count": 108,
   "metadata": {},
   "outputs": [],
   "source": [
    "class_quiz_data = {'name': [\"Jamie\", \"Joe\", \"Jake\", \"Jill\", \"James\", \"Dan\", \"Joy\", \"Jared\", \"Jill\", \"Jaime\", \"Jay\"],\n",
    "                   'score': [80, 85, 74, 100, 98, 91, 89, 90, 65, 84, 85]\n",
    "                  }\n",
    "df_quiz_scores = pd.DataFrame(class_quiz_data)"
   ]
  },
  {
   "cell_type": "markdown",
   "metadata": {},
   "source": [
    "View `df_quiz_scores` as a dataframe."
   ]
  },
  {
   "cell_type": "code",
   "execution_count": 109,
   "metadata": {},
   "outputs": [
    {
     "data": {
      "text/html": [
       "<div>\n",
       "<style scoped>\n",
       "    .dataframe tbody tr th:only-of-type {\n",
       "        vertical-align: middle;\n",
       "    }\n",
       "\n",
       "    .dataframe tbody tr th {\n",
       "        vertical-align: top;\n",
       "    }\n",
       "\n",
       "    .dataframe thead th {\n",
       "        text-align: right;\n",
       "    }\n",
       "</style>\n",
       "<table border=\"1\" class=\"dataframe\">\n",
       "  <thead>\n",
       "    <tr style=\"text-align: right;\">\n",
       "      <th></th>\n",
       "      <th>name</th>\n",
       "      <th>score</th>\n",
       "    </tr>\n",
       "  </thead>\n",
       "  <tbody>\n",
       "    <tr>\n",
       "      <th>0</th>\n",
       "      <td>Jamie</td>\n",
       "      <td>80</td>\n",
       "    </tr>\n",
       "    <tr>\n",
       "      <th>1</th>\n",
       "      <td>Joe</td>\n",
       "      <td>85</td>\n",
       "    </tr>\n",
       "    <tr>\n",
       "      <th>2</th>\n",
       "      <td>Jake</td>\n",
       "      <td>74</td>\n",
       "    </tr>\n",
       "    <tr>\n",
       "      <th>3</th>\n",
       "      <td>Jill</td>\n",
       "      <td>100</td>\n",
       "    </tr>\n",
       "    <tr>\n",
       "      <th>4</th>\n",
       "      <td>James</td>\n",
       "      <td>98</td>\n",
       "    </tr>\n",
       "    <tr>\n",
       "      <th>5</th>\n",
       "      <td>Dan</td>\n",
       "      <td>91</td>\n",
       "    </tr>\n",
       "    <tr>\n",
       "      <th>6</th>\n",
       "      <td>Joy</td>\n",
       "      <td>89</td>\n",
       "    </tr>\n",
       "    <tr>\n",
       "      <th>7</th>\n",
       "      <td>Jared</td>\n",
       "      <td>90</td>\n",
       "    </tr>\n",
       "    <tr>\n",
       "      <th>8</th>\n",
       "      <td>Jill</td>\n",
       "      <td>65</td>\n",
       "    </tr>\n",
       "    <tr>\n",
       "      <th>9</th>\n",
       "      <td>Jaime</td>\n",
       "      <td>84</td>\n",
       "    </tr>\n",
       "    <tr>\n",
       "      <th>10</th>\n",
       "      <td>Jay</td>\n",
       "      <td>85</td>\n",
       "    </tr>\n",
       "  </tbody>\n",
       "</table>\n",
       "</div>"
      ],
      "text/plain": [
       "     name  score\n",
       "0   Jamie     80\n",
       "1     Joe     85\n",
       "2    Jake     74\n",
       "3    Jill    100\n",
       "4   James     98\n",
       "5     Dan     91\n",
       "6     Joy     89\n",
       "7   Jared     90\n",
       "8    Jill     65\n",
       "9   Jaime     84\n",
       "10    Jay     85"
      ]
     },
     "execution_count": 109,
     "metadata": {},
     "output_type": "execute_result"
    }
   ],
   "source": [
    "df_quiz_scores"
   ]
  },
  {
   "cell_type": "markdown",
   "metadata": {},
   "source": [
    "#### Find the Percent Rank of Each Score in the Class"
   ]
  },
  {
   "cell_type": "markdown",
   "metadata": {},
   "source": [
    "Below I create a new column called `score_percent_rank` that's a ranking of scores in the `score` column."
   ]
  },
  {
   "cell_type": "code",
   "execution_count": 110,
   "metadata": {},
   "outputs": [],
   "source": [
    "df_quiz_scores['score_percent_rank'] = df_quiz_scores['score'].rank(pct=True)"
   ]
  },
  {
   "cell_type": "markdown",
   "metadata": {},
   "source": [
    "View `df_quiz_scores` as a dataframe below. Notice how a high quiz score by Dan of `91` has a rank value of `0.81`. I think of this as the 81st percentile. "
   ]
  },
  {
   "cell_type": "code",
   "execution_count": 111,
   "metadata": {},
   "outputs": [
    {
     "data": {
      "text/html": [
       "<div>\n",
       "<style scoped>\n",
       "    .dataframe tbody tr th:only-of-type {\n",
       "        vertical-align: middle;\n",
       "    }\n",
       "\n",
       "    .dataframe tbody tr th {\n",
       "        vertical-align: top;\n",
       "    }\n",
       "\n",
       "    .dataframe thead th {\n",
       "        text-align: right;\n",
       "    }\n",
       "</style>\n",
       "<table border=\"1\" class=\"dataframe\">\n",
       "  <thead>\n",
       "    <tr style=\"text-align: right;\">\n",
       "      <th></th>\n",
       "      <th>name</th>\n",
       "      <th>score</th>\n",
       "      <th>score_percent_rank</th>\n",
       "    </tr>\n",
       "  </thead>\n",
       "  <tbody>\n",
       "    <tr>\n",
       "      <th>0</th>\n",
       "      <td>Jamie</td>\n",
       "      <td>80</td>\n",
       "      <td>0.272727</td>\n",
       "    </tr>\n",
       "    <tr>\n",
       "      <th>1</th>\n",
       "      <td>Joe</td>\n",
       "      <td>85</td>\n",
       "      <td>0.500000</td>\n",
       "    </tr>\n",
       "    <tr>\n",
       "      <th>2</th>\n",
       "      <td>Jake</td>\n",
       "      <td>74</td>\n",
       "      <td>0.181818</td>\n",
       "    </tr>\n",
       "    <tr>\n",
       "      <th>3</th>\n",
       "      <td>Jill</td>\n",
       "      <td>100</td>\n",
       "      <td>1.000000</td>\n",
       "    </tr>\n",
       "    <tr>\n",
       "      <th>4</th>\n",
       "      <td>James</td>\n",
       "      <td>98</td>\n",
       "      <td>0.909091</td>\n",
       "    </tr>\n",
       "    <tr>\n",
       "      <th>5</th>\n",
       "      <td>Dan</td>\n",
       "      <td>91</td>\n",
       "      <td>0.818182</td>\n",
       "    </tr>\n",
       "    <tr>\n",
       "      <th>6</th>\n",
       "      <td>Joy</td>\n",
       "      <td>89</td>\n",
       "      <td>0.636364</td>\n",
       "    </tr>\n",
       "    <tr>\n",
       "      <th>7</th>\n",
       "      <td>Jared</td>\n",
       "      <td>90</td>\n",
       "      <td>0.727273</td>\n",
       "    </tr>\n",
       "    <tr>\n",
       "      <th>8</th>\n",
       "      <td>Jill</td>\n",
       "      <td>65</td>\n",
       "      <td>0.090909</td>\n",
       "    </tr>\n",
       "    <tr>\n",
       "      <th>9</th>\n",
       "      <td>Jaime</td>\n",
       "      <td>84</td>\n",
       "      <td>0.363636</td>\n",
       "    </tr>\n",
       "    <tr>\n",
       "      <th>10</th>\n",
       "      <td>Jay</td>\n",
       "      <td>85</td>\n",
       "      <td>0.500000</td>\n",
       "    </tr>\n",
       "  </tbody>\n",
       "</table>\n",
       "</div>"
      ],
      "text/plain": [
       "     name  score  score_percent_rank\n",
       "0   Jamie     80            0.272727\n",
       "1     Joe     85            0.500000\n",
       "2    Jake     74            0.181818\n",
       "3    Jill    100            1.000000\n",
       "4   James     98            0.909091\n",
       "5     Dan     91            0.818182\n",
       "6     Joy     89            0.636364\n",
       "7   Jared     90            0.727273\n",
       "8    Jill     65            0.090909\n",
       "9   Jaime     84            0.363636\n",
       "10    Jay     85            0.500000"
      ]
     },
     "execution_count": 111,
     "metadata": {},
     "output_type": "execute_result"
    }
   ],
   "source": [
    "df_quiz_scores"
   ]
  },
  {
   "cell_type": "markdown",
   "metadata": {},
   "source": [
    "To make this rank easier to understand, I will multiply all these values by $100$ and round to the nearest integer value."
   ]
  },
  {
   "cell_type": "code",
   "execution_count": 112,
   "metadata": {},
   "outputs": [],
   "source": [
    "df_quiz_scores['score_percentile_rank'] = (df_quiz_scores['score_percent_rank']*100).round()"
   ]
  },
  {
   "cell_type": "markdown",
   "metadata": {},
   "source": [
    "View `df_quiz_scores` as a dataframe below. Now, Dan's `score` of `91` has a score `score_percentile_rank` of `82`."
   ]
  },
  {
   "cell_type": "code",
   "execution_count": 113,
   "metadata": {},
   "outputs": [
    {
     "data": {
      "text/html": [
       "<div>\n",
       "<style scoped>\n",
       "    .dataframe tbody tr th:only-of-type {\n",
       "        vertical-align: middle;\n",
       "    }\n",
       "\n",
       "    .dataframe tbody tr th {\n",
       "        vertical-align: top;\n",
       "    }\n",
       "\n",
       "    .dataframe thead th {\n",
       "        text-align: right;\n",
       "    }\n",
       "</style>\n",
       "<table border=\"1\" class=\"dataframe\">\n",
       "  <thead>\n",
       "    <tr style=\"text-align: right;\">\n",
       "      <th></th>\n",
       "      <th>name</th>\n",
       "      <th>score</th>\n",
       "      <th>score_percent_rank</th>\n",
       "      <th>score_percentile_rank</th>\n",
       "    </tr>\n",
       "  </thead>\n",
       "  <tbody>\n",
       "    <tr>\n",
       "      <th>0</th>\n",
       "      <td>Jamie</td>\n",
       "      <td>80</td>\n",
       "      <td>0.272727</td>\n",
       "      <td>27.0</td>\n",
       "    </tr>\n",
       "    <tr>\n",
       "      <th>1</th>\n",
       "      <td>Joe</td>\n",
       "      <td>85</td>\n",
       "      <td>0.500000</td>\n",
       "      <td>50.0</td>\n",
       "    </tr>\n",
       "    <tr>\n",
       "      <th>2</th>\n",
       "      <td>Jake</td>\n",
       "      <td>74</td>\n",
       "      <td>0.181818</td>\n",
       "      <td>18.0</td>\n",
       "    </tr>\n",
       "    <tr>\n",
       "      <th>3</th>\n",
       "      <td>Jill</td>\n",
       "      <td>100</td>\n",
       "      <td>1.000000</td>\n",
       "      <td>100.0</td>\n",
       "    </tr>\n",
       "    <tr>\n",
       "      <th>4</th>\n",
       "      <td>James</td>\n",
       "      <td>98</td>\n",
       "      <td>0.909091</td>\n",
       "      <td>91.0</td>\n",
       "    </tr>\n",
       "    <tr>\n",
       "      <th>5</th>\n",
       "      <td>Dan</td>\n",
       "      <td>91</td>\n",
       "      <td>0.818182</td>\n",
       "      <td>82.0</td>\n",
       "    </tr>\n",
       "    <tr>\n",
       "      <th>6</th>\n",
       "      <td>Joy</td>\n",
       "      <td>89</td>\n",
       "      <td>0.636364</td>\n",
       "      <td>64.0</td>\n",
       "    </tr>\n",
       "    <tr>\n",
       "      <th>7</th>\n",
       "      <td>Jared</td>\n",
       "      <td>90</td>\n",
       "      <td>0.727273</td>\n",
       "      <td>73.0</td>\n",
       "    </tr>\n",
       "    <tr>\n",
       "      <th>8</th>\n",
       "      <td>Jill</td>\n",
       "      <td>65</td>\n",
       "      <td>0.090909</td>\n",
       "      <td>9.0</td>\n",
       "    </tr>\n",
       "    <tr>\n",
       "      <th>9</th>\n",
       "      <td>Jaime</td>\n",
       "      <td>84</td>\n",
       "      <td>0.363636</td>\n",
       "      <td>36.0</td>\n",
       "    </tr>\n",
       "    <tr>\n",
       "      <th>10</th>\n",
       "      <td>Jay</td>\n",
       "      <td>85</td>\n",
       "      <td>0.500000</td>\n",
       "      <td>50.0</td>\n",
       "    </tr>\n",
       "  </tbody>\n",
       "</table>\n",
       "</div>"
      ],
      "text/plain": [
       "     name  score  score_percent_rank  score_percentile_rank\n",
       "0   Jamie     80            0.272727                   27.0\n",
       "1     Joe     85            0.500000                   50.0\n",
       "2    Jake     74            0.181818                   18.0\n",
       "3    Jill    100            1.000000                  100.0\n",
       "4   James     98            0.909091                   91.0\n",
       "5     Dan     91            0.818182                   82.0\n",
       "6     Joy     89            0.636364                   64.0\n",
       "7   Jared     90            0.727273                   73.0\n",
       "8    Jill     65            0.090909                    9.0\n",
       "9   Jaime     84            0.363636                   36.0\n",
       "10    Jay     85            0.500000                   50.0"
      ]
     },
     "execution_count": 113,
     "metadata": {},
     "output_type": "execute_result"
    }
   ],
   "source": [
    "df_quiz_scores"
   ]
  }
 ],
 "metadata": {
  "kernelspec": {
   "display_name": "Python 3",
   "language": "python",
   "name": "python3"
  },
  "language_info": {
   "codemirror_mode": {
    "name": "ipython",
    "version": 3
   },
   "file_extension": ".py",
   "mimetype": "text/x-python",
   "name": "python",
   "nbconvert_exporter": "python",
   "pygments_lexer": "ipython3",
   "version": "3.7.5"
  }
 },
 "nbformat": 4,
 "nbformat_minor": 4
}
